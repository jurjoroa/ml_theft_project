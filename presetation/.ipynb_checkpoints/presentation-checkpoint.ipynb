{
 "cells": [
  {
   "cell_type": "raw",
   "id": "b93389fc-ec8f-4de9-a60c-74a9e38af1fb",
   "metadata": {},
   "source": [
    "---\n",
    "title: \"Hertie Coding Club\"\n",
    "subtitle: \"Session 3: (Re) Introduction to R\"\n",
    "author: \n",
    "  - name: Jorge Roa\n",
    "margin-header: hertie_logo.png\n",
    "opts_chunk: \n",
    "  R.options:\n",
    "        width: 10\n",
    "        backgorund-color: #FFFFFF;\n",
    "#title-slide-attributes: \n",
    "#  data-background-size: 10%\n",
    "#  data-background-position: 100% 100%\n",
    "#  data-background-image: HCC-HD.png\n",
    "format: \n",
    "    revealjs:\n",
    "      title-slide-attributes: \n",
    "       data-background-image: images/hertie_logo.png\n",
    "       data-background-size: 15%\n",
    "       data-background-position: 2% 2%\n",
    "       data-background-color: steelblue\n",
    "       color: #517699;\n",
    "      slide-number: c/t\n",
    "      multiplex: true\n",
    "      width: 1600\n",
    "      height: 750\n",
    "      #height: 1000\n",
    "      logo: images/logo_hcc_bk.png\n",
    "      footer: \"Session 3: (Re) Introduction to R\"\n",
    "      css: [assets/syntax-highlight.css, assets/custom.css, assets/pacman.css]\n",
    "      transition: fade\n",
    "      transition-speed: fast\n",
    "      margin-bottom: 1px\n",
    "      theme: default\n",
    "      echo: true\n",
    "highlight-style: \"dracula\"\n",
    "      #{style=\"float:right;text-align:right;\"} For specific\n",
    "jupyter: python 3 \n",
    "---\n"
   ]
  },
  {
   "cell_type": "code",
   "execution_count": null,
   "id": "96563b6e-f22e-4640-bb57-92b26a49ac55",
   "metadata": {},
   "outputs": [],
   "source": [
    "# Agenda for today {auto-animate=\"true\" auto-animate-easing=\"ease-in-out\" background=\"linear-gradient(to top, #48c6ef 0%, #6f86d6 100%)\" style=\"text-align: left; font-size: 2.5em;\"}\n",
    "\n",
    "</br>\n",
    "\n",
    "# Agenda for today {auto-animate=\"true\" auto-animate-easing=\"ease-in-out\" background=\"linear-gradient(to top, #48c6ef 0%, #6f86d6 100%)\" style=\"text-align: left; font-size: 1em;\"}"
   ]
  }
 ],
 "metadata": {
  "kernelspec": {
   "display_name": "Python 3 (ipykernel)",
   "language": "python",
   "name": "python3"
  },
  "language_info": {
   "codemirror_mode": {
    "name": "ipython",
    "version": 3
   },
   "file_extension": ".py",
   "mimetype": "text/x-python",
   "name": "python",
   "nbconvert_exporter": "python",
   "pygments_lexer": "ipython3",
   "version": "3.9.12"
  }
 },
 "nbformat": 4,
 "nbformat_minor": 5
}
