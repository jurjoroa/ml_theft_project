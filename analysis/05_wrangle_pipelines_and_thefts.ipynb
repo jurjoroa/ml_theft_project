{
 "cells": [
  {
   "cell_type": "code",
   "execution_count": 3,
   "id": "8e5bac9b-953e-446e-a33e-c6cc505c0e41",
   "metadata": {},
   "outputs": [],
   "source": [
    "import pandas as pd\n",
    "import numpy as np\n",
    "import matplotlib.pyplot as plt"
   ]
  },
  {
   "cell_type": "code",
   "execution_count": 2,
   "id": "3b388e88-829d-4708-91fe-e63ab38c89d4",
   "metadata": {},
   "outputs": [
    {
     "name": "stdout",
     "output_type": "stream",
     "text": [
      "/Users/jorgeroa/Documents/GitHub/pmx_gasoline_theft_prediction\n"
     ]
    }
   ],
   "source": [
    "%cd \"Documents/GitHub/pmx_gasoline_theft_prediction/\""
   ]
  },
  {
   "cell_type": "code",
   "execution_count": 4,
   "id": "e2bbabcb-9dab-4f3d-9ae6-a706010ab6eb",
   "metadata": {},
   "outputs": [],
   "source": [
    "df_PMX_SP_15_19_CC_f = pd.read_parquet(\"data/df_PMX_SP_15_19_thefts_pp.parquet\")\n",
    "\n",
    "df_pipelines_mx = pd.read_parquet(\"data/df_pipelines_mx.parquet\")\n",
    "\n"
   ]
  },
  {
   "cell_type": "code",
   "execution_count": 10,
   "id": "00bb762f-88a8-429e-8c20-273f22f8bcf4",
   "metadata": {},
   "outputs": [],
   "source": [
    "df_PMX_15_19_thefts_pp = pd.merge(df_pipelines_mx,\n",
    "                             df_PMX_SP_15_19_CC_f,\n",
    "                             on='CVEGEO',\n",
    "                             how='outer',\n",
    "                             indicator=True)\n",
    "\n",
    "\n",
    "df_PMX_15_19_thefts_pp\n",
    "\n",
    "\n",
    "\n",
    "df_PMX_15_19_thefts_pp.loc[df_PMX_15_19_thefts_pp[\"Num_thefts\"] == 0, \"pipeline\"] = 1"
   ]
  },
  {
   "cell_type": "code",
   "execution_count": 11,
   "id": "5790eaf5-f4c4-41b2-9796-fe0425c4088b",
   "metadata": {},
   "outputs": [
    {
     "data": {
      "text/plain": [
       "840.0"
      ]
     },
     "execution_count": 11,
     "metadata": {},
     "output_type": "execute_result"
    }
   ],
   "source": [
    "df_PMX_15_19_thefts_pp[\"pipeline\"].sum()\n"
   ]
  }
 ],
 "metadata": {
  "kernelspec": {
   "display_name": "Python 3 (ipykernel)",
   "language": "python",
   "name": "python3"
  },
  "language_info": {
   "codemirror_mode": {
    "name": "ipython",
    "version": 3
   },
   "file_extension": ".py",
   "mimetype": "text/x-python",
   "name": "python",
   "nbconvert_exporter": "python",
   "pygments_lexer": "ipython3",
   "version": "3.9.12"
  }
 },
 "nbformat": 4,
 "nbformat_minor": 5
}
