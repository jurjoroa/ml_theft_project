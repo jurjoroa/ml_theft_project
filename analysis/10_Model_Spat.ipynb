{
  "nbformat": 4,
  "nbformat_minor": 0,
  "metadata": {
    "colab": {
      "provenance": []
    },
    "kernelspec": {
      "name": "python3",
      "display_name": "Python 3"
    },
    "language_info": {
      "name": "python"
    }
  },
  "cells": [
    {
      "cell_type": "code",
      "execution_count": 41,
      "metadata": {
        "id": "twgu6Z3no7ks"
      },
      "outputs": [],
      "source": [
        "# We will use the following packages\n",
        "\n",
        "import pandas as pd\n",
        "import seaborn as sns\n",
        "import matplotlib.pyplot as plt\n",
        "from sklearn.model_selection import train_test_split\n",
        "from sklearn.preprocessing import StandardScaler\n",
        "from sklearn.neighbors import KNeighborsRegressor\n",
        "from sklearn.linear_model import LogisticRegression\n",
        "from sklearn.metrics import ConfusionMatrixDisplay\n",
        "from sklearn.pipeline import Pipeline\n",
        "from sklearn.metrics import precision_score, recall_score, accuracy_score, mean_absolute_error, f1_score, matthews_corrcoef\n",
        "\n"
      ]
    },
    {
      "cell_type": "code",
      "source": [
        "from google.colab import drive\n",
        "drive.mount('/content/drive')"
      ],
      "metadata": {
        "colab": {
          "base_uri": "https://localhost:8080/"
        },
        "id": "hXTlZXLypExN",
        "outputId": "8cbe6cc9-e4e2-4bf3-a3b0-b84760c41e38"
      },
      "execution_count": 2,
      "outputs": [
        {
          "output_type": "stream",
          "name": "stdout",
          "text": [
            "Mounted at /content/drive\n"
          ]
        }
      ]
    },
    {
      "cell_type": "code",
      "source": [
        "%cd '/content/drive/MyDrive/Data_Projects/ML-Project/pmx_gasoline_theft_prediction'"
      ],
      "metadata": {
        "colab": {
          "base_uri": "https://localhost:8080/"
        },
        "id": "N8PHzPu0pE3S",
        "outputId": "f402721e-f1ce-475e-c9e7-9d4542b9901b"
      },
      "execution_count": 123,
      "outputs": [
        {
          "output_type": "stream",
          "name": "stdout",
          "text": [
            "/content/drive/MyDrive/Data_Projects/ML-Project/pmx_gasoline_theft_prediction\n"
          ]
        }
      ]
    },
    {
      "cell_type": "code",
      "source": [
        "# Importing our data\n",
        "\n",
        "df_thefts_PMX = pd.read_excel(\"data/df_thefts_PMX_cleaned_spat.xlsx\", converters={'CVEGEO' : str})\n",
        "\n"
      ],
      "metadata": {
        "id": "E1nRzc64pE6b"
      },
      "execution_count": 124,
      "outputs": []
    },
    {
      "cell_type": "code",
      "source": [
        "social_variables = df_thefts_PMX.columns.drop(['Mun_code', 'Susceptible'])\n",
        "social_variables"
      ],
      "metadata": {
        "colab": {
          "base_uri": "https://localhost:8080/"
        },
        "id": "akUn3sa4hRSf",
        "outputId": "d4945b07-8c4c-4d1b-b4cb-0cdea489b9a0"
      },
      "execution_count": 125,
      "outputs": [
        {
          "output_type": "execute_result",
          "data": {
            "text/plain": [
              "Index(['Pipe_intersec', 'Gas_stations', 'Gas_price', 'Population',\n",
              "       'Confront_events', 'IRS', 'Homic_rate', 'SBASC', 'POB_6_16_NEB',\n",
              "       'POB_16_EBI', 'NO_SS', 'OVPT', 'NO_SANIT', 'OVSAE', 'NO_DREN',\n",
              "       'NO_ELECT', 'NO_LAVA', 'No_REFRI', 'porc_highway', 'CARR-KM', 'LINCARR',\n",
              "       'RED-KM', 'LINRED', 'DENSCARR', 'DENSRED', 'CVEGEO', 'vehicles_15_19',\n",
              "       'vehicles_rate_15_19'],\n",
              "      dtype='object')"
            ]
          },
          "metadata": {},
          "execution_count": 125
        }
      ]
    },
    {
      "cell_type": "code",
      "source": [
        "#Fill 0s in Gas_prices NaN values\n",
        "\n",
        "for key in social_variables:\n",
        "  df_thefts_PMX[key] = df_thefts_PMX[key].fillna(0)\n",
        "\n",
        "df_thefts_PMX.head()"
      ],
      "metadata": {
        "colab": {
          "base_uri": "https://localhost:8080/",
          "height": 300
        },
        "id": "C_6l34j-pE9K",
        "outputId": "3d43709a-f8bd-45f2-ad28-37f69f4fee7a"
      },
      "execution_count": 126,
      "outputs": [
        {
          "output_type": "execute_result",
          "data": {
            "text/plain": [
              "   Mun_code  Pipe_intersec  Gas_stations  Gas_price  Population  \\\n",
              "0      1001             22         12.26      17.78      905682   \n",
              "1      1002              3         10.32      17.93       48472   \n",
              "2      1004              5         12.39      17.85       16141   \n",
              "3      1005              5         23.35      17.84      124185   \n",
              "4      1006              8         14.91      17.83       46941   \n",
              "\n",
              "   Confront_events     IRS  Homic_rate  Susceptible     SBASC  ...  \\\n",
              "0                0 -1.3456        5.41            1  1.887423  ...   \n",
              "1                0 -0.8732        4.13            0  4.053829  ...   \n",
              "2                0 -1.0391        6.20            0  3.835153  ...   \n",
              "3                0 -1.1825        4.83            0  2.887218  ...   \n",
              "4                0 -1.1859        4.26            1  3.120712  ...   \n",
              "\n",
              "   porc_highway     CARR-KM  LINCARR      RED-KM  LINRED  DENSCARR   DENSRED  \\\n",
              "0           0.1  438.190142     1053  765.173487    5500  0.371946  0.649498   \n",
              "1           0.3  173.662987      284  158.986649     615  0.316320  0.289588   \n",
              "2           0.0   69.959236      108   28.910152     255  0.539226  0.222831   \n",
              "3           0.0  151.549502      438  177.436744    1292  0.300104  0.351367   \n",
              "4           0.2   85.510623      239   92.675448     682  0.432396  0.468626   \n",
              "\n",
              "   CVEGEO  vehicles_15_19  vehicles_rate_15_19  \n",
              "0    1001       1840102.6            203173.14  \n",
              "1    1002         57072.2            117742.61  \n",
              "2    1004         19784.0            122569.85  \n",
              "3    1005        201306.2            162101.86  \n",
              "4    1006         64330.2            137044.80  \n",
              "\n",
              "[5 rows x 30 columns]"
            ],
            "text/html": [
              "\n",
              "  <div id=\"df-e6873f98-f125-4daf-b82c-47c8284d3c37\">\n",
              "    <div class=\"colab-df-container\">\n",
              "      <div>\n",
              "<style scoped>\n",
              "    .dataframe tbody tr th:only-of-type {\n",
              "        vertical-align: middle;\n",
              "    }\n",
              "\n",
              "    .dataframe tbody tr th {\n",
              "        vertical-align: top;\n",
              "    }\n",
              "\n",
              "    .dataframe thead th {\n",
              "        text-align: right;\n",
              "    }\n",
              "</style>\n",
              "<table border=\"1\" class=\"dataframe\">\n",
              "  <thead>\n",
              "    <tr style=\"text-align: right;\">\n",
              "      <th></th>\n",
              "      <th>Mun_code</th>\n",
              "      <th>Pipe_intersec</th>\n",
              "      <th>Gas_stations</th>\n",
              "      <th>Gas_price</th>\n",
              "      <th>Population</th>\n",
              "      <th>Confront_events</th>\n",
              "      <th>IRS</th>\n",
              "      <th>Homic_rate</th>\n",
              "      <th>Susceptible</th>\n",
              "      <th>SBASC</th>\n",
              "      <th>...</th>\n",
              "      <th>porc_highway</th>\n",
              "      <th>CARR-KM</th>\n",
              "      <th>LINCARR</th>\n",
              "      <th>RED-KM</th>\n",
              "      <th>LINRED</th>\n",
              "      <th>DENSCARR</th>\n",
              "      <th>DENSRED</th>\n",
              "      <th>CVEGEO</th>\n",
              "      <th>vehicles_15_19</th>\n",
              "      <th>vehicles_rate_15_19</th>\n",
              "    </tr>\n",
              "  </thead>\n",
              "  <tbody>\n",
              "    <tr>\n",
              "      <th>0</th>\n",
              "      <td>1001</td>\n",
              "      <td>22</td>\n",
              "      <td>12.26</td>\n",
              "      <td>17.78</td>\n",
              "      <td>905682</td>\n",
              "      <td>0</td>\n",
              "      <td>-1.3456</td>\n",
              "      <td>5.41</td>\n",
              "      <td>1</td>\n",
              "      <td>1.887423</td>\n",
              "      <td>...</td>\n",
              "      <td>0.1</td>\n",
              "      <td>438.190142</td>\n",
              "      <td>1053</td>\n",
              "      <td>765.173487</td>\n",
              "      <td>5500</td>\n",
              "      <td>0.371946</td>\n",
              "      <td>0.649498</td>\n",
              "      <td>1001</td>\n",
              "      <td>1840102.6</td>\n",
              "      <td>203173.14</td>\n",
              "    </tr>\n",
              "    <tr>\n",
              "      <th>1</th>\n",
              "      <td>1002</td>\n",
              "      <td>3</td>\n",
              "      <td>10.32</td>\n",
              "      <td>17.93</td>\n",
              "      <td>48472</td>\n",
              "      <td>0</td>\n",
              "      <td>-0.8732</td>\n",
              "      <td>4.13</td>\n",
              "      <td>0</td>\n",
              "      <td>4.053829</td>\n",
              "      <td>...</td>\n",
              "      <td>0.3</td>\n",
              "      <td>173.662987</td>\n",
              "      <td>284</td>\n",
              "      <td>158.986649</td>\n",
              "      <td>615</td>\n",
              "      <td>0.316320</td>\n",
              "      <td>0.289588</td>\n",
              "      <td>1002</td>\n",
              "      <td>57072.2</td>\n",
              "      <td>117742.61</td>\n",
              "    </tr>\n",
              "    <tr>\n",
              "      <th>2</th>\n",
              "      <td>1004</td>\n",
              "      <td>5</td>\n",
              "      <td>12.39</td>\n",
              "      <td>17.85</td>\n",
              "      <td>16141</td>\n",
              "      <td>0</td>\n",
              "      <td>-1.0391</td>\n",
              "      <td>6.20</td>\n",
              "      <td>0</td>\n",
              "      <td>3.835153</td>\n",
              "      <td>...</td>\n",
              "      <td>0.0</td>\n",
              "      <td>69.959236</td>\n",
              "      <td>108</td>\n",
              "      <td>28.910152</td>\n",
              "      <td>255</td>\n",
              "      <td>0.539226</td>\n",
              "      <td>0.222831</td>\n",
              "      <td>1004</td>\n",
              "      <td>19784.0</td>\n",
              "      <td>122569.85</td>\n",
              "    </tr>\n",
              "    <tr>\n",
              "      <th>3</th>\n",
              "      <td>1005</td>\n",
              "      <td>5</td>\n",
              "      <td>23.35</td>\n",
              "      <td>17.84</td>\n",
              "      <td>124185</td>\n",
              "      <td>0</td>\n",
              "      <td>-1.1825</td>\n",
              "      <td>4.83</td>\n",
              "      <td>0</td>\n",
              "      <td>2.887218</td>\n",
              "      <td>...</td>\n",
              "      <td>0.0</td>\n",
              "      <td>151.549502</td>\n",
              "      <td>438</td>\n",
              "      <td>177.436744</td>\n",
              "      <td>1292</td>\n",
              "      <td>0.300104</td>\n",
              "      <td>0.351367</td>\n",
              "      <td>1005</td>\n",
              "      <td>201306.2</td>\n",
              "      <td>162101.86</td>\n",
              "    </tr>\n",
              "    <tr>\n",
              "      <th>4</th>\n",
              "      <td>1006</td>\n",
              "      <td>8</td>\n",
              "      <td>14.91</td>\n",
              "      <td>17.83</td>\n",
              "      <td>46941</td>\n",
              "      <td>0</td>\n",
              "      <td>-1.1859</td>\n",
              "      <td>4.26</td>\n",
              "      <td>1</td>\n",
              "      <td>3.120712</td>\n",
              "      <td>...</td>\n",
              "      <td>0.2</td>\n",
              "      <td>85.510623</td>\n",
              "      <td>239</td>\n",
              "      <td>92.675448</td>\n",
              "      <td>682</td>\n",
              "      <td>0.432396</td>\n",
              "      <td>0.468626</td>\n",
              "      <td>1006</td>\n",
              "      <td>64330.2</td>\n",
              "      <td>137044.80</td>\n",
              "    </tr>\n",
              "  </tbody>\n",
              "</table>\n",
              "<p>5 rows × 30 columns</p>\n",
              "</div>\n",
              "      <button class=\"colab-df-convert\" onclick=\"convertToInteractive('df-e6873f98-f125-4daf-b82c-47c8284d3c37')\"\n",
              "              title=\"Convert this dataframe to an interactive table.\"\n",
              "              style=\"display:none;\">\n",
              "        \n",
              "  <svg xmlns=\"http://www.w3.org/2000/svg\" height=\"24px\"viewBox=\"0 0 24 24\"\n",
              "       width=\"24px\">\n",
              "    <path d=\"M0 0h24v24H0V0z\" fill=\"none\"/>\n",
              "    <path d=\"M18.56 5.44l.94 2.06.94-2.06 2.06-.94-2.06-.94-.94-2.06-.94 2.06-2.06.94zm-11 1L8.5 8.5l.94-2.06 2.06-.94-2.06-.94L8.5 2.5l-.94 2.06-2.06.94zm10 10l.94 2.06.94-2.06 2.06-.94-2.06-.94-.94-2.06-.94 2.06-2.06.94z\"/><path d=\"M17.41 7.96l-1.37-1.37c-.4-.4-.92-.59-1.43-.59-.52 0-1.04.2-1.43.59L10.3 9.45l-7.72 7.72c-.78.78-.78 2.05 0 2.83L4 21.41c.39.39.9.59 1.41.59.51 0 1.02-.2 1.41-.59l7.78-7.78 2.81-2.81c.8-.78.8-2.07 0-2.86zM5.41 20L4 18.59l7.72-7.72 1.47 1.35L5.41 20z\"/>\n",
              "  </svg>\n",
              "      </button>\n",
              "      \n",
              "  <style>\n",
              "    .colab-df-container {\n",
              "      display:flex;\n",
              "      flex-wrap:wrap;\n",
              "      gap: 12px;\n",
              "    }\n",
              "\n",
              "    .colab-df-convert {\n",
              "      background-color: #E8F0FE;\n",
              "      border: none;\n",
              "      border-radius: 50%;\n",
              "      cursor: pointer;\n",
              "      display: none;\n",
              "      fill: #1967D2;\n",
              "      height: 32px;\n",
              "      padding: 0 0 0 0;\n",
              "      width: 32px;\n",
              "    }\n",
              "\n",
              "    .colab-df-convert:hover {\n",
              "      background-color: #E2EBFA;\n",
              "      box-shadow: 0px 1px 2px rgba(60, 64, 67, 0.3), 0px 1px 3px 1px rgba(60, 64, 67, 0.15);\n",
              "      fill: #174EA6;\n",
              "    }\n",
              "\n",
              "    [theme=dark] .colab-df-convert {\n",
              "      background-color: #3B4455;\n",
              "      fill: #D2E3FC;\n",
              "    }\n",
              "\n",
              "    [theme=dark] .colab-df-convert:hover {\n",
              "      background-color: #434B5C;\n",
              "      box-shadow: 0px 1px 3px 1px rgba(0, 0, 0, 0.15);\n",
              "      filter: drop-shadow(0px 1px 2px rgba(0, 0, 0, 0.3));\n",
              "      fill: #FFFFFF;\n",
              "    }\n",
              "  </style>\n",
              "\n",
              "      <script>\n",
              "        const buttonEl =\n",
              "          document.querySelector('#df-e6873f98-f125-4daf-b82c-47c8284d3c37 button.colab-df-convert');\n",
              "        buttonEl.style.display =\n",
              "          google.colab.kernel.accessAllowed ? 'block' : 'none';\n",
              "\n",
              "        async function convertToInteractive(key) {\n",
              "          const element = document.querySelector('#df-e6873f98-f125-4daf-b82c-47c8284d3c37');\n",
              "          const dataTable =\n",
              "            await google.colab.kernel.invokeFunction('convertToInteractive',\n",
              "                                                     [key], {});\n",
              "          if (!dataTable) return;\n",
              "\n",
              "          const docLinkHtml = 'Like what you see? Visit the ' +\n",
              "            '<a target=\"_blank\" href=https://colab.research.google.com/notebooks/data_table.ipynb>data table notebook</a>'\n",
              "            + ' to learn more about interactive tables.';\n",
              "          element.innerHTML = '';\n",
              "          dataTable['output_type'] = 'display_data';\n",
              "          await google.colab.output.renderOutput(dataTable, element);\n",
              "          const docLink = document.createElement('div');\n",
              "          docLink.innerHTML = docLinkHtml;\n",
              "          element.appendChild(docLink);\n",
              "        }\n",
              "      </script>\n",
              "    </div>\n",
              "  </div>\n",
              "  "
            ]
          },
          "metadata": {},
          "execution_count": 126
        }
      ]
    },
    {
      "cell_type": "code",
      "source": [
        "# We will now set data and target \n",
        "X = df_thefts_PMX.drop(columns=[\"Susceptible\", 'Mun_code', 'Confront_events', 'CVEGEO', \n",
        "                                'Population', 'IRS', 'POB_6_16_NEB', \n",
        "                                'POB_16_EBI', 'OVPT', 'OVSAE', 'NO_DREN', 'NO_ELECT', \n",
        "                                'LINRED', 'vehicles_15_19'])\n",
        "y = df_thefts_PMX[\"Susceptible\"]\n",
        "X.columns"
      ],
      "metadata": {
        "colab": {
          "base_uri": "https://localhost:8080/"
        },
        "id": "ZPmRX6Wippbr",
        "outputId": "dfb58d29-e3c9-42e8-ae38-7537006315f4"
      },
      "execution_count": 127,
      "outputs": [
        {
          "output_type": "execute_result",
          "data": {
            "text/plain": [
              "Index(['Pipe_intersec', 'Gas_stations', 'Gas_price', 'Homic_rate', 'SBASC',\n",
              "       'NO_SS', 'NO_SANIT', 'NO_LAVA', 'No_REFRI', 'porc_highway', 'CARR-KM',\n",
              "       'LINCARR', 'RED-KM', 'DENSCARR', 'DENSRED', 'vehicles_rate_15_19'],\n",
              "      dtype='object')"
            ]
          },
          "metadata": {},
          "execution_count": 127
        }
      ]
    },
    {
      "cell_type": "code",
      "source": [
        "# Checking class balancing\n",
        "\n",
        "import matplotlib.pyplot as plt\n",
        "\n",
        "y.value_counts().plot.barh()\n",
        "plt.xlabel(\"Number of samples\")\n",
        "_ = plt.title(\"Number of samples per classes present\\n in the target\")"
      ],
      "metadata": {
        "colab": {
          "base_uri": "https://localhost:8080/",
          "height": 310
        },
        "id": "QDgoXUV-pFE0",
        "outputId": "d4b4c357-ee75-47c7-e10c-d49e8ddcf5d1"
      },
      "execution_count": 129,
      "outputs": [
        {
          "output_type": "display_data",
          "data": {
            "text/plain": [
              "<Figure size 432x288 with 1 Axes>"
            ],
            "image/png": "[encoded data removed]"
          },
          "metadata": {
            "needs_background": "light"
          }
        }
      ]
    },
    {
      "cell_type": "code",
      "source": [
        "# Set up training and testing data\n",
        "\n",
        "X_train, X_test, y_train, y_test = train_test_split(\n",
        "    X, y, shuffle=True, random_state=123, stratify=y, test_size=0.2)"
      ],
      "metadata": {
        "id": "Fl0v1Wnlp_Kq"
      },
      "execution_count": 130,
      "outputs": []
    },
    {
      "cell_type": "code",
      "source": [
        "# 1. Logistic Regression Model\n",
        "# 1.1 Preprocessing the data - Logistic Regression Model\n",
        "\n",
        "pipe = Pipeline([('scaler', StandardScaler()), \n",
        "                 ('model', LogisticRegression())\n",
        "                 ])\n",
        "\n",
        "#pipe.fit(X_train, y_train)\n",
        "classifier = pipe.fit(X_train, y_train)\n",
        "\n",
        "\n",
        "\n"
      ],
      "metadata": {
        "id": "KNyYr0XKp_Ny"
      },
      "execution_count": 133,
      "outputs": []
    },
    {
      "cell_type": "code",
      "source": [
        "# 1.2 Here we predict using our unseen data (X_test)\n",
        "\n",
        "target_predicted = pipe.predict(X_test)\n"
      ],
      "metadata": {
        "id": "AewJBKO9p_RG"
      },
      "execution_count": 134,
      "outputs": []
    },
    {
      "cell_type": "code",
      "source": [
        "# 1.3 Checking the accuracy\n",
        "\n",
        "accuracy = accuracy_score(y_test, target_predicted)\n",
        "print(f\"Accuracy: {accuracy:.4f}\")"
      ],
      "metadata": {
        "colab": {
          "base_uri": "https://localhost:8080/"
        },
        "id": "Z88mTmnCqJ8l",
        "outputId": "b929f4b0-f0cb-4ada-e2d1-72700d48fcd3"
      },
      "execution_count": 135,
      "outputs": [
        {
          "output_type": "stream",
          "name": "stdout",
          "text": [
            "Accuracy: 0.6488\n"
          ]
        }
      ]
    },
    {
      "cell_type": "code",
      "source": [
        "# 1.4 Checking the Confusion Matrix\n",
        "\n",
        "_ = ConfusionMatrixDisplay.from_estimator(classifier, X_test, y_test) "
      ],
      "metadata": {
        "colab": {
          "base_uri": "https://localhost:8080/",
          "height": 279
        },
        "id": "VKjIOdFJqKCa",
        "outputId": "eab85ff2-eb2e-4ade-ff04-da8848e7e961"
      },
      "execution_count": 136,
      "outputs": [
        {
          "output_type": "display_data",
          "data": {
            "text/plain": [
              "<Figure size 432x288 with 2 Axes>"
            ],
            "image/png": "[encoded data removed]"
          },
          "metadata": {
            "needs_background": "light"
          }
        }
      ]
    },
    {
      "cell_type": "code",
      "source": [
        "# 1.5 Some other metrics scores\n",
        "\n",
        "precision = precision_score(y_test, target_predicted)\n",
        "recall = recall_score(y_test, target_predicted)\n",
        "# f1 score: 2 tp / (2 tp + fp + fn)\n",
        "f1 = f1_score(y_test, target_predicted)\n",
        "mcc = matthews_corrcoef(y_test, target_predicted)\n",
        "\n",
        "\n",
        "\n",
        "print(f\"Precision score: {precision:.4f}\")\n",
        "print(f\"Recall score: {recall:.4f}\")\n",
        "print(f\"F1 score: {f1:.4f}\")\n",
        "print(f\"MCC score: {mcc:.4f}\")"
      ],
      "metadata": {
        "colab": {
          "base_uri": "https://localhost:8080/"
        },
        "id": "xJVHpzNBqKFT",
        "outputId": "542a1f2d-c2e3-4f61-e14f-3f9416051980"
      },
      "execution_count": 137,
      "outputs": [
        {
          "output_type": "stream",
          "name": "stdout",
          "text": [
            "Precision score: 0.6512\n",
            "Recall score: 0.6588\n",
            "F1 score: 0.6550\n",
            "MCC score: 0.2974\n"
          ]
        }
      ]
    },
    {
      "cell_type": "code",
      "source": [
        "# Using cross_val_score function to evaluate the model.\n",
        "\n",
        "from sklearn.model_selection import cross_val_score\n",
        "\n",
        "\n",
        "scores_train = cross_val_score(pipe, X_train, y_train)\n",
        "#scores_train.mean()\n",
        "scores_test = cross_val_score(pipe, X_test, y_test)\n",
        "#scores_test.mean()\n",
        "print(f\"Cross Val Score - Train data: {scores_train.mean():.4f}\")\n",
        "print(f\"Cross Val Score - Test data: {scores_test.mean():.4f}\")"
      ],
      "metadata": {
        "colab": {
          "base_uri": "https://localhost:8080/"
        },
        "id": "i-82xQYTm9cs",
        "outputId": "05819541-b932-4e64-c5a3-4d717df6306f"
      },
      "execution_count": 208,
      "outputs": [
        {
          "output_type": "stream",
          "name": "stdout",
          "text": [
            "Cross Val Score - Train data: 0.6528\n",
            "Cross Val Score - Test data: 0.6604\n"
          ]
        }
      ]
    },
    {
      "cell_type": "code",
      "source": [
        "# Learning curve\n",
        "#Source: https://www.dataquest.io/blog/learning-curves-machine-learning/\n",
        "\n",
        "train_sizes = [1, 100, 200, 300, 400, 500, 671]\n",
        "\n",
        "from sklearn.model_selection import learning_curve\n",
        "features = ['Pipe_intersec', 'Gas_stations', 'Gas_price', 'Homic_rate', 'SBASC',\n",
        "       'NO_SS', 'NO_SANIT', 'NO_LAVA', 'No_REFRI', 'porc_highway', 'CARR-KM',\n",
        "       'LINCARR', 'RED-KM', 'DENSCARR', 'DENSRED', 'vehicles_rate_15_19']\n",
        "target = \"Susceptible\"\n",
        "train_sizes, train_scores, validation_scores = learning_curve(\n",
        "    estimator = pipe, \n",
        "    X = X[features],\n",
        "    y = y, train_sizes = train_sizes, cv = 5,\n",
        "    scoring = 'f1')\n",
        "\n",
        "\n",
        "import matplotlib.pyplot as plt\n",
        "\n",
        "train_scores_mean = train_scores.mean(axis = 1)\n",
        "validation_scores_mean = validation_scores.mean(axis = 1)\n",
        "\n",
        "plt.style.use('seaborn')\n",
        "plt.plot(train_sizes, train_scores_mean, label = 'Training error')\n",
        "plt.plot(train_sizes, validation_scores_mean, label = 'Validation error')\n",
        "plt.ylabel('F1', fontsize = 14)\n",
        "plt.xlabel('Training set size', fontsize = 14)\n",
        "plt.title('Learning curves for a Logistic regression model', fontsize = 18, y = 1.03)\n",
        "plt.legend()\n",
        "plt.ylim(0,1)"
      ],
      "metadata": {
        "colab": {
          "base_uri": "https://localhost:8080/",
          "height": 410
        },
        "id": "N77MNqlR11R0",
        "outputId": "d9ec739a-ba56-42aa-8295-855f59530f7c"
      },
      "execution_count": 228,
      "outputs": [
        {
          "output_type": "execute_result",
          "data": {
            "text/plain": [
              "(0.0, 1.0)"
            ]
          },
          "metadata": {},
          "execution_count": 228
        },
        {
          "output_type": "display_data",
          "data": {
            "text/plain": [
              "<Figure size 576x396 with 1 Axes>"
            ],
            "image/png": "[encoded data removed]"
          },
          "metadata": {}
        }
      ]
    },
    {
      "cell_type": "code",
      "source": [
        "# 2. Decision Tree model\n",
        "# 2.1 Preprocessing the data - Decision Tree Model\n",
        "\n",
        "from sklearn.tree import DecisionTreeClassifier\n",
        "\n",
        "classifier = DecisionTreeClassifier()\n",
        "classifier.fit(X_train, y_train)\n",
        "\n",
        "\n"
      ],
      "metadata": {
        "colab": {
          "base_uri": "https://localhost:8080/"
        },
        "id": "s4Ok9MwEZYIJ",
        "outputId": "d38839a0-4c0c-4e69-dd2f-835b69f6b927"
      },
      "execution_count": 172,
      "outputs": [
        {
          "output_type": "execute_result",
          "data": {
            "text/plain": [
              "DecisionTreeClassifier()"
            ]
          },
          "metadata": {},
          "execution_count": 172
        }
      ]
    },
    {
      "cell_type": "code",
      "source": [
        "# 2.2 Here we predict using our unseen data (X_test)\n",
        "\n",
        "\n",
        "target_predicted = classifier.predict(X_test)\n"
      ],
      "metadata": {
        "id": "_-4xlAxUZbWc"
      },
      "execution_count": 173,
      "outputs": []
    },
    {
      "cell_type": "code",
      "source": [
        "#Plotting the decision tree\n",
        "\n",
        "import matplotlib.pyplot as plt\n",
        "import seaborn as sns\n",
        "from sklearn.tree import plot_tree\n",
        "\n",
        "_, ax = plt.subplots(figsize=(10, 6))\n",
        "_ = plot_tree(classifier, feature_names=X.columns, impurity=False, ax=ax)\n"
      ],
      "metadata": {
        "colab": {
          "base_uri": "https://localhost:8080/",
          "height": 357
        },
        "id": "ODZrADwJrQ3j",
        "outputId": "693dded1-3fcb-4590-c5a5-09775c66d67a"
      },
      "execution_count": 174,
      "outputs": [
        {
          "output_type": "display_data",
          "data": {
            "text/plain": [
              "<Figure size 720x432 with 1 Axes>"
            ],
            "image/png": "[encoded data removed]"
          },
          "metadata": {
            "needs_background": "light"
          }
        }
      ]
    },
    {
      "cell_type": "code",
      "source": [
        "# 2.3 Checking the accuracy\n",
        "import matplotlib.pyplot as plt\n",
        "\n",
        "#plt.scatter(y_test, target_predicted)\n",
        "#plt.show()\n",
        "\n",
        "\n",
        "\n",
        "accuracy = accuracy_score(y_test, target_predicted)\n",
        "print(f\"Accuracy: {accuracy:.4f}\")"
      ],
      "metadata": {
        "colab": {
          "base_uri": "https://localhost:8080/"
        },
        "id": "KwgajDigZbfk",
        "outputId": "8b52502d-b69c-4192-89e8-cbd26bb47233"
      },
      "execution_count": 175,
      "outputs": [
        {
          "output_type": "stream",
          "name": "stdout",
          "text": [
            "Accuracy: 0.7143\n"
          ]
        }
      ]
    },
    {
      "cell_type": "code",
      "source": [
        "# 2.4 Checking the Confusion Matrix\n",
        "\n",
        "_ = ConfusionMatrixDisplay.from_estimator(classifier, X_test, y_test) "
      ],
      "metadata": {
        "colab": {
          "base_uri": "https://localhost:8080/",
          "height": 279
        },
        "id": "ImlzD7tSZb0U",
        "outputId": "0824896e-94a3-437d-d68c-8355dd31e8ff"
      },
      "execution_count": 179,
      "outputs": [
        {
          "output_type": "display_data",
          "data": {
            "text/plain": [
              "<Figure size 432x288 with 2 Axes>"
            ],
            "image/png": "[encoded data removed]"
          },
          "metadata": {
            "needs_background": "light"
          }
        }
      ]
    },
    {
      "cell_type": "code",
      "source": [
        "# 2.5 Some other metrics scores\n",
        "\n",
        "precision = precision_score(y_test, target_predicted)\n",
        "recall = recall_score(y_test, target_predicted)\n",
        "# f1 score: 2 tp / (2 tp + fp + fn)\n",
        "f1 = f1_score(y_test, target_predicted)\n",
        "mcc = matthews_corrcoef(y_test, target_predicted)\n",
        "\n",
        "\n",
        "\n",
        "print(f\"Precision score: {precision:.4f}\")\n",
        "print(f\"Recall score: {recall:.4f}\")\n",
        "print(f\"F1 score: {f1:.4f}\")\n",
        "print(f\"MCC score: {mcc:.4f}\")"
      ],
      "metadata": {
        "colab": {
          "base_uri": "https://localhost:8080/"
        },
        "id": "B9t8vRLCZb8r",
        "outputId": "46188972-18b3-412e-bd0a-52ff4ac19c7b"
      },
      "execution_count": 180,
      "outputs": [
        {
          "output_type": "stream",
          "name": "stdout",
          "text": [
            "Precision score: 0.7176\n",
            "Recall score: 0.7176\n",
            "F1 score: 0.7176\n",
            "MCC score: 0.4285\n"
          ]
        }
      ]
    },
    {
      "cell_type": "code",
      "source": [
        "# Using cross_val_score function to evaluate the model.\n",
        "\n",
        "from sklearn.model_selection import cross_val_score\n",
        "\n",
        "scores_train = cross_val_score(classifier, X_train, y_train)\n",
        "scores_train.mean()\n",
        "scores_test = cross_val_score(classifier, X_test, y_test)\n",
        "scores_test.mean()\n",
        "print(f\"Cross Val Score - Train data: {scores_train.mean():.4f}\")\n",
        "print(f\"Cross Val Score - Test data: {scores_test.mean():.4f}\")"
      ],
      "metadata": {
        "colab": {
          "base_uri": "https://localhost:8080/"
        },
        "id": "YJrz8Mr7roww",
        "outputId": "6745f1fa-3de9-4178-af89-e93a2d764f73"
      },
      "execution_count": 181,
      "outputs": [
        {
          "output_type": "stream",
          "name": "stdout",
          "text": [
            "Cross Val Score - Train data: 0.7124\n",
            "Cross Val Score - Test data: 0.6487\n"
          ]
        }
      ]
    },
    {
      "cell_type": "code",
      "source": [
        "# 2.6 Some other metrics\n",
        "\n",
        "from sklearn.metrics import classification_report\n",
        "print(classification_report(y_test, target_predicted))"
      ],
      "metadata": {
        "colab": {
          "base_uri": "https://localhost:8080/"
        },
        "id": "PAZP2-0tmKqf",
        "outputId": "f621ef15-0275-4b15-c979-9f9d62c44546"
      },
      "execution_count": 182,
      "outputs": [
        {
          "output_type": "stream",
          "name": "stdout",
          "text": [
            "              precision    recall  f1-score   support\n",
            "\n",
            "           0       0.71      0.71      0.71        83\n",
            "           1       0.72      0.72      0.72        85\n",
            "\n",
            "    accuracy                           0.71       168\n",
            "   macro avg       0.71      0.71      0.71       168\n",
            "weighted avg       0.71      0.71      0.71       168\n",
            "\n"
          ]
        }
      ]
    },
    {
      "cell_type": "code",
      "source": [
        "# Learning curve\n",
        "#Source: https://www.dataquest.io/blog/learning-curves-machine-learning/\n",
        "\n",
        "train_sizes = [1, 100, 200, 300, 400, 500, 671]\n",
        "\n",
        "from sklearn.model_selection import learning_curve\n",
        "features = X_train.columns\n",
        "target = \"Susceptible\"\n",
        "train_sizes, train_scores, validation_scores = learning_curve(\n",
        "    estimator = classifier, \n",
        "    X = X[features],\n",
        "    y = y, train_sizes = train_sizes, cv = 5,\n",
        "    scoring = 'f1')\n",
        "\n",
        "\n",
        "import matplotlib.pyplot as plt\n",
        "\n",
        "train_scores_mean = train_scores.mean(axis = 1)\n",
        "validation_scores_mean = validation_scores.mean(axis = 1)\n",
        "\n",
        "plt.style.use('seaborn')\n",
        "plt.plot(train_sizes, train_scores_mean, label = 'Training error')\n",
        "plt.plot(train_sizes, validation_scores_mean, label = 'Validation error')\n",
        "plt.ylabel('F1', fontsize = 14)\n",
        "plt.xlabel('Training set size', fontsize = 14)\n",
        "plt.title('Learning curves for a Decision Tree model', fontsize = 18, y = 1.03)\n",
        "plt.legend()\n",
        "plt.ylim(0,1.5)"
      ],
      "metadata": {
        "colab": {
          "base_uri": "https://localhost:8080/",
          "height": 465
        },
        "id": "qvEhv2yW5NQf",
        "outputId": "9fbf8465-ec5f-4935-bd10-ac83d6c1e397"
      },
      "execution_count": 222,
      "outputs": [
        {
          "output_type": "stream",
          "name": "stderr",
          "text": [
            "/usr/local/lib/python3.7/dist-packages/sklearn/metrics/_classification.py:1580: UndefinedMetricWarning: F-score is ill-defined and being set to 0.0 due to no true nor predicted samples. Use `zero_division` parameter to control this behavior.\n",
            "  _warn_prf(average, \"true nor predicted\", \"F-score is\", len(true_sum))\n"
          ]
        },
        {
          "output_type": "execute_result",
          "data": {
            "text/plain": [
              "(0.0, 1.5)"
            ]
          },
          "metadata": {},
          "execution_count": 222
        },
        {
          "output_type": "display_data",
          "data": {
            "text/plain": [
              "<Figure size 576x396 with 1 Axes>"
            ],
            "image/png": "[encoded data removed]"
          },
          "metadata": {}
        }
      ]
    },
    {
      "cell_type": "code",
      "source": [
        "# 3. Random Forest model\n",
        "# 3.1 Preprocessing the data\n",
        "\n",
        "data = X_train\n",
        "target = y_train\n",
        "\n",
        "from sklearn.preprocessing import OrdinalEncoder\n",
        "from sklearn.compose import make_column_transformer, make_column_selector\n",
        "from sklearn.model_selection import cross_val_score\n",
        "from sklearn.pipeline import make_pipeline\n",
        "from sklearn.ensemble import RandomForestClassifier\n",
        "\n",
        "\n",
        "categorical_encoder = OrdinalEncoder(\n",
        "    handle_unknown=\"use_encoded_value\", unknown_value=-1\n",
        ")\n",
        "preprocessor = make_column_transformer(\n",
        "    (categorical_encoder, make_column_selector(dtype_include=object)),\n",
        "    remainder=\"passthrough\"\n",
        ")\n",
        "\n",
        "random_forest = make_pipeline(\n",
        "    preprocessor,\n",
        "    RandomForestClassifier(n_estimators=500, n_jobs=4, random_state=123)\n",
        ")\n",
        "\n",
        "\n"
      ],
      "metadata": {
        "id": "tHInWu2tZy02"
      },
      "execution_count": 183,
      "outputs": []
    },
    {
      "cell_type": "code",
      "source": [
        "# 3.2 Checking the accuracy with the trainning data\n",
        "\n",
        "scores_random_forest = cross_val_score(random_forest, data, target)\n",
        "\n",
        "print(f\"Random forest classifier: \"\n",
        "      f\"{scores_random_forest.mean():.3f} ± \"\n",
        "      f\"{scores_random_forest.std():.3f}\")\n"
      ],
      "metadata": {
        "colab": {
          "base_uri": "https://localhost:8080/"
        },
        "id": "Ic87cliiZy-d",
        "outputId": "4ea4a212-90cd-4131-95d5-34ce9686035e"
      },
      "execution_count": 184,
      "outputs": [
        {
          "output_type": "stream",
          "name": "stdout",
          "text": [
            "Random forest classifier: 0.802 ± 0.034\n"
          ]
        }
      ]
    },
    {
      "cell_type": "code",
      "source": [
        "#3.3 Prepare to fit and predict with testing data\n",
        "\n",
        "\n",
        "clf = RandomForestClassifier(n_estimators = 500, bootstrap = True, random_state = 123).fit(X_train, y_train)\n",
        "\n"
      ],
      "metadata": {
        "id": "VeDa4zUbZzY9"
      },
      "execution_count": 185,
      "outputs": []
    },
    {
      "cell_type": "code",
      "source": [
        "# Create our predictions\n",
        "prediction = clf.predict(X_test)\n",
        "\n"
      ],
      "metadata": {
        "id": "-xeeg7L64QtN"
      },
      "execution_count": 186,
      "outputs": []
    },
    {
      "cell_type": "code",
      "source": [
        "\n",
        "\n",
        "_ = ConfusionMatrixDisplay.from_estimator(clf, X_test, y_test) "
      ],
      "metadata": {
        "colab": {
          "base_uri": "https://localhost:8080/",
          "height": 279
        },
        "id": "PiG3XZkhfLm4",
        "outputId": "dfd094b8-c439-4a15-b88a-32f3c309dde0"
      },
      "execution_count": 187,
      "outputs": [
        {
          "output_type": "display_data",
          "data": {
            "text/plain": [
              "<Figure size 432x288 with 2 Axes>"
            ],
            "image/png": "[encoded data removed]"
          },
          "metadata": {
            "needs_background": "light"
          }
        }
      ]
    },
    {
      "cell_type": "code",
      "source": [
        "# Display accuracy score\n",
        "accuracy_score(y_test, prediction)\n"
      ],
      "metadata": {
        "colab": {
          "base_uri": "https://localhost:8080/"
        },
        "id": "ihCF6CS24cHa",
        "outputId": "0ff6b0c1-fea4-4754-f77d-10cfd72b209d"
      },
      "execution_count": 188,
      "outputs": [
        {
          "output_type": "execute_result",
          "data": {
            "text/plain": [
              "0.7916666666666666"
            ]
          },
          "metadata": {},
          "execution_count": 188
        }
      ]
    },
    {
      "cell_type": "code",
      "source": [
        "# 3.5 Some other metrics scores\n",
        "\n",
        "precision = precision_score(y_test, prediction)\n",
        "recall = recall_score(y_test, prediction)\n",
        "f1 = f1_score(y_test, prediction)\n",
        "mcc = matthews_corrcoef(y_test, prediction)\n",
        "\n",
        "\n",
        "print(f\"Precision score: {precision:.4f}\")\n",
        "print(f\"Recall score: {recall:.4f}\")\n",
        "print(f\"F1 score: {f1:.4f}\")\n",
        "print(f\"MCC score: {mcc:.4f}\")"
      ],
      "metadata": {
        "colab": {
          "base_uri": "https://localhost:8080/"
        },
        "id": "sizhRXmUhNYs",
        "outputId": "f25e5d42-d439-4565-ae46-ae8fbd7edeed"
      },
      "execution_count": 189,
      "outputs": [
        {
          "output_type": "stream",
          "name": "stdout",
          "text": [
            "Precision score: 0.8049\n",
            "Recall score: 0.7765\n",
            "F1 score: 0.7904\n",
            "MCC score: 0.5838\n"
          ]
        }
      ]
    },
    {
      "cell_type": "code",
      "source": [
        "# Using cross_val_score function to evaluate the model.\n",
        "\n",
        "from sklearn.model_selection import cross_val_score\n",
        "\n",
        "scores_train = cross_val_score(clf, X_train, y_train)\n",
        "scores_train.mean()\n",
        "scores_test = cross_val_score(clf, X_test, y_test)\n",
        "scores_test.mean()\n",
        "print(f\"Cross Val Score - Train data: {scores_train.mean():.4f}\")\n",
        "print(f\"Cross Val Score - Test data: {scores_test.mean():.4f}\")"
      ],
      "metadata": {
        "colab": {
          "base_uri": "https://localhost:8080/"
        },
        "id": "iVtJsXeor6s0",
        "outputId": "5623e1e3-482b-4a20-d3b3-0ac358fbdd50"
      },
      "execution_count": 190,
      "outputs": [
        {
          "output_type": "stream",
          "name": "stdout",
          "text": [
            "Cross Val Score - Train data: 0.8018\n",
            "Cross Val Score - Test data: 0.7615\n"
          ]
        }
      ]
    },
    {
      "cell_type": "code",
      "source": [
        "# Learning curve\n",
        "#Source: https://www.dataquest.io/blog/learning-curves-machine-learning/\n",
        "\n",
        "train_sizes = [1, 100, 200, 300, 400, 500, 671]\n",
        "\n",
        "from sklearn.model_selection import learning_curve\n",
        "from sklearn.metrics import f1_score, make_scorer\n",
        "\n",
        "features = X_train.columns\n",
        "target = \"Susceptible\"\n",
        "train_sizes, train_scores, validation_scores = learning_curve(\n",
        "    classifier, \n",
        "    X = X[features],\n",
        "    y = y, train_sizes = train_sizes, cv = 5,\n",
        "    scoring = 'f1')\n",
        "\n",
        "\n",
        "import matplotlib.pyplot as plt\n",
        "\n",
        "train_scores_mean = train_scores.mean(axis = 1)\n",
        "validation_scores_mean = validation_scores.mean(axis = 1)\n",
        "\n",
        "plt.style.use('seaborn')\n",
        "plt.plot(train_sizes, train_scores_mean, label = 'Training error')\n",
        "plt.plot(train_sizes, validation_scores_mean, label = 'Validation error')\n",
        "plt.ylabel('F1', fontsize = 14)\n",
        "plt.xlabel('Training set size', fontsize = 14)\n",
        "plt.title('Learning curves for a Random Forest model', fontsize = 18, y = 1.03)\n",
        "plt.legend()\n",
        "plt.ylim(0,1.5)"
      ],
      "metadata": {
        "colab": {
          "base_uri": "https://localhost:8080/",
          "height": 465
        },
        "id": "fw4NS9jz5m9P",
        "outputId": "f0c7a9c8-fd06-4502-cd35-886c0baaabd7"
      },
      "execution_count": 239,
      "outputs": [
        {
          "output_type": "stream",
          "name": "stderr",
          "text": [
            "/usr/local/lib/python3.7/dist-packages/sklearn/metrics/_classification.py:1580: UndefinedMetricWarning: F-score is ill-defined and being set to 0.0 due to no true nor predicted samples. Use `zero_division` parameter to control this behavior.\n",
            "  _warn_prf(average, \"true nor predicted\", \"F-score is\", len(true_sum))\n"
          ]
        },
        {
          "output_type": "execute_result",
          "data": {
            "text/plain": [
              "(0.0, 1.5)"
            ]
          },
          "metadata": {},
          "execution_count": 239
        },
        {
          "output_type": "display_data",
          "data": {
            "text/plain": [
              "<Figure size 576x396 with 1 Axes>"
            ],
            "image/png": "[encoded data removed]"
          },
          "metadata": {}
        }
      ]
    },
    {
      "cell_type": "code",
      "source": [
        "# https://towardsdatascience.com/plotting-the-learning-curve-with-a-single-line-of-code-90a5bbb0f48a\n",
        "\n",
        "from sklearn.ensemble import RandomForestClassifier\n",
        "\n",
        "from yellowbrick.model_selection import learning_curve\n",
        "\n",
        "train_sizes = [1, 100, 200, 300, 400, 500, 671]\n",
        "features = X_train.columns\n",
        "\n",
        "\n",
        "\n",
        "print(learning_curve(clf, X[features], y, train_sizes = train_sizes, scoring='f1'))"
      ],
      "metadata": {
        "colab": {
          "base_uri": "https://localhost:8080/",
          "height": 759
        },
        "id": "ZAR1tOJ6BGUn",
        "outputId": "f86daf56-fe9e-45be-cdf2-597b4c03b9c2"
      },
      "execution_count": 243,
      "outputs": [
        {
          "output_type": "stream",
          "name": "stderr",
          "text": [
            "/usr/local/lib/python3.7/dist-packages/sklearn/metrics/_classification.py:1580: UndefinedMetricWarning: F-score is ill-defined and being set to 0.0 due to no true nor predicted samples. Use `zero_division` parameter to control this behavior.\n",
            "  _warn_prf(average, \"true nor predicted\", \"F-score is\", len(true_sum))\n"
          ]
        },
        {
          "output_type": "display_data",
          "data": {
            "text/plain": [
              "<Figure size 576x396 with 1 Axes>"
            ],
            "image/png": "[encoded data removed]"
          },
          "metadata": {}
        },
        {
          "output_type": "error",
          "ename": "ValueError",
          "evalue": "ignored",
          "traceback": [
            "\u001b[0;31m---------------------------------------------------------------------------\u001b[0m",
            "\u001b[0;31mValueError\u001b[0m                                Traceback (most recent call last)",
            "\u001b[0;32m<ipython-input-243-88f7bceeecef>\u001b[0m in \u001b[0;36m<module>\u001b[0;34m\u001b[0m\n\u001b[1;32m     10\u001b[0m \u001b[0;34m\u001b[0m\u001b[0m\n\u001b[1;32m     11\u001b[0m \u001b[0;34m\u001b[0m\u001b[0m\n\u001b[0;32m---> 12\u001b[0;31m \u001b[0mprint\u001b[0m\u001b[0;34m(\u001b[0m\u001b[0mlearning_curve\u001b[0m\u001b[0;34m(\u001b[0m\u001b[0mclf\u001b[0m\u001b[0;34m,\u001b[0m \u001b[0mX\u001b[0m\u001b[0;34m[\u001b[0m\u001b[0mfeatures\u001b[0m\u001b[0;34m]\u001b[0m\u001b[0;34m,\u001b[0m \u001b[0my\u001b[0m\u001b[0;34m,\u001b[0m \u001b[0mtrain_sizes\u001b[0m \u001b[0;34m=\u001b[0m \u001b[0mtrain_sizes\u001b[0m\u001b[0;34m,\u001b[0m \u001b[0mscoring\u001b[0m\u001b[0;34m=\u001b[0m\u001b[0;34m'f1'\u001b[0m\u001b[0;34m)\u001b[0m\u001b[0;34m)\u001b[0m\u001b[0;34m\u001b[0m\u001b[0;34m\u001b[0m\u001b[0m\n\u001b[0m",
            "\u001b[0;32m/usr/local/lib/python3.7/dist-packages/sklearn/base.py\u001b[0m in \u001b[0;36m__repr__\u001b[0;34m(self, N_CHAR_MAX)\u001b[0m\n\u001b[1;32m    277\u001b[0m         )\n\u001b[1;32m    278\u001b[0m \u001b[0;34m\u001b[0m\u001b[0m\n\u001b[0;32m--> 279\u001b[0;31m         \u001b[0mrepr_\u001b[0m \u001b[0;34m=\u001b[0m \u001b[0mpp\u001b[0m\u001b[0;34m.\u001b[0m\u001b[0mpformat\u001b[0m\u001b[0;34m(\u001b[0m\u001b[0mself\u001b[0m\u001b[0;34m)\u001b[0m\u001b[0;34m\u001b[0m\u001b[0;34m\u001b[0m\u001b[0m\n\u001b[0m\u001b[1;32m    280\u001b[0m \u001b[0;34m\u001b[0m\u001b[0m\n\u001b[1;32m    281\u001b[0m         \u001b[0;31m# Use bruteforce ellipsis when there are a lot of non-blank characters\u001b[0m\u001b[0;34m\u001b[0m\u001b[0;34m\u001b[0m\u001b[0;34m\u001b[0m\u001b[0m\n",
            "\u001b[0;32m/usr/lib/python3.7/pprint.py\u001b[0m in \u001b[0;36mpformat\u001b[0;34m(self, object)\u001b[0m\n\u001b[1;32m    142\u001b[0m     \u001b[0;32mdef\u001b[0m \u001b[0mpformat\u001b[0m\u001b[0;34m(\u001b[0m\u001b[0mself\u001b[0m\u001b[0;34m,\u001b[0m \u001b[0mobject\u001b[0m\u001b[0;34m)\u001b[0m\u001b[0;34m:\u001b[0m\u001b[0;34m\u001b[0m\u001b[0;34m\u001b[0m\u001b[0m\n\u001b[1;32m    143\u001b[0m         \u001b[0msio\u001b[0m \u001b[0;34m=\u001b[0m \u001b[0m_StringIO\u001b[0m\u001b[0;34m(\u001b[0m\u001b[0;34m)\u001b[0m\u001b[0;34m\u001b[0m\u001b[0;34m\u001b[0m\u001b[0m\n\u001b[0;32m--> 144\u001b[0;31m         \u001b[0mself\u001b[0m\u001b[0;34m.\u001b[0m\u001b[0m_format\u001b[0m\u001b[0;34m(\u001b[0m\u001b[0mobject\u001b[0m\u001b[0;34m,\u001b[0m \u001b[0msio\u001b[0m\u001b[0;34m,\u001b[0m \u001b[0;36m0\u001b[0m\u001b[0;34m,\u001b[0m \u001b[0;36m0\u001b[0m\u001b[0;34m,\u001b[0m \u001b[0;34m{\u001b[0m\u001b[0;34m}\u001b[0m\u001b[0;34m,\u001b[0m \u001b[0;36m0\u001b[0m\u001b[0;34m)\u001b[0m\u001b[0;34m\u001b[0m\u001b[0;34m\u001b[0m\u001b[0m\n\u001b[0m\u001b[1;32m    145\u001b[0m         \u001b[0;32mreturn\u001b[0m \u001b[0msio\u001b[0m\u001b[0;34m.\u001b[0m\u001b[0mgetvalue\u001b[0m\u001b[0;34m(\u001b[0m\u001b[0;34m)\u001b[0m\u001b[0;34m\u001b[0m\u001b[0;34m\u001b[0m\u001b[0m\n\u001b[1;32m    146\u001b[0m \u001b[0;34m\u001b[0m\u001b[0m\n",
            "\u001b[0;32m/usr/lib/python3.7/pprint.py\u001b[0m in \u001b[0;36m_format\u001b[0;34m(self, object, stream, indent, allowance, context, level)\u001b[0m\n\u001b[1;32m    159\u001b[0m             \u001b[0mself\u001b[0m\u001b[0;34m.\u001b[0m\u001b[0m_readable\u001b[0m \u001b[0;34m=\u001b[0m \u001b[0;32mFalse\u001b[0m\u001b[0;34m\u001b[0m\u001b[0;34m\u001b[0m\u001b[0m\n\u001b[1;32m    160\u001b[0m             \u001b[0;32mreturn\u001b[0m\u001b[0;34m\u001b[0m\u001b[0;34m\u001b[0m\u001b[0m\n\u001b[0;32m--> 161\u001b[0;31m         \u001b[0mrep\u001b[0m \u001b[0;34m=\u001b[0m \u001b[0mself\u001b[0m\u001b[0;34m.\u001b[0m\u001b[0m_repr\u001b[0m\u001b[0;34m(\u001b[0m\u001b[0mobject\u001b[0m\u001b[0;34m,\u001b[0m \u001b[0mcontext\u001b[0m\u001b[0;34m,\u001b[0m \u001b[0mlevel\u001b[0m\u001b[0;34m)\u001b[0m\u001b[0;34m\u001b[0m\u001b[0;34m\u001b[0m\u001b[0m\n\u001b[0m\u001b[1;32m    162\u001b[0m         \u001b[0mmax_width\u001b[0m \u001b[0;34m=\u001b[0m \u001b[0mself\u001b[0m\u001b[0;34m.\u001b[0m\u001b[0m_width\u001b[0m \u001b[0;34m-\u001b[0m \u001b[0mindent\u001b[0m \u001b[0;34m-\u001b[0m \u001b[0mallowance\u001b[0m\u001b[0;34m\u001b[0m\u001b[0;34m\u001b[0m\u001b[0m\n\u001b[1;32m    163\u001b[0m         \u001b[0;32mif\u001b[0m \u001b[0mlen\u001b[0m\u001b[0;34m(\u001b[0m\u001b[0mrep\u001b[0m\u001b[0;34m)\u001b[0m \u001b[0;34m>\u001b[0m \u001b[0mmax_width\u001b[0m\u001b[0;34m:\u001b[0m\u001b[0;34m\u001b[0m\u001b[0;34m\u001b[0m\u001b[0m\n",
            "\u001b[0;32m/usr/lib/python3.7/pprint.py\u001b[0m in \u001b[0;36m_repr\u001b[0;34m(self, object, context, level)\u001b[0m\n\u001b[1;32m    391\u001b[0m     \u001b[0;32mdef\u001b[0m \u001b[0m_repr\u001b[0m\u001b[0;34m(\u001b[0m\u001b[0mself\u001b[0m\u001b[0;34m,\u001b[0m \u001b[0mobject\u001b[0m\u001b[0;34m,\u001b[0m \u001b[0mcontext\u001b[0m\u001b[0;34m,\u001b[0m \u001b[0mlevel\u001b[0m\u001b[0;34m)\u001b[0m\u001b[0;34m:\u001b[0m\u001b[0;34m\u001b[0m\u001b[0;34m\u001b[0m\u001b[0m\n\u001b[1;32m    392\u001b[0m         repr, readable, recursive = self.format(object, context.copy(),\n\u001b[0;32m--> 393\u001b[0;31m                                                 self._depth, level)\n\u001b[0m\u001b[1;32m    394\u001b[0m         \u001b[0;32mif\u001b[0m \u001b[0;32mnot\u001b[0m \u001b[0mreadable\u001b[0m\u001b[0;34m:\u001b[0m\u001b[0;34m\u001b[0m\u001b[0;34m\u001b[0m\u001b[0m\n\u001b[1;32m    395\u001b[0m             \u001b[0mself\u001b[0m\u001b[0;34m.\u001b[0m\u001b[0m_readable\u001b[0m \u001b[0;34m=\u001b[0m \u001b[0;32mFalse\u001b[0m\u001b[0;34m\u001b[0m\u001b[0;34m\u001b[0m\u001b[0m\n",
            "\u001b[0;32m/usr/local/lib/python3.7/dist-packages/sklearn/utils/_pprint.py\u001b[0m in \u001b[0;36mformat\u001b[0;34m(self, object, context, maxlevels, level)\u001b[0m\n\u001b[1;32m    188\u001b[0m     \u001b[0;32mdef\u001b[0m \u001b[0mformat\u001b[0m\u001b[0;34m(\u001b[0m\u001b[0mself\u001b[0m\u001b[0;34m,\u001b[0m \u001b[0mobject\u001b[0m\u001b[0;34m,\u001b[0m \u001b[0mcontext\u001b[0m\u001b[0;34m,\u001b[0m \u001b[0mmaxlevels\u001b[0m\u001b[0;34m,\u001b[0m \u001b[0mlevel\u001b[0m\u001b[0;34m)\u001b[0m\u001b[0;34m:\u001b[0m\u001b[0;34m\u001b[0m\u001b[0;34m\u001b[0m\u001b[0m\n\u001b[1;32m    189\u001b[0m         return _safe_repr(\n\u001b[0;32m--> 190\u001b[0;31m             \u001b[0mobject\u001b[0m\u001b[0;34m,\u001b[0m \u001b[0mcontext\u001b[0m\u001b[0;34m,\u001b[0m \u001b[0mmaxlevels\u001b[0m\u001b[0;34m,\u001b[0m \u001b[0mlevel\u001b[0m\u001b[0;34m,\u001b[0m \u001b[0mchanged_only\u001b[0m\u001b[0;34m=\u001b[0m\u001b[0mself\u001b[0m\u001b[0;34m.\u001b[0m\u001b[0m_changed_only\u001b[0m\u001b[0;34m\u001b[0m\u001b[0;34m\u001b[0m\u001b[0m\n\u001b[0m\u001b[1;32m    191\u001b[0m         )\n\u001b[1;32m    192\u001b[0m \u001b[0;34m\u001b[0m\u001b[0m\n",
            "\u001b[0;32m/usr/local/lib/python3.7/dist-packages/sklearn/utils/_pprint.py\u001b[0m in \u001b[0;36m_safe_repr\u001b[0;34m(object, context, maxlevels, level, changed_only)\u001b[0m\n\u001b[1;32m    438\u001b[0m         \u001b[0mrecursive\u001b[0m \u001b[0;34m=\u001b[0m \u001b[0;32mFalse\u001b[0m\u001b[0;34m\u001b[0m\u001b[0;34m\u001b[0m\u001b[0m\n\u001b[1;32m    439\u001b[0m         \u001b[0;32mif\u001b[0m \u001b[0mchanged_only\u001b[0m\u001b[0;34m:\u001b[0m\u001b[0;34m\u001b[0m\u001b[0;34m\u001b[0m\u001b[0m\n\u001b[0;32m--> 440\u001b[0;31m             \u001b[0mparams\u001b[0m \u001b[0;34m=\u001b[0m \u001b[0m_changed_params\u001b[0m\u001b[0;34m(\u001b[0m\u001b[0mobject\u001b[0m\u001b[0;34m)\u001b[0m\u001b[0;34m\u001b[0m\u001b[0;34m\u001b[0m\u001b[0m\n\u001b[0m\u001b[1;32m    441\u001b[0m         \u001b[0;32melse\u001b[0m\u001b[0;34m:\u001b[0m\u001b[0;34m\u001b[0m\u001b[0;34m\u001b[0m\u001b[0m\n\u001b[1;32m    442\u001b[0m             \u001b[0mparams\u001b[0m \u001b[0;34m=\u001b[0m \u001b[0mobject\u001b[0m\u001b[0;34m.\u001b[0m\u001b[0mget_params\u001b[0m\u001b[0;34m(\u001b[0m\u001b[0mdeep\u001b[0m\u001b[0;34m=\u001b[0m\u001b[0;32mFalse\u001b[0m\u001b[0;34m)\u001b[0m\u001b[0;34m\u001b[0m\u001b[0;34m\u001b[0m\u001b[0m\n",
            "\u001b[0;32m/usr/local/lib/python3.7/dist-packages/sklearn/utils/_pprint.py\u001b[0m in \u001b[0;36m_changed_params\u001b[0;34m(estimator)\u001b[0m\n\u001b[1;32m    111\u001b[0m         \u001b[0;32mreturn\u001b[0m \u001b[0;32mFalse\u001b[0m\u001b[0;34m\u001b[0m\u001b[0;34m\u001b[0m\u001b[0m\n\u001b[1;32m    112\u001b[0m \u001b[0;34m\u001b[0m\u001b[0m\n\u001b[0;32m--> 113\u001b[0;31m     \u001b[0;32mreturn\u001b[0m \u001b[0;34m{\u001b[0m\u001b[0mk\u001b[0m\u001b[0;34m:\u001b[0m \u001b[0mv\u001b[0m \u001b[0;32mfor\u001b[0m \u001b[0mk\u001b[0m\u001b[0;34m,\u001b[0m \u001b[0mv\u001b[0m \u001b[0;32min\u001b[0m \u001b[0mparams\u001b[0m\u001b[0;34m.\u001b[0m\u001b[0mitems\u001b[0m\u001b[0;34m(\u001b[0m\u001b[0;34m)\u001b[0m \u001b[0;32mif\u001b[0m \u001b[0mhas_changed\u001b[0m\u001b[0;34m(\u001b[0m\u001b[0mk\u001b[0m\u001b[0;34m,\u001b[0m \u001b[0mv\u001b[0m\u001b[0;34m)\u001b[0m\u001b[0;34m}\u001b[0m\u001b[0;34m\u001b[0m\u001b[0;34m\u001b[0m\u001b[0m\n\u001b[0m\u001b[1;32m    114\u001b[0m \u001b[0;34m\u001b[0m\u001b[0m\n\u001b[1;32m    115\u001b[0m \u001b[0;34m\u001b[0m\u001b[0m\n",
            "\u001b[0;32m/usr/local/lib/python3.7/dist-packages/sklearn/utils/_pprint.py\u001b[0m in \u001b[0;36m<dictcomp>\u001b[0;34m(.0)\u001b[0m\n\u001b[1;32m    111\u001b[0m         \u001b[0;32mreturn\u001b[0m \u001b[0;32mFalse\u001b[0m\u001b[0;34m\u001b[0m\u001b[0;34m\u001b[0m\u001b[0m\n\u001b[1;32m    112\u001b[0m \u001b[0;34m\u001b[0m\u001b[0m\n\u001b[0;32m--> 113\u001b[0;31m     \u001b[0;32mreturn\u001b[0m \u001b[0;34m{\u001b[0m\u001b[0mk\u001b[0m\u001b[0;34m:\u001b[0m \u001b[0mv\u001b[0m \u001b[0;32mfor\u001b[0m \u001b[0mk\u001b[0m\u001b[0;34m,\u001b[0m \u001b[0mv\u001b[0m \u001b[0;32min\u001b[0m \u001b[0mparams\u001b[0m\u001b[0;34m.\u001b[0m\u001b[0mitems\u001b[0m\u001b[0;34m(\u001b[0m\u001b[0;34m)\u001b[0m \u001b[0;32mif\u001b[0m \u001b[0mhas_changed\u001b[0m\u001b[0;34m(\u001b[0m\u001b[0mk\u001b[0m\u001b[0;34m,\u001b[0m \u001b[0mv\u001b[0m\u001b[0;34m)\u001b[0m\u001b[0;34m}\u001b[0m\u001b[0;34m\u001b[0m\u001b[0;34m\u001b[0m\u001b[0m\n\u001b[0m\u001b[1;32m    114\u001b[0m \u001b[0;34m\u001b[0m\u001b[0m\n\u001b[1;32m    115\u001b[0m \u001b[0;34m\u001b[0m\u001b[0m\n",
            "\u001b[0;32m/usr/local/lib/python3.7/dist-packages/sklearn/utils/_pprint.py\u001b[0m in \u001b[0;36mhas_changed\u001b[0;34m(k, v)\u001b[0m\n\u001b[1;32m     99\u001b[0m         \u001b[0;32mif\u001b[0m \u001b[0mk\u001b[0m \u001b[0;32mnot\u001b[0m \u001b[0;32min\u001b[0m \u001b[0minit_params\u001b[0m\u001b[0;34m:\u001b[0m  \u001b[0;31m# happens if k is part of a **kwargs\u001b[0m\u001b[0;34m\u001b[0m\u001b[0;34m\u001b[0m\u001b[0m\n\u001b[1;32m    100\u001b[0m             \u001b[0;32mreturn\u001b[0m \u001b[0;32mTrue\u001b[0m\u001b[0;34m\u001b[0m\u001b[0;34m\u001b[0m\u001b[0m\n\u001b[0;32m--> 101\u001b[0;31m         \u001b[0;32mif\u001b[0m \u001b[0minit_params\u001b[0m\u001b[0;34m[\u001b[0m\u001b[0mk\u001b[0m\u001b[0;34m]\u001b[0m \u001b[0;34m==\u001b[0m \u001b[0minspect\u001b[0m\u001b[0;34m.\u001b[0m\u001b[0m_empty\u001b[0m\u001b[0;34m:\u001b[0m  \u001b[0;31m# k has no default value\u001b[0m\u001b[0;34m\u001b[0m\u001b[0;34m\u001b[0m\u001b[0m\n\u001b[0m\u001b[1;32m    102\u001b[0m             \u001b[0;32mreturn\u001b[0m \u001b[0;32mTrue\u001b[0m\u001b[0;34m\u001b[0m\u001b[0;34m\u001b[0m\u001b[0m\n\u001b[1;32m    103\u001b[0m         \u001b[0;31m# try to avoid calling repr on nested estimators\u001b[0m\u001b[0;34m\u001b[0m\u001b[0;34m\u001b[0m\u001b[0;34m\u001b[0m\u001b[0m\n",
            "\u001b[0;31mValueError\u001b[0m: The truth value of an array with more than one element is ambiguous. Use a.any() or a.all()"
          ]
        }
      ]
    },
    {
      "cell_type": "code",
      "source": [],
      "metadata": {
        "id": "jm04x9YrBGL8"
      },
      "execution_count": null,
      "outputs": []
    },
    {
      "cell_type": "code",
      "source": [
        "# Let´s check the importate of each variable\n",
        "from sklearn.inspection import permutation_importance\n",
        "#import shap\n",
        "from matplotlib import pyplot as plt\n",
        "\n",
        "clf.feature_importances_"
      ],
      "metadata": {
        "colab": {
          "base_uri": "https://localhost:8080/"
        },
        "id": "45HsHf6QVsEF",
        "outputId": "ec4cfc90-015f-4075-939d-12fc16847a43"
      },
      "execution_count": 192,
      "outputs": [
        {
          "output_type": "execute_result",
          "data": {
            "text/plain": [
              "array([0.23944816, 0.03562803, 0.04866878, 0.05284028, 0.0402208 ,\n",
              "       0.06103639, 0.05078274, 0.04367353, 0.04562311, 0.0337835 ,\n",
              "       0.04232224, 0.05486415, 0.04657972, 0.07064081, 0.07535645,\n",
              "       0.0585313 ])"
            ]
          },
          "metadata": {},
          "execution_count": 192
        }
      ]
    },
    {
      "cell_type": "code",
      "source": [
        "# Let´s check feature importance - Gini importance\n",
        "\n",
        "sorted_idx = clf.feature_importances_.argsort()\n",
        "\n",
        "plt.barh(X.columns[sorted_idx], clf.feature_importances_[sorted_idx])\n",
        "plt.xlabel(\"Random Forest Feature Importance\")"
      ],
      "metadata": {
        "colab": {
          "base_uri": "https://localhost:8080/",
          "height": 296
        },
        "id": "orTkkNdlWwuZ",
        "outputId": "5ef26505-c1b0-47c7-ff85-9abbf839c893"
      },
      "execution_count": 193,
      "outputs": [
        {
          "output_type": "execute_result",
          "data": {
            "text/plain": [
              "Text(0.5, 0, 'Random Forest Feature Importance')"
            ]
          },
          "metadata": {},
          "execution_count": 193
        },
        {
          "output_type": "display_data",
          "data": {
            "text/plain": [
              "<Figure size 432x288 with 1 Axes>"
            ],
            "image/png": "[encoded data removed]"
          },
          "metadata": {
            "needs_background": "light"
          }
        }
      ]
    },
    {
      "cell_type": "code",
      "source": [
        "# Let´s check feature importance - Permutation Based Feature Importance \n",
        "\n",
        "perm_importance = permutation_importance(clf, X_test, y_test)\n",
        "\n",
        "sorted_idx = perm_importance.importances_mean.argsort()\n",
        "plt.barh(X.columns[sorted_idx], perm_importance.importances_mean[sorted_idx])\n",
        "plt.xlabel(\"Permutation Importance\")\n"
      ],
      "metadata": {
        "colab": {
          "base_uri": "https://localhost:8080/",
          "height": 296
        },
        "id": "CVeJ2ByHY-U2",
        "outputId": "87716097-decc-4e8e-dff9-3c788cff9864"
      },
      "execution_count": 194,
      "outputs": [
        {
          "output_type": "execute_result",
          "data": {
            "text/plain": [
              "Text(0.5, 0, 'Permutation Importance')"
            ]
          },
          "metadata": {},
          "execution_count": 194
        },
        {
          "output_type": "display_data",
          "data": {
            "text/plain": [
              "<Figure size 432x288 with 1 Axes>"
            ],
            "image/png": "[encoded data removed]"
          },
          "metadata": {
            "needs_background": "light"
          }
        }
      ]
    },
    {
      "cell_type": "code",
      "source": [
        "# How to evaluate the variables\n",
        "# Source: https://medium.com/mlearning-ai/short-python-code-for-backward-elimination-with-detailed-explanation-52894a9a7880\n",
        "#import statsmodels.api as sm \n",
        "#X_train_opt = np.append(arr = np.ones((671,1)).astype(int), values = X_train, axis = 1) \n",
        "#X_train_opt = X_train_opt[:,[0, 1, 2, 3, 7, 10, 12, 16, 17, 18, 19, 20, 21, 23]] \n",
        "#regressor_OLS = sm.OLS(endog = y_train, exog = X_train_opt).fit()\n",
        "#regressor_OLS.summary()\n",
        "\n"
      ],
      "metadata": {
        "id": "s_egibLiYltl"
      },
      "execution_count": 156,
      "outputs": []
    },
    {
      "cell_type": "code",
      "source": [
        "# Using grid search to find optimal hyperparameters for Random Forest model\n",
        "#Credits: https://github.com/pacejohn/Random_Forest_Grid_Search/blob/master/rf_gridsearch_census.ipynb\n",
        "\n",
        "\n",
        "import numpy as np\n",
        "import pandas as pd\n",
        "from pprint import pprint\n",
        "#from sklearn.ensemble import RandomForestClassifier, RandomForestRegressor\n",
        "from sklearn.ensemble import RandomForestClassifier\n",
        "from sklearn.model_selection import GridSearchCV, train_test_split"
      ],
      "metadata": {
        "id": "O2w1-E9I2tgn"
      },
      "execution_count": 195,
      "outputs": []
    },
    {
      "cell_type": "code",
      "source": [
        "# Baseline: Random forest with default values.\n",
        "\n",
        "# ************ Train/Test *********************\n",
        "print(\"\\n***************************************************************\")\n",
        "print(\"*****Random Forest With Default Hyperparameters Train/Test*****\")\n",
        "print(\"***************************************************************\\n\")\n",
        "\n",
        "# ************ Train/Test *********************\n",
        "# Create Random Forest Classifier using default hyperparameters\n",
        "default_rf_clf = RandomForestClassifier(random_state=0)\n",
        "\n",
        "# Train the Classifier\n",
        "default_rf_clf.fit(X_train, y_train)\n",
        "\n",
        "# Perform predictions\n",
        "default_train_test_preds = default_rf_clf.predict(X_test)\n",
        "\n",
        "# View the first 5 predictions and the predicted probabilities \n",
        "print(\"*****Default Hyperparameters Test Predictions*****\")\n",
        "for i in range(0,5):\n",
        "\tprint(\"Prediction \" + str(i+1) + \" is \" + str(default_train_test_preds[i]) + \" with probabilities of \" \n",
        "\t\t+ str(default_rf_clf.predict_proba(X_test)[i]))\n",
        "\n",
        "# Create confusion matrix\n",
        "print(\"\\n*****Default Hyperparameters Test Confusion Matrix*****\")\n",
        "confusion_matrix = pd.crosstab(y_test, default_train_test_preds, rownames=['Actual Income'], colnames=['Predicted Income'])\n",
        "print(confusion_matrix)\n",
        "\n",
        "# Print accuracy\n",
        "default_accuracy = (((confusion_matrix[0][0] + confusion_matrix[1][1])) / (X_test.shape[0]) * 100)\n",
        "print(\"\\nDefault Hyperparameters Test Accuracy = {0:0.4f}%\".format(default_accuracy))\n"
      ],
      "metadata": {
        "colab": {
          "base_uri": "https://localhost:8080/"
        },
        "id": "jak9d3uC24Fv",
        "outputId": "c7360024-f177-4442-9a49-82f1d2ab45a2"
      },
      "execution_count": 244,
      "outputs": [
        {
          "output_type": "stream",
          "name": "stdout",
          "text": [
            "\n",
            "***************************************************************\n",
            "*****Random Forest With Default Hyperparameters Train/Test*****\n",
            "***************************************************************\n",
            "\n",
            "*****Default Hyperparameters Test Predictions*****\n",
            "Prediction 1 is 0 with probabilities of [0.85 0.15]\n",
            "Prediction 2 is 1 with probabilities of [0.36 0.64]\n",
            "Prediction 3 is 0 with probabilities of [0.74 0.26]\n",
            "Prediction 4 is 1 with probabilities of [0.39 0.61]\n",
            "Prediction 5 is 1 with probabilities of [0.2 0.8]\n",
            "\n",
            "*****Default Hyperparameters Test Confusion Matrix*****\n",
            "Predicted Income   0   1\n",
            "Actual Income           \n",
            "0                 68  15\n",
            "1                 18  67\n",
            "\n",
            "Default Hyperparameters Test Accuracy = 80.3571%\n"
          ]
        }
      ]
    },
    {
      "cell_type": "code",
      "source": [
        "# ************ Validation *********************\n",
        "print(\"\\n\\n***************************************************************\")\n",
        "print(\"*****Random Forest With Default Hyperparameters Validation*****\")\n",
        "print(\"***************************************************************\\n\")\n",
        "\n",
        "\n",
        "# ************ Random Forest Classifier using grid search for hyper-parameters ******************\n",
        "print(\"\\n\\n***************************************************************\")\n",
        "print(\"*****************Random Forest Grid Search*********************\")\n",
        "print(\"***************************************************************\\n\")\n",
        "\n",
        "# Number of trees in random forest\n",
        "# Using num=2 will significantly reduce run time (~3 min vs ~65 min)\n",
        "n_estimators = [int(x) for x in np.linspace(start = 200, stop = 2000, num = 2)]\n",
        "# Using num=10 will significantly increase run time\n",
        "#n_estimators = [int(x) for x in np.linspace(start = 200, stop = 2000, num = 10)]\n",
        "# Number of features to consider at every split\n",
        "max_features = ['auto', 'sqrt']\n",
        "# Maximum number of levels in tree\n",
        "# Using num=2 will significantly reduce run time (~3 min vs ~65 min)\n",
        "max_depth = [int(x) for x in np.linspace(10, 110, num = 2)]\n",
        "# Using num=10 will significantly increase run time\n",
        "#max_depth = [int(x) for x in np.linspace(10, 110, num = 10)]\n",
        "max_depth.append(None)\n",
        "# Minimum number of samples required to split a node\n",
        "min_samples_split = [2, 5, 10]\n",
        "# Minimum number of samples required at each leaf node\n",
        "min_samples_leaf = [1, 2, 4]\n",
        "# Method of selecting samples for training each tree\n",
        "bootstrap = [True, False]\n",
        "# Create the random grid\n",
        "grid = {'n_estimators': n_estimators,\n",
        "               'max_features': max_features,\n",
        "               'max_depth': max_depth,\n",
        "               'min_samples_split': min_samples_split,\n",
        "               'min_samples_leaf': min_samples_leaf,\n",
        "               'bootstrap': bootstrap}\n",
        "print(\"The values that will be used for the grid search are:\")\n",
        "pprint(grid)\n",
        "\n",
        "print(\"\\n*****Performing the Grid Search of the Hyperparameters*****\")\n",
        "# Create a regressor using values from grid\n",
        "rf_reg = RandomForestClassifier()\n",
        "# Instantiate the grid search model\n",
        "grid_search = GridSearchCV(estimator = rf_reg, param_grid = grid, cv = 3, n_jobs = -1, verbose = 1)\n",
        "\n",
        "# Train the classifier\n",
        "best_grid = grid_search.fit(X_train, y_train)\n",
        "\n",
        "# Make predictions\n",
        "grid_preds = best_grid.predict(X_test)\n",
        "\n",
        "print(\"The best hyperparameters found during the grid search are:\")\n",
        "pprint(best_grid.best_params_)"
      ],
      "metadata": {
        "colab": {
          "base_uri": "https://localhost:8080/"
        },
        "id": "08xGgWAn24Mv",
        "outputId": "1b0fa1b9-70d8-40bb-ba59-755db0101798"
      },
      "execution_count": null,
      "outputs": [
        {
          "output_type": "stream",
          "name": "stdout",
          "text": [
            "\n",
            "\n",
            "***************************************************************\n",
            "*****Random Forest With Default Hyperparameters Validation*****\n",
            "***************************************************************\n",
            "\n",
            "\n",
            "\n",
            "***************************************************************\n",
            "*****************Random Forest Grid Search*********************\n",
            "***************************************************************\n",
            "\n",
            "The values that will be used for the grid search are:\n",
            "{'bootstrap': [True, False],\n",
            " 'max_depth': [10, 110, None],\n",
            " 'max_features': ['auto', 'sqrt'],\n",
            " 'min_samples_leaf': [1, 2, 4],\n",
            " 'min_samples_split': [2, 5, 10],\n",
            " 'n_estimators': [200, 2000]}\n",
            "\n",
            "*****Performing the Grid Search of the Hyperparameters*****\n",
            "Fitting 3 folds for each of 216 candidates, totalling 648 fits\n"
          ]
        }
      ]
    },
    {
      "cell_type": "code",
      "source": [
        "# ************ Random Forest Classifier using grid search with best hyper-parameters ******************\n",
        "print(\"\\n************************************************************************\")\n",
        "print(\"*****Random Forest With Hyperparameters from Grid Search Train/Test*****\")\n",
        "print(\"************************************************************************\\n\")\n",
        "\n",
        "# Train the Classifier with new values from grid search\n",
        "rf_clf = RandomForestClassifier(max_depth = best_grid.best_params_[\"max_depth\"], \n",
        "\tmin_samples_split = best_grid.best_params_[\"min_samples_split\"], \n",
        "\tmin_samples_leaf = best_grid.best_params_[\"min_samples_leaf\"], \n",
        "\tbootstrap = best_grid.best_params_[\"bootstrap\"], \n",
        "\tmax_features = best_grid.best_params_[\"max_features\"], \n",
        "\tn_estimators = best_grid.best_params_[\"n_estimators\"], n_jobs=-1, random_state=0)\n",
        "rf_clf.fit(X_train, y_train)\n",
        "\n",
        "# Perform predictions\n",
        "train_test_preds = rf_clf.predict(X_test)\n",
        "\n",
        "# View the first 5 predictions and the predicted probabilities \n",
        "print(\"\\n\")\n",
        "print(\"*****Grid Search Hyperparameters Test Predictions*****\")\n",
        "for i in range(0,5):\n",
        "\tprint(\"Prediction \" + str(i+1) + \" is \" + str(train_test_preds[i]) + \" with probabilities of \" + str(rf_clf.predict_proba(X_test)[i]))\n",
        "\n",
        "# Create confusion matrix\n",
        "print(\"\\n*****Grid Search Hyperparameters Test Confusion Matrix*****\")\n",
        "confusion_matrix = pd.crosstab(y_test, train_test_preds, rownames=['Actual Income'], colnames=['Predicted Income'])\n",
        "print(confusion_matrix)\n",
        "\n",
        "# Print accuracy\n",
        "grid_search_accuracy = (((confusion_matrix[0][0] + confusion_matrix[1][1])) / (X_test.shape[0]) * 100)\n",
        "print(\"\\nGrid Search Hyperparameters Test Accuracy = {0:0.4f}%\".format(grid_search_accuracy))\n",
        "\n",
        "print(\"\\nCompared to the random forest classifier created with default hyperparameters, the accuracy of the \" +\n",
        "\t\"classifier created with optimal hyperparameters determined by grid search is \" +\n",
        "\t\"{0:0.4f}% better\".format((grid_search_accuracy - default_accuracy)))"
      ],
      "metadata": {
        "id": "wt3oHWhE24TF",
        "colab": {
          "base_uri": "https://localhost:8080/"
        },
        "outputId": "1ca225d3-98f8-452a-d01a-b65ce4b5534c"
      },
      "execution_count": 40,
      "outputs": [
        {
          "output_type": "stream",
          "name": "stdout",
          "text": [
            "\n",
            "************************************************************************\n",
            "*****Random Forest With Hyperparameters from Grid Search Train/Test*****\n",
            "************************************************************************\n",
            "\n",
            "\n",
            "\n",
            "*****Grid Search Hyperparameters Test Predictions*****\n",
            "Prediction 1 is 0 with probabilities of [0.77904195 0.22095805]\n",
            "Prediction 2 is 1 with probabilities of [0.44484089 0.55515911]\n",
            "Prediction 3 is 0 with probabilities of [0.78764895 0.21235105]\n",
            "Prediction 4 is 1 with probabilities of [0.44375861 0.55624139]\n",
            "Prediction 5 is 1 with probabilities of [0.19918159 0.80081841]\n",
            "\n",
            "*****Grid Search Hyperparameters Test Confusion Matrix*****\n",
            "Predicted Income   0   1\n",
            "Actual Income           \n",
            "0                 66  17\n",
            "1                 17  68\n",
            "\n",
            "Grid Search Hyperparameters Test Accuracy = 79.7619%\n",
            "\n",
            "Compared to the random forest classifier created with default hyperparameters, the accuracy of the classifier created with optimal hyperparameters determined by grid search is 0.0000% better\n"
          ]
        }
      ]
    },
    {
      "cell_type": "code",
      "source": [
        "#Importing libraries\n",
        "#Font: https://towardsdatascience.com/feature-selection-using-random-forest-26d7b747597f\n",
        "\n",
        "\n",
        "import pandas as pd\n",
        "#from sklearn.ensemble import RandomForestClassfier\n",
        "from sklearn.feature_selection import SelectFromModel\n",
        "\n",
        "sel = SelectFromModel(RandomForestClassifier(n_estimators = 500))\n",
        "sel.fit(X_train, y_train)"
      ],
      "metadata": {
        "id": "zHbNes9C24Xl",
        "colab": {
          "base_uri": "https://localhost:8080/"
        },
        "outputId": "3aff2249-ce4c-49b1-d08e-8a8fa1dd3c6f"
      },
      "execution_count": null,
      "outputs": [
        {
          "output_type": "execute_result",
          "data": {
            "text/plain": [
              "SelectFromModel(estimator=RandomForestClassifier(n_estimators=500))"
            ]
          },
          "metadata": {},
          "execution_count": 143
        }
      ]
    },
    {
      "cell_type": "code",
      "source": [
        "#To see which features are important we can use get_support method on the fitted model.\n",
        "\n",
        "sel.get_support()"
      ],
      "metadata": {
        "colab": {
          "base_uri": "https://localhost:8080/"
        },
        "id": "tStSX8zinEiu",
        "outputId": "b724cc56-9d47-42b1-f6ad-5ed6831f2b72"
      },
      "execution_count": null,
      "outputs": [
        {
          "output_type": "execute_result",
          "data": {
            "text/plain": [
              "array([ True,  True,  True, False, False, False, False, False,  True,\n",
              "       False, False, False, False, False, False, False])"
            ]
          },
          "metadata": {},
          "execution_count": 144
        }
      ]
    },
    {
      "cell_type": "code",
      "source": [
        "#We can now make a list and count the selected features.\n",
        "\n",
        "selected_feat= X_train.columns[(sel.get_support())]\n",
        "len(selected_feat)"
      ],
      "metadata": {
        "colab": {
          "base_uri": "https://localhost:8080/"
        },
        "id": "myyq0dDTnEq3",
        "outputId": "d95c869a-d122-410c-f7a6-9b7092452b34"
      },
      "execution_count": null,
      "outputs": [
        {
          "output_type": "execute_result",
          "data": {
            "text/plain": [
              "4"
            ]
          },
          "metadata": {},
          "execution_count": 145
        }
      ]
    },
    {
      "cell_type": "code",
      "source": [
        "#To get the name of the features selected\n",
        "\n",
        "print(selected_feat)"
      ],
      "metadata": {
        "colab": {
          "base_uri": "https://localhost:8080/"
        },
        "id": "SKlJ4LSVnEyz",
        "outputId": "b8b5a7a6-7a14-4b3a-fd25-14a8a0f6e0db"
      },
      "execution_count": null,
      "outputs": [
        {
          "output_type": "stream",
          "name": "stdout",
          "text": [
            "Index(['Pipe_intersec', 'Gas_stations', 'Gas_price', 'NO_SS'], dtype='object')\n"
          ]
        }
      ]
    }
  ]
}