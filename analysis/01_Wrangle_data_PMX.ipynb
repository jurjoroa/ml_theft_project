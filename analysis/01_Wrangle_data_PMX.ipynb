{
 "cells": [
  {
   "cell_type": "code",
   "execution_count": null,
   "id": "bcdcdae5-4958-4e28-a1af-80d0b36838c3",
   "metadata": {},
   "outputs": [],
   "source": [
    "\n",
    "import sys\n",
    "sys.path.insert(0, '../pipeline')"
   ]
  },
  {
   "cell_type": "code",
   "execution_count": 3,
   "id": "df37a7a3-5998-4a9e-aea5-6516af9a63d5",
   "metadata": {},
   "outputs": [
    {
     "name": "stdout",
     "output_type": "stream",
     "text": [
      "/Users/jorgeroa/Documents/GitHub/ml_theft_project\n"
     ]
    }
   ],
   "source": [
    "%cd \"/Users/jorgeroa/Documents/GitHub/ml_theft_project\""
   ]
  },
  {
   "cell_type": "code",
   "execution_count": 1,
   "id": "f33c8fbc-e1f0-430f-93ef-67729e18395e",
   "metadata": {},
   "outputs": [
    {
     "name": "stdout",
     "output_type": "stream",
     "text": [
      "Requirement already satisfied: pandas in /Users/jorgeroa/opt/anaconda3/lib/python3.9/site-packages (1.4.2)\n",
      "Requirement already satisfied: python-dateutil>=2.8.1 in /Users/jorgeroa/opt/anaconda3/lib/python3.9/site-packages (from pandas) (2.8.2)\n",
      "Requirement already satisfied: pytz>=2020.1 in /Users/jorgeroa/opt/anaconda3/lib/python3.9/site-packages (from pandas) (2021.3)\n",
      "Requirement already satisfied: numpy>=1.18.5 in /Users/jorgeroa/opt/anaconda3/lib/python3.9/site-packages (from pandas) (1.21.5)\n",
      "Requirement already satisfied: six>=1.5 in /Users/jorgeroa/opt/anaconda3/lib/python3.9/site-packages (from python-dateutil>=2.8.1->pandas) (1.16.0)\n",
      "Note: you may need to restart the kernel to use updated packages.\n"
     ]
    }
   ],
   "source": []
  },
  {
   "cell_type": "code",
   "execution_count": 2,
   "id": "182f9bc3-47d0-4a56-8a0d-c27a515a98bc",
   "metadata": {},
   "outputs": [
    {
     "name": "stdout",
     "output_type": "stream",
     "text": [
      "Requirement already satisfied: numpy in /Users/jorgeroa/opt/anaconda3/lib/python3.9/site-packages (1.21.5)\n",
      "Note: you may need to restart the kernel to use updated packages.\n"
     ]
    }
   ],
   "source": [
    "pip install numpy"
   ]
  },
  {
   "cell_type": "code",
   "execution_count": 3,
   "id": "7f813123-0520-4075-9cc4-bb244dfb874c",
   "metadata": {},
   "outputs": [
    {
     "name": "stdout",
     "output_type": "stream",
     "text": [
      "Requirement already satisfied: matplotlib in /Users/jorgeroa/opt/anaconda3/lib/python3.9/site-packages (3.5.1)\n",
      "Requirement already satisfied: kiwisolver>=1.0.1 in /Users/jorgeroa/opt/anaconda3/lib/python3.9/site-packages (from matplotlib) (1.3.2)\n",
      "Requirement already satisfied: fonttools>=4.22.0 in /Users/jorgeroa/opt/anaconda3/lib/python3.9/site-packages (from matplotlib) (4.25.0)\n",
      "Requirement already satisfied: pillow>=6.2.0 in /Users/jorgeroa/opt/anaconda3/lib/python3.9/site-packages (from matplotlib) (9.0.1)\n",
      "Requirement already satisfied: pyparsing>=2.2.1 in /Users/jorgeroa/opt/anaconda3/lib/python3.9/site-packages (from matplotlib) (3.0.4)\n",
      "Requirement already satisfied: packaging>=20.0 in /Users/jorgeroa/opt/anaconda3/lib/python3.9/site-packages (from matplotlib) (21.3)\n",
      "Requirement already satisfied: cycler>=0.10 in /Users/jorgeroa/opt/anaconda3/lib/python3.9/site-packages (from matplotlib) (0.11.0)\n",
      "Requirement already satisfied: python-dateutil>=2.7 in /Users/jorgeroa/opt/anaconda3/lib/python3.9/site-packages (from matplotlib) (2.8.2)\n",
      "Requirement already satisfied: numpy>=1.17 in /Users/jorgeroa/opt/anaconda3/lib/python3.9/site-packages (from matplotlib) (1.21.5)\n",
      "Requirement already satisfied: six>=1.5 in /Users/jorgeroa/opt/anaconda3/lib/python3.9/site-packages (from python-dateutil>=2.7->matplotlib) (1.16.0)\n",
      "Note: you may need to restart the kernel to use updated packages.\n"
     ]
    }
   ],
   "source": [
    "pip install matplotlib"
   ]
  },
  {
   "cell_type": "code",
   "execution_count": 1,
   "id": "3db9ea9c-826f-4b22-8cf5-d9d101a23027",
   "metadata": {},
   "outputs": [],
   "source": [
    "import pandas as pd\n",
    "import numpy as np\n",
    "import matplotlib.pyplot as plt"
   ]
  },
  {
   "cell_type": "code",
   "execution_count": 33,
   "id": "d86e3f13-a850-4219-9928-fd378532139a",
   "metadata": {},
   "outputs": [],
   "source": [
    "df_pmx_08_15 = pd.read_csv(\"data-raw/prueba.csv\", low_memory=False)\n",
    "\n",
    "#ducto\n",
    "#municipio"
   ]
  },
  {
   "cell_type": "code",
   "execution_count": 54,
   "id": "b37c81d7-d228-4188-a0e2-388fddf85bf5",
   "metadata": {},
   "outputs": [],
   "source": [
    "df_1 = pd.DataFrame(df_pmx_08_15)"
   ]
  },
  {
   "cell_type": "code",
   "execution_count": 78,
   "id": "6da800a9-55e1-47e0-8a32-a2f39e3fc108",
   "metadata": {},
   "outputs": [
    {
     "name": "stdout",
     "output_type": "stream",
     "text": [
      "\u001b[31mERROR: Could not find a version that satisfies the requirement QTableView (from versions: none)\u001b[0m\n",
      "\u001b[31mERROR: No matching distribution found for QTableView\u001b[0m\n",
      "Note: you may need to restart the kernel to use updated packages.\n"
     ]
    }
   ],
   "source": [
    "pip install QTableView"
   ]
  },
  {
   "cell_type": "code",
   "execution_count": 68,
   "id": "552d289a-3e8d-4436-a049-91c8ab9fc9d4",
   "metadata": {},
   "outputs": [
    {
     "name": "stdout",
     "output_type": "stream",
     "text": [
      "Collecting display\n",
      "  Downloading display-1.0.0.tar.gz (687 bytes)\n",
      "Building wheels for collected packages: display\n",
      "  Building wheel for display (setup.py) ... \u001b[?25ldone\n",
      "\u001b[?25h  Created wheel for display: filename=display-1.0.0-py3-none-any.whl size=1405 sha256=637f5cceeb4a1baf0980ee38ac44a191b9b873c9c04a776023461d5e8431b864\n",
      "  Stored in directory: /Users/jorgeroa/Library/Caches/pip/wheels/b3/45/b2/c40be70bc2856c345453aafc8ad480489e0b05222447531987\n",
      "Successfully built display\n",
      "Installing collected packages: display\n",
      "Successfully installed display-1.0.0\n",
      "Note: you may need to restart the kernel to use updated packages.\n"
     ]
    }
   ],
   "source": [
    "pip install display"
   ]
  },
  {
   "cell_type": "code",
   "execution_count": 69,
   "id": "9d3ce6d9-57f3-47f3-be68-65555915989a",
   "metadata": {},
   "outputs": [],
   "source": [
    "from IPython.display import display, HTML"
   ]
  },
  {
   "cell_type": "code",
   "execution_count": 72,
   "id": "b5075bf7-f601-4608-ab0c-eceb34f477e9",
   "metadata": {},
   "outputs": [
    {
     "ename": "SyntaxError",
     "evalue": "invalid syntax (1939551164.py, line 1)",
     "output_type": "error",
     "traceback": [
      "\u001b[0;36m  Input \u001b[0;32mIn [72]\u001b[0;36m\u001b[0m\n\u001b[0;31m    print df_pmx_08_15.to_html()\u001b[0m\n\u001b[0m          ^\u001b[0m\n\u001b[0;31mSyntaxError\u001b[0m\u001b[0;31m:\u001b[0m invalid syntax\n"
     ]
    }
   ],
   "source": [
    "print df_pmx_08_15.to_html()"
   ]
  },
  {
   "cell_type": "code",
   "execution_count": 73,
   "id": "a03d9b56-84f7-4739-b5da-302ee43f8776",
   "metadata": {},
   "outputs": [
    {
     "name": "stdout",
     "output_type": "stream",
     "text": [
      "<class 'pandas.core.frame.DataFrame'>\n",
      "RangeIndex: 20894 entries, 0 to 20893\n",
      "Data columns (total 2 columns):\n",
      " #   Column   Non-Null Count  Dtype \n",
      "---  ------   --------------  ----- \n",
      " 0   num_mes  20894 non-null  int64 \n",
      " 1   ducto    20894 non-null  object\n",
      "dtypes: int64(1), object(1)\n",
      "memory usage: 326.6+ KB\n"
     ]
    }
   ],
   "source": [
    "df_pmx_08_15.info()"
   ]
  },
  {
   "cell_type": "code",
   "execution_count": 74,
   "id": "7c7526db-17ae-4299-a8ad-dc494ab0ed7a",
   "metadata": {},
   "outputs": [
    {
     "name": "stdout",
     "output_type": "stream",
     "text": [
      "<class 'pandas.core.frame.DataFrame'>\n",
      "RangeIndex: 20000 entries, 0 to 19999\n",
      "Data columns (total 12 columns):\n",
      " #   Column      Non-Null Count  Dtype  \n",
      "---  ------      --------------  -----  \n",
      " 0   x           20000 non-null  float64\n",
      " 1   y           20000 non-null  float64\n",
      " 2   category    20000 non-null  object \n",
      " 3   category1   20000 non-null  object \n",
      " 4   category2   20000 non-null  object \n",
      " 5   category3   20000 non-null  object \n",
      " 6   category45  20000 non-null  object \n",
      " 7   category5   20000 non-null  object \n",
      " 8   categ5ory   20000 non-null  object \n",
      " 9   catego5ry   20000 non-null  object \n",
      " 10  categor5y   20000 non-null  object \n",
      " 11  cate5gory   20000 non-null  object \n",
      "dtypes: float64(2), object(10)\n",
      "memory usage: 1.8+ MB\n"
     ]
    }
   ],
   "source": [
    "df.info()"
   ]
  },
  {
   "cell_type": "code",
   "execution_count": 14,
   "id": "558c901e-215c-44bc-9e5a-859d6f402e2a",
   "metadata": {},
   "outputs": [],
   "source": [
    "df_pmx_08_15 = df_pmx_08_15[[\"num_mes\", \"num_evento\"]]\n"
   ]
  },
  {
   "cell_type": "code",
   "execution_count": 65,
   "id": "a5ff024f-3e35-4baa-8997-8b7367be8146",
   "metadata": {},
   "outputs": [
    {
     "name": "stdout",
     "output_type": "stream",
     "text": [
      "Requirement already satisfied: pandas in /Users/jorgeroa/opt/anaconda3/lib/python3.9/site-packages (1.4.2)\n",
      "Requirement already satisfied: numpy in /Users/jorgeroa/opt/anaconda3/lib/python3.9/site-packages (1.21.5)\n",
      "Requirement already satisfied: python-dateutil>=2.8.1 in /Users/jorgeroa/opt/anaconda3/lib/python3.9/site-packages (from pandas) (2.8.2)\n",
      "Requirement already satisfied: pytz>=2020.1 in /Users/jorgeroa/opt/anaconda3/lib/python3.9/site-packages (from pandas) (2021.3)\n",
      "Requirement already satisfied: six>=1.5 in /Users/jorgeroa/opt/anaconda3/lib/python3.9/site-packages (from python-dateutil>=2.8.1->pandas) (1.16.0)\n",
      "Note: you may need to restart the kernel to use updated packages.\n"
     ]
    }
   ],
   "source": [
    "pip install pandas numpy"
   ]
  },
  {
   "cell_type": "code",
   "execution_count": 46,
   "id": "a9cb0fa2-89d0-44be-82c4-700e69036cb3",
   "metadata": {},
   "outputs": [],
   "source": [
    "df = pd.DataFrame({\"x\":np.random.rand(20000), \n",
    "                   \"y\":np.random.rand(20000),\n",
    "                   \"category\": np.random.choice(list(\"ABCD\"), size=20000),\n",
    "                  \"category1\": np.random.choice(list(\"ABCD\"), size=20000),\n",
    "                  \"category2\": np.random.choice(list(\"ABCD\"), size=20000),\n",
    "                  \"category3\": np.random.choice(list(\"ABCD\"), size=20000),\n",
    "                  \"category45\": np.random.choice(list(\"ABCD\"), size=20000),\n",
    "                  \"category5\": np.random.choice(list(\"ABCD\"), size=20000),\n",
    "                  \"category5\": np.random.choice(list(\"ABCD\"), size=20000),\n",
    "                  \"categ5ory\": np.random.choice(list(\"ABCD\"), size=20000),\n",
    "                  \"catego5ry\": np.random.choice(list(\"ABCD\"), size=20000),\n",
    "                  \"categor5y\": np.random.choice(list(\"ABCD\"), size=20000),\n",
    "                  \"cate5gory\": np.random.choice(list(\"ABCD\"), size=20000),\n",
    "                  \"catego5ry\": np.random.choice(list(\"ABCD\"), size=20000)})"
   ]
  },
  {
   "cell_type": "code",
   "execution_count": 22,
   "id": "c4ca9a8d-9eba-4ef6-8f8a-6f5194e9e432",
   "metadata": {},
   "outputs": [
    {
     "data": {
      "text/plain": [
       "pandas.core.frame.DataFrame"
      ]
     },
     "execution_count": 22,
     "metadata": {},
     "output_type": "execute_result"
    }
   ],
   "source": [
    "type(df_pmx_08_15)"
   ]
  },
  {
   "cell_type": "code",
   "execution_count": 33,
   "id": "4182472c-1c48-4ec0-be53-4bd48a9e074f",
   "metadata": {},
   "outputs": [],
   "source": [
    "import qgrid\n",
    "\n",
    "q = qgrid.show_grid(df_pmx_08_15)\n",
    "\n"
   ]
  },
  {
   "cell_type": "code",
   "execution_count": 37,
   "id": "82374b9e-079d-4609-81eb-73f409efd18b",
   "metadata": {},
   "outputs": [],
   "source": [
    "from itables import show"
   ]
  },
  {
   "cell_type": "code",
   "execution_count": 42,
   "id": "1b5833ec-8944-4315-a9e7-c907874c775b",
   "metadata": {},
   "outputs": [
    {
     "data": {
      "text/html": [
       "<div>\n",
       "<style scoped>\n",
       "    .dataframe tbody tr th:only-of-type {\n",
       "        vertical-align: middle;\n",
       "    }\n",
       "\n",
       "    .dataframe tbody tr th {\n",
       "        vertical-align: top;\n",
       "    }\n",
       "\n",
       "    .dataframe thead th {\n",
       "        text-align: right;\n",
       "    }\n",
       "</style>\n",
       "<table border=\"1\" class=\"dataframe\">\n",
       "  <thead>\n",
       "    <tr style=\"text-align: right;\">\n",
       "      <th></th>\n",
       "      <th>OID</th>\n",
       "      <th>fid_</th>\n",
       "      <th>objectid</th>\n",
       "      <th>num_evento</th>\n",
       "      <th>num_mes</th>\n",
       "      <th>km_sect</th>\n",
       "      <th>km_pre</th>\n",
       "      <th>fecha</th>\n",
       "      <th>ducto</th>\n",
       "      <th>estado</th>\n",
       "      <th>...</th>\n",
       "      <th>tipo</th>\n",
       "      <th>perforada_</th>\n",
       "      <th>trm_duc</th>\n",
       "      <th>a</th>\n",
       "      <th>zona</th>\n",
       "      <th>zona_e</th>\n",
       "      <th>anio</th>\n",
       "      <th>no_sistema</th>\n",
       "      <th>diferencia</th>\n",
       "      <th>timestamp_</th>\n",
       "    </tr>\n",
       "  </thead>\n",
       "  <tbody>\n",
       "    <tr>\n",
       "      <th>0</th>\n",
       "      <td>0</td>\n",
       "      <td>0</td>\n",
       "      <td>1</td>\n",
       "      <td>TC-15-4417</td>\n",
       "      <td>50</td>\n",
       "      <td>180+183</td>\n",
       "      <td>Sin datos</td>\n",
       "      <td>2015-10-04</td>\n",
       "      <td>Poliducto Poza Rica- Venta de Carpio-Azcapotza...</td>\n",
       "      <td>México</td>\n",
       "      <td>...</td>\n",
       "      <td>Sin datos</td>\n",
       "      <td>Sin datos</td>\n",
       "      <td>0</td>\n",
       "      <td>Sin datos</td>\n",
       "      <td>Sin datos</td>\n",
       "      <td>Sin datos</td>\n",
       "      <td>0</td>\n",
       "      <td>Sin datos</td>\n",
       "      <td>Sin datos</td>\n",
       "      <td>Sin datos</td>\n",
       "    </tr>\n",
       "    <tr>\n",
       "      <th>1</th>\n",
       "      <td>1</td>\n",
       "      <td>0</td>\n",
       "      <td>2</td>\n",
       "      <td>TC-15-4344</td>\n",
       "      <td>495</td>\n",
       "      <td>440+261</td>\n",
       "      <td>Sin datos</td>\n",
       "      <td>2015-09-29</td>\n",
       "      <td>Poliducto Minatitlán-México 12-20-14\"</td>\n",
       "      <td>Puebla</td>\n",
       "      <td>...</td>\n",
       "      <td>Sin datos</td>\n",
       "      <td>Sin datos</td>\n",
       "      <td>0</td>\n",
       "      <td>Sin datos</td>\n",
       "      <td>Sin datos</td>\n",
       "      <td>Sin datos</td>\n",
       "      <td>0</td>\n",
       "      <td>Sin datos</td>\n",
       "      <td>Sin datos</td>\n",
       "      <td>Sin datos</td>\n",
       "    </tr>\n",
       "    <tr>\n",
       "      <th>2</th>\n",
       "      <td>2</td>\n",
       "      <td>0</td>\n",
       "      <td>3</td>\n",
       "      <td>TC-15-5469</td>\n",
       "      <td>15</td>\n",
       "      <td>371+688.3</td>\n",
       "      <td>Sin datos</td>\n",
       "      <td>2015-12-01</td>\n",
       "      <td>Poliducto Minatitlán-México 12-20-14\"</td>\n",
       "      <td>Puebla</td>\n",
       "      <td>...</td>\n",
       "      <td>Sin datos</td>\n",
       "      <td>Sin datos</td>\n",
       "      <td>0</td>\n",
       "      <td>Sin datos</td>\n",
       "      <td>Sin datos</td>\n",
       "      <td>Sin datos</td>\n",
       "      <td>0</td>\n",
       "      <td>Sin datos</td>\n",
       "      <td>Sin datos</td>\n",
       "      <td>Sin datos</td>\n",
       "    </tr>\n",
       "    <tr>\n",
       "      <th>3</th>\n",
       "      <td>3</td>\n",
       "      <td>0</td>\n",
       "      <td>4</td>\n",
       "      <td>TC-15-2922</td>\n",
       "      <td>42</td>\n",
       "      <td>360+000</td>\n",
       "      <td>Sin datos</td>\n",
       "      <td>2015-07-03</td>\n",
       "      <td>Poliducto Minatitlán-México 12-20-14\"</td>\n",
       "      <td>Puebla</td>\n",
       "      <td>...</td>\n",
       "      <td>Sin datos</td>\n",
       "      <td>Sin datos</td>\n",
       "      <td>0</td>\n",
       "      <td>Sin datos</td>\n",
       "      <td>Sin datos</td>\n",
       "      <td>Sin datos</td>\n",
       "      <td>0</td>\n",
       "      <td>Sin datos</td>\n",
       "      <td>Sin datos</td>\n",
       "      <td>Sin datos</td>\n",
       "    </tr>\n",
       "    <tr>\n",
       "      <th>...</th>\n",
       "      <td>...</td>\n",
       "      <td>...</td>\n",
       "      <td>...</td>\n",
       "      <td>...</td>\n",
       "      <td>...</td>\n",
       "      <td>...</td>\n",
       "      <td>...</td>\n",
       "      <td>...</td>\n",
       "      <td>...</td>\n",
       "      <td>...</td>\n",
       "      <td>...</td>\n",
       "      <td>...</td>\n",
       "      <td>...</td>\n",
       "      <td>...</td>\n",
       "      <td>...</td>\n",
       "      <td>...</td>\n",
       "      <td>...</td>\n",
       "      <td>...</td>\n",
       "      <td>...</td>\n",
       "      <td>...</td>\n",
       "      <td>...</td>\n",
       "    </tr>\n",
       "    <tr>\n",
       "      <th>20890</th>\n",
       "      <td>20890</td>\n",
       "      <td>0</td>\n",
       "      <td>20891</td>\n",
       "      <td>Sin datos</td>\n",
       "      <td>0</td>\n",
       "      <td>Sin datos</td>\n",
       "      <td>Sin datos</td>\n",
       "      <td>2015-07-26</td>\n",
       "      <td>PLD 16 BARRA NTE TUXPAN-CAB POZA RICA</td>\n",
       "      <td>Veracruz</td>\n",
       "      <td>...</td>\n",
       "      <td>PERMANENTE</td>\n",
       "      <td>Perforada</td>\n",
       "      <td>633</td>\n",
       "      <td>Sin datos</td>\n",
       "      <td>Sin datos</td>\n",
       "      <td>Sin datos</td>\n",
       "      <td>2015</td>\n",
       "      <td>DUC-TR-PLD-RD633</td>\n",
       "      <td>Sin datos</td>\n",
       "      <td>26/07/2015</td>\n",
       "    </tr>\n",
       "    <tr>\n",
       "      <th>20891</th>\n",
       "      <td>20891</td>\n",
       "      <td>0</td>\n",
       "      <td>20892</td>\n",
       "      <td>Sin datos</td>\n",
       "      <td>0</td>\n",
       "      <td>Sin datos</td>\n",
       "      <td>Sin datos</td>\n",
       "      <td>2015-07-25</td>\n",
       "      <td>PLD 10 TAR ROSARITO-TAR ENSENADA</td>\n",
       "      <td>Baja California</td>\n",
       "      <td>...</td>\n",
       "      <td>PROVISIONAL</td>\n",
       "      <td>Perforada</td>\n",
       "      <td>682</td>\n",
       "      <td>Sin datos</td>\n",
       "      <td>Sin datos</td>\n",
       "      <td>Sin datos</td>\n",
       "      <td>2015</td>\n",
       "      <td>DUC-TR-PLD-RD682</td>\n",
       "      <td>Sin datos</td>\n",
       "      <td>25/07/2015</td>\n",
       "    </tr>\n",
       "    <tr>\n",
       "      <th>20892</th>\n",
       "      <td>20892</td>\n",
       "      <td>0</td>\n",
       "      <td>20893</td>\n",
       "      <td>Sin datos</td>\n",
       "      <td>0</td>\n",
       "      <td>Sin datos</td>\n",
       "      <td>Sin datos</td>\n",
       "      <td>2015-07-20</td>\n",
       "      <td>PLD 16 REF MINATITLAN-REF SALINA CR(BID)</td>\n",
       "      <td>Oaxaca</td>\n",
       "      <td>...</td>\n",
       "      <td>PERMANENTE</td>\n",
       "      <td>Perforada</td>\n",
       "      <td>606</td>\n",
       "      <td>Sin datos</td>\n",
       "      <td>Sin datos</td>\n",
       "      <td>Sin datos</td>\n",
       "      <td>2015</td>\n",
       "      <td>DUC-TR-PLD-RD606</td>\n",
       "      <td>Sin datos</td>\n",
       "      <td>20/07/2015</td>\n",
       "    </tr>\n",
       "    <tr>\n",
       "      <th>20893</th>\n",
       "      <td>20893</td>\n",
       "      <td>0</td>\n",
       "      <td>20894</td>\n",
       "      <td>Sin datos</td>\n",
       "      <td>0</td>\n",
       "      <td>Sin datos</td>\n",
       "      <td>Sin datos</td>\n",
       "      <td>2015-07-27</td>\n",
       "      <td>PLD 10 TAR TOPOLOBAMPO-TAR CULIACAN</td>\n",
       "      <td>Sinaloa</td>\n",
       "      <td>...</td>\n",
       "      <td>PERMANENTE</td>\n",
       "      <td>Perforada</td>\n",
       "      <td>689</td>\n",
       "      <td>Sin datos</td>\n",
       "      <td>Sin datos</td>\n",
       "      <td>Sin datos</td>\n",
       "      <td>2015</td>\n",
       "      <td>DUC-TR-PLD-RD689</td>\n",
       "      <td>Sin datos</td>\n",
       "      <td>27/07/2015</td>\n",
       "    </tr>\n",
       "  </tbody>\n",
       "</table>\n",
       "<p>20894 rows × 36 columns</p>\n",
       "</div>"
      ],
      "text/plain": [
       "         OID  fid_  objectid  num_evento  num_mes    km_sect     km_pre  \\\n",
       "0          0     0         1  TC-15-4417       50    180+183  Sin datos   \n",
       "1          1     0         2  TC-15-4344      495    440+261  Sin datos   \n",
       "2          2     0         3  TC-15-5469       15  371+688.3  Sin datos   \n",
       "3          3     0         4  TC-15-2922       42    360+000  Sin datos   \n",
       "...      ...   ...       ...         ...      ...        ...        ...   \n",
       "20890  20890     0     20891   Sin datos        0  Sin datos  Sin datos   \n",
       "20891  20891     0     20892   Sin datos        0  Sin datos  Sin datos   \n",
       "20892  20892     0     20893   Sin datos        0  Sin datos  Sin datos   \n",
       "20893  20893     0     20894   Sin datos        0  Sin datos  Sin datos   \n",
       "\n",
       "           fecha                                              ducto  \\\n",
       "0     2015-10-04  Poliducto Poza Rica- Venta de Carpio-Azcapotza...   \n",
       "1     2015-09-29              Poliducto Minatitlán-México 12-20-14\"   \n",
       "2     2015-12-01              Poliducto Minatitlán-México 12-20-14\"   \n",
       "3     2015-07-03              Poliducto Minatitlán-México 12-20-14\"   \n",
       "...          ...                                                ...   \n",
       "20890 2015-07-26              PLD 16 BARRA NTE TUXPAN-CAB POZA RICA   \n",
       "20891 2015-07-25                   PLD 10 TAR ROSARITO-TAR ENSENADA   \n",
       "20892 2015-07-20           PLD 16 REF MINATITLAN-REF SALINA CR(BID)   \n",
       "20893 2015-07-27                PLD 10 TAR TOPOLOBAMPO-TAR CULIACAN   \n",
       "\n",
       "                estado  ...         tipo perforada_ trm_duc          a  \\\n",
       "0               México  ...    Sin datos  Sin datos       0  Sin datos   \n",
       "1               Puebla  ...    Sin datos  Sin datos       0  Sin datos   \n",
       "2               Puebla  ...    Sin datos  Sin datos       0  Sin datos   \n",
       "3               Puebla  ...    Sin datos  Sin datos       0  Sin datos   \n",
       "...                ...  ...          ...        ...     ...        ...   \n",
       "20890         Veracruz  ...   PERMANENTE  Perforada     633  Sin datos   \n",
       "20891  Baja California  ...  PROVISIONAL  Perforada     682  Sin datos   \n",
       "20892           Oaxaca  ...   PERMANENTE  Perforada     606  Sin datos   \n",
       "20893          Sinaloa  ...   PERMANENTE  Perforada     689  Sin datos   \n",
       "\n",
       "            zona     zona_e  anio        no_sistema  diferencia  timestamp_  \n",
       "0      Sin datos  Sin datos     0         Sin datos   Sin datos   Sin datos  \n",
       "1      Sin datos  Sin datos     0         Sin datos   Sin datos   Sin datos  \n",
       "2      Sin datos  Sin datos     0         Sin datos   Sin datos   Sin datos  \n",
       "3      Sin datos  Sin datos     0         Sin datos   Sin datos   Sin datos  \n",
       "...          ...        ...   ...               ...         ...         ...  \n",
       "20890  Sin datos  Sin datos  2015  DUC-TR-PLD-RD633   Sin datos  26/07/2015  \n",
       "20891  Sin datos  Sin datos  2015  DUC-TR-PLD-RD682   Sin datos  25/07/2015  \n",
       "20892  Sin datos  Sin datos  2015  DUC-TR-PLD-RD606   Sin datos  20/07/2015  \n",
       "20893  Sin datos  Sin datos  2015  DUC-TR-PLD-RD689   Sin datos  27/07/2015  \n",
       "\n",
       "[20894 rows x 36 columns]"
      ]
     },
     "execution_count": 42,
     "metadata": {},
     "output_type": "execute_result"
    }
   ],
   "source": [
    "df_pmx_08_15"
   ]
  },
  {
   "cell_type": "code",
   "execution_count": 45,
   "id": "3b16ec71-4c79-4da0-9fce-5706128b5c93",
   "metadata": {},
   "outputs": [
    {
     "data": {
      "text/plain": [
       "pandas.core.frame.DataFrame"
      ]
     },
     "execution_count": 45,
     "metadata": {},
     "output_type": "execute_result"
    }
   ],
   "source": [
    "type(df)"
   ]
  },
  {
   "cell_type": "code",
   "execution_count": 40,
   "id": "8c24263d-7bcf-44f3-8692-ea791b681bcd",
   "metadata": {},
   "outputs": [
    {
     "name": "stderr",
     "output_type": "stream",
     "text": [
      "WARNING:itables.downsample:showing 409x20 of 20894x36 as maxColumns=20 and nbytes=6017472>65536=maxBytes. See https://mwouts.github.io/itables/downsampling.html\n"
     ]
    },
    {
     "data": {
      "text/html": [
       "<table id=\"1cc47bc4-39f6-4449-9e82-d68b654b5209\" class=\"display\"style=\"max-width:100%\"><thead>\n",
       "    <tr style=\"text-align: right;\">\n",
       "      <th></th>\n",
       "      <th>OID</th>\n",
       "      <th>fid_</th>\n",
       "      <th>objectid</th>\n",
       "      <th>num_evento</th>\n",
       "      <th>num_mes</th>\n",
       "      <th>km_sect</th>\n",
       "      <th>km_pre</th>\n",
       "      <th>fecha</th>\n",
       "      <th>ducto</th>\n",
       "      <th>estado</th>\n",
       "      <th>tipo</th>\n",
       "      <th>perforada_</th>\n",
       "      <th>trm_duc</th>\n",
       "      <th>a</th>\n",
       "      <th>zona</th>\n",
       "      <th>zona_e</th>\n",
       "      <th>anio</th>\n",
       "      <th>no_sistema</th>\n",
       "      <th>diferencia</th>\n",
       "      <th>timestamp_</th>\n",
       "    </tr>\n",
       "  </thead><tbody><tr><td>Loading... (need <a href=https://mwouts.github.io/itables/troubleshooting.html>help</a>?)</td></tr></tbody></table>\n",
       "<style>\n",
       "table td {\n",
       "    text-overflow: ellipsis;\n",
       "    overflow: hidden;\n",
       "}\n",
       "\n",
       "table th {\n",
       "    text-overflow: ellipsis;\n",
       "    overflow: hidden;\n",
       "}\n",
       "\n",
       "thead input {\n",
       "    width: 100%;\n",
       "    padding: 3px;\n",
       "    box-sizing: border-box;\n",
       "}\n",
       "\n",
       "tfoot input {\n",
       "    width: 100%;\n",
       "    padding: 3px;\n",
       "    box-sizing: border-box;\n",
       "}\n",
       "\n",
       "</style>\n",
       "<link rel=\"stylesheet\" type=\"text/css\" href=\"https://cdn.datatables.net/1.12.1/css/jquery.dataTables.min.css\">\n",
       "<script type=\"module\">\n",
       "    // Import jquery and DataTable\n",
       "    import 'https://code.jquery.com/jquery-3.6.0.min.js';\n",
       "    import dt from 'https://cdn.datatables.net/1.12.1/js/jquery.dataTables.mjs';\n",
       "    dt($);\n",
       "\n",
       "    // Define the table data\n",
       "    const data = [[0, 0, 0, 1, \"TC-15-4417\", 50, \"180+183\", \"Sin datos\", \"2015-10-04\", \"Poliducto Poza Rica- Venta de Carpio-Azcapotzalco- 18\\\"-16\\\"\", \"M\\u00e9xico\", \"Sin datos\", \"Sin datos\", 0, \"Sin datos\", \"Sin datos\", \"Sin datos\", 0, \"Sin datos\", \"Sin datos\", \"Sin datos\"], [1, 1, 0, 2, \"TC-15-4344\", 495, \"440+261\", \"Sin datos\", \"2015-09-29\", \"Poliducto Minatitl\\u00e1n-M\\u00e9xico 12-20-14\\\"\", \"Puebla\", \"Sin datos\", \"Sin datos\", 0, \"Sin datos\", \"Sin datos\", \"Sin datos\", 0, \"Sin datos\", \"Sin datos\", \"Sin datos\"], [2, 2, 0, 3, \"TC-15-5469\", 15, \"371+688.3\", \"Sin datos\", \"2015-12-01\", \"Poliducto Minatitl\\u00e1n-M\\u00e9xico 12-20-14\\\"\", \"Puebla\", \"Sin datos\", \"Sin datos\", 0, \"Sin datos\", \"Sin datos\", \"Sin datos\", 0, \"Sin datos\", \"Sin datos\", \"Sin datos\"], [3, 3, 0, 4, \"TC-15-2922\", 42, \"360+000\", \"Sin datos\", \"2015-07-03\", \"Poliducto Minatitl\\u00e1n-M\\u00e9xico 12-20-14\\\"\", \"Puebla\", \"Sin datos\", \"Sin datos\", 0, \"Sin datos\", \"Sin datos\", \"Sin datos\", 0, \"Sin datos\", \"Sin datos\", \"Sin datos\"], [4, 4, 0, 5, \"TC-15-2154\", 176, \"358+400\", \"Sin datos\", \"2015-05-13\", \"Poliducto Minatitl\\u00e1n-M\\u00e9xico 12-20-14\\\"\", \"Puebla\", \"Sin datos\", \"Sin datos\", 0, \"Sin datos\", \"Sin datos\", \"Sin datos\", 0, \"Sin datos\", \"Sin datos\", \"Sin datos\"], [5, 5, 0, 6, \"TC-15-5860\", 406, \"030+701\", \"Sin datos\", \"2015-12-29\", \"Poliducto Salamanca-V.Alegre-Zacatecas 10\\\"-12\\\"\", \"Guanajuato\", \"Sin datos\", \"Sin datos\", 0, \"Sin datos\", \"Sin datos\", \"Sin datos\", 0, \"Sin datos\", \"Sin datos\", \"Sin datos\"], [6, 6, 0, 7, \"TC-15-3615\", 233, \"060+103.7\", \"Sin datos\", \"2015-08-15\", \"Poliducto Salamanca-Le\\u00f3n 8\\\"\", \"Guanajuato\", \"Sin datos\", \"Sin datos\", 0, \"Sin datos\", \"Sin datos\", \"Sin datos\", 0, \"Sin datos\", \"Sin datos\", \"Sin datos\"], [7, 7, 0, 8, \"TC-15-3687\", 305, \"029+061\", \"Sin datos\", \"2015-08-20\", \"Poliducto Salamanca-Le\\u00f3n 8\\\"\", \"Guanajuato\", \"Sin datos\", \"Sin datos\", 0, \"Sin datos\", \"Sin datos\", \"Sin datos\", 0, \"Sin datos\", \"Sin datos\", \"Sin datos\"], [8, 8, 0, 9, \"TC-15-3307\", 427, \"031+008\", \"Sin datos\", \"2015-07-28\", \"Poliducto Salamanca-Le\\u00f3n 8\\\"\", \"Guanajuato\", \"Sin datos\", \"Sin datos\", 0, \"Sin datos\", \"Sin datos\", \"Sin datos\", 0, \"Sin datos\", \"Sin datos\", \"Sin datos\"], [9, 9, 0, 10, \"TC-15-656\", 138, \"200+730.3\", \"Sin datos\", \"2015-02-09\", \"Poliducto Topolobampo-Culiac\\u00e1n 10\\\"\", \"Sinaloa\", \"Sin datos\", \"Sin datos\", 0, \"Sin datos\", \"Sin datos\", \"Sin datos\", 0, \"Sin datos\", \"Sin datos\", \"Sin datos\"], [10, 10, 0, 11, \"TC-15-5065\", 199, \"036+980\", \"Sin datos\", \"2015-11-10\", \"Poliducto Salamanca-V.Alegre-Zacatecas 10\\\"-12\\\"\", \"Guanajuato\", \"Sin datos\", \"Sin datos\", 0, \"Sin datos\", \"Sin datos\", \"Sin datos\", 0, \"Sin datos\", \"Sin datos\", \"Sin datos\"], [11, 11, 0, 12, \"TC-15-285\", 285, \"116+690.5\", \"Sin datos\", \"2015-01-19\", \"Poliducto Sat\\u00e9lite-Monclova-Sabinas 10\\\"\", \"Nuevo Le\\u00f3n\", \"Sin datos\", \"Sin datos\", 0, \"Sin datos\", \"Sin datos\", \"Sin datos\", 0, \"Sin datos\", \"Sin datos\", \"Sin datos\"], [12, 12, 0, 13, \"TC-15-3983\", 134, \"015+578.8\", \"Sin datos\", \"2015-09-09\", \"Poliducto Salamanca-Morelia 10\\\"\", \"Guanajuato\", \"Sin datos\", \"Sin datos\", 0, \"Sin datos\", \"Sin datos\", \"Sin datos\", 0, \"Sin datos\", \"Sin datos\", \"Sin datos\"], [13, 13, 0, 14, \"TC-15-4066\", 217, \"159+663\", \"Sin datos\", \"2015-09-14\", \"Poliducto Poza Rica- Venta de Carpio-Azcapotzalco- 18\\\"-16\\\"\", \"Hidalgo\", \"Sin datos\", \"Sin datos\", 0, \"Sin datos\", \"Sin datos\", \"Sin datos\", 0, \"Sin datos\", \"Sin datos\", \"Sin datos\"], [14, 14, 0, 15, \"TC-15-4692\", 325, \"225+001\", \"Sin datos\", \"2015-10-20\", \"Poliducto Cadereyta-Matamoros-Brownsville 12\\\"-10\\\"\", \"Tamaulipas\", \"Sin datos\", \"Sin datos\", 0, \"Sin datos\", \"Sin datos\", \"Sin datos\", 0, \"Sin datos\", \"Sin datos\", \"Sin datos\"], [15, 15, 0, 16, \"TC-15-1006\", 488, \"172+339.56\", \"Sin datos\", \"2015-02-28\", \"Poliducto Madero-Cadereyta 12\\\"-10\\\"\", \"Tamaulipas\", \"Sin datos\", \"Sin datos\", 0, \"Sin datos\", \"Sin datos\", \"Sin datos\", 0, \"Sin datos\", \"Sin datos\", \"Sin datos\"], [16, 16, 0, 17, \"TC-15-1373\", 365, \"026+795\", \"Sin datos\", \"2015-03-24\", \"Poliducto Madero-Cadereyta 12\\\"-10\\\"\", \"Tamaulipas\", \"Sin datos\", \"Sin datos\", 0, \"Sin datos\", \"Sin datos\", \"Sin datos\", 0, \"Sin datos\", \"Sin datos\", \"Sin datos\"], [17, 17, 0, 18, \"TC-15-2544\", 104, \"053+800.5\", \"Sin datos\", \"2015-06-09\", \"Poliducto Madero-Cadereyta 12\\\"-10\\\"\", \"Tamaulipas\", \"Sin datos\", \"Sin datos\", 0, \"Sin datos\", \"Sin datos\", \"Sin datos\", 0, \"Sin datos\", \"Sin datos\", \"Sin datos\"], [18, 18, 0, 19, \"TC-15-1768\", 292, \"016+006\", \"Sin datos\", \"2015-04-20\", \"Poliducto Madero-Cadereyta 12\\\"-10\\\"\", \"Tamaulipas\", \"Sin datos\", \"Sin datos\", 0, \"Sin datos\", \"Sin datos\", \"Sin datos\", 0, \"Sin datos\", \"Sin datos\", \"Sin datos\"], [19, 19, 0, 20, \"TC-15-5091\", 225, \"237+770.27\", \"Sin datos\", \"2015-11-12\", \"Poliducto Madero-Cadereyta 12\\\"-10\\\"\", \"Tamaulipas\", \"Sin datos\", \"Sin datos\", 0, \"Sin datos\", \"Sin datos\", \"Sin datos\", 0, \"Sin datos\", \"Sin datos\", \"Sin datos\"], [20, 20, 0, 21, \"TC-15-4367\", 518, \"545+247\", \"Sin datos\", \"2015-09-30\", \"Poliducto Minatitl\\u00e1n-M\\u00e9xico 12-20-14\\\"\", \"M\\u00e9xico\", \"Sin datos\", \"Sin datos\", 0, \"Sin datos\", \"Sin datos\", \"Sin datos\", 0, \"Sin datos\", \"Sin datos\", \"Sin datos\"], [21, 21, 0, 22, \"TC-15-2516\", 76, \"517+500\", \"Sin datos\", \"2015-06-07\", \"Poliducto Minatitl\\u00e1n-M\\u00e9xico 12-20-14\\\"\", \"Tlaxcala\", \"Sin datos\", \"Sin datos\", 0, \"Sin datos\", \"Sin datos\", \"Sin datos\", 0, \"Sin datos\", \"Sin datos\", \"Sin datos\"], [22, 22, 0, 23, \"TC-15-2898\", 18, \"402+966\", \"Sin datos\", \"2015-07-02\", \"Poliducto Minatitl\\u00e1n-M\\u00e9xico 12-20-14\\\"\", \"Puebla\", \"Sin datos\", \"Sin datos\", 0, \"Sin datos\", \"Sin datos\", \"Sin datos\", 0, \"Sin datos\", \"Sin datos\", \"Sin datos\"], [23, 23, 0, 24, \"TC-15-3664\", 282, \"407+936\", \"Sin datos\", \"2015-08-19\", \"Poliducto Minatitl\\u00e1n-M\\u00e9xico 12-20-14\\\"\", \"Puebla\", \"Sin datos\", \"Sin datos\", 0, \"Sin datos\", \"Sin datos\", \"Sin datos\", 0, \"Sin datos\", \"Sin datos\", \"Sin datos\"], [24, 24, 0, 25, \"TC-15-632\", 114, \"421+000\", \"Sin datos\", \"2015-02-07\", \"Poliducto Minatitl\\u00e1n-M\\u00e9xico 12-20-14\\\"\", \"Puebla\", \"Sin datos\", \"Sin datos\", 0, \"Sin datos\", \"Sin datos\", \"Sin datos\", 0, \"Sin datos\", \"Sin datos\", \"Sin datos\"], [25, 25, 0, 26, \"TC-15-261\", 261, \"249+740\", \"Sin datos\", \"2015-01-17\", \"Poliducto Salamanca-Guadalajara 16\\\"\", \"Jalisco\", \"Sin datos\", \"Sin datos\", 0, \"Sin datos\", \"Sin datos\", \"Sin datos\", 0, \"Sin datos\", \"Sin datos\", \"Sin datos\"], [26, 26, 0, 27, \"TC-15-5886\", 432, \"250+961.75\", \"Sin datos\", \"2015-12-30\", \"Poliducto Salamanca-Guadalajara 16\\\"\", \"Jalisco\", \"Sin datos\", \"Sin datos\", 0, \"Sin datos\", \"Sin datos\", \"Sin datos\", 0, \"Sin datos\", \"Sin datos\", \"Sin datos\"], [27, 27, 0, 28, \"TC-15-2126\", 148, \"289+127\", \"Sin datos\", \"2015-05-11\", \"Poliducto Salamanca-Guadalajara 16\\\"\", \"Jalisco\", \"Sin datos\", \"Sin datos\", 0, \"Sin datos\", \"Sin datos\", \"Sin datos\", 0, \"Sin datos\", \"Sin datos\", \"Sin datos\"], [28, 28, 0, 29, \"TC-15-390\", 390, \"184+362\", \"Sin datos\", \"2015-01-24\", \"Poliducto Topolobampo-Culiac\\u00e1n 10\\\"\", \"Sinaloa\", \"Sin datos\", \"Sin datos\", 0, \"Sin datos\", \"Sin datos\", \"Sin datos\", 0, \"Sin datos\", \"Sin datos\", \"Sin datos\"], [29, 29, 0, 30, \"TC-15-026\", 26, \"166+900\", \"Sin datos\", \"2015-01-03\", \"Poliducto Topolobampo-Culiac\\u00e1n 10\\\"\", \"Sinaloa\", \"Sin datos\", \"Sin datos\", 0, \"Sin datos\", \"Sin datos\", \"Sin datos\", 0, \"Sin datos\", \"Sin datos\", \"Sin datos\"], [30, 30, 0, 31, \"TC-15-983\", 465, \"201+077\", \"Sin datos\", \"2015-02-27\", \"Poliducto Tula-Toluca 16\\\"\", \"M\\u00e9xico\", \"Sin datos\", \"Sin datos\", 0, \"Sin datos\", \"Sin datos\", \"Sin datos\", 0, \"Sin datos\", \"Sin datos\", \"Sin datos\"], [31, 31, 0, 32, \"TC-15-1743\", 267, \"032+620\", \"Sin datos\", \"2015-04-18\", \"Poliducto Salamanca-Morelia 10\\\"\", \"Guanajuato\", \"Sin datos\", \"Sin datos\", 0, \"Sin datos\", \"Sin datos\", \"Sin datos\", 0, \"Sin datos\", \"Sin datos\", \"Sin datos\"], [32, 32, 0, 33, \"TC-15-757\", 239, \"215+449.4\", \"Sin datos\", \"2015-02-13\", \"Poliducto Salamanca-Guadalajara 16\\\"\", \"Jalisco\", \"Sin datos\", \"Sin datos\", 0, \"Sin datos\", \"Sin datos\", \"Sin datos\", 0, \"Sin datos\", \"Sin datos\", \"Sin datos\"], [33, 33, 0, 34, \"TC-15-3280\", 400, \"007+530\", \"Sin datos\", \"2015-07-27\", \"Poliducto Cadereyta-Matamoros-Brownsville 12\\\"-10\\\"\", \"Tamaulipas\", \"Sin datos\", \"Sin datos\", 0, \"Sin datos\", \"Sin datos\", \"Sin datos\", 0, \"Sin datos\", \"Sin datos\", \"Sin datos\"], [34, 34, 0, 35, \"TC-15-5500\", 46, \"047+907\", \"Sin datos\", \"2015-12-03\", \"Oleoducto Nuevo Teapa-Madero-Cadereyta 24\\\"\", \"Tamaulipas\", \"Sin datos\", \"Sin datos\", 0, \"Sin datos\", \"Sin datos\", \"Sin datos\", 0, \"Sin datos\", \"Sin datos\", \"Sin datos\"], [35, 35, 0, 36, \"TC-15-4715\", 348, \"083+637.8\", \"Sin datos\", \"2015-10-21\", \"Poliducto Rosarito-Mexicali 10\\\"-8\\\"\", \"Baja California\", \"Sin datos\", \"Sin datos\", 0, \"Sin datos\", \"Sin datos\", \"Sin datos\", 0, \"Sin datos\", \"Sin datos\", \"Sin datos\"], [36, 36, 0, 37, \"TC-15-1348\", 340, \"206+944\", \"Sin datos\", \"2015-03-23\", \"Poliducto Topolobampo-Culiac\\u00e1n 10\\\"\", \"Sinaloa\", \"Sin datos\", \"Sin datos\", 0, \"Sin datos\", \"Sin datos\", \"Sin datos\", 0, \"Sin datos\", \"Sin datos\", \"Sin datos\"], [37, 37, 0, 38, \"TC-15-1512\", 36, \"523+735.601\", \"Sin datos\", \"2015-04-02\", \"Poliducto Minatitl\\u00e1n-M\\u00e9xico 12-20-14\\\"\", \"M\\u00e9xico\", \"Sin datos\", \"Sin datos\", 0, \"Sin datos\", \"Sin datos\", \"Sin datos\", 0, \"Sin datos\", \"Sin datos\", \"Sin datos\"], [38, 38, 0, 39, \"TC-15-604\", 86, \"186+960\", \"Sin datos\", \"2015-02-05\", \"Poliducto Poza Rica- Venta de Carpio-Azcapotzalco- 18\\\"-16\\\"\", \"M\\u00e9xico\", \"Sin datos\", \"Sin datos\", 0, \"Sin datos\", \"Sin datos\", \"Sin datos\", 0, \"Sin datos\", \"Sin datos\", \"Sin datos\"], [39, 39, 0, 40, \"TC-15-2018\", 40, \"549+927\", \"Sin datos\", \"2015-05-04\", \"Poliducto Minatitl\\u00e1n-M\\u00e9xico 12-20-14\\\"\", \"M\\u00e9xico\", \"Sin datos\", \"Sin datos\", 0, \"Sin datos\", \"Sin datos\", \"Sin datos\", 0, \"Sin datos\", \"Sin datos\", \"Sin datos\"], [40, 40, 0, 41, \"TC-15-3934\", 85, \"511+430\", \"Sin datos\", \"2015-09-06\", \"Poliducto Minatitl\\u00e1n-M\\u00e9xico 12-20-14\\\"\", \"Tlaxcala\", \"Sin datos\", \"Sin datos\", 0, \"Sin datos\", \"Sin datos\", \"Sin datos\", 0, \"Sin datos\", \"Sin datos\", \"Sin datos\"], [41, 41, 0, 42, \"TC-15-1324\", 316, \"420+650\", \"Sin datos\", \"2015-03-21\", \"Poliducto Minatitl\\u00e1n-M\\u00e9xico 12-20-14\\\"\", \"Puebla\", \"Sin datos\", \"Sin datos\", 0, \"Sin datos\", \"Sin datos\", \"Sin datos\", 0, \"Sin datos\", \"Sin datos\", \"Sin datos\"], [42, 42, 0, 43, \"TC-15-3173\", 293, \"015+579\", \"Sin datos\", \"2015-07-20\", \"Poliducto Salamanca-Morelia 10\\\"\", \"Guanajuato\", \"Sin datos\", \"Sin datos\", 0, \"Sin datos\", \"Sin datos\", \"Sin datos\", 0, \"Sin datos\", \"Sin datos\", \"Sin datos\"], [43, 43, 0, 44, \"TC-15-051\", 51, \"108+000\", \"Sin datos\", \"2015-01-05\", \"Poliducto Tula-Salamanca 16\\\"\", \"Quer\\u00e9taro\", \"Sin datos\", \"Sin datos\", 0, \"Sin datos\", \"Sin datos\", \"Sin datos\", 0, \"Sin datos\", \"Sin datos\", \"Sin datos\"], [44, 44, 0, 45, \"TC-15-2101\", 123, \"062+390\", \"Sin datos\", \"2015-05-09\", \"Poliducto Salamanca-Morelia 10\\\"\", \"Michoac\\u00e1n\", \"Sin datos\", \"Sin datos\", 0, \"Sin datos\", \"Sin datos\", \"Sin datos\", 0, \"Sin datos\", \"Sin datos\", \"Sin datos\"], [45, 45, 0, 46, \"TC-15-2402\", 424, \"216+709.1\", \"Sin datos\", \"2015-05-28\", \"Poliducto Salamanca-Guadalajara 16\\\"\", \"Jalisco\", \"Sin datos\", \"Sin datos\", 0, \"Sin datos\", \"Sin datos\", \"Sin datos\", 0, \"Sin datos\", \"Sin datos\", \"Sin datos\"], [46, 46, 0, 47, \"TC-15-2793\", 353, \"054+417\", \"Sin datos\", \"2015-06-26\", \"Poliducto Salamanca-Le\\u00f3n 8\\\"\", \"Guanajuato\", \"Sin datos\", \"Sin datos\", 0, \"Sin datos\", \"Sin datos\", \"Sin datos\", 0, \"Sin datos\", \"Sin datos\", \"Sin datos\"], [47, 47, 0, 48, \"TC-15-5809\", 355, \"042+670.6\", \"Sin datos\", \"2015-12-23\", \"Poliducto Guaymas-Obreg\\u00f3n 12\\\"\", \"Sonora\", \"Sin datos\", \"Sin datos\", 0, \"Sin datos\", \"Sin datos\", \"Sin datos\", 0, \"Sin datos\", \"Sin datos\", \"Sin datos\"], [48, 48, 0, 49, \"TC-15-4643\", 276, \"111+870\", \"Sin datos\", \"2015-10-16\", \"Poliducto Topolobampo-Culiac\\u00e1n 10\\\"\", \"Sinaloa\", \"Sin datos\", \"Sin datos\", 0, \"Sin datos\", \"Sin datos\", \"Sin datos\", 0, \"Sin datos\", \"Sin datos\", \"Sin datos\"], [49, 49, 0, 50, \"TC-15-5014\", 148, \"011+120\", \"Sin datos\", \"2015-11-07\", \"Poliducto Salamanca-Guadalajara 16\\\"\", \"Guanajuato\", \"Sin datos\", \"Sin datos\", 0, \"Sin datos\", \"Sin datos\", \"Sin datos\", 0, \"Sin datos\", \"Sin datos\", \"Sin datos\"], [50, 50, 0, 51, \"TC-15-236\", 236, \"222+285\", \"Sin datos\", \"2015-01-15\", \"Poliducto Tula-Salamanca 12\\\"-14\\\"-12\\\"\", \"Guanajuato\", \"Sin datos\", \"Sin datos\", 0, \"Sin datos\", \"Sin datos\", \"Sin datos\", 0, \"Sin datos\", \"Sin datos\", \"Sin datos\"], [51, 51, 0, 52, \"TC-15-5409\", 543, \"021+823\", \"Sin datos\", \"2015-11-27\", \"Poliducto Madero-Cadereyta 12\\\"-10\\\"\", \"Tamaulipas\", \"Sin datos\", \"Sin datos\", 0, \"Sin datos\", \"Sin datos\", \"Sin datos\", 0, \"Sin datos\", \"Sin datos\", \"Sin datos\"], [52, 52, 0, 53, \"TC-15-2486\", 46, \"057+808\", \"Sin datos\", \"2015-06-04\", \"Poliducto Madero-Cadereyta 12\\\"-10\\\"\", \"Tamaulipas\", \"Sin datos\", \"Sin datos\", 0, \"Sin datos\", \"Sin datos\", \"Sin datos\", 0, \"Sin datos\", \"Sin datos\", \"Sin datos\"], [53, 53, 0, 54, \"TC-15-782\", 264, \"096+732\", \"Sin datos\", \"2015-02-15\", \"Poliducto Minatitl\\u00e1n-Villahermosa 12\\\"\", \"Tabasco\", \"Sin datos\", \"Sin datos\", 0, \"Sin datos\", \"Sin datos\", \"Sin datos\", 0, \"Sin datos\", \"Sin datos\", \"Sin datos\"], [54, 54, 0, 55, \"TC-15-4295\", 446, \"088+204\", \"Sin datos\", \"2015-09-26\", \"Poliducto Rosarito-Mexicali 10\\\"-8\\\"\", \"Baja California\", \"Sin datos\", \"Sin datos\", 0, \"Sin datos\", \"Sin datos\", \"Sin datos\", 0, \"Sin datos\", \"Sin datos\", \"Sin datos\"], [55, 55, 0, 56, \"TC-15-1129\", 121, \"202+973\", \"Sin datos\", \"2015-03-06\", \"Poliducto Topolobampo-Culiac\\u00e1n 10\\\"\", \"Sinaloa\", \"Sin datos\", \"Sin datos\", 0, \"Sin datos\", \"Sin datos\", \"Sin datos\", 0, \"Sin datos\", \"Sin datos\", \"Sin datos\"], [56, 56, 0, 57, \"TC-15-1634\", 158, \"199+055\", \"Sin datos\", \"2015-04-10\", \"Poliducto Topolobampo-Culiac\\u00e1n 10\\\"\", \"Sinaloa\", \"Sin datos\", \"Sin datos\", 0, \"Sin datos\", \"Sin datos\", \"Sin datos\", 0, \"Sin datos\", \"Sin datos\", \"Sin datos\"], [57, 57, 0, 58, \"TC-15-1716\", 240, \"372+633\", \"Sin datos\", \"2015-04-16\", \"Poliducto Minatitl\\u00e1n-M\\u00e9xico 12-20-14\\\"\", \"Puebla\", \"Sin datos\", \"Sin datos\", 0, \"Sin datos\", \"Sin datos\", \"Sin datos\", 0, \"Sin datos\", \"Sin datos\", \"Sin datos\"], [58, 58, 0, 59, \"TC-15-2869\", 429, \"377+485\", \"Sin datos\", \"2015-06-30\", \"Poliducto Minatitl\\u00e1n-M\\u00e9xico 12-20-14\\\"\", \"Puebla\", \"Sin datos\", \"Sin datos\", 0, \"Sin datos\", \"Sin datos\", \"Sin datos\", 0, \"Sin datos\", \"Sin datos\", \"Sin datos\"], [59, 59, 0, 60, \"TC-15-960\", 442, \"258+220\", \"Sin datos\", \"2015-02-26\", \"Poliducto Minatitl\\u00e1n-M\\u00e9xico 12-20-14\\\"\", \"Veracruz\", \"Sin datos\", \"Sin datos\", 0, \"Sin datos\", \"Sin datos\", \"Sin datos\", 0, \"Sin datos\", \"Sin datos\", \"Sin datos\"], [60, 60, 0, 61, \"TC-15-3566\", 184, \"126+374\", \"Sin datos\", \"2015-08-12\", \"Poliducto Poza Rica- Venta de Carpio-Azcapotzalco- 18\\\"-16\\\"\", \"Hidalgo\", \"Sin datos\", \"Sin datos\", 0, \"Sin datos\", \"Sin datos\", \"Sin datos\", 0, \"Sin datos\", \"Sin datos\", \"Sin datos\"], [61, 61, 0, 62, \"TC-15-421\", 421, \"020+090\", \"Sin datos\", \"2015-01-26\", \"Poliducto Madero-Cadereyta 12\\\"-10\\\"\", \"Tamaulipas\", \"Sin datos\", \"Sin datos\", 0, \"Sin datos\", \"Sin datos\", \"Sin datos\", 0, \"Sin datos\", \"Sin datos\", \"Sin datos\"], [62, 62, 0, 63, \"TC-15-3197\", 317, \"537+668\", \"Sin datos\", \"2015-07-21\", \"Oleoducto Nuevo Teapa-Tula-Salamanca 30\\\"-24\\\"-20\\\"\", \"Tlaxcala\", \"Sin datos\", \"Sin datos\", 0, \"Sin datos\", \"Sin datos\", \"Sin datos\", 0, \"Sin datos\", \"Sin datos\", \"Sin datos\"], [63, 63, 0, 64, \"TC-15-2429\", 451, \"184+461\", \"Sin datos\", \"2015-05-30\", \"Poliducto Poza Rica- Venta de Carpio-Azcapotzalco- 18\\\"-16\\\"\", \"M\\u00e9xico\", \"Sin datos\", \"Sin datos\", 0, \"Sin datos\", \"Sin datos\", \"Sin datos\", 0, \"Sin datos\", \"Sin datos\", \"Sin datos\"], [64, 64, 0, 65, \"TC-15-1543\", 67, \"387+750.3\", \"Sin datos\", \"2015-04-05\", \"Poliducto Minatitl\\u00e1n-M\\u00e9xico 12-20-14\\\"\", \"Puebla\", \"Sin datos\", \"Sin datos\", 0, \"Sin datos\", \"Sin datos\", \"Sin datos\", 0, \"Sin datos\", \"Sin datos\", \"Sin datos\"], [65, 65, 0, 66, \"TC-15-4319\", 470, \"376+876\", \"Sin datos\", \"2015-09-28\", \"Poliducto Minatitl\\u00e1n-M\\u00e9xico 12-20-14\\\"\", \"Puebla\", \"Sin datos\", \"Sin datos\", 0, \"Sin datos\", \"Sin datos\", \"Sin datos\", 0, \"Sin datos\", \"Sin datos\", \"Sin datos\"], [66, 66, 0, 67, \"TC-15-935\", 417, \"229+997.9\", \"Sin datos\", \"2015-02-24\", \"Poliducto Cadereyta-Matamoros-Brownsville 12\\\"-10\\\"\", \"Tamaulipas\", \"Sin datos\", \"Sin datos\", 0, \"Sin datos\", \"Sin datos\", \"Sin datos\", 0, \"Sin datos\", \"Sin datos\", \"Sin datos\"], [67, 67, 0, 68, \"TC-15-2314\", 336, \"201+378.4\", \"Sin datos\", \"2015-05-23\", \"Poliducto Salamanca-Guadalajara 16\\\"\", \"Jalisco\", \"Sin datos\", \"Sin datos\", 0, \"Sin datos\", \"Sin datos\", \"Sin datos\", 0, \"Sin datos\", \"Sin datos\", \"Sin datos\"], [68, 68, 0, 69, \"TC-15-1153\", 145, \"182+990\", \"Sin datos\", \"2015-03-08\", \"Poliducto Salamanca-Guadalajara 16\\\"\", \"Jalisco\", \"Sin datos\", \"Sin datos\", 0, \"Sin datos\", \"Sin datos\", \"Sin datos\", 0, \"Sin datos\", \"Sin datos\", \"Sin datos\"], [69, 69, 0, 70, \"TC-15-5442\", 576, \"015+583\", \"Sin datos\", \"2015-11-30\", \"Poliducto Salamanca-Morelia 10\\\"\", \"Guanajuato\", \"Sin datos\", \"Sin datos\", 0, \"Sin datos\", \"Sin datos\", \"Sin datos\", 0, \"Sin datos\", \"Sin datos\", \"Sin datos\"], [70, 70, 0, 71, \"TC-15-3591\", 209, \"083+095\", \"Sin datos\", \"2015-08-13\", \"Poliducto Salamanca-Guadalajara 16\\\"\", \"Guanajuato\", \"Sin datos\", \"Sin datos\", 0, \"Sin datos\", \"Sin datos\", \"Sin datos\", 0, \"Sin datos\", \"Sin datos\", \"Sin datos\"], [71, 71, 0, 72, \"TC-15-5834\", 380, \"030+685\", \"Sin datos\", \"2015-12-26\", \"Poliducto Salamanca-V.Alegre-Zacatecas 10\\\"-12\\\"\", \"Guanajuato\", \"Sin datos\", \"Sin datos\", 0, \"Sin datos\", \"Sin datos\", \"Sin datos\", 0, \"Sin datos\", \"Sin datos\", \"Sin datos\"], [72, 72, 0, 73, \"TC-15-5041\", 175, \"029+089.7\", \"Sin datos\", \"2015-11-09\", \"Poliducto Salamanca-Le\\u00f3n 8\\\"\", \"Guanajuato\", \"Sin datos\", \"Sin datos\", 0, \"Sin datos\", \"Sin datos\", \"Sin datos\", 0, \"Sin datos\", \"Sin datos\", \"Sin datos\"], [73, 73, 0, 74, \"TC-15-3959\", 110, \"115+259\", \"Sin datos\", \"2015-09-08\", \"Poliducto Minatitl\\u00e1n-Villahermosa 12\\\"\", \"Tabasco\", \"Sin datos\", \"Sin datos\", 0, \"Sin datos\", \"Sin datos\", \"Sin datos\", 0, \"Sin datos\", \"Sin datos\", \"Sin datos\"], [74, 74, 0, 75, \"TC-15-805\", 287, \"117+990\", \"Sin datos\", \"2015-02-17\", \"Oleoducto Nuevo Teapa-Tula-Salamanca 30\\\"-24\\\"-20\\\"\", \"Veracruz\", \"Sin datos\", \"Sin datos\", 0, \"Sin datos\", \"Sin datos\", \"Sin datos\", 0, \"Sin datos\", \"Sin datos\", \"Sin datos\"], [75, 75, 0, 76, \"TC-15-575\", 57, \"199+325\", \"Sin datos\", \"2015-02-04\", \"Poliducto Topolobampo-Culiac\\u00e1n 10\\\"\", \"Sinaloa\", \"Sin datos\", \"Sin datos\", 0, \"Sin datos\", \"Sin datos\", \"Sin datos\", 0, \"Sin datos\", \"Sin datos\", \"Sin datos\"], [76, 76, 0, 77, \"TC-15-1935\", 459, \"430+487.89\", \"Sin datos\", \"2015-04-29\", \"Poliducto G\\u00f3mez Palacio - Chihuahua 10\\\"\", \"Chihuahua\", \"Sin datos\", \"Sin datos\", 0, \"Sin datos\", \"Sin datos\", \"Sin datos\", 0, \"Sin datos\", \"Sin datos\", \"Sin datos\"], [77, 77, 0, 78, \"TC-15-2817\", 377, \"088+540\", \"Sin datos\", \"2015-06-27\", \"Poliducto Salamanca-Le\\u00f3n 8\\\"\", \"Guanajuato\", \"Sin datos\", \"Sin datos\", 0, \"Sin datos\", \"Sin datos\", \"Sin datos\", 0, \"Sin datos\", \"Sin datos\", \"Sin datos\"], [78, 78, 0, 79, \"TC-15-1296\", 288, \"047+300\", \"Sin datos\", \"2015-03-19\", \"Poliducto Madero-Cadereyta 12\\\"-10\\\"\", \"Tamaulipas\", \"Sin datos\", \"Sin datos\", 0, \"Sin datos\", \"Sin datos\", \"Sin datos\", 0, \"Sin datos\", \"Sin datos\", \"Sin datos\"], [79, 79, 0, 80, \"TC-15-077\", 77, \"057+826\", \"Sin datos\", \"2015-01-06\", \"Poliducto Madero-Cadereyta 12\\\"-10\\\"\", \"Tamaulipas\", \"Sin datos\", \"Sin datos\", 0, \"Sin datos\", \"Sin datos\", \"Sin datos\", 0, \"Sin datos\", \"Sin datos\", \"Sin datos\"], [80, 80, 0, 81, \"TC-15-1689\", 213, \"057+817\", \"Sin datos\", \"2015-04-15\", \"Poliducto Madero-Cadereyta 12\\\"-10\\\"\", \"Tamaulipas\", \"Sin datos\", \"Sin datos\", 0, \"Sin datos\", \"Sin datos\", \"Sin datos\", 0, \"Sin datos\", \"Sin datos\", \"Sin datos\"], [81, 81, 0, 82, \"TC-15-4667\", 300, \"087+861\", \"Sin datos\", \"2015-10-19\", \"Oleoducto Nuevo Teapa-Madero-Cadereyta 24\\\"\", \"Tamaulipas\", \"Sin datos\", \"Sin datos\", 0, \"Sin datos\", \"Sin datos\", \"Sin datos\", 0, \"Sin datos\", \"Sin datos\", \"Sin datos\"], [82, 82, 0, 83, \"TC-15-444\", 444, \"088+839.5\", \"Sin datos\", \"2015-01-27\", \"Oleoducto Nuevo Teapa-Madero-Cadereyta 24\\\"\", \"Tamaulipas\", \"Sin datos\", \"Sin datos\", 0, \"Sin datos\", \"Sin datos\", \"Sin datos\", 0, \"Sin datos\", \"Sin datos\", \"Sin datos\"], [83, 83, 0, 84, \"TC-15-211\", 211, \"070+563.3\", \"Sin datos\", \"2015-01-14\", \"Poliducto Minatitl\\u00e1n-Villahermosa 12\\\"\", \"Tabasco\", \"Sin datos\", \"Sin datos\", 0, \"Sin datos\", \"Sin datos\", \"Sin datos\", 0, \"Sin datos\", \"Sin datos\", \"Sin datos\"], [84, 84, 0, 85, \"TC-15-4885\", 19, \"185+274\", \"Sin datos\", \"2015-11-02\", \"Poliducto Poza Rica- Venta de Carpio-Azcapotzalco- 18\\\"-16\\\"\", \"M\\u00e9xico\", \"Sin datos\", \"Sin datos\", 0, \"Sin datos\", \"Sin datos\", \"Sin datos\", 0, \"Sin datos\", \"Sin datos\", \"Sin datos\"], [85, 85, 0, 86, \"TC-15-2344\", 366, \"514+623\", \"Sin datos\", \"2015-05-25\", \"Poliducto Minatitl\\u00e1n-M\\u00e9xico 12-20-14\\\"\", \"Tlaxcala\", \"Sin datos\", \"Sin datos\", 0, \"Sin datos\", \"Sin datos\", \"Sin datos\", 0, \"Sin datos\", \"Sin datos\", \"Sin datos\"], [86, 86, 0, 87, \"TC-15-5663\", 209, \"440+037\", \"Sin datos\", \"2015-12-11\", \"Poliducto Minatitl\\u00e1n-M\\u00e9xico 12-20-14\\\"\", \"Puebla\", \"Sin datos\", \"Sin datos\", 0, \"Sin datos\", \"Sin datos\", \"Sin datos\", 0, \"Sin datos\", \"Sin datos\", \"Sin datos\"], [87, 87, 0, 88, \"TC-15-5757\", 303, \"347+516\", \"Sin datos\", \"2015-12-18\", \"Poliducto Minatitl\\u00e1n-M\\u00e9xico 12-20-14\\\"\", \"Puebla\", \"Sin datos\", \"Sin datos\", 0, \"Sin datos\", \"Sin datos\", \"Sin datos\", 0, \"Sin datos\", \"Sin datos\", \"Sin datos\"], [88, 88, 0, 89, \"TC-15-4878\", 12, \"413+130\", \"Sin datos\", \"2015-11-02\", \"Poliducto Minatitl\\u00e1n-M\\u00e9xico 12-20-14\\\"\", \"Puebla\", \"Sin datos\", \"Sin datos\", 0, \"Sin datos\", \"Sin datos\", \"Sin datos\", 0, \"Sin datos\", \"Sin datos\", \"Sin datos\"], [89, 89, 0, 90, \"TC-15-1567\", 91, \"247+300\", \"Sin datos\", \"2015-04-07\", \"Poliducto Minatitl\\u00e1n-M\\u00e9xico 12-20-14\\\"\", \"Veracruz\", \"Sin datos\", \"Sin datos\", 0, \"Sin datos\", \"Sin datos\", \"Sin datos\", 0, \"Sin datos\", \"Sin datos\", \"Sin datos\"], [90, 90, 0, 91, \"TC-15-3108\", 228, \"107+999.6\", \"Sin datos\", \"2015-07-15\", \"Poliducto Tula-Salamanca 16\\\"\", \"Quer\\u00e9taro\", \"Sin datos\", \"Sin datos\", 0, \"Sin datos\", \"Sin datos\", \"Sin datos\", 0, \"Sin datos\", \"Sin datos\", \"Sin datos\"], [91, 91, 0, 92, \"TC-15-2655\", 215, \"082+507\", \"Sin datos\", \"2015-06-16\", \"Poliducto Salamanca-Guadalajara 16\\\"\", \"Guanajuato\", \"Sin datos\", \"Sin datos\", 0, \"Sin datos\", \"Sin datos\", \"Sin datos\", 0, \"Sin datos\", \"Sin datos\", \"Sin datos\"], [92, 92, 0, 93, \"TC-15-5670\", 216, \"031+504\", \"Sin datos\", \"2015-12-12\", \"Poliducto Salamanca-V.Alegre-Zacatecas 10\\\"-12\\\"\", \"Guanajuato\", \"Sin datos\", \"Sin datos\", 0, \"Sin datos\", \"Sin datos\", \"Sin datos\", 0, \"Sin datos\", \"Sin datos\", \"Sin datos\"], [93, 93, 0, 94, \"TC-15-4957\", 91, \"267+214\", \"Sin datos\", \"2015-11-05\", \"Poliducto Salamanca-Guadalajara 16\\\"\", \"Jalisco\", \"Sin datos\", \"Sin datos\", 0, \"Sin datos\", \"Sin datos\", \"Sin datos\", 0, \"Sin datos\", \"Sin datos\", \"Sin datos\"], [94, 94, 0, 95, \"TC-15-551\", 33, \"080+322\", \"Sin datos\", \"2015-02-03\", \"Poliducto Minatitl\\u00e1n-Villahermosa 12\\\"\", \"Tabasco\", \"Sin datos\", \"Sin datos\", 0, \"Sin datos\", \"Sin datos\", \"Sin datos\", 0, \"Sin datos\", \"Sin datos\", \"Sin datos\"], [95, 95, 0, 96, \"TC-15-831\", 313, \"201+630\", \"Sin datos\", \"2015-02-18\", \"Poliducto Topolobampo-Culiac\\u00e1n 10\\\"\", \"Sinaloa\", \"Sin datos\", \"Sin datos\", 0, \"Sin datos\", \"Sin datos\", \"Sin datos\", 0, \"Sin datos\", \"Sin datos\", \"Sin datos\"], [96, 96, 0, 97, \"TC-15-101\", 101, \"216+061\", \"Sin datos\", \"2015-01-08\", \"Poliducto Topolobampo-Culiac\\u00e1n 10\\\"\", \"Sinaloa\", \"Sin datos\", \"Sin datos\", 0, \"Sin datos\", \"Sin datos\", \"Sin datos\", 0, \"Sin datos\", \"Sin datos\", \"Sin datos\"], [97, 97, 0, 98, \"TC-15-1182\", 174, \"041+292\", \"Sin datos\", \"2015-03-10\", \"Poliducto Cadereyta-Sat\\u00e9lite Nuevo Le\\u00f3n 18\\\"\", \"Nuevo Le\\u00f3n\", \"Sin datos\", \"Sin datos\", 0, \"Sin datos\", \"Sin datos\", \"Sin datos\", 0, \"Sin datos\", \"Sin datos\", \"Sin datos\"], [98, 98, 0, 99, \"TC-15-4244\", 395, \"047+172\", \"Sin datos\", \"2015-09-23\", \"Poliducto  A\\u00c3\\u00b1il Cuernavaca 8\\\" - 6\\\"\", \"Morelos\", \"Sin datos\", \"Sin datos\", 0, \"Sin datos\", \"Sin datos\", \"Sin datos\", 0, \"Sin datos\", \"Sin datos\", \"Sin datos\"], [99, 99, 0, 100, \"TC-15-4161\", 312, \"281+897.4\", \"Sin datos\", \"2015-09-20\", \"Poliducto Minatitl\\u00e1n-M\\u00e9xico 12-20-14\\\"\", \"Veracruz\", \"Sin datos\", \"Sin datos\", 0, \"Sin datos\", \"Sin datos\", \"Sin datos\", 0, \"Sin datos\", \"Sin datos\", \"Sin datos\"], [100, 100, 0, 101, \"TC-15-3507\", 125, \"175+085.5\", \"Sin datos\", \"2015-08-07\", \"Poliducto Poza Rica- Venta de Carpio-Azcapotzalco- 18\\\"-16\\\"\", \"M\\u00e9xico\", \"Sin datos\", \"Sin datos\", 0, \"Sin datos\", \"Sin datos\", \"Sin datos\", 0, \"Sin datos\", \"Sin datos\", \"Sin datos\"], [101, 101, 0, 102, \"TC-15-1967\", 491, \"208+189.60\", \"Sin datos\", \"2015-04-30\", \"Poliducto Madero-Cadereyta 12\\\"-10\\\"\", \"Tamaulipas\", \"Sin datos\", \"Sin datos\", 0, \"Sin datos\", \"Sin datos\", \"Sin datos\", 0, \"Sin datos\", \"Sin datos\", \"Sin datos\"], [102, 102, 0, 103, \"TC-15-2742\", 302, \"059+869\", \"Sin datos\", \"2015-06-23\", \"Poliducto Madero-Cadereyta 12\\\"-10\\\"\", \"Tamaulipas\", \"Sin datos\", \"Sin datos\", 0, \"Sin datos\", \"Sin datos\", \"Sin datos\", 0, \"Sin datos\", \"Sin datos\", \"Sin datos\"], [103, 103, 0, 104, \"TC-15-3421\", 39, \"060+319\", \"Sin datos\", \"2015-08-04\", \"Poliducto Madero-Cadereyta 12\\\"-10\\\"\", \"Tamaulipas\", \"Sin datos\", \"Sin datos\", 0, \"Sin datos\", \"Sin datos\", \"Sin datos\", 0, \"Sin datos\", \"Sin datos\", \"Sin datos\"], [104, 104, 0, 105, \"TC-15-473\", 473, \"087+219\", \"Sin datos\", \"2015-01-29\", \"Poliducto Minatitl\\u00e1n-Villahermosa 12\\\"\", \"Tabasco\", \"Sin datos\", \"Sin datos\", 0, \"Sin datos\", \"Sin datos\", \"Sin datos\", 0, \"Sin datos\", \"Sin datos\", \"Sin datos\"], [105, 105, 0, 106, \"TC-15-3897\", 48, \"191+070.35\", \"Sin datos\", \"2015-09-03\", \"Poliducto Poza Rica- Venta de Carpio-Azcapotzalco- 18\\\"-16\\\"\", \"M\\u00e9xico\", \"Sin datos\", \"Sin datos\", 0, \"Sin datos\", \"Sin datos\", \"Sin datos\", 0, \"Sin datos\", \"Sin datos\", \"Sin datos\"], [106, 106, 0, 107, \"TC-15-1851\", 375, \"392+495\", \"Sin datos\", \"2015-04-24\", \"Poliducto Minatitl\\u00e1n-M\\u00e9xico 12-20-14\\\"\", \"Puebla\", \"Sin datos\", \"Sin datos\", 0, \"Sin datos\", \"Sin datos\", \"Sin datos\", 0, \"Sin datos\", \"Sin datos\", \"Sin datos\"], [107, 107, 0, 108, \"TC-15-5645\", 191, \"417+847\", \"Sin datos\", \"2015-12-10\", \"Poliducto Minatitl\\u00e1n-M\\u00e9xico 12-20-14\\\"\", \"Puebla\", \"Sin datos\", \"Sin datos\", 0, \"Sin datos\", \"Sin datos\", \"Sin datos\", 0, \"Sin datos\", \"Sin datos\", \"Sin datos\"], [108, 108, 0, 109, \"TC-15-4138\", 289, \"153+369\", \"Sin datos\", \"2015-09-18\", \"Poliducto Poza Rica- Venta de Carpio-Azcapotzalco- 18\\\"-16\\\"\", \"Hidalgo\", \"Sin datos\", \"Sin datos\", 0, \"Sin datos\", \"Sin datos\", \"Sin datos\", 0, \"Sin datos\", \"Sin datos\", \"Sin datos\"], [109, 109, 0, 110, \"TC-15-4271\", 422, \"161+413\", \"Sin datos\", \"2015-09-24\", \"Poliducto CAB Poza Rica-Cima de Togo-Tula 14\\\"\", \"Hidalgo\", \"Sin datos\", \"Sin datos\", 0, \"Sin datos\", \"Sin datos\", \"Sin datos\", 0, \"Sin datos\", \"Sin datos\", \"Sin datos\"], [110, 110, 0, 111, \"TC-15-4984\", 118, \"249+692\", \"Sin datos\", \"2015-11-06\", \"Poliducto Salamanca-Guadalajara 16\\\"\", \"Jalisco\", \"Sin datos\", \"Sin datos\", 0, \"Sin datos\", \"Sin datos\", \"Sin datos\", 0, \"Sin datos\", \"Sin datos\", \"Sin datos\"], [111, 111, 0, 112, \"TC-15-1990\", 12, \"025+627\", \"Sin datos\", \"2015-05-02\", \"Poliducto Salamanca-Guadalajara 16\\\"\", \"Guanajuato\", \"Sin datos\", \"Sin datos\", 0, \"Sin datos\", \"Sin datos\", \"Sin datos\", 0, \"Sin datos\", \"Sin datos\", \"Sin datos\"], [112, 112, 0, 113, \"TC-15-5781\", 327, \"012+547\", \"Sin datos\", \"2015-12-21\", \"Poliducto Salamanca-Le\\u00f3n 8\\\"\", \"Guanajuato\", \"Sin datos\", \"Sin datos\", 0, \"Sin datos\", \"Sin datos\", \"Sin datos\", 0, \"Sin datos\", \"Sin datos\", \"Sin datos\"], [113, 113, 0, 114, \"TC-15-4860\", 493, \"031+824.5\", \"Sin datos\", \"2015-10-31\", \"Poliducto Salamanca-Le\\u00f3n 8\\\"\", \"Guanajuato\", \"Sin datos\", \"Sin datos\", 0, \"Sin datos\", \"Sin datos\", \"Sin datos\", 0, \"Sin datos\", \"Sin datos\", \"Sin datos\"], [114, 114, 0, 115, \"TC-15-4853\", 486, \"284+200.7\", \"Sin datos\", \"2015-10-30\", \"Poliducto Salamanca-Guadalajara 16\\\"\", \"Jalisco\", \"Sin datos\", \"Sin datos\", 0, \"Sin datos\", \"Sin datos\", \"Sin datos\", 0, \"Sin datos\", \"Sin datos\", \"Sin datos\"], [115, 115, 0, 116, \"TC-15-2767\", 327, \"251+000\", \"Sin datos\", \"2015-06-24\", \"Poliducto Salamanca-Guadalajara 16\\\"\", \"Jalisco\", \"Sin datos\", \"Sin datos\", 0, \"Sin datos\", \"Sin datos\", \"Sin datos\", 0, \"Sin datos\", \"Sin datos\", \"Sin datos\"], [116, 116, 0, 117, \"TC-15-2630\", 190, \"091+209\", \"Sin datos\", \"2015-06-15\", \"Poliducto Rosarito-Mexicali 10\\\"-8\\\"\", \"Baja California\", \"Sin datos\", \"Sin datos\", 0, \"Sin datos\", \"Sin datos\", \"Sin datos\", 0, \"Sin datos\", \"Sin datos\", \"Sin datos\"], [117, 117, 0, 118, \"TC-15-1209\", 201, \"206+199\", \"Sin datos\", \"2015-03-11\", \"Poliducto Topolobampo-Culiac\\u00e1n 10\\\"\", \"Sinaloa\", \"Sin datos\", \"Sin datos\", 0, \"Sin datos\", \"Sin datos\", \"Sin datos\", 0, \"Sin datos\", \"Sin datos\", \"Sin datos\"], [118, 118, 0, 119, \"TC-15-855\", 337, \"069+400\", \"Sin datos\", \"2015-02-19\", \"Poliducto Salamanca-V.Alegre-Zacatecas 10\\\"-12\\\"\", \"Guanajuato\", \"Sin datos\", \"Sin datos\", 0, \"Sin datos\", \"Sin datos\", \"Sin datos\", 0, \"Sin datos\", \"Sin datos\", \"Sin datos\"], [119, 119, 0, 120, \"TC-15-2370\", 392, \"163+353\", \"Sin datos\", \"2015-05-26\", \"Poliducto Quer\\u00e9taro-San Luis 10\\\"\", \"San Luis Potos\\u00ed\", \"Sin datos\", \"Sin datos\", 0, \"Sin datos\", \"Sin datos\", \"Sin datos\", 0, \"Sin datos\", \"Sin datos\", \"Sin datos\"], [120, 120, 0, 121, \"TC-15-4144\", 295, \"097+340\", \"Sin datos\", \"2015-09-18\", \"Poliducto Guaymas-Obreg\\u00f3n 12\\\"\", \"Sonora\", \"Sin datos\", \"Sin datos\", 0, \"Sin datos\", \"Sin datos\", \"Sin datos\", 0, \"Sin datos\", \"Sin datos\", \"Sin datos\"], [121, 121, 0, 122, \"TC-15-5638\", 184, \"227+002.8\", \"Sin datos\", \"2015-12-10\", \"Poliducto Cadereyta-Matamoros-Brownsville 12\\\"-10\\\"\", \"Tamaulipas\", \"Sin datos\", \"Sin datos\", 0, \"Sin datos\", \"Sin datos\", \"Sin datos\", 0, \"Sin datos\", \"Sin datos\", \"Sin datos\"], [122, 122, 0, 123, \"TC-15-3393\", 11, \"212+190.2\", \"Sin datos\", \"2015-08-02\", \"Poliducto Sat\\u00e9lite-G\\u00f3mez Palacio 10\\\"\", \"Coahuila\", \"Sin datos\", \"Sin datos\", 0, \"Sin datos\", \"Sin datos\", \"Sin datos\", 0, \"Sin datos\", \"Sin datos\", \"Sin datos\"], [123, 123, 0, 124, \"TC-15-129\", 129, \"024+673\", \"Sin datos\", \"2015-01-09\", \"Poliducto Madero-Cadereyta 12\\\"-10\\\"\", \"Tamaulipas\", \"Sin datos\", \"Sin datos\", 0, \"Sin datos\", \"Sin datos\", \"Sin datos\", 0, \"Sin datos\", \"Sin datos\", \"Sin datos\"], [124, 124, 0, 125, \"TC-15-3537\", 155, \"075+467\", \"Sin datos\", \"2015-08-11\", \"Poliducto Madero-Cadereyta 12\\\"-10\\\"\", \"Tamaulipas\", \"Sin datos\", \"Sin datos\", 0, \"Sin datos\", \"Sin datos\", \"Sin datos\", 0, \"Sin datos\", \"Sin datos\", \"Sin datos\"], [125, 125, 0, 126, \"TC-15-1598\", 122, \"075+575\", \"Sin datos\", \"2015-04-09\", \"Oleoducto Nuevo Teapa-Poza Rica-Mad-Cad 30\\\"-24\\\"\", \"Tamaulipas\", \"Sin datos\", \"Sin datos\", 0, \"Sin datos\", \"Sin datos\", \"Sin datos\", 0, \"Sin datos\", \"Sin datos\", \"Sin datos\"], [126, 126, 0, 127, \"TC-15-3135\", 255, \"040+883\", \"Sin datos\", \"2015-07-17\", \"Poliducto Rosarito-Ensenada 10\\\"\", \"Baja California\", \"Sin datos\", \"Sin datos\", 0, \"Sin datos\", \"Sin datos\", \"Sin datos\", 0, \"Sin datos\", \"Sin datos\", \"Sin datos\"], [127, 127, 0, 128, \"TC-15-2692\", 252, \"406+010\", \"Sin datos\", \"2015-06-19\", \"Poliducto Minatitl\\u00e1n-M\\u00e9xico 12-20-14\\\"\", \"Puebla\", \"Sin datos\", \"Sin datos\", 0, \"Sin datos\", \"Sin datos\", \"Sin datos\", 0, \"Sin datos\", \"Sin datos\", \"Sin datos\"], [128, 128, 0, 129, \"TC-15-2602\", 162, \"404+492.3\", \"Sin datos\", \"2015-06-12\", \"Poliducto Minatitl\\u00e1n-M\\u00e9xico 12-20-14\\\"\", \"Puebla\", \"Sin datos\", \"Sin datos\", 0, \"Sin datos\", \"Sin datos\", \"Sin datos\", 0, \"Sin datos\", \"Sin datos\", \"Sin datos\"], [129, 129, 0, 130, \"TC-15-4827\", 460, \"365+708\", \"Sin datos\", \"2015-10-29\", \"Poliducto Minatitl\\u00e1n-M\\u00e9xico 12-20-14\\\"\", \"Puebla\", \"Sin datos\", \"Sin datos\", 0, \"Sin datos\", \"Sin datos\", \"Sin datos\", 0, \"Sin datos\", \"Sin datos\", \"Sin datos\"], [130, 130, 0, 131, \"TC-15-5608\", 154, \"148+091.6\", \"Sin datos\", \"2015-12-09\", \"Poliducto CAB Poza Rica-Cima de Togo-Tula 14\\\"\", \"Hidalgo\", \"Sin datos\", \"Sin datos\", 0, \"Sin datos\", \"Sin datos\", \"Sin datos\", 0, \"Sin datos\", \"Sin datos\", \"Sin datos\"], [131, 131, 0, 132, \"TC-15-1826\", 350, \"178+922\", \"Sin datos\", \"2015-04-23\", \"Poliducto Poza Rica- Venta de Carpio-Azcapotzalco- 18\\\"-16\\\"\", \"M\\u00e9xico\", \"Sin datos\", \"Sin datos\", 0, \"Sin datos\", \"Sin datos\", \"Sin datos\", 0, \"Sin datos\", \"Sin datos\", \"Sin datos\"], [132, 132, 0, 133, \"TC-15-1055\", 47, \"177+250\", \"Sin datos\", \"2015-03-03\", \"Poliducto Poza Rica- Venta de Carpio-Azcapotzalco- 18\\\"-16\\\"\", \"M\\u00e9xico\", \"Sin datos\", \"Sin datos\", 0, \"Sin datos\", \"Sin datos\", \"Sin datos\", 0, \"Sin datos\", \"Sin datos\", \"Sin datos\"], [133, 133, 0, 134, \"TC-15-3167\", 287, \"119+099.7\", \"Sin datos\", \"2015-07-19\", \"Poliducto Salamanca-Guadalajara 16\\\"\", \"Jalisco\", \"Sin datos\", \"Sin datos\", 0, \"Sin datos\", \"Sin datos\", \"Sin datos\", 0, \"Sin datos\", \"Sin datos\", \"Sin datos\"], [134, 134, 0, 135, \"TC-15-3926\", 77, \"084+424\", \"Sin datos\", \"2015-09-06\", \"Poliducto Salamanca-Guadalajara 16\\\"\", \"Guanajuato\", \"Sin datos\", \"Sin datos\", 0, \"Sin datos\", \"Sin datos\", \"Sin datos\", 0, \"Sin datos\", \"Sin datos\", \"Sin datos\"], [135, 135, 0, 136, \"TC-15-5525\", 71, \"023+020\", \"Sin datos\", \"2015-12-04\", \"Poliducto Salamanca-Guadalajara 16\\\"\", \"Guanajuato\", \"Sin datos\", \"Sin datos\", 0, \"Sin datos\", \"Sin datos\", \"Sin datos\", 0, \"Sin datos\", \"Sin datos\", \"Sin datos\"], [136, 136, 0, 137, \"TC-15-1916\", 440, \"077+067\", \"Sin datos\", \"2015-04-27\", \"Poliducto Salamanca-Guadalajara 16\\\"\", \"Guanajuato\", \"Sin datos\", \"Sin datos\", 0, \"Sin datos\", \"Sin datos\", \"Sin datos\", 0, \"Sin datos\", \"Sin datos\", \"Sin datos\"], [137, 137, 0, 138, \"TC-15-878\", 360, \"126+650\", \"Sin datos\", \"2015-02-20\", \"Poliducto Minatitl\\u00e1n-Villahermosa 12\\\"\", \"Tabasco\", \"Sin datos\", \"Sin datos\", 0, \"Sin datos\", \"Sin datos\", \"Sin datos\", 0, \"Sin datos\", \"Sin datos\", \"Sin datos\"], [138, 138, 0, 139, \"TC-15-2396\", 418, \"077+777\", \"Sin datos\", \"2015-05-28\", \"Poliducto Rosarito-Mexicali 10\\\"-8\\\"\", \"Baja California\", \"Sin datos\", \"Sin datos\", 0, \"Sin datos\", \"Sin datos\", \"Sin datos\", 0, \"Sin datos\", \"Sin datos\", \"Sin datos\"], [139, 139, 0, 140, \"TC-15-152\", 152, \"199+323\", \"Sin datos\", \"2015-01-10\", \"Poliducto Topolobampo-Culiac\\u00e1n 10\\\"\", \"Sinaloa\", \"Sin datos\", \"Sin datos\", 0, \"Sin datos\", \"Sin datos\", \"Sin datos\", 0, \"Sin datos\", \"Sin datos\", \"Sin datos\"], [140, 140, 0, 141, \"TC-15-230\", 230, \"180+735\", \"Sin datos\", \"2015-01-15\", \"Poliducto Topolobampo-Culiac\\u00e1n 10\\\"\", \"Sinaloa\", \"Sin datos\", \"Sin datos\", 0, \"Sin datos\", \"Sin datos\", \"Sin datos\", 0, \"Sin datos\", \"Sin datos\", \"Sin datos\"], [141, 141, 0, 142, \"TC-15-427\", 427, \"206+465\", \"Sin datos\", \"2015-01-27\", \"Poliducto Topolobampo-Culiac\\u00e1n 10\\\"\", \"Sinaloa\", \"Sin datos\", \"Sin datos\", 0, \"Sin datos\", \"Sin datos\", \"Sin datos\", 0, \"Sin datos\", \"Sin datos\", \"Sin datos\"], [142, 142, 0, 143, \"TC-15-1135\", 127, \"045+985.5\", \"Sin datos\", \"2015-03-06\", \"Poliducto Sat\\u00e9lite-G\\u00f3mez Palacio 10\\\"\", \"Coahuila\", \"Sin datos\", \"Sin datos\", 0, \"Sin datos\", \"Sin datos\", \"Sin datos\", 0, \"Sin datos\", \"Sin datos\", \"Sin datos\"], [143, 143, 0, 144, \"TC-15-1626\", 150, \"013+225.5\", \"Sin datos\", \"2015-04-10\", \"Poliducto G\\u00f3mez Palacio - Chihuahua 10\\\"\", \"Chihuahua\", \"Sin datos\", \"Sin datos\", 0, \"Sin datos\", \"Sin datos\", \"Sin datos\", 0, \"Sin datos\", \"Sin datos\", \"Sin datos\"], [144, 144, 0, 145, \"TC-15-4115\", 266, \"046+766\", \"Sin datos\", \"2015-09-17\", \"Poliducto Madero-Cadereyta 12\\\"-10\\\"\", \"Tamaulipas\", \"Sin datos\", \"Sin datos\", 0, \"Sin datos\", \"Sin datos\", \"Sin datos\", 0, \"Sin datos\", \"Sin datos\", \"Sin datos\"], [145, 145, 0, 146, \"TC-15-4637\", 270, \"055+217\", \"Sin datos\", \"2015-10-16\", \"Poliducto Madero-Cadereyta 12\\\"-10\\\"\", \"Tamaulipas\", \"Sin datos\", \"Sin datos\", 0, \"Sin datos\", \"Sin datos\", \"Sin datos\", 0, \"Sin datos\", \"Sin datos\", \"Sin datos\"], [146, 146, 0, 147, \"TC-15-3365\", 485, \"088+092\", \"Sin datos\", \"2015-07-31\", \"Poliducto Madero-Cadereyta 12\\\"-10\\\"\", \"Tamaulipas\", \"Sin datos\", \"Sin datos\", 0, \"Sin datos\", \"Sin datos\", \"Sin datos\", 0, \"Sin datos\", \"Sin datos\", \"Sin datos\"], [147, 147, 0, 148, \"TC-15-3455\", 73, \"115+124\", \"Sin datos\", \"2015-08-05\", \"Poliducto Minatitl\\u00e1n-Villahermosa 12\\\"\", \"Tabasco\", \"Sin datos\", \"Sin datos\", 0, \"Sin datos\", \"Sin datos\", \"Sin datos\", 0, \"Sin datos\", \"Sin datos\", \"Sin datos\"], [148, 148, 0, 149, \"TC-15-1658\", 182, \"454+910\", \"Sin datos\", \"2015-04-13\", \"Poliducto Minatitl\\u00e1n-M\\u00e9xico 12-20-14\\\"\", \"Puebla\", \"Sin datos\", \"Sin datos\", 0, \"Sin datos\", \"Sin datos\", \"Sin datos\", 0, \"Sin datos\", \"Sin datos\", \"Sin datos\"], [149, 149, 0, 150, \"TC-15-5435\", 569, \"519+449\", \"Sin datos\", \"2015-11-29\", \"Poliducto Minatitl\\u00e1n-M\\u00e9xico 12-20-14\\\"\", \"Tlaxcala\", \"Sin datos\", \"Sin datos\", 0, \"Sin datos\", \"Sin datos\", \"Sin datos\", 0, \"Sin datos\", \"Sin datos\", \"Sin datos\"], [150, 150, 0, 151, \"TC-15-2717\", 277, \"367+910\", \"Sin datos\", \"2015-06-21\", \"Poliducto Minatitl\\u00e1n-M\\u00e9xico 12-20-14\\\"\", \"Puebla\", \"Sin datos\", \"Sin datos\", 0, \"Sin datos\", \"Sin datos\", \"Sin datos\", 0, \"Sin datos\", \"Sin datos\", \"Sin datos\"], [151, 151, 0, 152, \"TC-15-4089\", 240, \"026+013\", \"Sin datos\", \"2015-09-15\", \"Poliducto CAB Poza Rica-Cima de Togo-Tula 14\\\"\", \"Puebla\", \"Sin datos\", \"Sin datos\", 0, \"Sin datos\", \"Sin datos\", \"Sin datos\", 0, \"Sin datos\", \"Sin datos\", \"Sin datos\"], [152, 152, 0, 153, \"TC-15-4661\", 294, \"156+745\", \"Sin datos\", \"2015-10-18\", \"Poliducto Poza Rica- Venta de Carpio-Azcapotzalco- 18\\\"-16\\\"\", \"Hidalgo\", \"Sin datos\", \"Sin datos\", 0, \"Sin datos\", \"Sin datos\", \"Sin datos\", 0, \"Sin datos\", \"Sin datos\", \"Sin datos\"], [153, 153, 0, 154, \"TC-15-2422\", 444, \"172+629.5\", \"Sin datos\", \"2015-05-29\", \"Poliducto Poza Rica- Venta de Carpio-Azcapotzalco- 18\\\"-16\\\"\", \"M\\u00e9xico\", \"Sin datos\", \"Sin datos\", 0, \"Sin datos\", \"Sin datos\", \"Sin datos\", 0, \"Sin datos\", \"Sin datos\", \"Sin datos\"], [154, 154, 0, 155, \"TC-15-3483\", 101, \"279+223.37\", \"Sin datos\", \"2015-08-06\", \"Poliducto Salamanca-Guadalajara 16\\\"\", \"Jalisco\", \"Sin datos\", \"Sin datos\", 0, \"Sin datos\", \"Sin datos\", \"Sin datos\", 0, \"Sin datos\", \"Sin datos\", \"Sin datos\"], [155, 155, 0, 156, \"TC-15-904\", 386, \"106+629\", \"Sin datos\", \"2015-02-23\", \"Poliducto Topolobampo-Culiac\\u00e1n 10\\\"\", \"Sinaloa\", \"Sin datos\", \"Sin datos\", 0, \"Sin datos\", \"Sin datos\", \"Sin datos\", 0, \"Sin datos\", \"Sin datos\", \"Sin datos\"], [156, 156, 0, 157, \"TC-15-4800\", 433, \"109+862.1\", \"Sin datos\", \"2015-10-27\", \"Poliducto Topolobampo-Culiac\\u00e1n 10\\\"\", \"Sinaloa\", \"Sin datos\", \"Sin datos\", 0, \"Sin datos\", \"Sin datos\", \"Sin datos\", 0, \"Sin datos\", \"Sin datos\", \"Sin datos\"], [157, 157, 0, 158, \"TC-15-2577\", 137, \"079+151\", \"Sin datos\", \"2015-06-10\", \"Poliducto Tula-Toluca 16\\\"\", \"M\\u00e9xico\", \"Sin datos\", \"Sin datos\", 0, \"Sin datos\", \"Sin datos\", \"Sin datos\", 0, \"Sin datos\", \"Sin datos\", \"Sin datos\"], [158, 158, 0, 159, \"TC-15-5696\", 242, \"064+827\", \"Sin datos\", \"2015-12-14\", \"Poliducto Salamanca-Morelia 10\\\"\", \"Guanajuato\", \"Sin datos\", \"Sin datos\", 0, \"Sin datos\", \"Sin datos\", \"Sin datos\", 0, \"Sin datos\", \"Sin datos\", \"Sin datos\"], [159, 159, 0, 160, \"TC-15-1031\", 23, \"104+905\", \"Sin datos\", \"2015-03-02\", \"Poliducto Minatitl\\u00e1n-Villahermosa 12\\\"\", \"Tabasco\", \"Sin datos\", \"Sin datos\", 0, \"Sin datos\", \"Sin datos\", \"Sin datos\", 0, \"Sin datos\", \"Sin datos\", \"Sin datos\"], [160, 160, 0, 161, \"TC-15-4220\", 371, \"120+000\", \"Sin datos\", \"2015-09-23\", \"Poliducto Minatitl\\u00e1n-M\\u00e9xico 12-20-14\\\"\", \"Veracruz\", \"Sin datos\", \"Sin datos\", 0, \"Sin datos\", \"Sin datos\", \"Sin datos\", 0, \"Sin datos\", \"Sin datos\", \"Sin datos\"], [161, 161, 0, 162, \"TC-15-3190\", 310, \"141+948.9\", \"Sin datos\", \"2015-07-21\", \"Poliducto Rosarito-Mexicali 10\\\"-8\\\"\", \"Baja California\", \"Sin datos\", \"Sin datos\", 0, \"Sin datos\", \"Sin datos\", \"Sin datos\", 0, \"Sin datos\", \"Sin datos\", \"Sin datos\"], [162, 162, 0, 163, \"TC-15-450\", 450, \"214+092\", \"Sin datos\", \"2015-01-28\", \"Poliducto Topolobampo-Culiac\\u00e1n 10\\\"\", \"Sinaloa\", \"Sin datos\", \"Sin datos\", 0, \"Sin datos\", \"Sin datos\", \"Sin datos\", 0, \"Sin datos\", \"Sin datos\", \"Sin datos\"], [163, 163, 0, 164, \"TC-15-3332\", 452, \"082+168.5\", \"Sin datos\", \"2015-07-29\", \"Poliducto Quer\\u00e9taro-San Luis 10\\\"\", \"Guanajuato\", \"Sin datos\", \"Sin datos\", 0, \"Sin datos\", \"Sin datos\", \"Sin datos\", 0, \"Sin datos\", \"Sin datos\", \"Sin datos\"], [164, 164, 0, 165, \"TC-15-1942\", 466, \"250+200\", \"Sin datos\", \"2015-04-29\", \"Poliducto Minatitl\\u00e1n-M\\u00e9xico 12-20-14\\\"\", \"Veracruz\", \"Sin datos\", \"Sin datos\", 0, \"Sin datos\", \"Sin datos\", \"Sin datos\", 0, \"Sin datos\", \"Sin datos\", \"Sin datos\"], [165, 165, 0, 166, \"TC-15-1799\", 323, \"047+058\", \"Sin datos\", \"2015-04-21\", \"Poliducto Madero-Cadereyta 12\\\"-10\\\"\", \"Tamaulipas\", \"Sin datos\", \"Sin datos\", 0, \"Sin datos\", \"Sin datos\", \"Sin datos\", 0, \"Sin datos\", \"Sin datos\", \"Sin datos\"], [166, 166, 0, 167, \"TC-15-177\", 177, \"010+046\", \"Sin datos\", \"2015-01-12\", \"Poliducto Madero-Cadereyta 12\\\"-10\\\"\", \"Tamaulipas\", \"Sin datos\", \"Sin datos\", 0, \"Sin datos\", \"Sin datos\", \"Sin datos\", 0, \"Sin datos\", \"Sin datos\", \"Sin datos\"], [167, 167, 0, 168, \"TC-15-316\", 316, \"024+604\", \"Sin datos\", \"2015-01-20\", \"Poliducto Madero-Cadereyta 12\\\"-10\\\"\", \"Tamaulipas\", \"Sin datos\", \"Sin datos\", 0, \"Sin datos\", \"Sin datos\", \"Sin datos\", 0, \"Sin datos\", \"Sin datos\", \"Sin datos\"], [168, 168, 0, 169, \"TC-15-3951\", 102, \"165+942\", \"Sin datos\", \"2015-09-07\", \"Poliducto Minatitl\\u00e1n-Salina Cruz 16\\\"\", \"Oaxaca\", \"Sin datos\", \"Sin datos\", 0, \"Sin datos\", \"Sin datos\", \"Sin datos\", 0, \"Sin datos\", \"Sin datos\", \"Sin datos\"], [169, 169, 0, 170, \"TC-15-1159\", 151, \"128+113\", \"Sin datos\", \"2015-03-08\", \"Poliducto Minatitl\\u00e1n-Villahermosa 12\\\"\", \"Tabasco\", \"Sin datos\", \"Sin datos\", 0, \"Sin datos\", \"Sin datos\", \"Sin datos\", 0, \"Sin datos\", \"Sin datos\", \"Sin datos\"], [170, 170, 0, 171, \"TC-15-2928\", 48, \"203+195.3\", \"Sin datos\", \"2015-07-03\", \"Poliducto Poza Rica- Venta de Carpio-Azcapotzalco- 18\\\"-16\\\"\", \"M\\u00e9xico\", \"Sin datos\", \"Sin datos\", 0, \"Sin datos\", \"Sin datos\", \"Sin datos\", 0, \"Sin datos\", \"Sin datos\", \"Sin datos\"], [171, 171, 0, 172, \"TC-15-5059\", 193, \"462+904.75\", \"Sin datos\", \"2015-11-10\", \"Poliducto Minatitl\\u00e1n-M\\u00e9xico 12-20-14\\\"\", \"Puebla\", \"Sin datos\", \"Sin datos\", 0, \"Sin datos\", \"Sin datos\", \"Sin datos\", 0, \"Sin datos\", \"Sin datos\", \"Sin datos\"], [172, 172, 0, 173, \"TC-15-3216\", 336, \"491+605\", \"Sin datos\", \"2015-07-23\", \"Poliducto Minatitl\\u00e1n-M\\u00e9xico 12-20-14\\\"\", \"Puebla\", \"Sin datos\", \"Sin datos\", 0, \"Sin datos\", \"Sin datos\", \"Sin datos\", 0, \"Sin datos\", \"Sin datos\", \"Sin datos\"], [173, 173, 0, 174, \"TC-15-1087\", 79, \"255+000\", \"Sin datos\", \"2015-03-04\", \"Poliducto Minatitl\\u00e1n-M\\u00e9xico 12-20-14\\\"\", \"Veracruz\", \"Sin datos\", \"Sin datos\", 0, \"Sin datos\", \"Sin datos\", \"Sin datos\", 0, \"Sin datos\", \"Sin datos\", \"Sin datos\"], [174, 174, 0, 175, \"TC-15-4423\", 56, \"267+214\", \"Sin datos\", \"2015-10-04\", \"Poliducto Salamanca-Guadalajara 16\\\"\", \"Jalisco\", \"Sin datos\", \"Sin datos\", 0, \"Sin datos\", \"Sin datos\", \"Sin datos\", 0, \"Sin datos\", \"Sin datos\", \"Sin datos\"], [175, 175, 0, 176, \"TC-15-740\", 222, \"192+670\", \"Sin datos\", \"2015-02-12\", \"Poliducto Tula-Toluca 16\\\"\", \"M\\u00e9xico\", \"Sin datos\", \"Sin datos\", 0, \"Sin datos\", \"Sin datos\", \"Sin datos\", 0, \"Sin datos\", \"Sin datos\", \"Sin datos\"], [176, 176, 0, 177, \"TC-15-1366\", 358, \"053+949.70\", \"Sin datos\", \"2015-03-24\", \"Poliducto Salamanca-Guadalajara 16\\\"\", \"Guanajuato\", \"Sin datos\", \"Sin datos\", 0, \"Sin datos\", \"Sin datos\", \"Sin datos\", 0, \"Sin datos\", \"Sin datos\", \"Sin datos\"], [177, 177, 0, 178, \"TC-15-4783\", 416, \"216+701\", \"Sin datos\", \"2015-10-26\", \"Poliducto Salamanca-Guadalajara 16\\\"\", \"Jalisco\", \"Sin datos\", \"Sin datos\", 0, \"Sin datos\", \"Sin datos\", \"Sin datos\", 0, \"Sin datos\", \"Sin datos\", \"Sin datos\"], [178, 178, 0, 179, \"TC-15-1681\", 205, \"257+227\", \"Sin datos\", \"2015-04-14\", \"Poliducto Salamanca-Guadalajara 16\\\"\", \"Jalisco\", \"Sin datos\", \"Sin datos\", 0, \"Sin datos\", \"Sin datos\", \"Sin datos\", 0, \"Sin datos\", \"Sin datos\", \"Sin datos\"], [179, 179, 0, 180, \"TC-15-2240\", 262, \"267+214\", \"Sin datos\", \"2015-05-19\", \"Poliducto Salamanca-Guadalajara 16\\\"\", \"Jalisco\", \"Sin datos\", \"Sin datos\", 0, \"Sin datos\", \"Sin datos\", \"Sin datos\", 0, \"Sin datos\", \"Sin datos\", \"Sin datos\"], [180, 180, 0, 181, \"TC-15-1000\", 482, \"159+362\", \"Sin datos\", \"2015-02-28\", \"Poliducto Topolobampo-Culiac\\u00e1n 10\\\"\", \"Sinaloa\", \"Sin datos\", \"Sin datos\", 0, \"Sin datos\", \"Sin datos\", \"Sin datos\", 0, \"Sin datos\", \"Sin datos\", \"Sin datos\"], [181, 181, 0, 182, \"TC-15-1774\", 298, \"098+452\", \"Sin datos\", \"2015-04-20\", \"Poliducto Guaymas-Obreg\\u00f3n 12\\\"\", \"Sonora\", \"Sin datos\", \"Sin datos\", 0, \"Sin datos\", \"Sin datos\", \"Sin datos\", 0, \"Sin datos\", \"Sin datos\", \"Sin datos\"], [182, 182, 0, 183, \"TC-15-3313\", 433, \"247+300\", \"Sin datos\", \"2015-07-28\", \"Poliducto Minatitl\\u00e1n-M\\u00e9xico 12-20-14\\\"\", \"Veracruz\", \"Sin datos\", \"Sin datos\", 0, \"Sin datos\", \"Sin datos\", \"Sin datos\", 0, \"Sin datos\", \"Sin datos\", \"Sin datos\"], [183, 183, 0, 184, \"TC-15-3609\", 227, \"109+845.5\", \"Sin datos\", \"2015-08-14\", \"Poliducto Topolobampo-Culiac\\u00e1n 10\\\"\", \"Sinaloa\", \"Sin datos\", \"Sin datos\", 0, \"Sin datos\", \"Sin datos\", \"Sin datos\", 0, \"Sin datos\", \"Sin datos\", \"Sin datos\"], [184, 184, 0, 185, \"TC-15-2065\", 87, \"111+863\", \"Sin datos\", \"2015-05-07\", \"Poliducto Topolobampo-Culiac\\u00e1n 10\\\"\", \"Sinaloa\", \"Sin datos\", \"Sin datos\", 0, \"Sin datos\", \"Sin datos\", \"Sin datos\", 0, \"Sin datos\", \"Sin datos\", \"Sin datos\"], [185, 185, 0, 186, \"TC-15-1379\", 371, \"056+681\", \"Sin datos\", \"2015-03-25\", \"Poliducto Madero-Cadereyta 12\\\"-10\\\"\", \"Tamaulipas\", \"Sin datos\", \"Sin datos\", 0, \"Sin datos\", \"Sin datos\", \"Sin datos\", 0, \"Sin datos\", \"Sin datos\", \"Sin datos\"], [186, 186, 0, 187, \"TC-15-5773\", 319, \"036+200\", \"Sin datos\", \"2015-12-20\", \"Poliducto Salamanca-V.Alegre-Zacatecas 10\\\"-12\\\"\", \"Guanajuato\", \"Sin datos\", \"Sin datos\", 0, \"Sin datos\", \"Sin datos\", \"Sin datos\", 0, \"Sin datos\", \"Sin datos\", \"Sin datos\"], [187, 187, 0, 188, \"TC-15-4686\", 319, \"074+850\", \"Sin datos\", \"2015-10-20\", \"Poliducto Salamanca-V.Alegre-Zacatecas 10\\\"-12\\\"\", \"Guanajuato\", \"Sin datos\", \"Sin datos\", 0, \"Sin datos\", \"Sin datos\", \"Sin datos\", 0, \"Sin datos\", \"Sin datos\", \"Sin datos\"], [188, 188, 0, 189, \"TC-15-4048\", 199, \"545+271\", \"Sin datos\", \"2015-09-12\", \"Poliducto Minatitl\\u00e1n-M\\u00e9xico 12-20-14\\\"\", \"M\\u00e9xico\", \"Sin datos\", \"Sin datos\", 0, \"Sin datos\", \"Sin datos\", \"Sin datos\", 0, \"Sin datos\", \"Sin datos\", \"Sin datos\"], [189, 189, 0, 190, \"TC-15-5126\", 260, \"546+925\", \"Sin datos\", \"2015-11-13\", \"Poliducto Minatitl\\u00e1n-M\\u00e9xico 12-20-14\\\"\", \"M\\u00e9xico\", \"Sin datos\", \"Sin datos\", 0, \"Sin datos\", \"Sin datos\", \"Sin datos\", 0, \"Sin datos\", \"Sin datos\", \"Sin datos\"], [190, 190, 0, 191, \"TC-15-3034\", 154, \"405+568\", \"Sin datos\", \"2015-07-10\", \"Poliducto Minatitl\\u00e1n-M\\u00e9xico 12-20-14\\\"\", \"Puebla\", \"Sin datos\", \"Sin datos\", 0, \"Sin datos\", \"Sin datos\", \"Sin datos\", 0, \"Sin datos\", \"Sin datos\", \"Sin datos\"], [191, 191, 0, 192, \"TC-15-4949\", 83, \"415+758\", \"Sin datos\", \"2015-11-05\", \"Poliducto Minatitl\\u00e1n-M\\u00e9xico 12-20-14\\\"\", \"Puebla\", \"Sin datos\", \"Sin datos\", 0, \"Sin datos\", \"Sin datos\", \"Sin datos\", 0, \"Sin datos\", \"Sin datos\", \"Sin datos\"], [192, 192, 0, 193, \"TC-15-989\", 471, \"060+790\", \"Sin datos\", \"2015-02-27\", \"Poliducto Tula-Pachuca 8\\\"\", \"Hidalgo\", \"Sin datos\", \"Sin datos\", 0, \"Sin datos\", \"Sin datos\", \"Sin datos\", 0, \"Sin datos\", \"Sin datos\", \"Sin datos\"], [193, 193, 0, 194, \"TC-15-5539\", 85, \"261+202.1\", \"Sin datos\", \"2015-12-05\", \"Poliducto Salamanca-Guadalajara 16\\\"\", \"Jalisco\", \"Sin datos\", \"Sin datos\", 0, \"Sin datos\", \"Sin datos\", \"Sin datos\", 0, \"Sin datos\", \"Sin datos\", \"Sin datos\"], [194, 194, 0, 195, \"TC-15-398\", 398, \"292+375.25\", \"Sin datos\", \"2015-01-25\", \"Poliducto Salamanca-Guadalajara 16\\\"\", \"Jalisco\", \"Sin datos\", \"Sin datos\", 0, \"Sin datos\", \"Sin datos\", \"Sin datos\", 0, \"Sin datos\", \"Sin datos\", \"Sin datos\"], [195, 195, 0, 196, \"TC-15-626\", 108, \"006+720.5\", \"Sin datos\", \"2015-02-06\", \"Poliducto Salamanca-Morelia 10\\\"\", \"Guanajuato\", \"Sin datos\", \"Sin datos\", 0, \"Sin datos\", \"Sin datos\", \"Sin datos\", 0, \"Sin datos\", \"Sin datos\", \"Sin datos\"], [196, 196, 0, 197, \"TC-15-2860\", 420, \"033+135\", \"Sin datos\", \"2015-06-29\", \"Poliducto Salamanca-Morelia 10\\\"\", \"Guanajuato\", \"Sin datos\", \"Sin datos\", 0, \"Sin datos\", \"Sin datos\", \"Sin datos\", 0, \"Sin datos\", \"Sin datos\", \"Sin datos\"], [197, 197, 0, 198, \"TC-15-4361\", 512, \"075+300\", \"Sin datos\", \"2015-09-30\", \"Poliducto Salamanca-Morelia 10\\\"\", \"Michoac\\u00e1n\", \"Sin datos\", \"Sin datos\", 0, \"Sin datos\", \"Sin datos\", \"Sin datos\", 0, \"Sin datos\", \"Sin datos\", \"Sin datos\"], [198, 198, 0, 199, \"TC-15-3670\", 288, \"117+285.3\", \"Sin datos\", \"2015-08-19\", \"Poliducto Salamanca-Guadalajara 16\\\"\", \"Jalisco\", \"Sin datos\", \"Sin datos\", 0, \"Sin datos\", \"Sin datos\", \"Sin datos\", 0, \"Sin datos\", \"Sin datos\", \"Sin datos\"], [199, 199, 0, 200, \"TC-15-2135\", 157, \"216+708\", \"Sin datos\", \"2015-05-12\", \"Poliducto Salamanca-Guadalajara 16\\\"\", \"Jalisco\", \"Sin datos\", \"Sin datos\", 0, \"Sin datos\", \"Sin datos\", \"Sin datos\", 0, \"Sin datos\", \"Sin datos\", \"Sin datos\"], [200, 200, 0, 201, \"TC-15-5339\", 473, \"034+495\", \"Sin datos\", \"2015-11-24\", \"Poliducto Salamanca-V.Alegre-Zacatecas 10\\\"-12\\\"\", \"Guanajuato\", \"Sin datos\", \"Sin datos\", 0, \"Sin datos\", \"Sin datos\", \"Sin datos\", 0, \"Sin datos\", \"Sin datos\", \"Sin datos\"], [201, 201, 0, 202, \"TC-15-032\", 32, \"032+576\", \"Sin datos\", \"2015-01-03\", \"Poliducto Salamanca-V.Alegre-Zacatecas 10\\\"-12\\\"\", \"Guanajuato\", \"Sin datos\", \"Sin datos\", 0, \"Sin datos\", \"Sin datos\", \"Sin datos\", 0, \"Sin datos\", \"Sin datos\", \"Sin datos\"], [202, 202, 0, 203, \"TC-15-4005\", 156, \"036+842\", \"Sin datos\", \"2015-09-10\", \"Poliducto Salamanca-Le\\u00f3n 8\\\"\", \"Guanajuato\", \"Sin datos\", \"Sin datos\", 0, \"Sin datos\", \"Sin datos\", \"Sin datos\", 0, \"Sin datos\", \"Sin datos\", \"Sin datos\"], [203, 203, 0, 204, \"TC-15-2477\", 37, \"083+637\", \"Sin datos\", \"2015-06-04\", \"Poliducto Rosarito-Mexicali 10\\\"-8\\\"\", \"Baja California\", \"Sin datos\", \"Sin datos\", 0, \"Sin datos\", \"Sin datos\", \"Sin datos\", 0, \"Sin datos\", \"Sin datos\", \"Sin datos\"], [204, 204, 0, 205, \"TC-15-255\", 255, \"197+478\", \"Sin datos\", \"2015-01-16\", \"Poliducto Topolobampo-Culiac\\u00e1n 10\\\"\", \"Sinaloa\", \"Sin datos\", \"Sin datos\", 0, \"Sin datos\", \"Sin datos\", \"Sin datos\", 0, \"Sin datos\", \"Sin datos\", \"Sin datos\"], [20690, 20690, 0, 20691, \"Sin datos\", 0, \"Sin datos\", \"Sin datos\", \"2015-07-03\", \"PLD 12 REF CADEREYTA-REYNOSA-MATAMOROS\", \"Nuevo Le\\u00f3n\", \"PERMANENTE\", \"Perforada\", 677, \"Sin datos\", \"Sin datos\", \"Sin datos\", 2015, \"DUC-TR-PLD-RD677\", \"Sin datos\", \"03/07/2015\"], [20691, 20691, 0, 20692, \"Sin datos\", 0, \"Sin datos\", \"Sin datos\", \"2015-07-16\", \"PLD 12 REF CADEREYTA-REYNOSA-MATAMOROS\", \"Nuevo Le\\u00f3n\", \"PERMANENTE\", \"Perforada\", 677, \"Sin datos\", \"Sin datos\", \"Sin datos\", 2015, \"DUC-TR-PLD-RD677\", \"Sin datos\", \"16/07/2015\"], [20692, 20692, 0, 20693, \"Sin datos\", 0, \"Sin datos\", \"Sin datos\", \"2015-07-14\", \"PLD 12 REF CADEREYTA-REYNOSA-MATAMOROS\", \"Tamaulipas\", \"PERMANENTE\", \"Perforada\", 677, \"Sin datos\", \"Sin datos\", \"Sin datos\", 2015, \"DUC-TR-PLD-RD677\", \"Sin datos\", \"14/07/2015\"], [20693, 20693, 0, 20694, \"Sin datos\", 0, \"Sin datos\", \"Sin datos\", \"2015-07-14\", \"PLD 10 TAR ROSARITO-TAR MEXICALI\", \"Baja California\", \"PROVISIONAL\", \"Perforada\", 683, \"Sin datos\", \"Sin datos\", \"Sin datos\", 2015, \"DUC-TR-PLD-RD683\", \"Sin datos\", \"14/07/2015\"], [20694, 20694, 0, 20695, \"Sin datos\", 0, \"Sin datos\", \"Sin datos\", \"2015-07-14\", \"PLD 16 REF MINATITLAN-REF SALINA CR(BID)\", \"Oaxaca\", \"PROVISIONAL\", \"Perforada\", 606, \"Sin datos\", \"Sin datos\", \"Sin datos\", 2015, \"DUC-TR-PLD-RD606\", \"Sin datos\", \"14/07/2015\"], [20695, 20695, 0, 20696, \"Sin datos\", 0, \"Sin datos\", \"Sin datos\", \"2015-07-15\", \"PLD 16 REF MINATITLAN-REF SALINA CR(BID)\", \"Oaxaca\", \"PERMANENTE\", \"Perforada\", 606, \"Sin datos\", \"Sin datos\", \"Sin datos\", 2015, \"DUC-TR-PLD-RD606\", \"Sin datos\", \"15/07/2015\"], [20696, 20696, 0, 20697, \"Sin datos\", 0, \"Sin datos\", \"Sin datos\", \"2015-07-19\", \"PLD 16 REF SALAMANCA-TAR GUADALAJARA\", \"Jalisco\", \"PERMANENTE\", \"Perforada\", 659, \"Sin datos\", \"Sin datos\", \"Sin datos\", 2015, \"DUC-TR-PLD-RD659\", \"Sin datos\", \"19/07/2015\"], [20697, 20697, 0, 20698, \"Sin datos\", 0, \"Sin datos\", \"Sin datos\", \"2015-07-19\", \"PLD 16 REF SALAMANCA-TAR GUADALAJARA\", \"Jalisco\", \"PERMANENTE\", \"Perforada\", 659, \"Sin datos\", \"Sin datos\", \"Sin datos\", 2015, \"DUC-TR-PLD-RD659\", \"Sin datos\", \"19/07/2015\"], [20698, 20698, 0, 20699, \"Sin datos\", 0, \"Sin datos\", \"Sin datos\", \"2015-07-17\", \"PLD 16 REF SALAMANCA-TAR GUADALAJARA\", \"Jalisco\", \"PERMANENTE\", \"Perforada\", 659, \"Sin datos\", \"Sin datos\", \"Sin datos\", 2015, \"DUC-TR-PLD-RD659\", \"Sin datos\", \"17/07/2015\"], [20699, 20699, 0, 20700, \"Sin datos\", 0, \"Sin datos\", \"Sin datos\", \"2015-07-17\", \"PLD 16 REF SALAMANCA-TAR GUADALAJARA\", \"Jalisco\", \"PERMANENTE\", \"Perforada\", 659, \"Sin datos\", \"Sin datos\", \"Sin datos\", 2015, \"DUC-TR-PLD-RD659\", \"Sin datos\", \"17/07/2015\"], [20700, 20700, 0, 20701, \"Sin datos\", 0, \"Sin datos\", \"Sin datos\", \"2015-07-16\", \"PLD 12-14-12 REF TULA-REF SALAMANCA\", \"Quer\\u00e9taro\", \"PROVISIONAL\", \"Perforada\", 648, \"Sin datos\", \"Sin datos\", \"Sin datos\", 2015, \"DUC-TR-PLD-RD648\", \"Sin datos\", \"16/07/2015\"], [20701, 20701, 0, 20702, \"Sin datos\", 0, \"Sin datos\", \"Sin datos\", \"2015-07-16\", \"PLD 10 REF SALAMANCA-TAR MORELIA\", \"Guanajuato\", \"PERMANENTE\", \"Perforada\", 653, \"Sin datos\", \"Sin datos\", \"Sin datos\", 2015, \"DUC-TR-PLD-RD653\", \"Sin datos\", \"16/07/2015\"], [20702, 20702, 0, 20703, \"Sin datos\", 0, \"Sin datos\", \"Sin datos\", \"2015-07-18\", \"PLD 16 REF SALAMANCA-TAR GUADALAJARA\", \"Guanajuato\", \"PERMANENTE\", \"Perforada\", 659, \"Sin datos\", \"Sin datos\", \"Sin datos\", 2015, \"DUC-TR-PLD-RD659\", \"Sin datos\", \"18/07/2015\"], [20703, 20703, 0, 20704, \"Sin datos\", 0, \"Sin datos\", \"Sin datos\", \"2015-07-17\", \"PLD 16 REF SALAMANCA-TAR GUADALAJARA\", \"Guanajuato\", \"PERMANENTE\", \"Perforada\", 659, \"Sin datos\", \"Sin datos\", \"Sin datos\", 2015, \"DUC-TR-PLD-RD659\", \"Sin datos\", \"17/07/2015\"], [20704, 20704, 0, 20705, \"Sin datos\", 0, \"Sin datos\", \"Sin datos\", \"2015-07-19\", \"PLD 8 REF SALAMANCA-TAR LEON\", \"Guanajuato\", \"PROVISIONAL\", \"Perforada\", 657, \"Sin datos\", \"Sin datos\", \"Sin datos\", 2015, \"DUC-TR-PLD-RD657\", \"Sin datos\", \"19/07/2015\"], [20705, 20705, 0, 20706, \"Sin datos\", 0, \"Sin datos\", \"Sin datos\", \"2015-07-17\", \"PLD 8 REF SALAMANCA-TAR LEON\", \"Guanajuato\", \"PERMANENTE\", \"Perforada\", 657, \"Sin datos\", \"Sin datos\", \"Sin datos\", 2015, \"DUC-TR-PLD-RD657\", \"Sin datos\", \"17/07/2015\"], [20706, 20706, 0, 20707, \"Sin datos\", 0, \"Sin datos\", \"Sin datos\", \"2015-07-17\", \"PLD 18 CAB POZA RICA-AZCAPOTZALCO\", \"M\\u00e9xico\", \"PERMANENTE\", \"Perforada\", 644, \"Sin datos\", \"Sin datos\", \"Sin datos\", 2015, \"DUC-TR-PLD-RD644\", \"Sin datos\", \"17/07/2015\"], [20707, 20707, 0, 20708, \"Sin datos\", 0, \"Sin datos\", \"Sin datos\", \"2015-07-19\", \"PLD 18 CAB POZA RICA-AZCAPOTZALCO\", \"M\\u00e9xico\", \"PROVISIONAL\", \"Perforada\", 644, \"Sin datos\", \"Sin datos\", \"Sin datos\", 2015, \"DUC-TR-PLD-RD644\", \"Sin datos\", \"19/07/2015\"], [20708, 20708, 0, 20709, \"Sin datos\", 0, \"Sin datos\", \"Sin datos\", \"2015-07-17\", \"PLD 18 CAB POZA RICA-AZCAPOTZALCO\", \"Hidalgo\", \"PROVISIONAL\", \"Perforada\", 644, \"Sin datos\", \"Sin datos\", \"Sin datos\", 2015, \"DUC-TR-PLD-RD644\", \"Sin datos\", \"17/07/2015\"], [20709, 20709, 0, 20710, \"Sin datos\", 0, \"Sin datos\", \"Sin datos\", \"2015-07-15\", \"PLD 18 CAB POZA RICA-AZCAPOTZALCO\", \"Hidalgo\", \"PROVISIONAL\", \"Perforada\", 644, \"Sin datos\", \"Sin datos\", \"Sin datos\", 2015, \"DUC-TR-PLD-RD644\", \"Sin datos\", \"15/07/2015\"], [20710, 20710, 0, 20711, \"Sin datos\", 0, \"Sin datos\", \"Sin datos\", \"2015-07-17\", \"PLD 18 CAB POZA RICA-AZCAPOTZALCO\", \"Hidalgo\", \"PROVISIONAL\", \"Perforada\", 644, \"Sin datos\", \"Sin datos\", \"Sin datos\", 2015, \"DUC-TR-PLD-RD644\", \"Sin datos\", \"17/07/2015\"], [20711, 20711, 0, 20712, \"Sin datos\", 0, \"Sin datos\", \"Sin datos\", \"2015-07-17\", \"PLD 14 CAB POZA RICA-REF TULA\", \"Puebla\", \"PERMANENTE\", \"Perforada\", 643, \"Sin datos\", \"Sin datos\", \"Sin datos\", 2015, \"DUC-TR-PLD-RD643\", \"Sin datos\", \"17/07/2015\"], [20712, 20712, 0, 20713, \"Sin datos\", 0, \"Sin datos\", \"Sin datos\", \"2015-07-19\", \"PLD 12 REF MADERO-REF CADEREYTA\", \"Tamaulipas\", \"PROVISIONAL\", \"Perforada\", 667, \"Sin datos\", \"Sin datos\", \"Sin datos\", 2015, \"DUC-TR-PLD-RD667\", \"Sin datos\", \"19/07/2015\"], [20713, 20713, 0, 20714, \"Sin datos\", 0, \"Sin datos\", \"Sin datos\", \"2015-07-17\", \"PLD 12 REF MADERO-REF CADEREYTA\", \"Tamaulipas\", \"PROVISIONAL\", \"Perforada\", 667, \"Sin datos\", \"Sin datos\", \"Sin datos\", 2015, \"DUC-TR-PLD-RD667\", \"Sin datos\", \"17/07/2015\"], [20714, 20714, 0, 20715, \"Sin datos\", 0, \"Sin datos\", \"Sin datos\", \"2015-07-19\", \"PLD 12 REF MADERO-REF CADEREYTA\", \"Tamaulipas\", \"PROVISIONAL\", \"Perforada\", 667, \"Sin datos\", \"Sin datos\", \"Sin datos\", 2015, \"DUC-TR-PLD-RD667\", \"Sin datos\", \"19/07/2015\"], [20715, 20715, 0, 20716, \"Sin datos\", 0, \"Sin datos\", \"Sin datos\", \"2015-07-17\", \"PLD 12 REF MADERO-REF CADEREYTA\", \"Tamaulipas\", \"PROVISIONAL\", \"Perforada\", 667, \"Sin datos\", \"Sin datos\", \"Sin datos\", 2015, \"DUC-TR-PLD-RD667\", \"Sin datos\", \"17/07/2015\"], [20716, 20716, 0, 20717, \"Sin datos\", 0, \"Sin datos\", \"Sin datos\", \"2015-07-17\", \"PLD 12-20-12-20-12-14 REF MINA-TRD AZTCO\", \"Veracruz\", \"PERMANENTE\", \"Perforada\", 601, \"Sin datos\", \"Sin datos\", \"Sin datos\", 2015, \"DUC-TR-PLD-RD601\", \"Sin datos\", \"17/07/2015\"], [20717, 20717, 0, 20718, \"Sin datos\", 0, \"Sin datos\", \"Sin datos\", \"2015-07-18\", \"PLD 12-20-12-20-12-14 REF MINA-TRD AZTCO\", \"Veracruz\", \"PROVISIONAL\", \"Perforada\", 601, \"Sin datos\", \"Sin datos\", \"Sin datos\", 2015, \"DUC-TR-PLD-RD601\", \"Sin datos\", \"18/07/2015\"], [20718, 20718, 0, 20719, \"Sin datos\", 0, \"Sin datos\", \"Sin datos\", \"2015-07-17\", \"PLD 12-20-12-20-12-14 REF MINA-TRD AZTCO\", \"Veracruz\", \"PROVISIONAL\", \"Perforada\", 601, \"Sin datos\", \"Sin datos\", \"Sin datos\", 2015, \"DUC-TR-PLD-RD601\", \"Sin datos\", \"17/07/2015\"], [20719, 20719, 0, 20720, \"Sin datos\", 0, \"Sin datos\", \"Sin datos\", \"2015-07-17\", \"PLD 12-20-12-20-12-14 REF MINA-TRD AZTCO\", \"Veracruz\", \"PROVISIONAL\", \"Perforada\", 601, \"Sin datos\", \"Sin datos\", \"Sin datos\", 2015, \"DUC-TR-PLD-RD601\", \"Sin datos\", \"17/07/2015\"], [20720, 20720, 0, 20721, \"Sin datos\", 0, \"Sin datos\", \"Sin datos\", \"2015-07-17\", \"PLD 12-20-12-20-12-14 REF MINA-TRD AZTCO\", \"Veracruz\", \"PERMANENTE\", \"Perforada\", 601, \"Sin datos\", \"Sin datos\", \"Sin datos\", 2015, \"DUC-TR-PLD-RD601\", \"Sin datos\", \"17/07/2015\"], [20721, 20721, 0, 20722, \"Sin datos\", 0, \"Sin datos\", \"Sin datos\", \"2015-07-17\", \"PLD 12-20-12-20-12-14 REF MINA-TRD AZTCO\", \"Veracruz\", \"PERMANENTE\", \"Perforada\", 601, \"Sin datos\", \"Sin datos\", \"Sin datos\", 2015, \"DUC-TR-PLD-RD601\", \"Sin datos\", \"17/07/2015\"], [20722, 20722, 0, 20723, \"Sin datos\", 0, \"Sin datos\", \"Sin datos\", \"2015-07-18\", \"PLD 12-20-12-20-12-14 REF MINA-TRD AZTCO\", \"Puebla\", \"PERMANENTE\", \"Perforada\", 601, \"Sin datos\", \"Sin datos\", \"Sin datos\", 2015, \"DUC-TR-PLD-RD601\", \"Sin datos\", \"18/07/2015\"], [20723, 20723, 0, 20724, \"Sin datos\", 0, \"Sin datos\", \"Sin datos\", \"2015-07-19\", \"PLD 12-20-12-20-12-14 REF MINA-TRD AZTCO\", \"Puebla\", \"PROVISIONAL\", \"Perforada\", 601, \"Sin datos\", \"Sin datos\", \"Sin datos\", 2015, \"DUC-TR-PLD-RD601\", \"Sin datos\", \"19/07/2015\"], [20724, 20724, 0, 20725, \"Sin datos\", 0, \"Sin datos\", \"Sin datos\", \"2015-07-17\", \"PLD 12-20-12-20-12-14 REF MINA-TRD AZTCO\", \"Puebla\", \"PERMANENTE\", \"Perforada\", 601, \"Sin datos\", \"Sin datos\", \"Sin datos\", 2015, \"DUC-TR-PLD-RD601\", \"Sin datos\", \"17/07/2015\"], [20725, 20725, 0, 20726, \"Sin datos\", 0, \"Sin datos\", \"Sin datos\", \"2015-07-14\", \"PLD 12-20-12-20-12-14 REF MINA-TRD AZTCO\", \"Puebla\", \"PERMANENTE\", \"Perforada\", 601, \"Sin datos\", \"Sin datos\", \"Sin datos\", 2015, \"DUC-TR-PLD-RD601\", \"Sin datos\", \"14/07/2015\"], [20726, 20726, 0, 20727, \"Sin datos\", 0, \"Sin datos\", \"Sin datos\", \"2015-07-13\", \"PLD 12-20-12-20-12-14 REF MINA-TRD AZTCO\", \"Tlaxcala\", \"PERMANENTE\", \"Perforada\", 601, \"Sin datos\", \"Sin datos\", \"Sin datos\", 2015, \"DUC-TR-PLD-RD601\", \"Sin datos\", \"13/07/2015\"], [20727, 20727, 0, 20728, \"Sin datos\", 0, \"Sin datos\", \"Sin datos\", \"2015-07-16\", \"PLD 12-20-12-20-12-14 REF MINA-TRD AZTCO\", \"Veracruz\", \"PERMANENTE\", \"Perforada\", 601, \"Sin datos\", \"Sin datos\", \"Sin datos\", 2015, \"DUC-TR-PLD-RD601\", \"Sin datos\", \"16/07/2015\"], [20728, 20728, 0, 20729, \"Sin datos\", 0, \"Sin datos\", \"Sin datos\", \"2015-07-17\", \"PLD 18 REF CADEREYTA-TAR SATELITE\", \"Nuevo Le\\u00f3n\", \"PERMANENTE\", \"Perforada\", 668, \"Sin datos\", \"Sin datos\", \"Sin datos\", 2015, \"DUC-TR-PLD-RD668\", \"Sin datos\", \"17/07/2015\"], [20729, 20729, 0, 20730, \"Sin datos\", 0, \"Sin datos\", \"Sin datos\", \"2015-07-19\", \"PLD 12 REF MADERO-REF CADEREYTA\", \"Nuevo Le\\u00f3n\", \"PROVISIONAL\", \"Perforada\", 667, \"Sin datos\", \"Sin datos\", \"Sin datos\", 2015, \"DUC-TR-PLD-RD667\", \"Sin datos\", \"19/07/2015\"], [20730, 20730, 0, 20731, \"Sin datos\", 0, \"Sin datos\", \"Sin datos\", \"2015-07-17\", \"PLD 10 TAR ROSARITO-TAR ENSENADA\", \"Baja California\", \"PERMANENTE\", \"Perforada\", 682, \"Sin datos\", \"Sin datos\", \"Sin datos\", 2015, \"DUC-TR-PLD-RD682\", \"Sin datos\", \"17/07/2015\"], [20731, 20731, 0, 20732, \"Sin datos\", 0, \"Sin datos\", \"Sin datos\", \"2015-07-17\", \"PLD 10 TAR ROSARITO-TAR MEXICALI\", \"Baja California\", \"PROVISIONAL\", \"Perforada\", 683, \"Sin datos\", \"Sin datos\", \"Sin datos\", 2015, \"DUC-TR-PLD-RD683\", \"Sin datos\", \"17/07/2015\"], [20732, 20732, 0, 20733, \"Sin datos\", 0, \"Sin datos\", \"Sin datos\", \"2015-07-17\", \"PLD 16 REF MINATITLAN-REF SALINA CR(BID)\", \"Oaxaca\", \"PROVISIONAL\", \"Perforada\", 606, \"Sin datos\", \"Sin datos\", \"Sin datos\", 2015, \"DUC-TR-PLD-RD606\", \"Sin datos\", \"17/07/2015\"], [20733, 20733, 0, 20734, \"Sin datos\", 0, \"Sin datos\", \"Sin datos\", \"2015-07-17\", \"PLD 10 TAR TOPOLOBAMPO-TAR CULIACAN\", \"Sinaloa\", \"PERMANENTE\", \"Perforada\", 689, \"Sin datos\", \"Sin datos\", \"Sin datos\", 2015, \"DUC-TR-PLD-RD689\", \"Sin datos\", \"17/07/2015\"], [20734, 20734, 0, 20735, \"Sin datos\", 0, \"Sin datos\", \"Sin datos\", \"2015-07-17\", \"PLD 8 TAR GOMEZ PALACIO-TAR CHIHUAHUA\", \"Durango\", \"PROVISIONAL\", \"Perforada\", 673, \"Sin datos\", \"Sin datos\", \"Sin datos\", 2015, \"DUC-TR-PLD-RD673\", \"Sin datos\", \"17/07/2015\"], [20735, 20735, 0, 20736, \"Sin datos\", 0, \"Sin datos\", \"Sin datos\", \"2015-07-19\", \"PLD 8 TAR GOMEZ PALACIO-TAR CHIHUAHUA\", \"Durango\", \"PROVISIONAL\", \"Perforada\", 673, \"Sin datos\", \"Sin datos\", \"Sin datos\", 2015, \"DUC-TR-PLD-RD673\", \"Sin datos\", \"19/07/2015\"], [20736, 20736, 0, 20737, \"Sin datos\", 0, \"Sin datos\", \"Sin datos\", \"2015-07-17\", \"PLD 10 TAR GOMEZ PALACIO-TAR CHIHUAHUA\", \"Durango\", \"PERMANENTE\", \"Perforada\", 674, \"Sin datos\", \"Sin datos\", \"Sin datos\", 2015, \"DUC-TR-PLD-RD674\", \"Sin datos\", \"17/07/2015\"], [20737, 20737, 0, 20738, \"Sin datos\", 0, \"Sin datos\", \"Sin datos\", \"2015-07-19\", \"PLD 12 REF MADERO-REF CADEREYTA\", \"Tamaulipas\", \"PROVISIONAL\", \"Perforada\", 667, \"Sin datos\", \"Sin datos\", \"Sin datos\", 2015, \"DUC-TR-PLD-RD667\", \"Sin datos\", \"19/07/2015\"], [20738, 20738, 0, 20739, \"Sin datos\", 0, \"Sin datos\", \"Sin datos\", \"2015-07-20\", \"PLD 16 REF SALAMANCA-TAR GUADALAJARA\", \"Jalisco\", \"PROVISIONAL\", \"Perforada\", 659, \"Sin datos\", \"Sin datos\", \"Sin datos\", 2015, \"DUC-TR-PLD-RD659\", \"Sin datos\", \"20/07/2015\"], [20739, 20739, 0, 20740, \"Sin datos\", 0, \"Sin datos\", \"Sin datos\", \"2015-07-20\", \"PLD 16 REF SALAMANCA-TAR GUADALAJARA\", \"Jalisco\", \"PROVISIONAL\", \"Perforada\", 659, \"Sin datos\", \"Sin datos\", \"Sin datos\", 2015, \"DUC-TR-PLD-RD659\", \"Sin datos\", \"20/07/2015\"], [20740, 20740, 0, 20741, \"Sin datos\", 0, \"Sin datos\", \"Sin datos\", \"2015-07-21\", \"PLD 16 REF SALAMANCA-TAR GUADALAJARA\", \"Jalisco\", \"PERMANENTE\", \"Perforada\", 659, \"Sin datos\", \"Sin datos\", \"Sin datos\", 2015, \"DUC-TR-PLD-RD659\", \"Sin datos\", \"21/07/2015\"], [20741, 20741, 0, 20742, \"Sin datos\", 0, \"Sin datos\", \"Sin datos\", \"2015-07-21\", \"PLD 16 REF SALAMANCA-TAR GUADALAJARA\", \"Jalisco\", \"PERMANENTE\", \"Perforada\", 659, \"Sin datos\", \"Sin datos\", \"Sin datos\", 2015, \"DUC-TR-PLD-RD659\", \"Sin datos\", \"21/07/2015\"], [20742, 20742, 0, 20743, \"Sin datos\", 0, \"Sin datos\", \"Sin datos\", \"2015-07-22\", \"PLD 16 REF SALAMANCA-TAR GUADALAJARA\", \"Jalisco\", \"PERMANENTE\", \"Perforada\", 659, \"Sin datos\", \"Sin datos\", \"Sin datos\", 2015, \"DUC-TR-PLD-RD659\", \"Sin datos\", \"22/07/2015\"], [20743, 20743, 0, 20744, \"Sin datos\", 0, \"Sin datos\", \"Sin datos\", \"2015-07-21\", \"PLD 16 REF SALAMANCA-TAR GUADALAJARA\", \"Jalisco\", \"PERMANENTE\", \"Perforada\", 659, \"Sin datos\", \"Sin datos\", \"Sin datos\", 2015, \"DUC-TR-PLD-RD659\", \"Sin datos\", \"21/07/2015\"], [20744, 20744, 0, 20745, \"Sin datos\", 0, \"Sin datos\", \"Sin datos\", \"2015-07-22\", \"PLD 16 REF SALAMANCA-TAR GUADALAJARA\", \"Jalisco\", \"PERMANENTE\", \"Perforada\", 659, \"Sin datos\", \"Sin datos\", \"Sin datos\", 2015, \"DUC-TR-PLD-RD659\", \"Sin datos\", \"22/07/2015\"], [20745, 20745, 0, 20746, \"Sin datos\", 0, \"Sin datos\", \"Sin datos\", \"2015-07-19\", \"PLD 16 REF TULA-TAR TOLUCA\", \"Quer\\u00e9taro\", \"PERMANENTE\", \"Perforada\", 646, \"Sin datos\", \"Sin datos\", \"Sin datos\", 2015, \"DUC-TR-PLD-RD646\", \"Sin datos\", \"19/07/2015\"], [20746, 20746, 0, 20747, \"Sin datos\", 0, \"Sin datos\", \"Sin datos\", \"2015-07-21\", \"PLD 16 REF SALAMANCA-TAR GUADALAJARA\", \"Guanajuato\", \"PROVISIONAL\", \"Perforada\", 659, \"Sin datos\", \"Sin datos\", \"Sin datos\", 2015, \"DUC-TR-PLD-RD659\", \"Sin datos\", \"21/07/2015\"], [20747, 20747, 0, 20748, \"Sin datos\", 0, \"Sin datos\", \"Sin datos\", \"2015-07-22\", \"PLD 10 REF SALAMANCA-TAR MORELIA\", \"Guanajuato\", \"PROVISIONAL\", \"Perforada\", 653, \"Sin datos\", \"Sin datos\", \"Sin datos\", 2015, \"DUC-TR-PLD-RD653\", \"Sin datos\", \"22/07/2015\"], [20748, 20748, 0, 20749, \"Sin datos\", 0, \"Sin datos\", \"Sin datos\", \"2015-07-20\", \"PLD 10 REF SALAMANCA-TAR MORELIA\", \"Guanajuato\", \"PERMANENTE\", \"Perforada\", 653, \"Sin datos\", \"Sin datos\", \"Sin datos\", 2015, \"DUC-TR-PLD-RD653\", \"Sin datos\", \"20/07/2015\"], [20749, 20749, 0, 20750, \"Sin datos\", 0, \"Sin datos\", \"Sin datos\", \"2015-07-21\", \"PLD 8 REF SALAMANCA-TAR LEON\", \"Guanajuato\", \"PERMANENTE\", \"Perforada\", 657, \"Sin datos\", \"Sin datos\", \"Sin datos\", 2015, \"DUC-TR-PLD-RD657\", \"Sin datos\", \"21/07/2015\"], [20750, 20750, 0, 20751, \"Sin datos\", 0, \"Sin datos\", \"Sin datos\", \"2015-07-20\", \"PLD 8 REF SALAMANCA-TAR LEON\", \"Guanajuato\", \"PROVISIONAL\", \"Perforada\", 657, \"Sin datos\", \"Sin datos\", \"Sin datos\", 2015, \"DUC-TR-PLD-RD657\", \"Sin datos\", \"20/07/2015\"], [20751, 20751, 0, 20752, \"Sin datos\", 0, \"Sin datos\", \"Sin datos\", \"2015-07-22\", \"PLD 10 REF SALAMANCA-TAR IRAPUATO DIESEL\", \"Guanajuato\", \"PROVISIONAL\", \"Perforada\", 656, \"Sin datos\", \"Sin datos\", \"Sin datos\", 2015, \"DUC-TR-PLD-RD656\", \"Sin datos\", \"22/07/2015\"], [20752, 20752, 0, 20753, \"Sin datos\", 0, \"Sin datos\", \"Sin datos\", \"2015-07-22\", \"PLD 8 REF SALAMANCA-TAR LEON\", \"Guanajuato\", \"PERMANENTE\", \"Perforada\", 657, \"Sin datos\", \"Sin datos\", \"Sin datos\", 2015, \"DUC-TR-PLD-RD657\", \"Sin datos\", \"22/07/2015\"], [20753, 20753, 0, 20754, \"Sin datos\", 0, \"Sin datos\", \"Sin datos\", \"2015-07-22\", \"PLD 16 REF SALAMANCA-TAR GUADALAJARA\", \"Guanajuato\", \"PROVISIONAL\", \"Perforada\", 659, \"Sin datos\", \"Sin datos\", \"Sin datos\", 2015, \"DUC-TR-PLD-RD659\", \"Sin datos\", \"22/07/2015\"], [20754, 20754, 0, 20755, \"Sin datos\", 0, \"Sin datos\", \"Sin datos\", \"2015-07-22\", \"PLD 8 REF SALAMANCA-TAR LEON\", \"Guanajuato\", \"PERMANENTE\", \"Perforada\", 657, \"Sin datos\", \"Sin datos\", \"Sin datos\", 2015, \"DUC-TR-PLD-RD657\", \"Sin datos\", \"22/07/2015\"], [20755, 20755, 0, 20756, \"Sin datos\", 0, \"Sin datos\", \"Sin datos\", \"2015-07-22\", \"PLD 18 CAB POZA RICA-AZCAPOTZALCO\", \"Hidalgo\", \"PROVISIONAL\", \"Perforada\", 644, \"Sin datos\", \"Sin datos\", \"Sin datos\", 2015, \"DUC-TR-PLD-RD644\", \"Sin datos\", \"22/07/2015\"], [20756, 20756, 0, 20757, \"Sin datos\", 0, \"Sin datos\", \"Sin datos\", \"2015-07-22\", \"PLD 18 CAB POZA RICA-AZCAPOTZALCO\", \"Hidalgo\", \"PROVISIONAL\", \"Perforada\", 644, \"Sin datos\", \"Sin datos\", \"Sin datos\", 2015, \"DUC-TR-PLD-RD644\", \"Sin datos\", \"22/07/2015\"], [20757, 20757, 0, 20758, \"Sin datos\", 0, \"Sin datos\", \"Sin datos\", \"2015-07-20\", \"PLD 10 TAR GOMEZ PALACIO-TAR CHIHUAHUA\", \"Chihuahua\", \"PERMANENTE\", \"Perforada\", 674, \"Sin datos\", \"Sin datos\", \"Sin datos\", 2015, \"DUC-TR-PLD-RD674\", \"Sin datos\", \"20/07/2015\"], [20758, 20758, 0, 20759, \"Sin datos\", 0, \"Sin datos\", \"Sin datos\", \"2015-07-20\", \"PLD 12 REF MADERO-REF CADEREYTA\", \"Tamaulipas\", \"PERMANENTE\", \"No Perforada\", 667, \"Sin datos\", \"Sin datos\", \"Sin datos\", 2015, \"DUC-TR-PLD-RD667\", \"Sin datos\", \"20/07/2015\"], [20759, 20759, 0, 20760, \"Sin datos\", 0, \"Sin datos\", \"Sin datos\", \"2015-07-21\", \"PLD 12 REF MADERO-REF CADEREYTA\", \"Tamaulipas\", \"PROVISIONAL\", \"Perforada\", 667, \"Sin datos\", \"Sin datos\", \"Sin datos\", 2015, \"DUC-TR-PLD-RD667\", \"Sin datos\", \"21/07/2015\"], [20760, 20760, 0, 20761, \"Sin datos\", 0, \"Sin datos\", \"Sin datos\", \"2015-07-22\", \"PLD 12 REF MADERO-REF CADEREYTA\", \"Tamaulipas\", \"PROVISIONAL\", \"Perforada\", 667, \"Sin datos\", \"Sin datos\", \"Sin datos\", 2015, \"DUC-TR-PLD-RD667\", \"Sin datos\", \"22/07/2015\"], [20761, 20761, 0, 20762, \"Sin datos\", 0, \"Sin datos\", \"Sin datos\", \"2015-07-20\", \"PLD 12 REF MADERO-REF CADEREYTA\", \"Tamaulipas\", \"PROVISIONAL\", \"Perforada\", 667, \"Sin datos\", \"Sin datos\", \"Sin datos\", 2015, \"DUC-TR-PLD-RD667\", \"Sin datos\", \"20/07/2015\"], [20762, 20762, 0, 20763, \"Sin datos\", 0, \"Sin datos\", \"Sin datos\", \"2015-07-20\", \"PLD 12-20-12-20-12-14 REF MINA-TRD AZTCO\", \"Veracruz\", \"PROVISIONAL\", \"Perforada\", 601, \"Sin datos\", \"Sin datos\", \"Sin datos\", 2015, \"DUC-TR-PLD-RD601\", \"Sin datos\", \"20/07/2015\"], [20763, 20763, 0, 20764, \"Sin datos\", 0, \"Sin datos\", \"Sin datos\", \"2015-07-20\", \"PLD 12-20-12-20-12-14 REF MINA-TRD AZTCO\", \"Veracruz\", \"PROVISIONAL\", \"Perforada\", 601, \"Sin datos\", \"Sin datos\", \"Sin datos\", 2015, \"DUC-TR-PLD-RD601\", \"Sin datos\", \"20/07/2015\"], [20764, 20764, 0, 20765, \"Sin datos\", 0, \"Sin datos\", \"Sin datos\", \"2015-07-20\", \"PLD 12-20-12-20-12-14 REF MINA-TRD AZTCO\", \"Veracruz\", \"PROVISIONAL\", \"Perforada\", 601, \"Sin datos\", \"Sin datos\", \"Sin datos\", 2015, \"DUC-TR-PLD-RD601\", \"Sin datos\", \"20/07/2015\"], [20765, 20765, 0, 20766, \"Sin datos\", 0, \"Sin datos\", \"Sin datos\", \"2015-07-21\", \"PLD 12-20-12-20-12-14 REF MINA-TRD AZTCO\", \"Puebla\", \"PROVISIONAL\", \"Perforada\", 601, \"Sin datos\", \"Sin datos\", \"Sin datos\", 2015, \"DUC-TR-PLD-RD601\", \"Sin datos\", \"21/07/2015\"], [20766, 20766, 0, 20767, \"Sin datos\", 0, \"Sin datos\", \"Sin datos\", \"2015-07-22\", \"PLD 12-20-12-20-12-14 REF MINA-TRD AZTCO\", \"Puebla\", \"PROVISIONAL\", \"Perforada\", 601, \"Sin datos\", \"Sin datos\", \"Sin datos\", 2015, \"DUC-TR-PLD-RD601\", \"Sin datos\", \"22/07/2015\"], [20767, 20767, 0, 20768, \"Sin datos\", 0, \"Sin datos\", \"Sin datos\", \"2015-07-21\", \"PLD 12-20-12-20-12-14 REF MINA-TRD AZTCO\", \"Puebla\", \"PROVISIONAL\", \"Perforada\", 601, \"Sin datos\", \"Sin datos\", \"Sin datos\", 2015, \"DUC-TR-PLD-RD601\", \"Sin datos\", \"21/07/2015\"], [20768, 20768, 0, 20769, \"Sin datos\", 0, \"Sin datos\", \"Sin datos\", \"2015-07-20\", \"PLD 12-20-12-20-12-14 REF MINA-TRD AZTCO\", \"Puebla\", \"PERMANENTE\", \"Perforada\", 601, \"Sin datos\", \"Sin datos\", \"Sin datos\", 2015, \"DUC-TR-PLD-RD601\", \"Sin datos\", \"20/07/2015\"], [20769, 20769, 0, 20770, \"Sin datos\", 0, \"Sin datos\", \"Sin datos\", \"2015-07-20\", \"PLD 12-20-12-20-12-14 REF MINA-TRD AZTCO\", \"Puebla\", \"PERMANENTE\", \"Perforada\", 601, \"Sin datos\", \"Sin datos\", \"Sin datos\", 2015, \"DUC-TR-PLD-RD601\", \"Sin datos\", \"20/07/2015\"], [20770, 20770, 0, 20771, \"Sin datos\", 0, \"Sin datos\", \"Sin datos\", \"2015-07-20\", \"PLD 12-20-12-20-12-14 REF MINA-TRD AZTCO\", \"Puebla\", \"PERMANENTE\", \"Perforada\", 601, \"Sin datos\", \"Sin datos\", \"Sin datos\", 2015, \"DUC-TR-PLD-RD601\", \"Sin datos\", \"20/07/2015\"], [20771, 20771, 0, 20772, \"Sin datos\", 0, \"Sin datos\", \"Sin datos\", \"2015-07-21\", \"PLD 12-20-12-20-12-14 REF MINA-TRD AZTCO\", \"Oaxaca\", \"PERMANENTE\", \"Perforada\", 601, \"Sin datos\", \"Sin datos\", \"Sin datos\", 2015, \"DUC-TR-PLD-RD601\", \"Sin datos\", \"21/07/2015\"], [20772, 20772, 0, 20773, \"Sin datos\", 0, \"Sin datos\", \"Sin datos\", \"2015-07-21\", \"OLD 24 NUEVO TEAPA-TULA (L2)\", \"Tlaxcala\", \"PERMANENTE\", \"Perforada\", 111, \"Sin datos\", \"Sin datos\", \"Sin datos\", 2015, \"DUC-TR-OLD-RD111\", \"Sin datos\", \"21/07/2015\"], [20773, 20773, 0, 20774, \"Sin datos\", 0, \"Sin datos\", \"Sin datos\", \"2015-07-20\", \"PLD 12 REF MINATITLAN-TAR VILLAHERMOSA\", \"Tabasco\", \"PERMANENTE\", \"Perforada\", 603, \"Sin datos\", \"Sin datos\", \"Sin datos\", 2015, \"DUC-TR-PLD-RD603\", \"Sin datos\", \"20/07/2015\"], [20774, 20774, 0, 20775, \"Sin datos\", 0, \"Sin datos\", \"Sin datos\", \"2015-07-22\", \"PLD 12 REF MINATITLAN-TAR VILLAHERMOSA\", \"Tabasco\", \"PROVISIONAL\", \"Perforada\", 603, \"Sin datos\", \"Sin datos\", \"Sin datos\", 2015, \"DUC-TR-PLD-RD603\", \"Sin datos\", \"22/07/2015\"], [20775, 20775, 0, 20776, \"Sin datos\", 0, \"Sin datos\", \"Sin datos\", \"2015-07-22\", \"PLD 12 REF CADEREYTA-REYNOSA-MATAMOROS\", \"Nuevo Le\\u00f3n\", \"PERMANENTE\", \"Perforada\", 677, \"Sin datos\", \"Sin datos\", \"Sin datos\", 2015, \"DUC-TR-PLD-RD677\", \"Sin datos\", \"22/07/2015\"], [20776, 20776, 0, 20777, \"Sin datos\", 0, \"Sin datos\", \"Sin datos\", \"2015-07-20\", \"PLD 10 TAR ROSARITO-TAR MEXICALI\", \"Baja California\", \"PROVISIONAL\", \"Perforada\", 683, \"Sin datos\", \"Sin datos\", \"Sin datos\", 2015, \"DUC-TR-PLD-RD683\", \"Sin datos\", \"20/07/2015\"], [20777, 20777, 0, 20778, \"Sin datos\", 0, \"Sin datos\", \"Sin datos\", \"2015-07-21\", \"PLD 10 TAR ROSARITO-TAR MEXICALI\", \"Baja California\", \"PROVISIONAL\", \"Perforada\", 683, \"Sin datos\", \"Sin datos\", \"Sin datos\", 2015, \"DUC-TR-PLD-RD683\", \"Sin datos\", \"21/07/2015\"], [20778, 20778, 0, 20779, \"Sin datos\", 0, \"Sin datos\", \"Sin datos\", \"2015-07-22\", \"PLD 10 TAR ROSARITO-TAR MEXICALI\", \"Baja California\", \"PERMANENTE\", \"Perforada\", 683, \"Sin datos\", \"Sin datos\", \"Sin datos\", 2015, \"DUC-TR-PLD-RD683\", \"Sin datos\", \"22/07/2015\"], [20779, 20779, 0, 20780, \"Sin datos\", 0, \"Sin datos\", \"Sin datos\", \"2015-06-15\", \"PLD 10 TAR ROSARITO-TAR MEXICALI\", \"Baja California\", \"PERMANENTE\", \"No Perforada\", 683, \"Sin datos\", \"Sin datos\", \"Sin datos\", 2015, \"DUC-TR-PLD-RD683\", \"Sin datos\", \"15/06/2015\"], [20780, 20780, 0, 20781, \"Sin datos\", 0, \"Sin datos\", \"Sin datos\", \"2015-07-20\", \"PLD 16 REF MINATITLAN-REF SALINA CR(BID)\", \"Oaxaca\", \"PERMANENTE\", \"Perforada\", 606, \"Sin datos\", \"Sin datos\", \"Sin datos\", 2015, \"DUC-TR-PLD-RD606\", \"Sin datos\", \"20/07/2015\"], [20781, 20781, 0, 20782, \"Sin datos\", 0, \"Sin datos\", \"Sin datos\", \"2015-07-20\", \"PLD 10 TAR TOPOLOBAMPO-TAR CULIACAN\", \"Sinaloa\", \"PERMANENTE\", \"Perforada\", 689, \"Sin datos\", \"Sin datos\", \"Sin datos\", 2015, \"DUC-TR-PLD-RD689\", \"Sin datos\", \"20/07/2015\"], [20782, 20782, 0, 20783, \"Sin datos\", 0, \"Sin datos\", \"Sin datos\", \"2015-07-23\", \"PLD 16 REF SALAMANCA-TAR GUADALAJARA\", \"Jalisco\", \"PERMANENTE\", \"Perforada\", 659, \"Sin datos\", \"Sin datos\", \"Sin datos\", 2015, \"DUC-TR-PLD-RD659\", \"Sin datos\", \"23/07/2015\"], [20783, 20783, 0, 20784, \"Sin datos\", 0, \"Sin datos\", \"Sin datos\", \"2015-07-23\", \"PLD 8 REF SALAMANCA-TAR LEON\", \"Guanajuato\", \"PERMANENTE\", \"Perforada\", 657, \"Sin datos\", \"Sin datos\", \"Sin datos\", 2015, \"DUC-TR-PLD-RD657\", \"Sin datos\", \"23/07/2015\"], [20784, 20784, 0, 20785, \"Sin datos\", 0, \"Sin datos\", \"Sin datos\", \"2015-07-23\", \"PLD 12-14-12 REF TULA-REF SALAMANCA\", \"Hidalgo\", \"PROVISIONAL\", \"Perforada\", 648, \"Sin datos\", \"Sin datos\", \"Sin datos\", 2015, \"DUC-TR-PLD-RD648\", \"Sin datos\", \"23/07/2015\"], [20785, 20785, 0, 20786, \"Sin datos\", 0, \"Sin datos\", \"Sin datos\", \"2015-07-23\", \"PLD 12-14-12 REF TULA-REF SALAMANCA\", \"Hidalgo\", \"PROVISIONAL\", \"Perforada\", 648, \"Sin datos\", \"Sin datos\", \"Sin datos\", 2015, \"DUC-TR-PLD-RD648\", \"Sin datos\", \"23/07/2015\"], [20786, 20786, 0, 20787, \"Sin datos\", 0, \"Sin datos\", \"Sin datos\", \"2015-07-23\", \"PLD 12 REF TULA-TAR AZCAPOTZALCO\", \"M\\u00e9xico\", \"PERMANENTE\", \"Perforada\", 666, \"Sin datos\", \"Sin datos\", \"Sin datos\", 2015, \"DUC-TR-PLD-RD666\", \"Sin datos\", \"23/07/2015\"], [20787, 20787, 0, 20788, \"Sin datos\", 0, \"Sin datos\", \"Sin datos\", \"2015-07-23\", \"PLD 12 REF TULA-TAR AZCAPOTZALCO\", \"M\\u00e9xico\", \"PERMANENTE\", \"Perforada\", 666, \"Sin datos\", \"Sin datos\", \"Sin datos\", 2015, \"DUC-TR-PLD-RD666\", \"Sin datos\", \"23/07/2015\"], [20788, 20788, 0, 20789, \"Sin datos\", 0, \"Sin datos\", \"Sin datos\", \"2015-07-23\", \"PLD 12-20-12-20-12-14 REF MINA-TRD AZTCO\", \"Veracruz\", \"PROVISIONAL\", \"Perforada\", 601, \"Sin datos\", \"Sin datos\", \"Sin datos\", 2015, \"DUC-TR-PLD-RD601\", \"Sin datos\", \"23/07/2015\"], [20789, 20789, 0, 20790, \"Sin datos\", 0, \"Sin datos\", \"Sin datos\", \"2015-07-23\", \"PLD 12 REF MADERO-REF CADEREYTA\", \"Tamaulipas\", \"PROVISIONAL\", \"Perforada\", 667, \"Sin datos\", \"Sin datos\", \"Sin datos\", 2015, \"DUC-TR-PLD-RD667\", \"Sin datos\", \"23/07/2015\"], [20790, 20790, 0, 20791, \"Sin datos\", 0, \"Sin datos\", \"Sin datos\", \"2015-07-23\", \"PLD 12 REF CADEREYTA-REYNOSA-MATAMOROS\", \"Nuevo Le\\u00f3n\", \"PERMANENTE\", \"Perforada\", 677, \"Sin datos\", \"Sin datos\", \"Sin datos\", 2015, \"DUC-TR-PLD-RD677\", \"Sin datos\", \"23/07/2015\"], [20791, 20791, 0, 20792, \"Sin datos\", 0, \"Sin datos\", \"Sin datos\", \"2015-07-23\", \"PLD 12 REF CADEREYTA-REYNOSA-MATAMOROS\", \"Nuevo Le\\u00f3n\", \"PERMANENTE\", \"Perforada\", 677, \"Sin datos\", \"Sin datos\", \"Sin datos\", 2015, \"DUC-TR-PLD-RD677\", \"Sin datos\", \"23/07/2015\"], [20792, 20792, 0, 20793, \"Sin datos\", 0, \"Sin datos\", \"Sin datos\", \"2015-07-22\", \"PLD 12 REF CADEREYTA-REYNOSA-MATAMOROS\", \"Nuevo Le\\u00f3n\", \"PERMANENTE\", \"Perforada\", 677, \"Sin datos\", \"Sin datos\", \"Sin datos\", 2015, \"DUC-TR-PLD-RD677\", \"Sin datos\", \"22/07/2015\"], [20793, 20793, 0, 20794, \"Sin datos\", 0, \"Sin datos\", \"Sin datos\", \"2015-07-23\", \"PLD 18 REF CADEREYTA-TAR SATELITE\", \"Nuevo Le\\u00f3n\", \"PERMANENTE\", \"Perforada\", 668, \"Sin datos\", \"Sin datos\", \"Sin datos\", 2015, \"DUC-TR-PLD-RD668\", \"Sin datos\", \"23/07/2015\"], [20794, 20794, 0, 20795, \"Sin datos\", 0, \"Sin datos\", \"Sin datos\", \"2015-07-23\", \"PLD 14 CAB POZA RICA-REF TULA\", \"Puebla\", \"PROVISIONAL\", \"Perforada\", 643, \"Sin datos\", \"Sin datos\", \"Sin datos\", 2015, \"DUC-TR-PLD-RD643\", \"Sin datos\", \"23/07/2015\"], [20795, 20795, 0, 20796, \"Sin datos\", 0, \"Sin datos\", \"Sin datos\", \"2015-07-23\", \"PLD 18 CAB POZA RICA-AZCAPOTZALCO\", \"Puebla\", \"PROVISIONAL\", \"Perforada\", 644, \"Sin datos\", \"Sin datos\", \"Sin datos\", 2015, \"DUC-TR-PLD-RD644\", \"Sin datos\", \"23/07/2015\"], [20796, 20796, 0, 20797, \"Sin datos\", 0, \"Sin datos\", \"Sin datos\", \"2015-07-23\", \"PLD 12-20-12-20-12-14 REF MINA-TRD AZTCO\", \"Puebla\", \"PROVISIONAL\", \"Perforada\", 601, \"Sin datos\", \"Sin datos\", \"Sin datos\", 2015, \"DUC-TR-PLD-RD601\", \"Sin datos\", \"23/07/2015\"], [20797, 20797, 0, 20798, \"Sin datos\", 0, \"Sin datos\", \"Sin datos\", \"2015-07-23\", \"PLD 12-20-12-20-12-14 REF MINA-TRD AZTCO\", \"Puebla\", \"PROVISIONAL\", \"Perforada\", 601, \"Sin datos\", \"Sin datos\", \"Sin datos\", 2015, \"DUC-TR-PLD-RD601\", \"Sin datos\", \"23/07/2015\"], [20798, 20798, 0, 20799, \"Sin datos\", 0, \"Sin datos\", \"Sin datos\", \"2015-07-23\", \"PLD 12-20-12-20-12-14 REF MINA-TRD AZTCO\", \"Puebla\", \"PROVISIONAL\", \"Perforada\", 601, \"Sin datos\", \"Sin datos\", \"Sin datos\", 2015, \"DUC-TR-PLD-RD601\", \"Sin datos\", \"23/07/2015\"], [20799, 20799, 0, 20800, \"Sin datos\", 0, \"Sin datos\", \"Sin datos\", \"2015-07-23\", \"PLD 12-20-12-20-12-14 REF MINA-TRD AZTCO\", \"Puebla\", \"PERMANENTE\", \"Perforada\", 601, \"Sin datos\", \"Sin datos\", \"Sin datos\", 2015, \"DUC-TR-PLD-RD601\", \"Sin datos\", \"23/07/2015\"], [20800, 20800, 0, 20801, \"Sin datos\", 0, \"Sin datos\", \"Sin datos\", \"2015-07-24\", \"PLD 16 REF SALAMANCA-TAR GUADALAJARA\", \"Jalisco\", \"PERMANENTE\", \"Perforada\", 659, \"Sin datos\", \"Sin datos\", \"Sin datos\", 2015, \"DUC-TR-PLD-RD659\", \"Sin datos\", \"24/07/2015\"], [20801, 20801, 0, 20802, \"Sin datos\", 0, \"Sin datos\", \"Sin datos\", \"2015-07-27\", \"PLD 16 REF SALAMANCA-TAR GUADALAJARA\", \"Jalisco\", \"PERMANENTE\", \"Perforada\", 659, \"Sin datos\", \"Sin datos\", \"Sin datos\", 2015, \"DUC-TR-PLD-RD659\", \"Sin datos\", \"27/07/2015\"], [20802, 20802, 0, 20803, \"Sin datos\", 0, \"Sin datos\", \"Sin datos\", \"2015-07-24\", \"PLD 12-14-12 REF TULA-REF SALAMANCA\", \"Quer\\u00e9taro\", \"PROVISIONAL\", \"Perforada\", 648, \"Sin datos\", \"Sin datos\", \"Sin datos\", 2015, \"DUC-TR-PLD-RD648\", \"Sin datos\", \"24/07/2015\"], [20803, 20803, 0, 20804, \"Sin datos\", 0, \"Sin datos\", \"Sin datos\", \"2015-07-22\", \"PLD 10 REF SALAMANCA-TAR MORELIA\", \"Guanajuato\", \"PROVISIONAL\", \"Perforada\", 653, \"Sin datos\", \"Sin datos\", \"Sin datos\", 2015, \"DUC-TR-PLD-RD653\", \"Sin datos\", \"22/07/2015\"], [20804, 20804, 0, 20805, \"Sin datos\", 0, \"Sin datos\", \"Sin datos\", \"2015-07-26\", \"PLD 16 REF SALAMANCA-TAR GUADALAJARA\", \"Guanajuato\", \"PERMANENTE\", \"Perforada\", 659, \"Sin datos\", \"Sin datos\", \"Sin datos\", 2015, \"DUC-TR-PLD-RD659\", \"Sin datos\", \"26/07/2015\"], [20805, 20805, 0, 20806, \"Sin datos\", 0, \"Sin datos\", \"Sin datos\", \"2015-07-26\", \"PLD 16 REF SALAMANCA-TAR GUADALAJARA\", \"Guanajuato\", \"PERMANENTE\", \"Perforada\", 659, \"Sin datos\", \"Sin datos\", \"Sin datos\", 2015, \"DUC-TR-PLD-RD659\", \"Sin datos\", \"26/07/2015\"], [20806, 20806, 0, 20807, \"Sin datos\", 0, \"Sin datos\", \"Sin datos\", \"2015-07-25\", \"PLD 8 REF SALAMANCA-TAR LEON\", \"Guanajuato\", \"PROVISIONAL\", \"Perforada\", 657, \"Sin datos\", \"Sin datos\", \"Sin datos\", 2015, \"DUC-TR-PLD-RD657\", \"Sin datos\", \"25/07/2015\"], [20807, 20807, 0, 20808, \"Sin datos\", 0, \"Sin datos\", \"Sin datos\", \"2015-07-27\", \"PLD 10 REF SALAMANCA-TAR MORELIA\", \"Guanajuato\", \"PERMANENTE\", \"Perforada\", 653, \"Sin datos\", \"Sin datos\", \"Sin datos\", 2015, \"DUC-TR-PLD-RD653\", \"Sin datos\", \"27/07/2015\"], [20808, 20808, 0, 20809, \"Sin datos\", 0, \"Sin datos\", \"Sin datos\", \"2015-07-23\", \"PLD 8 REF SALAMANCA-TAR LEON\", \"Guanajuato\", \"PROVISIONAL\", \"Perforada\", 657, \"Sin datos\", \"Sin datos\", \"Sin datos\", 2015, \"DUC-TR-PLD-RD657\", \"Sin datos\", \"23/07/2015\"], [20809, 20809, 0, 20810, \"Sin datos\", 0, \"Sin datos\", \"Sin datos\", \"2015-07-27\", \"PLD 10 REF SALAMANCA-TAR MORELIA\", \"Guanajuato\", \"PERMANENTE\", \"Perforada\", 653, \"Sin datos\", \"Sin datos\", \"Sin datos\", 2015, \"DUC-TR-PLD-RD653\", \"Sin datos\", \"27/07/2015\"], [20810, 20810, 0, 20811, \"Sin datos\", 0, \"Sin datos\", \"Sin datos\", \"2015-07-26\", \"PLD 8 REF SALAMANCA-TAR LEON\", \"Guanajuato\", \"PERMANENTE\", \"Perforada\", 657, \"Sin datos\", \"Sin datos\", \"Sin datos\", 2015, \"DUC-TR-PLD-RD657\", \"Sin datos\", \"26/07/2015\"], [20811, 20811, 0, 20812, \"Sin datos\", 0, \"Sin datos\", \"Sin datos\", \"2015-07-23\", \"PLD 8 REF SALAMANCA-TAR LEON\", \"Guanajuato\", \"PERMANENTE\", \"Perforada\", 657, \"Sin datos\", \"Sin datos\", \"Sin datos\", 2015, \"DUC-TR-PLD-RD657\", \"Sin datos\", \"23/07/2015\"], [20812, 20812, 0, 20813, \"Sin datos\", 0, \"Sin datos\", \"Sin datos\", \"2015-07-23\", \"PLD 8 REF SALAMANCA-TAR LEON\", \"Guanajuato\", \"PROVISIONAL\", \"Perforada\", 657, \"Sin datos\", \"Sin datos\", \"Sin datos\", 2015, \"DUC-TR-PLD-RD657\", \"Sin datos\", \"23/07/2015\"], [20813, 20813, 0, 20814, \"Sin datos\", 0, \"Sin datos\", \"Sin datos\", \"2015-07-23\", \"PLD 8 REF SALAMANCA-TAR LEON\", \"Guanajuato\", \"PROVISIONAL\", \"Perforada\", 657, \"Sin datos\", \"Sin datos\", \"Sin datos\", 2015, \"DUC-TR-PLD-RD657\", \"Sin datos\", \"23/07/2015\"], [20814, 20814, 0, 20815, \"Sin datos\", 0, \"Sin datos\", \"Sin datos\", \"2015-07-23\", \"PLD 8 REF SALAMANCA-TAR LEON\", \"Guanajuato\", \"PROVISIONAL\", \"Perforada\", 657, \"Sin datos\", \"Sin datos\", \"Sin datos\", 2015, \"DUC-TR-PLD-RD657\", \"Sin datos\", \"23/07/2015\"], [20815, 20815, 0, 20816, \"Sin datos\", 0, \"Sin datos\", \"Sin datos\", \"2015-07-25\", \"PLD 18 CAB POZA RICA-AZCAPOTZALCO\", \"M\\u00e9xico\", \"PROVISIONAL\", \"Perforada\", 644, \"Sin datos\", \"Sin datos\", \"Sin datos\", 2015, \"DUC-TR-PLD-RD644\", \"Sin datos\", \"25/07/2015\"], [20816, 20816, 0, 20817, \"Sin datos\", 0, \"Sin datos\", \"Sin datos\", \"2015-07-25\", \"PLD 18 CAB POZA RICA-AZCAPOTZALCO\", \"M\\u00e9xico\", \"PROVISIONAL\", \"Perforada\", 644, \"Sin datos\", \"Sin datos\", \"Sin datos\", 2015, \"DUC-TR-PLD-RD644\", \"Sin datos\", \"25/07/2015\"], [20817, 20817, 0, 20818, \"Sin datos\", 0, \"Sin datos\", \"Sin datos\", \"2015-07-25\", \"PLD 18 CAB POZA RICA-AZCAPOTZALCO\", \"Hidalgo\", \"PERMANENTE\", \"Perforada\", 644, \"Sin datos\", \"Sin datos\", \"Sin datos\", 2015, \"DUC-TR-PLD-RD644\", \"Sin datos\", \"25/07/2015\"], [20818, 20818, 0, 20819, \"Sin datos\", 0, \"Sin datos\", \"Sin datos\", \"2015-07-27\", \"PLD 18 CAB POZA RICA-AZCAPOTZALCO\", \"Hidalgo\", \"PROVISIONAL\", \"Perforada\", 644, \"Sin datos\", \"Sin datos\", \"Sin datos\", 2015, \"DUC-TR-PLD-RD644\", \"Sin datos\", \"27/07/2015\"], [20819, 20819, 0, 20820, \"Sin datos\", 0, \"Sin datos\", \"Sin datos\", \"2015-07-25\", \"PLD 18 CAB POZA RICA-AZCAPOTZALCO\", \"Hidalgo\", \"PERMANENTE\", \"Perforada\", 644, \"Sin datos\", \"Sin datos\", \"Sin datos\", 2015, \"DUC-TR-PLD-RD644\", \"Sin datos\", \"25/07/2015\"], [20820, 20820, 0, 20821, \"Sin datos\", 0, \"Sin datos\", \"Sin datos\", \"2015-07-26\", \"PLD 12 TAR GUAYMAS-TAR CD OBREGON\", \"Sonora\", \"PROVISIONAL\", \"Perforada\", 685, \"Sin datos\", \"Sin datos\", \"Sin datos\", 2015, \"DUC-TR-PLD-RD685\", \"Sin datos\", \"26/07/2015\"], [20821, 20821, 0, 20822, \"Sin datos\", 0, \"Sin datos\", \"Sin datos\", \"2015-07-27\", \"PLD 12 TAR GUAYMAS-TAR CD OBREGON\", \"Sonora\", \"PROVISIONAL\", \"Perforada\", 685, \"Sin datos\", \"Sin datos\", \"Sin datos\", 2015, \"DUC-TR-PLD-RD685\", \"Sin datos\", \"27/07/2015\"], [20822, 20822, 0, 20823, \"Sin datos\", 0, \"Sin datos\", \"Sin datos\", \"2015-02-07\", \"PLD 12 REF MADERO-REF CADEREYTA\", \"Tamaulipas\", \"PERMANENTE\", \"Perforada\", 667, \"Sin datos\", \"Sin datos\", \"Sin datos\", 2015, \"DUC-TR-PLD-RD667\", \"Sin datos\", \"07/02/2015\"], [20823, 20823, 0, 20824, \"Sin datos\", 0, \"Sin datos\", \"Sin datos\", \"2015-01-26\", \"PLD 12 REF MADERO-REF CADEREYTA\", \"Tamaulipas\", \"PERMANENTE\", \"Perforada\", 667, \"Sin datos\", \"Sin datos\", \"Sin datos\", 2015, \"DUC-TR-PLD-RD667\", \"Sin datos\", \"26/01/2015\"], [20824, 20824, 0, 20825, \"Sin datos\", 0, \"Sin datos\", \"Sin datos\", \"2015-03-23\", \"PLD 12 REF MADERO-REF CADEREYTA\", \"Tamaulipas\", \"PERMANENTE\", \"Perforada\", 667, \"Sin datos\", \"Sin datos\", \"Sin datos\", 2015, \"DUC-TR-PLD-RD667\", \"Sin datos\", \"23/03/2015\"], [20825, 20825, 0, 20826, \"Sin datos\", 0, \"Sin datos\", \"Sin datos\", \"2015-07-27\", \"PLD 12 REF MADERO-REF CADEREYTA\", \"Tamaulipas\", \"PROVISIONAL\", \"No Perforada\", 667, \"Sin datos\", \"Sin datos\", \"Sin datos\", 2015, \"DUC-TR-PLD-RD667\", \"Sin datos\", \"27/07/2015\"], [20826, 20826, 0, 20827, \"Sin datos\", 0, \"Sin datos\", \"Sin datos\", \"2015-03-20\", \"PLD 12 REF MADERO-REF CADEREYTA\", \"Tamaulipas\", \"PERMANENTE\", \"Perforada\", 667, \"Sin datos\", \"Sin datos\", \"Sin datos\", 2015, \"DUC-TR-PLD-RD667\", \"Sin datos\", \"20/03/2015\"], [20827, 20827, 0, 20828, \"Sin datos\", 0, \"Sin datos\", \"Sin datos\", \"2015-02-05\", \"PLD 12 REF MADERO-REF CADEREYTA\", \"Tamaulipas\", \"PERMANENTE\", \"Perforada\", 667, \"Sin datos\", \"Sin datos\", \"Sin datos\", 2015, \"DUC-TR-PLD-RD667\", \"Sin datos\", \"05/02/2015\"], [20828, 20828, 0, 20829, \"Sin datos\", 0, \"Sin datos\", \"Sin datos\", \"2015-02-19\", \"PLD 12 REF MADERO-REF CADEREYTA\", \"Tamaulipas\", \"PERMANENTE\", \"Perforada\", 667, \"Sin datos\", \"Sin datos\", \"Sin datos\", 2015, \"DUC-TR-PLD-RD667\", \"Sin datos\", \"19/02/2015\"], [20829, 20829, 0, 20830, \"Sin datos\", 0, \"Sin datos\", \"Sin datos\", \"2015-01-07\", \"PLD 12 REF MADERO-REF CADEREYTA\", \"Tamaulipas\", \"PERMANENTE\", \"Perforada\", 667, \"Sin datos\", \"Sin datos\", \"Sin datos\", 2015, \"DUC-TR-PLD-RD667\", \"Sin datos\", \"07/01/2015\"], [20830, 20830, 0, 20831, \"Sin datos\", 0, \"Sin datos\", \"Sin datos\", \"2015-03-20\", \"PLD 12 REF MADERO-REF CADEREYTA\", \"Tamaulipas\", \"PERMANENTE\", \"Perforada\", 667, \"Sin datos\", \"Sin datos\", \"Sin datos\", 2015, \"DUC-TR-PLD-RD667\", \"Sin datos\", \"20/03/2015\"], [20831, 20831, 0, 20832, \"Sin datos\", 0, \"Sin datos\", \"Sin datos\", \"2015-07-27\", \"PLD 12 REF MADERO-REF CADEREYTA\", \"Tamaulipas\", \"PROVISIONAL\", \"Perforada\", 667, \"Sin datos\", \"Sin datos\", \"Sin datos\", 2015, \"DUC-TR-PLD-RD667\", \"Sin datos\", \"27/07/2015\"], [20832, 20832, 0, 20833, \"Sin datos\", 0, \"Sin datos\", \"Sin datos\", \"2015-03-19\", \"PLD 12 REF MADERO-REF CADEREYTA\", \"Tamaulipas\", \"PERMANENTE\", \"Perforada\", 667, \"Sin datos\", \"Sin datos\", \"Sin datos\", 2015, \"DUC-TR-PLD-RD667\", \"Sin datos\", \"19/03/2015\"], [20833, 20833, 0, 20834, \"Sin datos\", 0, \"Sin datos\", \"Sin datos\", \"2015-03-09\", \"PLD 12 REF MADERO-REF CADEREYTA\", \"Tamaulipas\", \"PERMANENTE\", \"Perforada\", 667, \"Sin datos\", \"Sin datos\", \"Sin datos\", 2015, \"DUC-TR-PLD-RD667\", \"Sin datos\", \"09/03/2015\"], [20834, 20834, 0, 20835, \"Sin datos\", 0, \"Sin datos\", \"Sin datos\", \"2015-01-28\", \"PLD 12 REF MADERO-REF CADEREYTA\", \"Tamaulipas\", \"PERMANENTE\", \"Perforada\", 667, \"Sin datos\", \"Sin datos\", \"Sin datos\", 2015, \"DUC-TR-PLD-RD667\", \"Sin datos\", \"28/01/2015\"], [20835, 20835, 0, 20836, \"Sin datos\", 0, \"Sin datos\", \"Sin datos\", \"2015-02-20\", \"PLD 12 REF MADERO-REF CADEREYTA\", \"Tamaulipas\", \"PERMANENTE\", \"No Perforada\", 667, \"Sin datos\", \"Sin datos\", \"Sin datos\", 2015, \"DUC-TR-PLD-RD667\", \"Sin datos\", \"20/02/2015\"], [20836, 20836, 0, 20837, \"Sin datos\", 0, \"Sin datos\", \"Sin datos\", \"2015-01-22\", \"PLD 12 REF MADERO-REF CADEREYTA\", \"Tamaulipas\", \"PERMANENTE\", \"Perforada\", 667, \"Sin datos\", \"Sin datos\", \"Sin datos\", 2015, \"DUC-TR-PLD-RD667\", \"Sin datos\", \"22/01/2015\"], [20837, 20837, 0, 20838, \"Sin datos\", 0, \"Sin datos\", \"Sin datos\", \"2015-02-20\", \"PLD 12 REF MADERO-REF CADEREYTA\", \"Tamaulipas\", \"PERMANENTE\", \"Perforada\", 667, \"Sin datos\", \"Sin datos\", \"Sin datos\", 2015, \"DUC-TR-PLD-RD667\", \"Sin datos\", \"20/02/2015\"], [20838, 20838, 0, 20839, \"Sin datos\", 0, \"Sin datos\", \"Sin datos\", \"2015-07-27\", \"PLD 12 REF MADERO-REF CADEREYTA\", \"Tamaulipas\", \"PROVISIONAL\", \"Perforada\", 667, \"Sin datos\", \"Sin datos\", \"Sin datos\", 2015, \"DUC-TR-PLD-RD667\", \"Sin datos\", \"27/07/2015\"], [20839, 20839, 0, 20840, \"Sin datos\", 0, \"Sin datos\", \"Sin datos\", \"2015-02-05\", \"PLD 12 REF MADERO-REF CADEREYTA\", \"Tamaulipas\", \"PERMANENTE\", \"No Perforada\", 667, \"Sin datos\", \"Sin datos\", \"Sin datos\", 2015, \"DUC-TR-PLD-RD667\", \"Sin datos\", \"05/02/2015\"], [20840, 20840, 0, 20841, \"Sin datos\", 0, \"Sin datos\", \"Sin datos\", \"2015-02-19\", \"PLD 12 REF MADERO-REF CADEREYTA\", \"Tamaulipas\", \"PERMANENTE\", \"Perforada\", 667, \"Sin datos\", \"Sin datos\", \"Sin datos\", 2015, \"DUC-TR-PLD-RD667\", \"Sin datos\", \"19/02/2015\"], [20841, 20841, 0, 20842, \"Sin datos\", 0, \"Sin datos\", \"Sin datos\", \"2015-01-04\", \"PLD 12 REF MADERO-REF CADEREYTA\", \"Tamaulipas\", \"PERMANENTE\", \"Perforada\", 667, \"Sin datos\", \"Sin datos\", \"Sin datos\", 2015, \"DUC-TR-PLD-RD667\", \"Sin datos\", \"04/01/2015\"], [20842, 20842, 0, 20843, \"Sin datos\", 0, \"Sin datos\", \"Sin datos\", \"2015-02-18\", \"PLD 12 REF MADERO-REF CADEREYTA\", \"Tamaulipas\", \"PERMANENTE\", \"Perforada\", 667, \"Sin datos\", \"Sin datos\", \"Sin datos\", 2015, \"DUC-TR-PLD-RD667\", \"Sin datos\", \"18/02/2015\"], [20843, 20843, 0, 20844, \"Sin datos\", 0, \"Sin datos\", \"Sin datos\", \"2015-07-27\", \"PLD 12 REF MADERO-REF CADEREYTA\", \"Tamaulipas\", \"PROVISIONAL\", \"Perforada\", 667, \"Sin datos\", \"Sin datos\", \"Sin datos\", 2015, \"DUC-TR-PLD-RD667\", \"Sin datos\", \"27/07/2015\"], [20844, 20844, 0, 20845, \"Sin datos\", 0, \"Sin datos\", \"Sin datos\", \"2015-07-27\", \"PLD 12 REF MADERO-REF CADEREYTA\", \"Tamaulipas\", \"PROVISIONAL\", \"Perforada\", 667, \"Sin datos\", \"Sin datos\", \"Sin datos\", 2015, \"DUC-TR-PLD-RD667\", \"Sin datos\", \"27/07/2015\"], [20845, 20845, 0, 20846, \"Sin datos\", 0, \"Sin datos\", \"Sin datos\", \"2015-02-18\", \"PLD 12 REF MADERO-REF CADEREYTA\", \"Tamaulipas\", \"PERMANENTE\", \"Perforada\", 667, \"Sin datos\", \"Sin datos\", \"Sin datos\", 2015, \"DUC-TR-PLD-RD667\", \"Sin datos\", \"18/02/2015\"], [20846, 20846, 0, 20847, \"Sin datos\", 0, \"Sin datos\", \"Sin datos\", \"2015-02-09\", \"PLD 12 REF MADERO-REF CADEREYTA\", \"Tamaulipas\", \"PERMANENTE\", \"Perforada\", 667, \"Sin datos\", \"Sin datos\", \"Sin datos\", 2015, \"DUC-TR-PLD-RD667\", \"Sin datos\", \"09/02/2015\"], [20847, 20847, 0, 20848, \"Sin datos\", 0, \"Sin datos\", \"Sin datos\", \"2015-01-09\", \"PLD 12 REF MADERO-REF CADEREYTA\", \"Tamaulipas\", \"PERMANENTE\", \"Perforada\", 667, \"Sin datos\", \"Sin datos\", \"Sin datos\", 2015, \"DUC-TR-PLD-RD667\", \"Sin datos\", \"09/01/2015\"], [20848, 20848, 0, 20849, \"Sin datos\", 0, \"Sin datos\", \"Sin datos\", \"2015-01-29\", \"PLD 12 REF MADERO-REF CADEREYTA\", \"Tamaulipas\", \"PERMANENTE\", \"Perforada\", 667, \"Sin datos\", \"Sin datos\", \"Sin datos\", 2015, \"DUC-TR-PLD-RD667\", \"Sin datos\", \"29/01/2015\"], [20849, 20849, 0, 20850, \"Sin datos\", 0, \"Sin datos\", \"Sin datos\", \"2015-02-13\", \"PLD 12 REF MADERO-REF CADEREYTA\", \"Tamaulipas\", \"PERMANENTE\", \"Perforada\", 667, \"Sin datos\", \"Sin datos\", \"Sin datos\", 2015, \"DUC-TR-PLD-RD667\", \"Sin datos\", \"13/02/2015\"], [20850, 20850, 0, 20851, \"Sin datos\", 0, \"Sin datos\", \"Sin datos\", \"2015-01-05\", \"PLD 12 REF MADERO-REF CADEREYTA\", \"Tamaulipas\", \"PERMANENTE\", \"Perforada\", 667, \"Sin datos\", \"Sin datos\", \"Sin datos\", 2015, \"DUC-TR-PLD-RD667\", \"Sin datos\", \"05/01/2015\"], [20851, 20851, 0, 20852, \"Sin datos\", 0, \"Sin datos\", \"Sin datos\", \"2015-02-09\", \"PLD 12 REF MADERO-REF CADEREYTA\", \"Tamaulipas\", \"PERMANENTE\", \"Perforada\", 667, \"Sin datos\", \"Sin datos\", \"Sin datos\", 2015, \"DUC-TR-PLD-RD667\", \"Sin datos\", \"09/02/2015\"], [20852, 20852, 0, 20853, \"Sin datos\", 0, \"Sin datos\", \"Sin datos\", \"2015-07-27\", \"PLD 12-20-12-20-12-14 REF MINA-TRD AZTCO\", \"Veracruz\", \"PROVISIONAL\", \"Perforada\", 601, \"Sin datos\", \"Sin datos\", \"Sin datos\", 2015, \"DUC-TR-PLD-RD601\", \"Sin datos\", \"27/07/2015\"], [20853, 20853, 0, 20854, \"Sin datos\", 0, \"Sin datos\", \"Sin datos\", \"2015-07-24\", \"PLD 12-20-12-20-12-14 REF MINA-TRD AZTCO\", \"Puebla\", \"PROVISIONAL\", \"Perforada\", 601, \"Sin datos\", \"Sin datos\", \"Sin datos\", 2015, \"DUC-TR-PLD-RD601\", \"Sin datos\", \"24/07/2015\"], [20854, 20854, 0, 20855, \"Sin datos\", 0, \"Sin datos\", \"Sin datos\", \"2015-07-26\", \"PLD 12-20-12-20-12-14 REF MINA-TRD AZTCO\", \"Puebla\", \"PROVISIONAL\", \"Perforada\", 601, \"Sin datos\", \"Sin datos\", \"Sin datos\", 2015, \"DUC-TR-PLD-RD601\", \"Sin datos\", \"26/07/2015\"], [20855, 20855, 0, 20856, \"Sin datos\", 0, \"Sin datos\", \"Sin datos\", \"2015-07-24\", \"PLD 12-20-12-20-12-14 REF MINA-TRD AZTCO\", \"Puebla\", \"PROVISIONAL\", \"Perforada\", 601, \"Sin datos\", \"Sin datos\", \"Sin datos\", 2015, \"DUC-TR-PLD-RD601\", \"Sin datos\", \"24/07/2015\"], [20856, 20856, 0, 20857, \"Sin datos\", 0, \"Sin datos\", \"Sin datos\", \"2015-07-26\", \"PLD 12-20-12-20-12-14 REF MINA-TRD AZTCO\", \"Puebla\", \"PROVISIONAL\", \"Perforada\", 601, \"Sin datos\", \"Sin datos\", \"Sin datos\", 2015, \"DUC-TR-PLD-RD601\", \"Sin datos\", \"26/07/2015\"], [20857, 20857, 0, 20858, \"Sin datos\", 0, \"Sin datos\", \"Sin datos\", \"2015-07-24\", \"PLD 12-20-12-20-12-14 REF MINA-TRD AZTCO\", \"Puebla\", \"PERMANENTE\", \"Perforada\", 601, \"Sin datos\", \"Sin datos\", \"Sin datos\", 2015, \"DUC-TR-PLD-RD601\", \"Sin datos\", \"24/07/2015\"], [20858, 20858, 0, 20859, \"Sin datos\", 0, \"Sin datos\", \"Sin datos\", \"2015-07-27\", \"PLD 12-20-12-20-12-14 REF MINA-TRD AZTCO\", \"Puebla\", \"PERMANENTE\", \"Perforada\", 601, \"Sin datos\", \"Sin datos\", \"Sin datos\", 2015, \"DUC-TR-PLD-RD601\", \"Sin datos\", \"27/07/2015\"], [20859, 20859, 0, 20860, \"Sin datos\", 0, \"Sin datos\", \"Sin datos\", \"2015-07-26\", \"PLD 12-20-12-20-12-14 REF MINA-TRD AZTCO\", \"Puebla\", \"PROVISIONAL\", \"Perforada\", 601, \"Sin datos\", \"Sin datos\", \"Sin datos\", 2015, \"DUC-TR-PLD-RD601\", \"Sin datos\", \"26/07/2015\"], [20860, 20860, 0, 20861, \"Sin datos\", 0, \"Sin datos\", \"Sin datos\", \"2015-07-24\", \"PLD 12-20-12-20-12-14 REF MINA-TRD AZTCO\", \"Puebla\", \"PERMANENTE\", \"Perforada\", 601, \"Sin datos\", \"Sin datos\", \"Sin datos\", 2015, \"DUC-TR-PLD-RD601\", \"Sin datos\", \"24/07/2015\"], [20861, 20861, 0, 20862, \"Sin datos\", 0, \"Sin datos\", \"Sin datos\", \"2015-07-26\", \"PLD 12-20-12-20-12-14 REF MINA-TRD AZTCO\", \"Puebla\", \"PROVISIONAL\", \"Perforada\", 601, \"Sin datos\", \"Sin datos\", \"Sin datos\", 2015, \"DUC-TR-PLD-RD601\", \"Sin datos\", \"26/07/2015\"], [20862, 20862, 0, 20863, \"Sin datos\", 0, \"Sin datos\", \"Sin datos\", \"2015-07-24\", \"PLD 12-20-12-20-12-14 REF MINA-TRD AZTCO\", \"Puebla\", \"PERMANENTE\", \"Perforada\", 601, \"Sin datos\", \"Sin datos\", \"Sin datos\", 2015, \"DUC-TR-PLD-RD601\", \"Sin datos\", \"24/07/2015\"], [20863, 20863, 0, 20864, \"Sin datos\", 0, \"Sin datos\", \"Sin datos\", \"2015-07-26\", \"PLD 16 REF TULA-TAR TOLUCA\", \"M\\u00e9xico\", \"PROVISIONAL\", \"Perforada\", 646, \"Sin datos\", \"Sin datos\", \"Sin datos\", 2015, \"DUC-TR-PLD-RD646\", \"Sin datos\", \"26/07/2015\"], [20864, 20864, 0, 20865, \"Sin datos\", 0, \"Sin datos\", \"Sin datos\", \"2015-07-26\", \"PLD 12-20-12-20-12-14 REF MINA-TRD AZTCO\", \"Veracruz\", \"PROVISIONAL\", \"Perforada\", 601, \"Sin datos\", \"Sin datos\", \"Sin datos\", 2015, \"DUC-TR-PLD-RD601\", \"Sin datos\", \"26/07/2015\"], [20865, 20865, 0, 20866, \"Sin datos\", 0, \"Sin datos\", \"Sin datos\", \"2015-03-25\", \"OLD 24 NUEVO TEAPA-MADERO-CADEREYTA (L2)\", \"Veracruz\", \"PERMANENTE\", \"Perforada\", 110, \"Sin datos\", \"Sin datos\", \"Sin datos\", 2015, \"DUC-TR-OLD-RD11O\", \"Sin datos\", \"25/03/2015\"], [20866, 20866, 0, 20867, \"Sin datos\", 0, \"Sin datos\", \"Sin datos\", \"2015-03-19\", \"OLD 24 NUEVO TEAPA-MADERO-CADEREYTA (L2)\", \"Veracruz\", \"PERMANENTE\", \"Perforada\", 110, \"Sin datos\", \"Sin datos\", \"Sin datos\", 2015, \"DUC-TR-OLD-RD11O\", \"Sin datos\", \"19/03/2015\"], [20867, 20867, 0, 20868, \"Sin datos\", 0, \"Sin datos\", \"Sin datos\", \"2015-02-19\", \"OLD 24 NUEVO TEAPA-MADERO-CADEREYTA (L2)\", \"Veracruz\", \"PERMANENTE\", \"Perforada\", 110, \"Sin datos\", \"Sin datos\", \"Sin datos\", 2015, \"DUC-TR-OLD-RD11O\", \"Sin datos\", \"19/02/2015\"], [20868, 20868, 0, 20869, \"Sin datos\", 0, \"Sin datos\", \"Sin datos\", \"2015-02-10\", \"OLD 24 NUEVO TEAPA-MADERO-CADEREYTA (L2)\", \"Veracruz\", \"PERMANENTE\", \"Perforada\", 110, \"Sin datos\", \"Sin datos\", \"Sin datos\", 2015, \"DUC-TR-OLD-RD11O\", \"Sin datos\", \"10/02/2015\"], [20869, 20869, 0, 20870, \"Sin datos\", 0, \"Sin datos\", \"Sin datos\", \"2015-03-24\", \"OLD 24 NUEVO TEAPA-MADERO-CADEREYTA (L2)\", \"Veracruz\", \"PERMANENTE\", \"Perforada\", 110, \"Sin datos\", \"Sin datos\", \"Sin datos\", 2015, \"DUC-TR-OLD-RD11O\", \"Sin datos\", \"24/03/2015\"], [20870, 20870, 0, 20871, \"Sin datos\", 0, \"Sin datos\", \"Sin datos\", \"2015-07-24\", \"PLD 12 REF MINATITLAN-TAR VILLAHERMOSA\", \"Tabasco\", \"PERMANENTE\", \"Perforada\", 603, \"Sin datos\", \"Sin datos\", \"Sin datos\", 2015, \"DUC-TR-PLD-RD603\", \"Sin datos\", \"24/07/2015\"], [20871, 20871, 0, 20872, \"Sin datos\", 0, \"Sin datos\", \"Sin datos\", \"2015-07-27\", \"PLD 12 REF MINATITLAN-TAR VILLAHERMOSA\", \"Tabasco\", \"PERMANENTE\", \"Perforada\", 603, \"Sin datos\", \"Sin datos\", \"Sin datos\", 2015, \"DUC-TR-PLD-RD603\", \"Sin datos\", \"27/07/2015\"], [20872, 20872, 0, 20873, \"Sin datos\", 0, \"Sin datos\", \"Sin datos\", \"2015-07-24\", \"PLD 12 REF MINATITLAN-TAR VILLAHERMOSA\", \"Tabasco\", \"PERMANENTE\", \"Perforada\", 603, \"Sin datos\", \"Sin datos\", \"Sin datos\", 2015, \"DUC-TR-PLD-RD603\", \"Sin datos\", \"24/07/2015\"], [20873, 20873, 0, 20874, \"Sin datos\", 0, \"Sin datos\", \"Sin datos\", \"2015-07-24\", \"PLD 12 REF MINATITLAN-TAR VILLAHERMOSA\", \"Tabasco\", \"PERMANENTE\", \"Perforada\", 603, \"Sin datos\", \"Sin datos\", \"Sin datos\", 2015, \"DUC-TR-PLD-RD603\", \"Sin datos\", \"24/07/2015\"], [20874, 20874, 0, 20875, \"Sin datos\", 0, \"Sin datos\", \"Sin datos\", \"2015-07-27\", \"PLD 12 REF MINATITLAN-TAR VILLAHERMOSA\", \"Tabasco\", \"PROVISIONAL\", \"Perforada\", 603, \"Sin datos\", \"Sin datos\", \"Sin datos\", 2015, \"DUC-TR-PLD-RD603\", \"Sin datos\", \"27/07/2015\"], [20875, 20875, 0, 20876, \"Sin datos\", 0, \"Sin datos\", \"Sin datos\", \"2015-07-24\", \"PLD 12 REF MINATITLAN-TAR VILLAHERMOSA\", \"Tabasco\", \"PROVISIONAL\", \"Perforada\", 603, \"Sin datos\", \"Sin datos\", \"Sin datos\", 2015, \"DUC-TR-PLD-RD603\", \"Sin datos\", \"24/07/2015\"], [20876, 20876, 0, 20877, \"Sin datos\", 0, \"Sin datos\", \"Sin datos\", \"2015-07-24\", \"PLD 12 REF MINATITLAN-TAR VILLAHERMOSA\", \"Tabasco\", \"PERMANENTE\", \"Perforada\", 603, \"Sin datos\", \"Sin datos\", \"Sin datos\", 2015, \"DUC-TR-PLD-RD603\", \"Sin datos\", \"24/07/2015\"], [20877, 20877, 0, 20878, \"Sin datos\", 0, \"Sin datos\", \"Sin datos\", \"2015-07-27\", \"PLD 12 REF MINATITLAN-TAR VILLAHERMOSA\", \"Tabasco\", \"PERMANENTE\", \"Perforada\", 603, \"Sin datos\", \"Sin datos\", \"Sin datos\", 2015, \"DUC-TR-PLD-RD603\", \"Sin datos\", \"27/07/2015\"], [20878, 20878, 0, 20879, \"Sin datos\", 0, \"Sin datos\", \"Sin datos\", \"2015-07-27\", \"PLD 12 REF MINATITLAN-TAR VILLAHERMOSA\", \"Tabasco\", \"PROVISIONAL\", \"Perforada\", 603, \"Sin datos\", \"Sin datos\", \"Sin datos\", 2015, \"DUC-TR-PLD-RD603\", \"Sin datos\", \"27/07/2015\"], [20879, 20879, 0, 20880, \"Sin datos\", 0, \"Sin datos\", \"Sin datos\", \"2015-07-24\", \"PLD 12 REF MINATITLAN-TAR VILLAHERMOSA\", \"Tabasco\", \"PERMANENTE\", \"Perforada\", 603, \"Sin datos\", \"Sin datos\", \"Sin datos\", 2015, \"DUC-TR-PLD-RD603\", \"Sin datos\", \"24/07/2015\"], [20880, 20880, 0, 20881, \"Sin datos\", 0, \"Sin datos\", \"Sin datos\", \"2015-07-24\", \"PLD 12 REF MINATITLAN-TAR VILLAHERMOSA\", \"Tabasco\", \"PERMANENTE\", \"Perforada\", 603, \"Sin datos\", \"Sin datos\", \"Sin datos\", 2015, \"DUC-TR-PLD-RD603\", \"Sin datos\", \"24/07/2015\"], [20881, 20881, 0, 20882, \"Sin datos\", 0, \"Sin datos\", \"Sin datos\", \"2015-07-27\", \"PLD 12 REF MINATITLAN-TAR VILLAHERMOSA\", \"Tabasco\", \"PERMANENTE\", \"Perforada\", 603, \"Sin datos\", \"Sin datos\", \"Sin datos\", 2015, \"DUC-TR-PLD-RD603\", \"Sin datos\", \"27/07/2015\"], [20882, 20882, 0, 20883, \"Sin datos\", 0, \"Sin datos\", \"Sin datos\", \"2015-07-24\", \"PLD 12 REF MINATITLAN-TAR VILLAHERMOSA\", \"Tabasco\", \"PERMANENTE\", \"Perforada\", 603, \"Sin datos\", \"Sin datos\", \"Sin datos\", 2015, \"DUC-TR-PLD-RD603\", \"Sin datos\", \"24/07/2015\"], [20883, 20883, 0, 20884, \"Sin datos\", 0, \"Sin datos\", \"Sin datos\", \"2015-07-24\", \"PLD 12 REF MINATITLAN-TAR VILLAHERMOSA\", \"Tabasco\", \"PERMANENTE\", \"Perforada\", 603, \"Sin datos\", \"Sin datos\", \"Sin datos\", 2015, \"DUC-TR-PLD-RD603\", \"Sin datos\", \"24/07/2015\"], [20884, 20884, 0, 20885, \"Sin datos\", 0, \"Sin datos\", \"Sin datos\", \"2015-07-27\", \"PLD 12 REF MINATITLAN-TAR VILLAHERMOSA\", \"Tabasco\", \"PROVISIONAL\", \"Perforada\", 603, \"Sin datos\", \"Sin datos\", \"Sin datos\", 2015, \"DUC-TR-PLD-RD603\", \"Sin datos\", \"27/07/2015\"], [20885, 20885, 0, 20886, \"Sin datos\", 0, \"Sin datos\", \"Sin datos\", \"2015-07-27\", \"PLD 12 REF MINATITLAN-TAR VILLAHERMOSA\", \"Tabasco\", \"PERMANENTE\", \"Perforada\", 603, \"Sin datos\", \"Sin datos\", \"Sin datos\", 2015, \"DUC-TR-PLD-RD603\", \"Sin datos\", \"27/07/2015\"], [20886, 20886, 0, 20887, \"Sin datos\", 0, \"Sin datos\", \"Sin datos\", \"2015-07-24\", \"PLD 12 REF CADEREYTA-REYNOSA-MATAMOROS\", \"Nuevo Le\\u00f3n\", \"PERMANENTE\", \"Perforada\", 677, \"Sin datos\", \"Sin datos\", \"Sin datos\", 2015, \"DUC-TR-PLD-RD677\", \"Sin datos\", \"24/07/2015\"], [20887, 20887, 0, 20888, \"Sin datos\", 0, \"Sin datos\", \"Sin datos\", \"2015-07-27\", \"PLD 18 REF CADEREYTA-TAR SATELITE\", \"Nuevo Le\\u00f3n\", \"PERMANENTE\", \"Perforada\", 668, \"Sin datos\", \"Sin datos\", \"Sin datos\", 2015, \"DUC-TR-PLD-RD668\", \"Sin datos\", \"27/07/2015\"], [20888, 20888, 0, 20889, \"Sin datos\", 0, \"Sin datos\", \"Sin datos\", \"2015-07-27\", \"PLD 12 REF CADEREYTA-REYNOSA-MATAMOROS\", \"Tamaulipas\", \"PERMANENTE\", \"Perforada\", 677, \"Sin datos\", \"Sin datos\", \"Sin datos\", 2015, \"DUC-TR-PLD-RD677\", \"Sin datos\", \"27/07/2015\"], [20889, 20889, 0, 20890, \"Sin datos\", 0, \"Sin datos\", \"Sin datos\", \"2015-07-27\", \"PLD 12 REF CADEREYTA-REYNOSA-MATAMOROS\", \"Tamaulipas\", \"PERMANENTE\", \"Perforada\", 677, \"Sin datos\", \"Sin datos\", \"Sin datos\", 2015, \"DUC-TR-PLD-RD677\", \"Sin datos\", \"27/07/2015\"], [20890, 20890, 0, 20891, \"Sin datos\", 0, \"Sin datos\", \"Sin datos\", \"2015-07-26\", \"PLD 16 BARRA NTE TUXPAN-CAB POZA RICA\", \"Veracruz\", \"PERMANENTE\", \"Perforada\", 633, \"Sin datos\", \"Sin datos\", \"Sin datos\", 2015, \"DUC-TR-PLD-RD633\", \"Sin datos\", \"26/07/2015\"], [20891, 20891, 0, 20892, \"Sin datos\", 0, \"Sin datos\", \"Sin datos\", \"2015-07-25\", \"PLD 10 TAR ROSARITO-TAR ENSENADA\", \"Baja California\", \"PROVISIONAL\", \"Perforada\", 682, \"Sin datos\", \"Sin datos\", \"Sin datos\", 2015, \"DUC-TR-PLD-RD682\", \"Sin datos\", \"25/07/2015\"], [20892, 20892, 0, 20893, \"Sin datos\", 0, \"Sin datos\", \"Sin datos\", \"2015-07-20\", \"PLD 16 REF MINATITLAN-REF SALINA CR(BID)\", \"Oaxaca\", \"PERMANENTE\", \"Perforada\", 606, \"Sin datos\", \"Sin datos\", \"Sin datos\", 2015, \"DUC-TR-PLD-RD606\", \"Sin datos\", \"20/07/2015\"], [20893, 20893, 0, 20894, \"Sin datos\", 0, \"Sin datos\", \"Sin datos\", \"2015-07-27\", \"PLD 10 TAR TOPOLOBAMPO-TAR CULIACAN\", \"Sinaloa\", \"PERMANENTE\", \"Perforada\", 689, \"Sin datos\", \"Sin datos\", \"Sin datos\", 2015, \"DUC-TR-PLD-RD689\", \"Sin datos\", \"27/07/2015\"]];\n",
       "\n",
       "    // Define the dt_args\n",
       "    let dt_args = {\"order\": [[0, \"asc\"]]};\n",
       "    dt_args[\"data\"] = data;\n",
       "\n",
       "    $(document).ready(function () {\n",
       "        \n",
       "        $('#1cc47bc4-39f6-4449-9e82-d68b654b5209').DataTable(dt_args);\n",
       "    });\n",
       "</script>\n"
      ],
      "text/plain": [
       "<IPython.core.display.HTML object>"
      ]
     },
     "metadata": {},
     "output_type": "display_data"
    }
   ],
   "source": [
    "show(df_pmx_08_15)"
   ]
  }
 ],
 "metadata": {
  "kernelspec": {
   "display_name": "Python 3 (ipykernel)",
   "language": "python",
   "name": "python3"
  },
  "language_info": {
   "codemirror_mode": {
    "name": "ipython",
    "version": 3
   },
   "file_extension": ".py",
   "mimetype": "text/x-python",
   "name": "python",
   "nbconvert_exporter": "python",
   "pygments_lexer": "ipython3",
   "version": "3.9.12"
  }
 },
 "nbformat": 4,
 "nbformat_minor": 5
}
