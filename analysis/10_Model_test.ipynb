{
 "cells": [
  {
   "cell_type": "code",
   "execution_count": 1,
   "metadata": {
    "id": "twgu6Z3no7ks"
   },
   "outputs": [],
   "source": [
    "# We will use the following packages\n",
    "\n",
    "import pandas as pd\n",
    "import seaborn as sns\n",
    "import matplotlib.pyplot as plt\n",
    "from sklearn.model_selection import train_test_split\n",
    "from sklearn.preprocessing import StandardScaler\n",
    "from sklearn.neighbors import KNeighborsRegressor\n",
    "from sklearn.linear_model import LogisticRegression\n",
    "from sklearn.metrics import mean_absolute_error"
   ]
  },
  {
   "cell_type": "code",
   "execution_count": 3,
   "metadata": {
    "colab": {
     "base_uri": "https://localhost:8080/"
    },
    "id": "hXTlZXLypExN",
    "outputId": "aab065b1-5bec-4e15-b1de-45ffd5dab1d6"
   },
   "outputs": [
    {
     "name": "stdout",
     "output_type": "stream",
     "text": [
      "Mounted at /content/drive\n"
     ]
    }
   ],
   "source": [
    "from google.colab import drive\n",
    "drive.mount('/content/drive')"
   ]
  },
  {
   "cell_type": "code",
   "execution_count": 5,
   "metadata": {
    "colab": {
     "base_uri": "https://localhost:8080/"
    },
    "id": "N8PHzPu0pE3S",
    "outputId": "d9f6764d-62ba-4b3f-c086-9945d477c7ce"
   },
   "outputs": [
    {
     "name": "stdout",
     "output_type": "stream",
     "text": [
      "/Users/jorgeroa/Documents/GitHub/pmx_gasoline_theft_prediction\n"
     ]
    }
   ],
   "source": [
    "%cd 'Documents/GitHub/pmx_gasoline_theft_prediction'"
   ]
  },
  {
   "cell_type": "code",
   "execution_count": 34,
   "metadata": {
    "id": "E1nRzc64pE6b"
   },
   "outputs": [
    {
     "data": {
      "text/plain": [
       "Mun_code             int64\n",
       "Pipe_intersec        int64\n",
       "Gas_stations       float64\n",
       "Gas_price          float64\n",
       "Confront_events      int64\n",
       "IRS                float64\n",
       "Homic_rate         float64\n",
       "Susceptible          int64\n",
       "SBASC              float64\n",
       "POB_6_16_NEB       float64\n",
       "POB_16_EBI         float64\n",
       "NO_SS              float64\n",
       "OVPT               float64\n",
       "NO_SANIT           float64\n",
       "OVSAE              float64\n",
       "NO_DREN            float64\n",
       "NO_ELECT           float64\n",
       "NO_LAVA            float64\n",
       "No_REFRI           float64\n",
       "dtype: object"
      ]
     },
     "execution_count": 34,
     "metadata": {},
     "output_type": "execute_result"
    }
   ],
   "source": [
    "# Importing our data\n",
    "\n",
    "df_thefts_PMX = pd.read_excel(\"data/df_thefts_PMX_final_v2.xlsx\", converters={'CVEGEO' : str})\n",
    "\n",
    "df_thefts_PMX.dtypes"
   ]
  },
  {
   "cell_type": "code",
   "execution_count": 38,
   "metadata": {},
   "outputs": [
    {
     "data": {
      "text/html": [
       "<div>\n",
       "<style scoped>\n",
       "    .dataframe tbody tr th:only-of-type {\n",
       "        vertical-align: middle;\n",
       "    }\n",
       "\n",
       "    .dataframe tbody tr th {\n",
       "        vertical-align: top;\n",
       "    }\n",
       "\n",
       "    .dataframe thead th {\n",
       "        text-align: right;\n",
       "    }\n",
       "</style>\n",
       "<table border=\"1\" class=\"dataframe\">\n",
       "  <thead>\n",
       "    <tr style=\"text-align: right;\">\n",
       "      <th></th>\n",
       "      <th>Mun_code</th>\n",
       "      <th>Pipe_intersec</th>\n",
       "      <th>Gas_stations</th>\n",
       "      <th>Gas_price</th>\n",
       "      <th>Confront_events</th>\n",
       "      <th>IRS</th>\n",
       "      <th>Homic_rate</th>\n",
       "      <th>Susceptible</th>\n",
       "      <th>SBASC</th>\n",
       "      <th>POB_6_16_NEB</th>\n",
       "      <th>POB_16_EBI</th>\n",
       "      <th>NO_SS</th>\n",
       "      <th>OVPT</th>\n",
       "      <th>NO_SANIT</th>\n",
       "      <th>OVSAE</th>\n",
       "      <th>NO_DREN</th>\n",
       "      <th>NO_ELECT</th>\n",
       "      <th>NO_LAVA</th>\n",
       "      <th>No_REFRI</th>\n",
       "    </tr>\n",
       "  </thead>\n",
       "  <tbody>\n",
       "    <tr>\n",
       "      <th>count</th>\n",
       "      <td>839.0</td>\n",
       "      <td>839.0</td>\n",
       "      <td>839.0</td>\n",
       "      <td>729.0</td>\n",
       "      <td>839.0</td>\n",
       "      <td>839.0</td>\n",
       "      <td>839.0</td>\n",
       "      <td>839.0</td>\n",
       "      <td>839.0</td>\n",
       "      <td>839.0</td>\n",
       "      <td>839.0</td>\n",
       "      <td>839.0</td>\n",
       "      <td>837.0</td>\n",
       "      <td>839.0</td>\n",
       "      <td>838.0</td>\n",
       "      <td>837.0</td>\n",
       "      <td>832.0</td>\n",
       "      <td>839.0</td>\n",
       "      <td>839.0</td>\n",
       "    </tr>\n",
       "    <tr>\n",
       "      <th>mean</th>\n",
       "      <td>19745.0</td>\n",
       "      <td>23.0</td>\n",
       "      <td>123.0</td>\n",
       "      <td>18.0</td>\n",
       "      <td>0.0</td>\n",
       "      <td>-1.0</td>\n",
       "      <td>22.0</td>\n",
       "      <td>1.0</td>\n",
       "      <td>7.0</td>\n",
       "      <td>5.0</td>\n",
       "      <td>42.0</td>\n",
       "      <td>19.0</td>\n",
       "      <td>4.0</td>\n",
       "      <td>4.0</td>\n",
       "      <td>7.0</td>\n",
       "      <td>9.0</td>\n",
       "      <td>1.0</td>\n",
       "      <td>35.0</td>\n",
       "      <td>19.0</td>\n",
       "    </tr>\n",
       "    <tr>\n",
       "      <th>std</th>\n",
       "      <td>8569.0</td>\n",
       "      <td>93.0</td>\n",
       "      <td>515.0</td>\n",
       "      <td>1.0</td>\n",
       "      <td>2.0</td>\n",
       "      <td>1.0</td>\n",
       "      <td>24.0</td>\n",
       "      <td>1.0</td>\n",
       "      <td>6.0</td>\n",
       "      <td>3.0</td>\n",
       "      <td>13.0</td>\n",
       "      <td>7.0</td>\n",
       "      <td>5.0</td>\n",
       "      <td>5.0</td>\n",
       "      <td>9.0</td>\n",
       "      <td>11.0</td>\n",
       "      <td>2.0</td>\n",
       "      <td>18.0</td>\n",
       "      <td>14.0</td>\n",
       "    </tr>\n",
       "    <tr>\n",
       "      <th>min</th>\n",
       "      <td>1001.0</td>\n",
       "      <td>0.0</td>\n",
       "      <td>0.0</td>\n",
       "      <td>8.0</td>\n",
       "      <td>0.0</td>\n",
       "      <td>-2.0</td>\n",
       "      <td>0.0</td>\n",
       "      <td>0.0</td>\n",
       "      <td>1.0</td>\n",
       "      <td>1.0</td>\n",
       "      <td>12.0</td>\n",
       "      <td>3.0</td>\n",
       "      <td>0.0</td>\n",
       "      <td>0.0</td>\n",
       "      <td>0.0</td>\n",
       "      <td>0.0</td>\n",
       "      <td>0.0</td>\n",
       "      <td>5.0</td>\n",
       "      <td>2.0</td>\n",
       "    </tr>\n",
       "    <tr>\n",
       "      <th>25%</th>\n",
       "      <td>13064.0</td>\n",
       "      <td>2.0</td>\n",
       "      <td>5.0</td>\n",
       "      <td>18.0</td>\n",
       "      <td>0.0</td>\n",
       "      <td>-1.0</td>\n",
       "      <td>7.0</td>\n",
       "      <td>0.0</td>\n",
       "      <td>3.0</td>\n",
       "      <td>3.0</td>\n",
       "      <td>32.0</td>\n",
       "      <td>13.0</td>\n",
       "      <td>1.0</td>\n",
       "      <td>1.0</td>\n",
       "      <td>1.0</td>\n",
       "      <td>2.0</td>\n",
       "      <td>0.0</td>\n",
       "      <td>21.0</td>\n",
       "      <td>8.0</td>\n",
       "    </tr>\n",
       "    <tr>\n",
       "      <th>50%</th>\n",
       "      <td>20197.0</td>\n",
       "      <td>4.0</td>\n",
       "      <td>20.0</td>\n",
       "      <td>18.0</td>\n",
       "      <td>0.0</td>\n",
       "      <td>-1.0</td>\n",
       "      <td>14.0</td>\n",
       "      <td>1.0</td>\n",
       "      <td>6.0</td>\n",
       "      <td>4.0</td>\n",
       "      <td>42.0</td>\n",
       "      <td>19.0</td>\n",
       "      <td>3.0</td>\n",
       "      <td>2.0</td>\n",
       "      <td>3.0</td>\n",
       "      <td>5.0</td>\n",
       "      <td>1.0</td>\n",
       "      <td>32.0</td>\n",
       "      <td>15.0</td>\n",
       "    </tr>\n",
       "    <tr>\n",
       "      <th>75%</th>\n",
       "      <td>29006.0</td>\n",
       "      <td>10.0</td>\n",
       "      <td>63.0</td>\n",
       "      <td>18.0</td>\n",
       "      <td>0.0</td>\n",
       "      <td>-0.0</td>\n",
       "      <td>27.0</td>\n",
       "      <td>1.0</td>\n",
       "      <td>10.0</td>\n",
       "      <td>5.0</td>\n",
       "      <td>51.0</td>\n",
       "      <td>24.0</td>\n",
       "      <td>5.0</td>\n",
       "      <td>5.0</td>\n",
       "      <td>8.0</td>\n",
       "      <td>12.0</td>\n",
       "      <td>2.0</td>\n",
       "      <td>45.0</td>\n",
       "      <td>24.0</td>\n",
       "    </tr>\n",
       "    <tr>\n",
       "      <th>max</th>\n",
       "      <td>32057.0</td>\n",
       "      <td>1192.0</td>\n",
       "      <td>5979.0</td>\n",
       "      <td>20.0</td>\n",
       "      <td>32.0</td>\n",
       "      <td>4.0</td>\n",
       "      <td>215.0</td>\n",
       "      <td>1.0</td>\n",
       "      <td>37.0</td>\n",
       "      <td>39.0</td>\n",
       "      <td>82.0</td>\n",
       "      <td>52.0</td>\n",
       "      <td>53.0</td>\n",
       "      <td>39.0</td>\n",
       "      <td>75.0</td>\n",
       "      <td>76.0</td>\n",
       "      <td>34.0</td>\n",
       "      <td>97.0</td>\n",
       "      <td>86.0</td>\n",
       "    </tr>\n",
       "  </tbody>\n",
       "</table>\n",
       "</div>"
      ],
      "text/plain": [
       "       Mun_code  Pipe_intersec  Gas_stations  Gas_price  Confront_events  \\\n",
       "count     839.0          839.0         839.0      729.0            839.0   \n",
       "mean    19745.0           23.0         123.0       18.0              0.0   \n",
       "std      8569.0           93.0         515.0        1.0              2.0   \n",
       "min      1001.0            0.0           0.0        8.0              0.0   \n",
       "25%     13064.0            2.0           5.0       18.0              0.0   \n",
       "50%     20197.0            4.0          20.0       18.0              0.0   \n",
       "75%     29006.0           10.0          63.0       18.0              0.0   \n",
       "max     32057.0         1192.0        5979.0       20.0             32.0   \n",
       "\n",
       "         IRS  Homic_rate  Susceptible  SBASC  POB_6_16_NEB  POB_16_EBI  NO_SS  \\\n",
       "count  839.0       839.0        839.0  839.0         839.0       839.0  839.0   \n",
       "mean    -1.0        22.0          1.0    7.0           5.0        42.0   19.0   \n",
       "std      1.0        24.0          1.0    6.0           3.0        13.0    7.0   \n",
       "min     -2.0         0.0          0.0    1.0           1.0        12.0    3.0   \n",
       "25%     -1.0         7.0          0.0    3.0           3.0        32.0   13.0   \n",
       "50%     -1.0        14.0          1.0    6.0           4.0        42.0   19.0   \n",
       "75%     -0.0        27.0          1.0   10.0           5.0        51.0   24.0   \n",
       "max      4.0       215.0          1.0   37.0          39.0        82.0   52.0   \n",
       "\n",
       "        OVPT  NO_SANIT  OVSAE  NO_DREN  NO_ELECT  NO_LAVA  No_REFRI  \n",
       "count  837.0     839.0  838.0    837.0     832.0    839.0     839.0  \n",
       "mean     4.0       4.0    7.0      9.0       1.0     35.0      19.0  \n",
       "std      5.0       5.0    9.0     11.0       2.0     18.0      14.0  \n",
       "min      0.0       0.0    0.0      0.0       0.0      5.0       2.0  \n",
       "25%      1.0       1.0    1.0      2.0       0.0     21.0       8.0  \n",
       "50%      3.0       2.0    3.0      5.0       1.0     32.0      15.0  \n",
       "75%      5.0       5.0    8.0     12.0       2.0     45.0      24.0  \n",
       "max     53.0      39.0   75.0     76.0      34.0     97.0      86.0  "
      ]
     },
     "execution_count": 38,
     "metadata": {},
     "output_type": "execute_result"
    }
   ],
   "source": [
    "df_thefts_PMX.describe().round()"
   ]
  },
  {
   "cell_type": "code",
   "execution_count": 7,
   "metadata": {
    "colab": {
     "base_uri": "https://localhost:8080/"
    },
    "id": "akUn3sa4hRSf",
    "outputId": "717ee429-d1a8-4975-ef13-eeb9fdf98189"
   },
   "outputs": [
    {
     "data": {
      "text/plain": [
       "Index(['Pipe_intersec', 'Gas_stations', 'Gas_price', 'Confront_events', 'IRS',\n",
       "       'Homic_rate', 'SBASC', 'POB_6_16_NEB', 'POB_16_EBI', 'NO_SS', 'OVPT',\n",
       "       'NO_SANIT', 'OVSAE', 'NO_DREN', 'NO_ELECT', 'NO_LAVA', 'No_REFRI'],\n",
       "      dtype='object')"
      ]
     },
     "execution_count": 7,
     "metadata": {},
     "output_type": "execute_result"
    }
   ],
   "source": [
    "social_variables = df_thefts_PMX.columns.drop(['Mun_code', 'Susceptible'])\n",
    "social_variables"
   ]
  },
  {
   "cell_type": "code",
   "execution_count": 8,
   "metadata": {
    "colab": {
     "base_uri": "https://localhost:8080/",
     "height": 270
    },
    "id": "C_6l34j-pE9K",
    "outputId": "03de9d2c-c92b-4679-d803-744fe450d666"
   },
   "outputs": [
    {
     "data": {
      "text/html": [
       "<div>\n",
       "<style scoped>\n",
       "    .dataframe tbody tr th:only-of-type {\n",
       "        vertical-align: middle;\n",
       "    }\n",
       "\n",
       "    .dataframe tbody tr th {\n",
       "        vertical-align: top;\n",
       "    }\n",
       "\n",
       "    .dataframe thead th {\n",
       "        text-align: right;\n",
       "    }\n",
       "</style>\n",
       "<table border=\"1\" class=\"dataframe\">\n",
       "  <thead>\n",
       "    <tr style=\"text-align: right;\">\n",
       "      <th></th>\n",
       "      <th>Mun_code</th>\n",
       "      <th>Pipe_intersec</th>\n",
       "      <th>Gas_stations</th>\n",
       "      <th>Gas_price</th>\n",
       "      <th>Confront_events</th>\n",
       "      <th>IRS</th>\n",
       "      <th>Homic_rate</th>\n",
       "      <th>Susceptible</th>\n",
       "      <th>SBASC</th>\n",
       "      <th>POB_6_16_NEB</th>\n",
       "      <th>POB_16_EBI</th>\n",
       "      <th>NO_SS</th>\n",
       "      <th>OVPT</th>\n",
       "      <th>NO_SANIT</th>\n",
       "      <th>OVSAE</th>\n",
       "      <th>NO_DREN</th>\n",
       "      <th>NO_ELECT</th>\n",
       "      <th>NO_LAVA</th>\n",
       "      <th>No_REFRI</th>\n",
       "    </tr>\n",
       "  </thead>\n",
       "  <tbody>\n",
       "    <tr>\n",
       "      <th>0</th>\n",
       "      <td>1001</td>\n",
       "      <td>22</td>\n",
       "      <td>1.35</td>\n",
       "      <td>17.78</td>\n",
       "      <td>0</td>\n",
       "      <td>-1.3456</td>\n",
       "      <td>5.41</td>\n",
       "      <td>1</td>\n",
       "      <td>1.887423</td>\n",
       "      <td>3.914694</td>\n",
       "      <td>23.463147</td>\n",
       "      <td>15.751315</td>\n",
       "      <td>0.558267</td>\n",
       "      <td>0.434323</td>\n",
       "      <td>0.539714</td>\n",
       "      <td>0.405613</td>\n",
       "      <td>0.185406</td>\n",
       "      <td>13.135097</td>\n",
       "      <td>4.976815</td>\n",
       "    </tr>\n",
       "    <tr>\n",
       "      <th>1</th>\n",
       "      <td>1002</td>\n",
       "      <td>3</td>\n",
       "      <td>21.29</td>\n",
       "      <td>17.93</td>\n",
       "      <td>0</td>\n",
       "      <td>-0.8732</td>\n",
       "      <td>4.13</td>\n",
       "      <td>0</td>\n",
       "      <td>4.053829</td>\n",
       "      <td>3.934379</td>\n",
       "      <td>38.616333</td>\n",
       "      <td>8.822640</td>\n",
       "      <td>1.593414</td>\n",
       "      <td>4.890338</td>\n",
       "      <td>1.171607</td>\n",
       "      <td>4.973795</td>\n",
       "      <td>0.997579</td>\n",
       "      <td>21.077503</td>\n",
       "      <td>13.729702</td>\n",
       "    </tr>\n",
       "    <tr>\n",
       "      <th>2</th>\n",
       "      <td>1004</td>\n",
       "      <td>5</td>\n",
       "      <td>76.76</td>\n",
       "      <td>17.85</td>\n",
       "      <td>0</td>\n",
       "      <td>-1.0391</td>\n",
       "      <td>6.20</td>\n",
       "      <td>0</td>\n",
       "      <td>3.835153</td>\n",
       "      <td>3.753315</td>\n",
       "      <td>30.835403</td>\n",
       "      <td>8.218243</td>\n",
       "      <td>1.335823</td>\n",
       "      <td>2.530502</td>\n",
       "      <td>0.671326</td>\n",
       "      <td>1.624260</td>\n",
       "      <td>0.697120</td>\n",
       "      <td>21.213440</td>\n",
       "      <td>11.657586</td>\n",
       "    </tr>\n",
       "    <tr>\n",
       "      <th>3</th>\n",
       "      <td>1005</td>\n",
       "      <td>5</td>\n",
       "      <td>18.80</td>\n",
       "      <td>17.84</td>\n",
       "      <td>0</td>\n",
       "      <td>-1.1825</td>\n",
       "      <td>4.83</td>\n",
       "      <td>0</td>\n",
       "      <td>2.887218</td>\n",
       "      <td>4.803344</td>\n",
       "      <td>30.812283</td>\n",
       "      <td>16.580066</td>\n",
       "      <td>1.043769</td>\n",
       "      <td>0.840948</td>\n",
       "      <td>0.911164</td>\n",
       "      <td>0.748003</td>\n",
       "      <td>0.439924</td>\n",
       "      <td>14.073904</td>\n",
       "      <td>6.988933</td>\n",
       "    </tr>\n",
       "    <tr>\n",
       "      <th>4</th>\n",
       "      <td>1006</td>\n",
       "      <td>8</td>\n",
       "      <td>31.76</td>\n",
       "      <td>17.83</td>\n",
       "      <td>0</td>\n",
       "      <td>-1.1859</td>\n",
       "      <td>4.26</td>\n",
       "      <td>1</td>\n",
       "      <td>3.120712</td>\n",
       "      <td>3.307964</td>\n",
       "      <td>28.773867</td>\n",
       "      <td>13.255280</td>\n",
       "      <td>0.696114</td>\n",
       "      <td>1.460176</td>\n",
       "      <td>1.117155</td>\n",
       "      <td>1.157367</td>\n",
       "      <td>0.667693</td>\n",
       "      <td>15.313592</td>\n",
       "      <td>8.822952</td>\n",
       "    </tr>\n",
       "  </tbody>\n",
       "</table>\n",
       "</div>"
      ],
      "text/plain": [
       "   Mun_code  Pipe_intersec  Gas_stations  Gas_price  Confront_events     IRS  \\\n",
       "0      1001             22          1.35      17.78                0 -1.3456   \n",
       "1      1002              3         21.29      17.93                0 -0.8732   \n",
       "2      1004              5         76.76      17.85                0 -1.0391   \n",
       "3      1005              5         18.80      17.84                0 -1.1825   \n",
       "4      1006              8         31.76      17.83                0 -1.1859   \n",
       "\n",
       "   Homic_rate  Susceptible     SBASC  POB_6_16_NEB  POB_16_EBI      NO_SS  \\\n",
       "0        5.41            1  1.887423      3.914694   23.463147  15.751315   \n",
       "1        4.13            0  4.053829      3.934379   38.616333   8.822640   \n",
       "2        6.20            0  3.835153      3.753315   30.835403   8.218243   \n",
       "3        4.83            0  2.887218      4.803344   30.812283  16.580066   \n",
       "4        4.26            1  3.120712      3.307964   28.773867  13.255280   \n",
       "\n",
       "       OVPT  NO_SANIT     OVSAE   NO_DREN  NO_ELECT    NO_LAVA   No_REFRI  \n",
       "0  0.558267  0.434323  0.539714  0.405613  0.185406  13.135097   4.976815  \n",
       "1  1.593414  4.890338  1.171607  4.973795  0.997579  21.077503  13.729702  \n",
       "2  1.335823  2.530502  0.671326  1.624260  0.697120  21.213440  11.657586  \n",
       "3  1.043769  0.840948  0.911164  0.748003  0.439924  14.073904   6.988933  \n",
       "4  0.696114  1.460176  1.117155  1.157367  0.667693  15.313592   8.822952  "
      ]
     },
     "execution_count": 8,
     "metadata": {},
     "output_type": "execute_result"
    }
   ],
   "source": [
    "#Fill 0s in Gas_prices NaN values\n",
    "\n",
    "for key in social_variables:\n",
    "  df_thefts_PMX[key] = df_thefts_PMX[key].fillna(0)\n",
    "\n",
    "df_thefts_PMX.head()"
   ]
  },
  {
   "cell_type": "code",
   "execution_count": 9,
   "metadata": {
    "colab": {
     "base_uri": "https://localhost:8080/",
     "height": 280
    },
    "id": "evJWxEAnpE_6",
    "outputId": "ed8c07b7-906a-4500-de86-53fde34e344e"
   },
   "outputs": [
    {
     "data": {
      "image/png": "[encoded data removed]",
      "text/plain": [
       "<Figure size 432x288 with 1 Axes>"
      ]
     },
     "metadata": {
      "needs_background": "light"
     },
     "output_type": "display_data"
    }
   ],
   "source": [
    "# scatter plot using \n",
    "\n",
    "sns.scatterplot(x = \"Homic_rate\", \n",
    "                y = \"Pipe_intersec\", \n",
    "                hue = \"Susceptible\", data = df_thefts_PMX);"
   ]
  },
  {
   "cell_type": "code",
   "execution_count": 10,
   "metadata": {},
   "outputs": [
    {
     "data": {
      "text/html": [
       "<div>\n",
       "<style scoped>\n",
       "    .dataframe tbody tr th:only-of-type {\n",
       "        vertical-align: middle;\n",
       "    }\n",
       "\n",
       "    .dataframe tbody tr th {\n",
       "        vertical-align: top;\n",
       "    }\n",
       "\n",
       "    .dataframe thead th {\n",
       "        text-align: right;\n",
       "    }\n",
       "</style>\n",
       "<table border=\"1\" class=\"dataframe\">\n",
       "  <thead>\n",
       "    <tr style=\"text-align: right;\">\n",
       "      <th></th>\n",
       "      <th>Mun_code</th>\n",
       "      <th>Pipe_intersec</th>\n",
       "      <th>Gas_stations</th>\n",
       "      <th>Gas_price</th>\n",
       "      <th>Confront_events</th>\n",
       "      <th>IRS</th>\n",
       "      <th>Homic_rate</th>\n",
       "      <th>Susceptible</th>\n",
       "      <th>SBASC</th>\n",
       "      <th>POB_6_16_NEB</th>\n",
       "      <th>POB_16_EBI</th>\n",
       "      <th>NO_SS</th>\n",
       "      <th>OVPT</th>\n",
       "      <th>NO_SANIT</th>\n",
       "      <th>OVSAE</th>\n",
       "      <th>NO_DREN</th>\n",
       "      <th>NO_ELECT</th>\n",
       "      <th>NO_LAVA</th>\n",
       "      <th>No_REFRI</th>\n",
       "    </tr>\n",
       "  </thead>\n",
       "  <tbody>\n",
       "    <tr>\n",
       "      <th>0</th>\n",
       "      <td>1001</td>\n",
       "      <td>22</td>\n",
       "      <td>1.35</td>\n",
       "      <td>17.78</td>\n",
       "      <td>0</td>\n",
       "      <td>-1.3456</td>\n",
       "      <td>5.41</td>\n",
       "      <td>1</td>\n",
       "      <td>1.887423</td>\n",
       "      <td>3.914694</td>\n",
       "      <td>23.463147</td>\n",
       "      <td>15.751315</td>\n",
       "      <td>0.558267</td>\n",
       "      <td>0.434323</td>\n",
       "      <td>0.539714</td>\n",
       "      <td>0.405613</td>\n",
       "      <td>0.185406</td>\n",
       "      <td>13.135097</td>\n",
       "      <td>4.976815</td>\n",
       "    </tr>\n",
       "    <tr>\n",
       "      <th>1</th>\n",
       "      <td>1002</td>\n",
       "      <td>3</td>\n",
       "      <td>21.29</td>\n",
       "      <td>17.93</td>\n",
       "      <td>0</td>\n",
       "      <td>-0.8732</td>\n",
       "      <td>4.13</td>\n",
       "      <td>0</td>\n",
       "      <td>4.053829</td>\n",
       "      <td>3.934379</td>\n",
       "      <td>38.616333</td>\n",
       "      <td>8.822640</td>\n",
       "      <td>1.593414</td>\n",
       "      <td>4.890338</td>\n",
       "      <td>1.171607</td>\n",
       "      <td>4.973795</td>\n",
       "      <td>0.997579</td>\n",
       "      <td>21.077503</td>\n",
       "      <td>13.729702</td>\n",
       "    </tr>\n",
       "    <tr>\n",
       "      <th>2</th>\n",
       "      <td>1004</td>\n",
       "      <td>5</td>\n",
       "      <td>76.76</td>\n",
       "      <td>17.85</td>\n",
       "      <td>0</td>\n",
       "      <td>-1.0391</td>\n",
       "      <td>6.20</td>\n",
       "      <td>0</td>\n",
       "      <td>3.835153</td>\n",
       "      <td>3.753315</td>\n",
       "      <td>30.835403</td>\n",
       "      <td>8.218243</td>\n",
       "      <td>1.335823</td>\n",
       "      <td>2.530502</td>\n",
       "      <td>0.671326</td>\n",
       "      <td>1.624260</td>\n",
       "      <td>0.697120</td>\n",
       "      <td>21.213440</td>\n",
       "      <td>11.657586</td>\n",
       "    </tr>\n",
       "    <tr>\n",
       "      <th>3</th>\n",
       "      <td>1005</td>\n",
       "      <td>5</td>\n",
       "      <td>18.80</td>\n",
       "      <td>17.84</td>\n",
       "      <td>0</td>\n",
       "      <td>-1.1825</td>\n",
       "      <td>4.83</td>\n",
       "      <td>0</td>\n",
       "      <td>2.887218</td>\n",
       "      <td>4.803344</td>\n",
       "      <td>30.812283</td>\n",
       "      <td>16.580066</td>\n",
       "      <td>1.043769</td>\n",
       "      <td>0.840948</td>\n",
       "      <td>0.911164</td>\n",
       "      <td>0.748003</td>\n",
       "      <td>0.439924</td>\n",
       "      <td>14.073904</td>\n",
       "      <td>6.988933</td>\n",
       "    </tr>\n",
       "    <tr>\n",
       "      <th>4</th>\n",
       "      <td>1006</td>\n",
       "      <td>8</td>\n",
       "      <td>31.76</td>\n",
       "      <td>17.83</td>\n",
       "      <td>0</td>\n",
       "      <td>-1.1859</td>\n",
       "      <td>4.26</td>\n",
       "      <td>1</td>\n",
       "      <td>3.120712</td>\n",
       "      <td>3.307964</td>\n",
       "      <td>28.773867</td>\n",
       "      <td>13.255280</td>\n",
       "      <td>0.696114</td>\n",
       "      <td>1.460176</td>\n",
       "      <td>1.117155</td>\n",
       "      <td>1.157367</td>\n",
       "      <td>0.667693</td>\n",
       "      <td>15.313592</td>\n",
       "      <td>8.822952</td>\n",
       "    </tr>\n",
       "    <tr>\n",
       "      <th>...</th>\n",
       "      <td>...</td>\n",
       "      <td>...</td>\n",
       "      <td>...</td>\n",
       "      <td>...</td>\n",
       "      <td>...</td>\n",
       "      <td>...</td>\n",
       "      <td>...</td>\n",
       "      <td>...</td>\n",
       "      <td>...</td>\n",
       "      <td>...</td>\n",
       "      <td>...</td>\n",
       "      <td>...</td>\n",
       "      <td>...</td>\n",
       "      <td>...</td>\n",
       "      <td>...</td>\n",
       "      <td>...</td>\n",
       "      <td>...</td>\n",
       "      <td>...</td>\n",
       "      <td>...</td>\n",
       "    </tr>\n",
       "    <tr>\n",
       "      <th>834</th>\n",
       "      <td>32050</td>\n",
       "      <td>3</td>\n",
       "      <td>0.00</td>\n",
       "      <td>0.00</td>\n",
       "      <td>0</td>\n",
       "      <td>-1.0008</td>\n",
       "      <td>50.07</td>\n",
       "      <td>0</td>\n",
       "      <td>4.461622</td>\n",
       "      <td>4.165169</td>\n",
       "      <td>36.423129</td>\n",
       "      <td>11.567853</td>\n",
       "      <td>0.786746</td>\n",
       "      <td>3.046895</td>\n",
       "      <td>2.969846</td>\n",
       "      <td>2.997159</td>\n",
       "      <td>0.474186</td>\n",
       "      <td>14.449122</td>\n",
       "      <td>10.916527</td>\n",
       "    </tr>\n",
       "    <tr>\n",
       "      <th>835</th>\n",
       "      <td>32051</td>\n",
       "      <td>0</td>\n",
       "      <td>40.83</td>\n",
       "      <td>18.05</td>\n",
       "      <td>0</td>\n",
       "      <td>-0.6686</td>\n",
       "      <td>31.43</td>\n",
       "      <td>1</td>\n",
       "      <td>5.448608</td>\n",
       "      <td>4.606946</td>\n",
       "      <td>47.723023</td>\n",
       "      <td>13.052967</td>\n",
       "      <td>2.531589</td>\n",
       "      <td>8.423299</td>\n",
       "      <td>0.978858</td>\n",
       "      <td>9.255142</td>\n",
       "      <td>1.069363</td>\n",
       "      <td>21.042373</td>\n",
       "      <td>14.499824</td>\n",
       "    </tr>\n",
       "    <tr>\n",
       "      <th>836</th>\n",
       "      <td>32052</td>\n",
       "      <td>4</td>\n",
       "      <td>0.00</td>\n",
       "      <td>0.00</td>\n",
       "      <td>0</td>\n",
       "      <td>-0.9435</td>\n",
       "      <td>0.00</td>\n",
       "      <td>0</td>\n",
       "      <td>3.518796</td>\n",
       "      <td>3.019944</td>\n",
       "      <td>32.398168</td>\n",
       "      <td>17.443852</td>\n",
       "      <td>1.521418</td>\n",
       "      <td>4.548395</td>\n",
       "      <td>2.997877</td>\n",
       "      <td>6.015325</td>\n",
       "      <td>1.112863</td>\n",
       "      <td>24.032564</td>\n",
       "      <td>14.869227</td>\n",
       "    </tr>\n",
       "    <tr>\n",
       "      <th>837</th>\n",
       "      <td>32056</td>\n",
       "      <td>3</td>\n",
       "      <td>9.19</td>\n",
       "      <td>17.61</td>\n",
       "      <td>0</td>\n",
       "      <td>-1.4022</td>\n",
       "      <td>59.65</td>\n",
       "      <td>0</td>\n",
       "      <td>1.319611</td>\n",
       "      <td>2.739716</td>\n",
       "      <td>21.493228</td>\n",
       "      <td>15.214505</td>\n",
       "      <td>0.334322</td>\n",
       "      <td>0.914969</td>\n",
       "      <td>1.443085</td>\n",
       "      <td>0.727765</td>\n",
       "      <td>0.171016</td>\n",
       "      <td>11.393664</td>\n",
       "      <td>5.131517</td>\n",
       "    </tr>\n",
       "    <tr>\n",
       "      <th>838</th>\n",
       "      <td>32057</td>\n",
       "      <td>8</td>\n",
       "      <td>50.89</td>\n",
       "      <td>16.97</td>\n",
       "      <td>0</td>\n",
       "      <td>-0.7800</td>\n",
       "      <td>65.56</td>\n",
       "      <td>0</td>\n",
       "      <td>5.412260</td>\n",
       "      <td>3.721666</td>\n",
       "      <td>37.918207</td>\n",
       "      <td>10.888392</td>\n",
       "      <td>1.272758</td>\n",
       "      <td>5.963139</td>\n",
       "      <td>3.130103</td>\n",
       "      <td>5.094629</td>\n",
       "      <td>0.906759</td>\n",
       "      <td>22.900525</td>\n",
       "      <td>20.096191</td>\n",
       "    </tr>\n",
       "  </tbody>\n",
       "</table>\n",
       "<p>839 rows × 19 columns</p>\n",
       "</div>"
      ],
      "text/plain": [
       "     Mun_code  Pipe_intersec  Gas_stations  Gas_price  Confront_events  \\\n",
       "0        1001             22          1.35      17.78                0   \n",
       "1        1002              3         21.29      17.93                0   \n",
       "2        1004              5         76.76      17.85                0   \n",
       "3        1005              5         18.80      17.84                0   \n",
       "4        1006              8         31.76      17.83                0   \n",
       "..        ...            ...           ...        ...              ...   \n",
       "834     32050              3          0.00       0.00                0   \n",
       "835     32051              0         40.83      18.05                0   \n",
       "836     32052              4          0.00       0.00                0   \n",
       "837     32056              3          9.19      17.61                0   \n",
       "838     32057              8         50.89      16.97                0   \n",
       "\n",
       "        IRS  Homic_rate  Susceptible     SBASC  POB_6_16_NEB  POB_16_EBI  \\\n",
       "0   -1.3456        5.41            1  1.887423      3.914694   23.463147   \n",
       "1   -0.8732        4.13            0  4.053829      3.934379   38.616333   \n",
       "2   -1.0391        6.20            0  3.835153      3.753315   30.835403   \n",
       "3   -1.1825        4.83            0  2.887218      4.803344   30.812283   \n",
       "4   -1.1859        4.26            1  3.120712      3.307964   28.773867   \n",
       "..      ...         ...          ...       ...           ...         ...   \n",
       "834 -1.0008       50.07            0  4.461622      4.165169   36.423129   \n",
       "835 -0.6686       31.43            1  5.448608      4.606946   47.723023   \n",
       "836 -0.9435        0.00            0  3.518796      3.019944   32.398168   \n",
       "837 -1.4022       59.65            0  1.319611      2.739716   21.493228   \n",
       "838 -0.7800       65.56            0  5.412260      3.721666   37.918207   \n",
       "\n",
       "         NO_SS      OVPT  NO_SANIT     OVSAE   NO_DREN  NO_ELECT    NO_LAVA  \\\n",
       "0    15.751315  0.558267  0.434323  0.539714  0.405613  0.185406  13.135097   \n",
       "1     8.822640  1.593414  4.890338  1.171607  4.973795  0.997579  21.077503   \n",
       "2     8.218243  1.335823  2.530502  0.671326  1.624260  0.697120  21.213440   \n",
       "3    16.580066  1.043769  0.840948  0.911164  0.748003  0.439924  14.073904   \n",
       "4    13.255280  0.696114  1.460176  1.117155  1.157367  0.667693  15.313592   \n",
       "..         ...       ...       ...       ...       ...       ...        ...   \n",
       "834  11.567853  0.786746  3.046895  2.969846  2.997159  0.474186  14.449122   \n",
       "835  13.052967  2.531589  8.423299  0.978858  9.255142  1.069363  21.042373   \n",
       "836  17.443852  1.521418  4.548395  2.997877  6.015325  1.112863  24.032564   \n",
       "837  15.214505  0.334322  0.914969  1.443085  0.727765  0.171016  11.393664   \n",
       "838  10.888392  1.272758  5.963139  3.130103  5.094629  0.906759  22.900525   \n",
       "\n",
       "      No_REFRI  \n",
       "0     4.976815  \n",
       "1    13.729702  \n",
       "2    11.657586  \n",
       "3     6.988933  \n",
       "4     8.822952  \n",
       "..         ...  \n",
       "834  10.916527  \n",
       "835  14.499824  \n",
       "836  14.869227  \n",
       "837   5.131517  \n",
       "838  20.096191  \n",
       "\n",
       "[839 rows x 19 columns]"
      ]
     },
     "execution_count": 10,
     "metadata": {},
     "output_type": "execute_result"
    }
   ],
   "source": [
    "df_thefts_PMX"
   ]
  },
  {
   "cell_type": "code",
   "execution_count": 20,
   "metadata": {
    "colab": {
     "base_uri": "https://localhost:8080/"
    },
    "id": "ZPmRX6Wippbr",
    "outputId": "8f483721-dd1e-447f-88ce-7f105bb264b0"
   },
   "outputs": [
    {
     "data": {
      "text/html": [
       "<div>\n",
       "<style scoped>\n",
       "    .dataframe tbody tr th:only-of-type {\n",
       "        vertical-align: middle;\n",
       "    }\n",
       "\n",
       "    .dataframe tbody tr th {\n",
       "        vertical-align: top;\n",
       "    }\n",
       "\n",
       "    .dataframe thead th {\n",
       "        text-align: right;\n",
       "    }\n",
       "</style>\n",
       "<table border=\"1\" class=\"dataframe\">\n",
       "  <thead>\n",
       "    <tr style=\"text-align: right;\">\n",
       "      <th></th>\n",
       "      <th>Pipe_intersec</th>\n",
       "      <th>Gas_stations</th>\n",
       "      <th>Gas_price</th>\n",
       "      <th>Confront_events</th>\n",
       "      <th>IRS</th>\n",
       "      <th>Homic_rate</th>\n",
       "      <th>SBASC</th>\n",
       "      <th>POB_6_16_NEB</th>\n",
       "      <th>POB_16_EBI</th>\n",
       "      <th>NO_SS</th>\n",
       "      <th>OVPT</th>\n",
       "      <th>NO_SANIT</th>\n",
       "      <th>OVSAE</th>\n",
       "      <th>NO_DREN</th>\n",
       "      <th>NO_ELECT</th>\n",
       "      <th>NO_LAVA</th>\n",
       "      <th>No_REFRI</th>\n",
       "    </tr>\n",
       "  </thead>\n",
       "  <tbody>\n",
       "    <tr>\n",
       "      <th>0</th>\n",
       "      <td>22</td>\n",
       "      <td>1.35</td>\n",
       "      <td>17.78</td>\n",
       "      <td>0</td>\n",
       "      <td>-1.3456</td>\n",
       "      <td>5.41</td>\n",
       "      <td>1.887423</td>\n",
       "      <td>3.914694</td>\n",
       "      <td>23.463147</td>\n",
       "      <td>15.751315</td>\n",
       "      <td>0.558267</td>\n",
       "      <td>0.434323</td>\n",
       "      <td>0.539714</td>\n",
       "      <td>0.405613</td>\n",
       "      <td>0.185406</td>\n",
       "      <td>13.135097</td>\n",
       "      <td>4.976815</td>\n",
       "    </tr>\n",
       "    <tr>\n",
       "      <th>1</th>\n",
       "      <td>3</td>\n",
       "      <td>21.29</td>\n",
       "      <td>17.93</td>\n",
       "      <td>0</td>\n",
       "      <td>-0.8732</td>\n",
       "      <td>4.13</td>\n",
       "      <td>4.053829</td>\n",
       "      <td>3.934379</td>\n",
       "      <td>38.616333</td>\n",
       "      <td>8.822640</td>\n",
       "      <td>1.593414</td>\n",
       "      <td>4.890338</td>\n",
       "      <td>1.171607</td>\n",
       "      <td>4.973795</td>\n",
       "      <td>0.997579</td>\n",
       "      <td>21.077503</td>\n",
       "      <td>13.729702</td>\n",
       "    </tr>\n",
       "    <tr>\n",
       "      <th>2</th>\n",
       "      <td>5</td>\n",
       "      <td>76.76</td>\n",
       "      <td>17.85</td>\n",
       "      <td>0</td>\n",
       "      <td>-1.0391</td>\n",
       "      <td>6.20</td>\n",
       "      <td>3.835153</td>\n",
       "      <td>3.753315</td>\n",
       "      <td>30.835403</td>\n",
       "      <td>8.218243</td>\n",
       "      <td>1.335823</td>\n",
       "      <td>2.530502</td>\n",
       "      <td>0.671326</td>\n",
       "      <td>1.624260</td>\n",
       "      <td>0.697120</td>\n",
       "      <td>21.213440</td>\n",
       "      <td>11.657586</td>\n",
       "    </tr>\n",
       "    <tr>\n",
       "      <th>3</th>\n",
       "      <td>5</td>\n",
       "      <td>18.80</td>\n",
       "      <td>17.84</td>\n",
       "      <td>0</td>\n",
       "      <td>-1.1825</td>\n",
       "      <td>4.83</td>\n",
       "      <td>2.887218</td>\n",
       "      <td>4.803344</td>\n",
       "      <td>30.812283</td>\n",
       "      <td>16.580066</td>\n",
       "      <td>1.043769</td>\n",
       "      <td>0.840948</td>\n",
       "      <td>0.911164</td>\n",
       "      <td>0.748003</td>\n",
       "      <td>0.439924</td>\n",
       "      <td>14.073904</td>\n",
       "      <td>6.988933</td>\n",
       "    </tr>\n",
       "    <tr>\n",
       "      <th>4</th>\n",
       "      <td>8</td>\n",
       "      <td>31.76</td>\n",
       "      <td>17.83</td>\n",
       "      <td>0</td>\n",
       "      <td>-1.1859</td>\n",
       "      <td>4.26</td>\n",
       "      <td>3.120712</td>\n",
       "      <td>3.307964</td>\n",
       "      <td>28.773867</td>\n",
       "      <td>13.255280</td>\n",
       "      <td>0.696114</td>\n",
       "      <td>1.460176</td>\n",
       "      <td>1.117155</td>\n",
       "      <td>1.157367</td>\n",
       "      <td>0.667693</td>\n",
       "      <td>15.313592</td>\n",
       "      <td>8.822952</td>\n",
       "    </tr>\n",
       "    <tr>\n",
       "      <th>...</th>\n",
       "      <td>...</td>\n",
       "      <td>...</td>\n",
       "      <td>...</td>\n",
       "      <td>...</td>\n",
       "      <td>...</td>\n",
       "      <td>...</td>\n",
       "      <td>...</td>\n",
       "      <td>...</td>\n",
       "      <td>...</td>\n",
       "      <td>...</td>\n",
       "      <td>...</td>\n",
       "      <td>...</td>\n",
       "      <td>...</td>\n",
       "      <td>...</td>\n",
       "      <td>...</td>\n",
       "      <td>...</td>\n",
       "      <td>...</td>\n",
       "    </tr>\n",
       "    <tr>\n",
       "      <th>834</th>\n",
       "      <td>3</td>\n",
       "      <td>0.00</td>\n",
       "      <td>0.00</td>\n",
       "      <td>0</td>\n",
       "      <td>-1.0008</td>\n",
       "      <td>50.07</td>\n",
       "      <td>4.461622</td>\n",
       "      <td>4.165169</td>\n",
       "      <td>36.423129</td>\n",
       "      <td>11.567853</td>\n",
       "      <td>0.786746</td>\n",
       "      <td>3.046895</td>\n",
       "      <td>2.969846</td>\n",
       "      <td>2.997159</td>\n",
       "      <td>0.474186</td>\n",
       "      <td>14.449122</td>\n",
       "      <td>10.916527</td>\n",
       "    </tr>\n",
       "    <tr>\n",
       "      <th>835</th>\n",
       "      <td>0</td>\n",
       "      <td>40.83</td>\n",
       "      <td>18.05</td>\n",
       "      <td>0</td>\n",
       "      <td>-0.6686</td>\n",
       "      <td>31.43</td>\n",
       "      <td>5.448608</td>\n",
       "      <td>4.606946</td>\n",
       "      <td>47.723023</td>\n",
       "      <td>13.052967</td>\n",
       "      <td>2.531589</td>\n",
       "      <td>8.423299</td>\n",
       "      <td>0.978858</td>\n",
       "      <td>9.255142</td>\n",
       "      <td>1.069363</td>\n",
       "      <td>21.042373</td>\n",
       "      <td>14.499824</td>\n",
       "    </tr>\n",
       "    <tr>\n",
       "      <th>836</th>\n",
       "      <td>4</td>\n",
       "      <td>0.00</td>\n",
       "      <td>0.00</td>\n",
       "      <td>0</td>\n",
       "      <td>-0.9435</td>\n",
       "      <td>0.00</td>\n",
       "      <td>3.518796</td>\n",
       "      <td>3.019944</td>\n",
       "      <td>32.398168</td>\n",
       "      <td>17.443852</td>\n",
       "      <td>1.521418</td>\n",
       "      <td>4.548395</td>\n",
       "      <td>2.997877</td>\n",
       "      <td>6.015325</td>\n",
       "      <td>1.112863</td>\n",
       "      <td>24.032564</td>\n",
       "      <td>14.869227</td>\n",
       "    </tr>\n",
       "    <tr>\n",
       "      <th>837</th>\n",
       "      <td>3</td>\n",
       "      <td>9.19</td>\n",
       "      <td>17.61</td>\n",
       "      <td>0</td>\n",
       "      <td>-1.4022</td>\n",
       "      <td>59.65</td>\n",
       "      <td>1.319611</td>\n",
       "      <td>2.739716</td>\n",
       "      <td>21.493228</td>\n",
       "      <td>15.214505</td>\n",
       "      <td>0.334322</td>\n",
       "      <td>0.914969</td>\n",
       "      <td>1.443085</td>\n",
       "      <td>0.727765</td>\n",
       "      <td>0.171016</td>\n",
       "      <td>11.393664</td>\n",
       "      <td>5.131517</td>\n",
       "    </tr>\n",
       "    <tr>\n",
       "      <th>838</th>\n",
       "      <td>8</td>\n",
       "      <td>50.89</td>\n",
       "      <td>16.97</td>\n",
       "      <td>0</td>\n",
       "      <td>-0.7800</td>\n",
       "      <td>65.56</td>\n",
       "      <td>5.412260</td>\n",
       "      <td>3.721666</td>\n",
       "      <td>37.918207</td>\n",
       "      <td>10.888392</td>\n",
       "      <td>1.272758</td>\n",
       "      <td>5.963139</td>\n",
       "      <td>3.130103</td>\n",
       "      <td>5.094629</td>\n",
       "      <td>0.906759</td>\n",
       "      <td>22.900525</td>\n",
       "      <td>20.096191</td>\n",
       "    </tr>\n",
       "  </tbody>\n",
       "</table>\n",
       "<p>839 rows × 17 columns</p>\n",
       "</div>"
      ],
      "text/plain": [
       "     Pipe_intersec  Gas_stations  Gas_price  Confront_events     IRS  \\\n",
       "0               22          1.35      17.78                0 -1.3456   \n",
       "1                3         21.29      17.93                0 -0.8732   \n",
       "2                5         76.76      17.85                0 -1.0391   \n",
       "3                5         18.80      17.84                0 -1.1825   \n",
       "4                8         31.76      17.83                0 -1.1859   \n",
       "..             ...           ...        ...              ...     ...   \n",
       "834              3          0.00       0.00                0 -1.0008   \n",
       "835              0         40.83      18.05                0 -0.6686   \n",
       "836              4          0.00       0.00                0 -0.9435   \n",
       "837              3          9.19      17.61                0 -1.4022   \n",
       "838              8         50.89      16.97                0 -0.7800   \n",
       "\n",
       "     Homic_rate     SBASC  POB_6_16_NEB  POB_16_EBI      NO_SS      OVPT  \\\n",
       "0          5.41  1.887423      3.914694   23.463147  15.751315  0.558267   \n",
       "1          4.13  4.053829      3.934379   38.616333   8.822640  1.593414   \n",
       "2          6.20  3.835153      3.753315   30.835403   8.218243  1.335823   \n",
       "3          4.83  2.887218      4.803344   30.812283  16.580066  1.043769   \n",
       "4          4.26  3.120712      3.307964   28.773867  13.255280  0.696114   \n",
       "..          ...       ...           ...         ...        ...       ...   \n",
       "834       50.07  4.461622      4.165169   36.423129  11.567853  0.786746   \n",
       "835       31.43  5.448608      4.606946   47.723023  13.052967  2.531589   \n",
       "836        0.00  3.518796      3.019944   32.398168  17.443852  1.521418   \n",
       "837       59.65  1.319611      2.739716   21.493228  15.214505  0.334322   \n",
       "838       65.56  5.412260      3.721666   37.918207  10.888392  1.272758   \n",
       "\n",
       "     NO_SANIT     OVSAE   NO_DREN  NO_ELECT    NO_LAVA   No_REFRI  \n",
       "0    0.434323  0.539714  0.405613  0.185406  13.135097   4.976815  \n",
       "1    4.890338  1.171607  4.973795  0.997579  21.077503  13.729702  \n",
       "2    2.530502  0.671326  1.624260  0.697120  21.213440  11.657586  \n",
       "3    0.840948  0.911164  0.748003  0.439924  14.073904   6.988933  \n",
       "4    1.460176  1.117155  1.157367  0.667693  15.313592   8.822952  \n",
       "..        ...       ...       ...       ...        ...        ...  \n",
       "834  3.046895  2.969846  2.997159  0.474186  14.449122  10.916527  \n",
       "835  8.423299  0.978858  9.255142  1.069363  21.042373  14.499824  \n",
       "836  4.548395  2.997877  6.015325  1.112863  24.032564  14.869227  \n",
       "837  0.914969  1.443085  0.727765  0.171016  11.393664   5.131517  \n",
       "838  5.963139  3.130103  5.094629  0.906759  22.900525  20.096191  \n",
       "\n",
       "[839 rows x 17 columns]"
      ]
     },
     "execution_count": 20,
     "metadata": {},
     "output_type": "execute_result"
    }
   ],
   "source": [
    "# We will now set data and target \n",
    "X = df_thefts_PMX.drop(columns=['Mun_code', 'Susceptible'])\n",
    "y = df_thefts_PMX[\"Susceptible\"]\n",
    "X"
   ]
  },
  {
   "cell_type": "code",
   "execution_count": 21,
   "metadata": {
    "colab": {
     "base_uri": "https://localhost:8080/",
     "height": 265
    },
    "id": "NMwxXhD6ppek",
    "outputId": "c133efb8-02d0-4d84-81ae-7ce2502b1dfe"
   },
   "outputs": [
    {
     "data": {
      "image/png": "[encoded data removed]",
      "text/plain": [
       "<Figure size 432x288 with 1 Axes>"
      ]
     },
     "metadata": {
      "needs_background": "light"
     },
     "output_type": "display_data"
    }
   ],
   "source": [
    "# Preprocessing the data\n",
    "\n",
    "X_new = StandardScaler().fit_transform(X)\n",
    "plt.scatter(X_new[:, 0], X_new[:, 1], c=y);"
   ]
  },
  {
   "cell_type": "code",
   "execution_count": 22,
   "metadata": {
    "colab": {
     "base_uri": "https://localhost:8080/",
     "height": 265
    },
    "id": "144PFjHcpphb",
    "outputId": "93662bc6-3f2e-4b31-cc1f-772de7169ee2"
   },
   "outputs": [
    {
     "data": {
      "image/png": "[encoded data removed]",
      "text/plain": [
       "<Figure size 432x288 with 1 Axes>"
      ]
     },
     "metadata": {
      "needs_background": "light"
     },
     "output_type": "display_data"
    }
   ],
   "source": [
    "# QuantileTransformer\n",
    "\n",
    "from sklearn.preprocessing import QuantileTransformer\n",
    "\n",
    "X_new2 = QuantileTransformer(n_quantiles = 500).fit_transform(X)\n",
    "plt.scatter(X_new2[:, 0], X_new2[:, 1], c=y);"
   ]
  },
  {
   "cell_type": "code",
   "execution_count": 23,
   "metadata": {
    "colab": {
     "base_uri": "https://localhost:8080/",
     "height": 1000
    },
    "id": "AHOFL8UXppkK",
    "outputId": "5472c1f1-43d1-4381-9b2e-95df2f22cb66"
   },
   "outputs": [
    {
     "data": {
      "image/png": "[encoded data removed]",
      "text/plain": [
       "<Figure size 432x288 with 1 Axes>"
      ]
     },
     "metadata": {
      "needs_background": "light"
     },
     "output_type": "display_data"
    },
    {
     "data": {
      "image/png": "[encoded data removed]",
      "text/plain": [
       "<Figure size 432x288 with 1 Axes>"
      ]
     },
     "metadata": {
      "needs_background": "light"
     },
     "output_type": "display_data"
    },
    {
     "data": {
      "image/png": "[encoded data removed]",
      "text/plain": [
       "<Figure size 432x288 with 1 Axes>"
      ]
     },
     "metadata": {
      "needs_background": "light"
     },
     "output_type": "display_data"
    },
    {
     "data": {
      "image/png": "[encoded data removed]",
      "text/plain": [
       "<Figure size 432x288 with 1 Axes>"
      ]
     },
     "metadata": {
      "needs_background": "light"
     },
     "output_type": "display_data"
    },
    {
     "data": {
      "image/png": "[encoded data removed]",
      "text/plain": [
       "<Figure size 432x288 with 1 Axes>"
      ]
     },
     "metadata": {
      "needs_background": "light"
     },
     "output_type": "display_data"
    },
    {
     "data": {
      "image/png": "[encoded data removed]",
      "text/plain": [
       "<Figure size 432x288 with 1 Axes>"
      ]
     },
     "metadata": {
      "needs_background": "light"
     },
     "output_type": "display_data"
    },
    {
     "data": {
      "image/png": "[encoded data removed]",
      "text/plain": [
       "<Figure size 432x288 with 1 Axes>"
      ]
     },
     "metadata": {
      "needs_background": "light"
     },
     "output_type": "display_data"
    },
    {
     "data": {
      "image/png": "[encoded data removed]",
      "text/plain": [
       "<Figure size 432x288 with 1 Axes>"
      ]
     },
     "metadata": {
      "needs_background": "light"
     },
     "output_type": "display_data"
    },
    {
     "data": {
      "image/png": "[encoded data removed]",
      "text/plain": [
       "<Figure size 432x288 with 1 Axes>"
      ]
     },
     "metadata": {
      "needs_background": "light"
     },
     "output_type": "display_data"
    },
    {
     "data": {
      "image/png": "[encoded data removed]",
      "text/plain": [
       "<Figure size 432x288 with 1 Axes>"
      ]
     },
     "metadata": {
      "needs_background": "light"
     },
     "output_type": "display_data"
    },
    {
     "data": {
      "image/png": "[encoded data removed]",
      "text/plain": [
       "<Figure size 432x288 with 1 Axes>"
      ]
     },
     "metadata": {
      "needs_background": "light"
     },
     "output_type": "display_data"
    },
    {
     "data": {
      "image/png": "[encoded data removed]",
      "text/plain": [
       "<Figure size 432x288 with 1 Axes>"
      ]
     },
     "metadata": {
      "needs_background": "light"
     },
     "output_type": "display_data"
    },
    {
     "data": {
      "image/png": "[encoded data removed]",
      "text/plain": [
       "<Figure size 432x288 with 1 Axes>"
      ]
     },
     "metadata": {
      "needs_background": "light"
     },
     "output_type": "display_data"
    },
    {
     "data": {
      "image/png": "[encoded data removed]",
      "text/plain": [
       "<Figure size 432x288 with 1 Axes>"
      ]
     },
     "metadata": {
      "needs_background": "light"
     },
     "output_type": "display_data"
    },
    {
     "data": {
      "image/png": "[encoded data removed]",
      "text/plain": [
       "<Figure size 432x288 with 1 Axes>"
      ]
     },
     "metadata": {
      "needs_background": "light"
     },
     "output_type": "display_data"
    },
    {
     "data": {
      "image/png": "[encoded data removed]",
      "text/plain": [
       "<Figure size 432x288 with 1 Axes>"
      ]
     },
     "metadata": {
      "needs_background": "light"
     },
     "output_type": "display_data"
    },
    {
     "data": {
      "image/png": "[encoded data removed]",
      "text/plain": [
       "<Figure size 432x288 with 1 Axes>"
      ]
     },
     "metadata": {
      "needs_background": "light"
     },
     "output_type": "display_data"
    }
   ],
   "source": [
    "#Check the variables distribution - histogram\n",
    "\n",
    "# Plot one histogram per variable\n",
    "\n",
    "for variable_name in df_thefts_PMX[['Pipe_intersec', 'Gas_stations', 'Gas_price',\n",
    "                                    'Confront_events', 'IRS', 'Homic_rate', 'SBASC', 'POB_6_16_NEB',\n",
    "                                    'POB_16_EBI', 'NO_SS', 'OVPT', 'NO_SANIT', 'OVSAE', 'NO_DREN',\n",
    "                                    'NO_ELECT', 'NO_LAVA', 'No_REFRI']]:\n",
    "                                   plt.figure()\n",
    "                                   # plot the histogram for each specie\n",
    "                                   df_thefts_PMX.groupby(\"Susceptible\")[variable_name].plot.hist(alpha=0.5, legend=True)\n",
    "                                   plt.xlabel(variable_name)"
   ]
  },
  {
   "cell_type": "code",
   "execution_count": 24,
   "metadata": {
    "colab": {
     "base_uri": "https://localhost:8080/",
     "height": 310
    },
    "id": "QDgoXUV-pFE0",
    "outputId": "b6742c1b-19d7-4c0c-a3ac-d2e7f2701cdb"
   },
   "outputs": [
    {
     "data": {
      "image/png": "[encoded data removed]",
      "text/plain": [
       "<Figure size 432x288 with 1 Axes>"
      ]
     },
     "metadata": {
      "needs_background": "light"
     },
     "output_type": "display_data"
    }
   ],
   "source": [
    "import matplotlib.pyplot as plt\n",
    "\n",
    "y.value_counts().plot.barh()\n",
    "plt.xlabel(\"Number of samples\")\n",
    "_ = plt.title(\"Number of samples per classes present\\n in the target\")"
   ]
  },
  {
   "cell_type": "code",
   "execution_count": 25,
   "metadata": {
    "id": "Fl0v1Wnlp_Kq"
   },
   "outputs": [],
   "source": [
    "# Set up training and testing data\n",
    "\n",
    "from sklearn.model_selection import train_test_split\n",
    "\n",
    "X_train, X_test, y_train, y_test = train_test_split(\n",
    "    X, y, shuffle=True, random_state=123, test_size=0.3)"
   ]
  },
  {
   "cell_type": "code",
   "execution_count": 26,
   "metadata": {
    "id": "KNyYr0XKp_Ny"
   },
   "outputs": [],
   "source": [
    "# Preprocessing the data\n",
    "from sklearn.linear_model import LogisticRegression\n",
    "from sklearn.preprocessing import StandardScaler\n",
    "from sklearn.pipeline import Pipeline\n",
    "from sklearn.metrics import accuracy_score\n",
    "\n",
    "pipe = Pipeline([('scaler', StandardScaler()), \n",
    "                 ('model', LogisticRegression())\n",
    "                 ])\n",
    "\n",
    "#pipe.fit(X_train, y_train)\n",
    "classifier = pipe.fit(X_train, y_train)\n",
    "\n",
    "\n",
    "\n"
   ]
  },
  {
   "cell_type": "code",
   "execution_count": 27,
   "metadata": {
    "id": "AewJBKO9p_RG"
   },
   "outputs": [],
   "source": [
    "# Here we predict using our unseen data (X_test)\n",
    "#classifier = LogisticRegression()\n",
    "target_predicted = pipe.predict(X_test)\n"
   ]
  },
  {
   "cell_type": "code",
   "execution_count": 28,
   "metadata": {
    "colab": {
     "base_uri": "https://localhost:8080/"
    },
    "id": "Z88mTmnCqJ8l",
    "outputId": "427c86f8-f305-48b8-ea14-41e8ccca2b62"
   },
   "outputs": [
    {
     "name": "stdout",
     "output_type": "stream",
     "text": [
      "Accuracy: 0.5635\n"
     ]
    }
   ],
   "source": [
    "accuracy = accuracy_score(y_test, target_predicted)\n",
    "print(f\"Accuracy: {accuracy:.4f}\")"
   ]
  },
  {
   "cell_type": "code",
   "execution_count": 29,
   "metadata": {
    "colab": {
     "base_uri": "https://localhost:8080/"
    },
    "id": "MqW29eWdQwNK",
    "outputId": "eb1298c8-72f9-4411-b4d8-84f054ccd91b"
   },
   "outputs": [
    {
     "data": {
      "text/plain": [
       "0.4365079365079365"
      ]
     },
     "execution_count": 29,
     "metadata": {},
     "output_type": "execute_result"
    }
   ],
   "source": [
    "mean_absolute_error(y_test, target_predicted)"
   ]
  },
  {
   "cell_type": "code",
   "execution_count": 30,
   "metadata": {
    "colab": {
     "base_uri": "https://localhost:8080/"
    },
    "id": "duLEuO66qJ_j",
    "outputId": "221eabc8-702f-47a3-9675-42cdec1b70ae"
   },
   "outputs": [
    {
     "data": {
      "text/plain": [
       "0.5634920634920635"
      ]
     },
     "execution_count": 30,
     "metadata": {},
     "output_type": "execute_result"
    }
   ],
   "source": [
    "classifier.score(X_test, y_test)"
   ]
  },
  {
   "cell_type": "code",
   "execution_count": 31,
   "metadata": {
    "colab": {
     "base_uri": "https://localhost:8080/",
     "height": 279
    },
    "id": "VKjIOdFJqKCa",
    "outputId": "5bcb5a04-f79a-4abe-f0d1-75900543e8ad"
   },
   "outputs": [
    {
     "data": {
      "image/png": "[encoded data removed]",
      "text/plain": [
       "<Figure size 432x288 with 2 Axes>"
      ]
     },
     "metadata": {
      "needs_background": "light"
     },
     "output_type": "display_data"
    }
   ],
   "source": [
    "from sklearn.metrics import ConfusionMatrixDisplay\n",
    "\n",
    "_ = ConfusionMatrixDisplay.from_estimator(classifier, X_test, y_test) "
   ]
  },
  {
   "cell_type": "code",
   "execution_count": 32,
   "metadata": {
    "colab": {
     "base_uri": "https://localhost:8080/"
    },
    "id": "xJVHpzNBqKFT",
    "outputId": "56408609-71ec-48b0-b33d-d21fb80934f6"
   },
   "outputs": [
    {
     "name": "stdout",
     "output_type": "stream",
     "text": [
      "Precision score: 0.6198\n",
      "Recall score: 0.5396\n"
     ]
    }
   ],
   "source": [
    "from sklearn.metrics import precision_score, recall_score\n",
    "\n",
    "precision = precision_score(y_test, target_predicted)\n",
    "recall = recall_score(y_test, target_predicted)\n",
    "\n",
    "print(f\"Precision score: {precision:.4f}\")\n",
    "print(f\"Recall score: {recall:.4f}\")"
   ]
  },
  {
   "cell_type": "code",
   "execution_count": 33,
   "metadata": {
    "colab": {
     "base_uri": "https://localhost:8080/"
    },
    "id": "xbnCHn3NqwhN",
    "outputId": "1f84aee5-a875-4bbc-f679-c2e03f7beaf2"
   },
   "outputs": [
    {
     "name": "stdout",
     "output_type": "stream",
     "text": [
      "Balanced accuracy: 0.5662\n"
     ]
    }
   ],
   "source": [
    "from sklearn.metrics import balanced_accuracy_score\n",
    "\n",
    "balanced_accuracy = balanced_accuracy_score(y_test, target_predicted)\n",
    "print(f\"Balanced accuracy: {balanced_accuracy:.4f}\")"
   ]
  }
 ],
 "metadata": {
  "colab": {
   "collapsed_sections": [],
   "provenance": []
  },
  "kernelspec": {
   "display_name": "Python 3 (ipykernel)",
   "language": "python",
   "name": "python3"
  },
  "language_info": {
   "codemirror_mode": {
    "name": "ipython",
    "version": 3
   },
   "file_extension": ".py",
   "mimetype": "text/x-python",
   "name": "python",
   "nbconvert_exporter": "python",
   "pygments_lexer": "ipython3",
   "version": "3.9.12"
  }
 },
 "nbformat": 4,
 "nbformat_minor": 4
}
