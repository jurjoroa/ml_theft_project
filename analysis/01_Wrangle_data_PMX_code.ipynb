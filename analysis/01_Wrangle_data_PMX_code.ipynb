{
 "cells": [
  {
   "cell_type": "code",
   "execution_count": 1,
   "id": "cdcaa010",
   "metadata": {},
   "outputs": [],
   "source": [
    "import pandas as pd\n",
    "import numpy as np\n",
    "import matplotlib.pyplot as plt"
   ]
  },
  {
   "cell_type": "code",
   "execution_count": 2,
   "id": "14eabf18",
   "metadata": {},
   "outputs": [],
   "source": [
    "%cd \"Documents/GitHub/pmx_gasoline_theft_prediction/\""
   ]
  },
  {
   "cell_type": "code",
   "execution_count": 3,
   "id": "6f1abb9b",
   "metadata": {},
   "outputs": [],
   "source": [
    "df_pmx_00_19 = pd.read_excel(\"data-raw/PMX_00_19_Serendipia.xlsx\", low_memory=False)"
   ]
  },
  {
   "cell_type": "code",
   "execution_count": 4,
   "id": "bdf4d14d",
   "metadata": {},
   "outputs": [],
   "source": [
    "df_pmx_00_19 = pd.read_excel(\"data-raw/PMX_00_19_Serendipia.xlsx\")"
   ]
  },
  {
   "cell_type": "code",
   "execution_count": 5,
   "id": "e11f6687",
   "metadata": {},
   "outputs": [],
   "source": [
    "df_pmx_00_19_lw = df_pmx_00_19[\"estado\", \"municipio\"].str.lower()"
   ]
  },
  {
   "cell_type": "code",
   "execution_count": 6,
   "id": "371b2537",
   "metadata": {},
   "outputs": [],
   "source": [
    "df_pmx_00_19_lw = df_pmx_00_19[\"estado\"].str.lower()"
   ]
  },
  {
   "cell_type": "code",
   "execution_count": 7,
   "id": "30d7de2d",
   "metadata": {},
   "outputs": [],
   "source": [
    "df_pmx_00_19_lw = df_pmx_00_19.str.lower()"
   ]
  },
  {
   "cell_type": "code",
   "execution_count": 8,
   "id": "7bb675ec",
   "metadata": {},
   "outputs": [],
   "source": [
    "df_pmx_00_19_lw = df_pmx_00_19[].str.lower()"
   ]
  },
  {
   "cell_type": "code",
   "execution_count": 9,
   "id": "fa941520",
   "metadata": {},
   "outputs": [],
   "source": [
    "df_pmx_00_19_lw = df_pmx_00_19[\"year\", \"estado\"].str.lower()"
   ]
  },
  {
   "cell_type": "code",
   "execution_count": 10,
   "id": "d037b211",
   "metadata": {},
   "outputs": [],
   "source": [
    "df_pmx_00_19[\"estado\"] = df_pmx_00_19[\"estado\"].str.lower()"
   ]
  },
  {
   "cell_type": "code",
   "execution_count": 11,
   "id": "c1342fce",
   "metadata": {},
   "outputs": [],
   "source": [
    "df_pmx_00_19[\"estado\"] = df_pmx_00_19[\"estado\"].str.lower()\n",
    "df_pmx_00_19[\"municipio\"] = df_pmx_00_19[\"municipio\"].str.lower()"
   ]
  },
  {
   "cell_type": "code",
   "execution_count": 12,
   "id": "cfdba3c7",
   "metadata": {},
   "outputs": [],
   "source": [
    "df_pmx_00_19_lw[\"estado\"] = df_pmx_00_19[\"estado\"].str.lower()\n",
    "df_pmx_00_19_lw[\"municipio\"] = df_pmx_00_19[\"municipio\"].str.lower()"
   ]
  },
  {
   "cell_type": "code",
   "execution_count": 13,
   "id": "570cd044",
   "metadata": {},
   "outputs": [],
   "source": [
    "df_pmx_00_19 = pd.read_excel(\"data-raw/PMX_00_19_Serendipia.xlsx\")\n",
    "\n",
    "df_pmx_00_19_lw = df_pmx_00_19"
   ]
  },
  {
   "cell_type": "code",
   "execution_count": 14,
   "id": "ad1c8ae6",
   "metadata": {},
   "outputs": [],
   "source": [
    "df_pmx_00_19_lw[\"estado\"] = df_pmx_00_19_lw[\"estado\"].str.lower()\n",
    "df_pmx_00_19_lw[\"municipio\"] = df_pmx_00_19_lw[\"municipio\"].str.lower()"
   ]
  },
  {
   "cell_type": "code",
   "execution_count": 15,
   "id": "8d1fad23",
   "metadata": {},
   "outputs": [],
   "source": [
    "df_pmx_00_19_lw[\"estado\"] = df_pmx_00_19_lw[\"estado\"].str.lower()\n",
    "df_pmx_00_19_lw[\"municipio\"] = df_pmx_00_19_lw[\"municipio\"].str.lower()\n",
    "df_pmx_00_19_lw[\"estado\"] = df_pmx_00_19_lw[\"estado\"].str.rstrip()\n",
    "df_pmx_00_19_lw[\"municipio\"] = df_pmx_00_19_lw[\"municipio\"].str.rstrip()"
   ]
  },
  {
   "cell_type": "code",
   "execution_count": 16,
   "id": "862f0014",
   "metadata": {},
   "outputs": [],
   "source": [
    "df_pmx_00_19_lw[\"estado\"] = df_pmx_00_19_lw[\"estado\"].str.lower()\n",
    "df_pmx_00_19_lw[\"municipio\"] = df_pmx_00_19_lw[\"municipio\"].str.lower()\n",
    "df_pmx_00_19_lw[\"estado\"] = df_pmx_00_19_lw[\"estado\"].str.replace(' ', '')\n",
    "df_pmx_00_19_lw[\"municipio\"] = df_pmx_00_19_lw[\"municipio\"].str.replace(' ', '')"
   ]
  },
  {
   "cell_type": "code",
   "execution_count": 17,
   "id": "c2e4671a",
   "metadata": {},
   "outputs": [],
   "source": [
    "df_pmx_00_19_lw[\"estado\"] = df_pmx_00_19_lw[\"estado\"].str.lower(df_pmx_00_19_lw[\"estado\"] = df_pmx_00_19_lw[\"estado\"].str.replace(' ', ''))\n",
    "df_pmx_00_19_lw[\"municipio\"] = df_pmx_00_19_lw[\"municipio\"].str.lower(df_pmx_00_19_lw[\"municipio\"] = df_pmx_00_19_lw[\"municipio\"].str.replace(' ', ''))"
   ]
  },
  {
   "cell_type": "code",
   "execution_count": 18,
   "id": "95f3008e",
   "metadata": {},
   "outputs": [],
   "source": [
    "df_pmx_00_19_lw[\"estado\"] = df_pmx_00_19_lw[\"estado\"].str.lower(.str.replace(' ', ''))\n",
    "df_pmx_00_19_lw[\"municipio\"] = df_pmx_00_19_lw[\"municipio\"].str.lower(.str.replace(' ', ''))"
   ]
  },
  {
   "cell_type": "code",
   "execution_count": 19,
   "id": "14088247",
   "metadata": {},
   "outputs": [],
   "source": [
    "df_pmx_00_19_lw[\"estado\"] = df_pmx_00_19_lw[\"estado\"].str.lower().str.replace(' ', '')\n",
    "df_pmx_00_19_lw[\"municipio\"] = df_pmx_00_19_lw[\"municipio\"].str.lower().str.replace(' ', '')"
   ]
  },
  {
   "cell_type": "code",
   "execution_count": 20,
   "id": "91ef5f7a",
   "metadata": {},
   "outputs": [],
   "source": [
    "def remove_accents(a):\n",
    "    return unidecode.unidecode(a.decode('utf-8'))\n",
    "\n",
    "df_pmx_00_19_lw[\"estado\"] = df_pmx_00_19_lw[\"estado\"].str.lower().str.replace(' ', '').apply(remove_accents)\n",
    "df_pmx_00_19_lw[\"municipio\"] = df_pmx_00_19_lw[\"municipio\"].str.lower().str.replace(' ', '').apply(remove_accents)"
   ]
  },
  {
   "cell_type": "code",
   "execution_count": 21,
   "id": "7e68332c",
   "metadata": {},
   "outputs": [],
   "source": [
    "\n",
    "\n",
    "df_pmx_00_19_lw[\"estado\"] = df_pmx_00_19_lw[\"estado\"].str.lower().str.replace(' ', '').str.normalize('NFKD').str.encode('ascii',errors='ignore').str.decode('utf-8')\n",
    "df_pmx_00_19_lw[\"municipio\"] = df_pmx_00_19_lw[\"municipio\"].str.lower().str.replace(' ', '').str.normalize('NFKD').str.encode('ascii',errors='ignore').str.decode('utf-8')"
   ]
  },
  {
   "cell_type": "code",
   "execution_count": 22,
   "id": "67be706f",
   "metadata": {},
   "outputs": [],
   "source": [
    "df_pmx_00_19 = pd.read_excel(\"data-raw/PMX_00_19_Serendipia.xlsx\")\n",
    "\n",
    "df_codes_mx = pd.read_excel(\"data-raw/codigo municipio inegi.xlsx\")\n",
    "\n",
    "df_pmx_00_19_lw = df_pmx_00_19"
   ]
  },
  {
   "cell_type": "code",
   "execution_count": 23,
   "id": "fd8103e6",
   "metadata": {},
   "outputs": [],
   "source": [
    "df_pmx_00_19 = pd.read_excel(\"data-raw/PMX_00_19_Serendipia.xlsx\")\n",
    "\n",
    "df_codes_mx = pd.read_excel(\"data-raw/codigo municipio inegi.xlsx\")\n",
    "\n",
    "df_pmx_00_19_lw = df_pmx_00_19\n",
    "\n",
    "df_codes_mx_lw = df_codes_mx"
   ]
  },
  {
   "cell_type": "code",
   "execution_count": 24,
   "id": "9baa21cc",
   "metadata": {},
   "outputs": [],
   "source": [
    "\n",
    "\n",
    "df_pmx_00_19_lw[\"estado\"] = df_pmx_00_19_lw[\"estado\"].str.lower().str.replace(' ', '').str.normalize('NFKD').str.encode('ascii',errors='ignore').str.decode('utf-8')\n",
    "df_pmx_00_19_lw[\"municipio\"] = df_pmx_00_19_lw[\"municipio\"].str.lower().str.replace(' ', '').str.normalize('NFKD').str.encode('ascii',errors='ignore').str.decode('utf-8')\n",
    "\n",
    "df_codes_mx_lw[\"NOM_ENT\"] = df_codes_mx_lw[\"NOM_ENT\"].str.lower().str.replace(' ', '').str.normalize('NFKD').str.encode('ascii',errors='ignore').str.decode('utf-8')\n",
    "df_codes_mx_lw[\"NOM_MUN\"] = df_codes_mx_lw[\"NOM_MUN\"].str.lower().str.replace(' ', '').str.normalize('NFKD').str.encode('ascii',errors='ignore').str.decode('utf-8')"
   ]
  },
  {
   "cell_type": "code",
   "execution_count": 25,
   "id": "436d3484",
   "metadata": {},
   "outputs": [],
   "source": [
    "\n",
    "\n",
    "df_pmx_00_19_lw[\"estado\"] = df_pmx_00_19_lw[\"estado\"].str.lower().str.replace(' ', '').str.normalize('NFKD').str.encode('ascii',errors='ignore').str.decode('utf-8')\n",
    "df_pmx_00_19_lw[\"municipio\"] = df_pmx_00_19_lw[\"municipio\"].str.lower().str.replace(' ', '').str.normalize('NFKD').str.encode('ascii',errors='ignore').str.decode('utf-8')\n",
    "df_pmx_00_19_lw.assign(id_mun = estado + municipio)\n",
    "\n",
    "\n",
    "df_codes_mx_lw[\"NOM_ENT\"] = df_codes_mx_lw[\"NOM_ENT\"].str.lower().str.replace(' ', '').str.normalize('NFKD').str.encode('ascii',errors='ignore').str.decode('utf-8')\n",
    "df_codes_mx_lw[\"NOM_MUN\"] = df_codes_mx_lw[\"NOM_MUN\"].str.lower().str.replace(' ', '').str.normalize('NFKD').str.encode('ascii',errors='ignore').str.decode('utf-8')\n",
    "df_codes_mx_lw.assign(id_mun = NOM_ENT + NOM_MUN)"
   ]
  },
  {
   "cell_type": "code",
   "execution_count": 26,
   "id": "c231f1c9",
   "metadata": {},
   "outputs": [],
   "source": [
    "\n",
    "\n",
    "df_pmx_00_19_lw[\"estado\"] = df_pmx_00_19_lw[\"estado\"].str.lower().str.replace(' ', '').str.normalize('NFKD').str.encode('ascii',errors='ignore').str.decode('utf-8')\n",
    "df_pmx_00_19_lw[\"municipio\"] = df_pmx_00_19_lw[\"municipio\"].str.lower().str.replace(' ', '').str.normalize('NFKD').str.encode('ascii',errors='ignore').str.decode('utf-8')\n",
    "df_pmx_00_19_lw.assign(id_mun = \"estado\" + \"municipio\")\n",
    "\n",
    "\n",
    "df_codes_mx_lw[\"NOM_ENT\"] = df_codes_mx_lw[\"NOM_ENT\"].str.lower().str.replace(' ', '').str.normalize('NFKD').str.encode('ascii',errors='ignore').str.decode('utf-8')\n",
    "df_codes_mx_lw[\"NOM_MUN\"] = df_codes_mx_lw[\"NOM_MUN\"].str.lower().str.replace(' ', '').str.normalize('NFKD').str.encode('ascii',errors='ignore').str.decode('utf-8')\n",
    "df_codes_mx_lw.assign(id_mun = \"NOM_ENT\" + \"NOM_MUN\")"
   ]
  },
  {
   "cell_type": "code",
   "execution_count": 27,
   "id": "6da6e2b1",
   "metadata": {},
   "outputs": [],
   "source": [
    "\n",
    "\n",
    "df_pmx_00_19_lw[\"estado\"] = df_pmx_00_19_lw[\"estado\"].str.lower().str.replace(' ', '').str.normalize('NFKD').str.encode('ascii',errors='ignore').str.decode('utf-8')\n",
    "df_pmx_00_19_lw[\"municipio\"] = df_pmx_00_19_lw[\"municipio\"].str.lower().str.replace(' ', '').str.normalize('NFKD').str.encode('ascii',errors='ignore').str.decode('utf-8')\n",
    "df_pmx_00_19_lw.assign(id_mun = \"estado\" + \"municipio\")\n",
    "\n",
    "\n",
    "df_codes_mx_lw[\"NOM_ENT\"] = df_codes_mx_lw[\"NOM_ENT\"].str.lower().str.replace(' ', '').str.normalize('NFKD').str.encode('ascii',errors='ignore').str.decode('utf-8')\n",
    "df_codes_mx_lw[\"NOM_MUN\"] = df_codes_mx_lw[\"NOM_MUN\"].str.lower().str.replace(' ', '').str.normalize('NFKD').str.encode('ascii',errors='ignore').str.decode('utf-8')\n",
    "df_codes_mx_lw = df_codes_mx_lw.assign(id_mun = \"NOM_ENT\" + \"NOM_MUN\")"
   ]
  },
  {
   "cell_type": "code",
   "execution_count": 28,
   "id": "e593e716",
   "metadata": {},
   "outputs": [],
   "source": [
    "\n",
    "\n",
    "df_pmx_00_19_lw[\"estado\"] = df_pmx_00_19_lw[\"estado\"].str.lower().str.replace(' ', '').str.normalize('NFKD').str.encode('ascii',errors='ignore').str.decode('utf-8')\n",
    "df_pmx_00_19_lw[\"municipio\"] = df_pmx_00_19_lw[\"municipio\"].str.lower().str.replace(' ', '').str.normalize('NFKD').str.encode('ascii',errors='ignore').str.decode('utf-8')\n",
    "df_pmx_00_19_lw.assign(id_mun = \"estado\" + \"municipio\")\n",
    "\n",
    "\n",
    "df_codes_mx_lw[\"NOM_ENT\"] = df_codes_mx_lw[\"NOM_ENT\"].str.lower().str.replace(' ', '').str.normalize('NFKD').str.encode('ascii',errors='ignore').str.decode('utf-8')\n",
    "df_codes_mx_lw[\"NOM_MUN\"] = df_codes_mx_lw[\"NOM_MUN\"].str.lower().str.replace(' ', '').str.normalize('NFKD').str.encode('ascii',errors='ignore').str.decode('utf-8')\n",
    "df_codes_mx_lw = df_codes_mx_lw.assign(id_mun = \"NOM_ENT\" + \"NOM_MUN\")\n",
    "df_codes_mx_lw['id_mun'] = df_codes_mx_lw.NOM_ENT + df_codes_mx_lw.NOM_MUN"
   ]
  },
  {
   "cell_type": "code",
   "execution_count": 29,
   "id": "b75e2b0a",
   "metadata": {},
   "outputs": [],
   "source": [
    "\n",
    "\n",
    "df_pmx_00_19_lw[\"estado\"] = df_pmx_00_19_lw[\"estado\"].str.lower().str.replace(' ', '').str.normalize('NFKD').str.encode('ascii',errors='ignore').str.decode('utf-8')\n",
    "df_pmx_00_19_lw[\"municipio\"] = df_pmx_00_19_lw[\"municipio\"].str.lower().str.replace(' ', '').str.normalize('NFKD').str.encode('ascii',errors='ignore').str.decode('utf-8')\n",
    "df_pmx_00_19_lw['id_mun'] = df_pmx_00_19_lw.estado + df_codes_mx_lw.municipio\n",
    "\n",
    "\n",
    "\n",
    "df_codes_mx_lw[\"NOM_ENT\"] = df_codes_mx_lw[\"NOM_ENT\"].str.lower().str.replace(' ', '').str.normalize('NFKD').str.encode('ascii',errors='ignore').str.decode('utf-8')\n",
    "df_codes_mx_lw[\"NOM_MUN\"] = df_codes_mx_lw[\"NOM_MUN\"].str.lower().str.replace(' ', '').str.normalize('NFKD').str.encode('ascii',errors='ignore').str.decode('utf-8')\n",
    "df_codes_mx_lw['id_mun'] = df_codes_mx_lw.NOM_ENT + df_codes_mx_lw.NOM_MUN"
   ]
  },
  {
   "cell_type": "code",
   "execution_count": 30,
   "id": "cc733934",
   "metadata": {},
   "outputs": [],
   "source": [
    "\n",
    "\n",
    "df_pmx_00_19_lw[\"estado\"] = df_pmx_00_19_lw[\"estado\"].str.lower().str.replace(' ', '').str.normalize('NFKD').str.encode('ascii',errors='ignore').str.decode('utf-8')\n",
    "df_pmx_00_19_lw[\"municipio\"] = df_pmx_00_19_lw[\"municipio\"].str.lower().str.replace(' ', '').str.normalize('NFKD').str.encode('ascii',errors='ignore').str.decode('utf-8')\n",
    "df_pmx_00_19_lw['id_mun'] = df_pmx_00_19_lw.estado + df_pmx_00_19_lw.municipio\n",
    "\n",
    "\n",
    "\n",
    "df_codes_mx_lw[\"NOM_ENT\"] = df_codes_mx_lw[\"NOM_ENT\"].str.lower().str.replace(' ', '').str.normalize('NFKD').str.encode('ascii',errors='ignore').str.decode('utf-8')\n",
    "df_codes_mx_lw[\"NOM_MUN\"] = df_codes_mx_lw[\"NOM_MUN\"].str.lower().str.replace(' ', '').str.normalize('NFKD').str.encode('ascii',errors='ignore').str.decode('utf-8')\n",
    "df_codes_mx_lw['id_mun'] = df_codes_mx_lw.NOM_ENT + df_codes_mx_lw.NOM_MUN"
   ]
  },
  {
   "cell_type": "code",
   "execution_count": 31,
   "id": "1bef4cc7",
   "metadata": {},
   "outputs": [],
   "source": [
    "df_pmx_00_19 = pd.read_excel(\"data-raw/PMX_00_19_Serendipia.xlsx\")\n",
    "\n",
    "df_codes_mx = pd.read_excel(\"data-raw/codigo municipio inegi.xlsx\")\n",
    "\n",
    "df_pmx_00_19_lw = df_pmx_00_19\n",
    "\n",
    "df_codes_mx_lw = df_codes_mx"
   ]
  },
  {
   "cell_type": "code",
   "execution_count": 32,
   "id": "11d8dd57",
   "metadata": {},
   "outputs": [],
   "source": [
    "df_pmx_00_19 = pd.read_excel(\"data-raw/PMX_00_19_Serendipia.xlsx\")\n",
    "\n",
    "df_codes_mx = pd.read_excel(\"data-raw/codigo municipio inegi.xlsx\")\n",
    "\n",
    "df_pmx_00_19_lw = df_pmx_00_19\n",
    "\n",
    "df_codes_mx_lw = df_codes_mx\n",
    "\n",
    "df_pmx_00_19_lw = df_pmx_00_19_lw.replace(\"Coahuila de Zaragoza\", \"Coahuila\")"
   ]
  },
  {
   "cell_type": "code",
   "execution_count": 33,
   "id": "08dde359",
   "metadata": {},
   "outputs": [],
   "source": [
    "df_pmx_00_19 = pd.read_excel(\"data-raw/PMX_00_19_Serendipia.xlsx\")\n",
    "\n",
    "df_codes_mx = pd.read_excel(\"data-raw/codigo municipio inegi.xlsx\")\n",
    "\n",
    "df_pmx_00_19_lw = df_pmx_00_19\n",
    "\n",
    "df_codes_mx_lw = df_codes_mx\n",
    "\n",
    "df_codes_mx_lw = df_codes_mx_lw.replace(\"Coahuila de Zaragoza\", \"Coahuila\")"
   ]
  },
  {
   "cell_type": "code",
   "execution_count": 34,
   "id": "db707a17",
   "metadata": {},
   "outputs": [],
   "source": [
    "df_pmx_00_19 = pd.read_excel(\"data-raw/PMX_00_19_Serendipia.xlsx\")\n",
    "\n",
    "df_codes_mx = pd.read_excel(\"data-raw/codigo municipio inegi.xlsx\")\n",
    "\n",
    "df_pmx_00_19_lw = df_pmx_00_19\n",
    "\n",
    "df_codes_mx_lw = df_codes_mx\n",
    "\n",
    "df_codes_mx_lw = df_codes_mx_lw.replace(\"Coahuila de Zaragoza\", \"Coahuila\")\n",
    "df_codes_mx_lw = df_codes_mx_lw.replace(\"Michoacán de Ocampo\", \"Michoacán\")\n",
    "df_codes_mx_lw = df_codes_mx_lw.replace(\"Veracruz de Ignacio de la Llave\", \"Veracruz\")"
   ]
  },
  {
   "cell_type": "code",
   "execution_count": 35,
   "id": "a144b9d4",
   "metadata": {},
   "outputs": [],
   "source": [
    "df_pmx_00_19 = pd.read_excel(\"data-raw/PMX_00_19_Serendipia.xlsx\")\n",
    "\n",
    "df_codes_mx = pd.read_excel(\"data-raw/codigo municipio inegi.xlsx\")\n",
    "\n",
    "df_pmx_00_19_lw = df_pmx_00_19\n",
    "\n",
    "df_codes_mx_lw = df_codes_mx\n",
    "\n",
    "df_codes_mx_lw = df_codes_mx_lw.replace(\"Coahuila de Zaragoza\", \"Coahuila\")\n",
    "df_codes_mx_lw = df_codes_mx_lw.replace(\"Michoacán de Ocampo\", \"Michoacán\")\n",
    "df_codes_mx_lw = df_codes_mx_lw.replace(\"Veracruz de Ignacio de la Llave\", \"Veracruz\")\n",
    "\n",
    "df_pmx_00_19_lw[\"municipio\"].str.replace(\"Delegación\", \"\")\n",
    "df_pmx_00_19_lw[\"municipio\"].str.replace(\"Deleg. \", \"\")\n",
    "\n",
    "\n",
    "            \n",
    "                    \n",
    "df_pmx_00_19_lw[\"A\"].str.replace(\"a\",\"\")\n",
    "\n",
    "                \n",
    "\n",
    "            \n",
    "\n",
    "            "
   ]
  },
  {
   "cell_type": "code",
   "execution_count": 36,
   "id": "bb79b82d",
   "metadata": {},
   "outputs": [],
   "source": [
    "df_pmx_00_19 = pd.read_excel(\"data-raw/PMX_00_19_Serendipia.xlsx\")\n",
    "\n",
    "df_codes_mx = pd.read_excel(\"data-raw/codigo municipio inegi.xlsx\")\n",
    "\n",
    "df_pmx_00_19_lw = df_pmx_00_19\n",
    "\n",
    "df_codes_mx_lw = df_codes_mx\n",
    "\n",
    "df_codes_mx_lw = df_codes_mx_lw.replace(\"Coahuila de Zaragoza\", \"Coahuila\")\n",
    "df_codes_mx_lw = df_codes_mx_lw.replace(\"Michoacán de Ocampo\", \"Michoacán\")\n",
    "df_codes_mx_lw = df_codes_mx_lw.replace(\"Veracruz de Ignacio de la Llave\", \"Veracruz\")\n",
    "\n",
    "df_pmx_00_19_lw[\"municipio\"].str.replace(\"Delegación\", \"\")\n",
    "df_pmx_00_19_lw[\"municipio\"].str.replace(\"Deleg. \", \"\")\n",
    "\n",
    "                \n",
    "\n",
    "            \n",
    "\n",
    "            "
   ]
  },
  {
   "cell_type": "code",
   "execution_count": 37,
   "id": "35b2251e",
   "metadata": {},
   "outputs": [],
   "source": [
    "df_pmx_00_19 = pd.read_excel(\"data-raw/PMX_00_19_Serendipia.xlsx\")\n",
    "\n",
    "df_codes_mx = pd.read_excel(\"data-raw/codigo municipio inegi.xlsx\")\n",
    "\n",
    "df_pmx_00_19_lw = df_pmx_00_19\n",
    "\n",
    "df_codes_mx_lw = df_codes_mx\n",
    "\n",
    "df_codes_mx_lw = df_codes_mx_lw.replace(\"Coahuila de Zaragoza\", \"Coahuila\")\n",
    "df_codes_mx_lw = df_codes_mx_lw.replace(\"Michoacán de Ocampo\", \"Michoacán\")\n",
    "df_codes_mx_lw = df_codes_mx_lw.replace(\"Veracruz de Ignacio de la Llave\", \"Veracruz\")\n",
    "\n",
    "df_pmx_00_19_lw[\"municipio\"] = df_pmx_00_19_lw[\"municipio\"].str.replace(\"Delegación\", \"\")\n",
    "df_pmx_00_19_lw[\"municipio\"] = df_pmx_00_19_lw[\"municipio\"].str.replace(\"Deleg. \", \"\")\n",
    "\n",
    "                \n",
    "\n",
    "            \n",
    "\n",
    "            "
   ]
  },
  {
   "cell_type": "code",
   "execution_count": 38,
   "id": "1ee572bf",
   "metadata": {},
   "outputs": [],
   "source": [
    "df_pmx_00_19 = pd.read_excel(\"data-raw/PMX_00_19_Serendipia.xlsx\")\n",
    "\n",
    "df_codes_mx = pd.read_excel(\"data-raw/codigo municipio inegi.xlsx\")\n",
    "\n",
    "df_pmx_00_19_lw = df_pmx_00_19\n",
    "\n",
    "df_codes_mx_lw = df_codes_mx\n",
    "\n",
    "dict_replacers_code = {\"Coahuila de Zaragoza\":\"Coahuila\",\"Michoacán de Ocampo\":\"Michoacán\",\n",
    "                       \"Veracruz de Ignacio de la Llave\":\"Veracruz\"} \n",
    "\n",
    "df_codes_mx_lw = df_codes_mx_lw.replace(dict_replacers_code)\n",
    "\n",
    "df_pmx_00_19_lw[\"municipio\"] = df_pmx_00_19_lw[\"municipio\"].str.replace(\"Delegación\", \"\")\n",
    "df_pmx_00_19_lw[\"municipio\"] = df_pmx_00_19_lw[\"municipio\"].str.replace(\"Deleg. \", \"\")\n",
    "\n",
    "                \n",
    "\n",
    "            \n",
    "\n",
    "            "
   ]
  },
  {
   "cell_type": "code",
   "execution_count": 39,
   "id": "e7691020",
   "metadata": {},
   "outputs": [],
   "source": [
    "df_pmx_00_19 = pd.read_excel(\"data-raw/PMX_00_19_Serendipia.xlsx\")\n",
    "\n",
    "df_codes_mx = pd.read_excel(\"data-raw/codigo municipio inegi.xlsx\")\n",
    "\n",
    "df_pmx_00_19_lw = df_pmx_00_19\n",
    "\n",
    "df_codes_mx_lw = df_codes_mx\n",
    "\n",
    "dict_replacers_code = {\"Coahuila de Zaragoza\":\"Coahuila\",\"Michoacán de Ocampo\":\"Michoacán\",\n",
    "                       \"Veracruz de Ignacio de la Llave\":\"Veracruz\"} \n",
    "\n",
    "df_codes_mx_lw = df_codes_mx_lw.replace(dict_replacers_code)\n",
    "\n",
    "dict_replacers_string = {\"Delegación\":\"\",\"Deleg. \":\"\",\"Del. \":\"\"} \n",
    "\n",
    "df_pmx_00_19_lw[\"municipio\"] = df_pmx_00_19_lw[\"municipio\"].str.replace(dict_replacers_string)\n",
    "\n",
    "                \n",
    "\n",
    "            \n",
    "\n",
    "            "
   ]
  },
  {
   "cell_type": "code",
   "execution_count": 40,
   "id": "682417cb",
   "metadata": {},
   "outputs": [],
   "source": [
    "df_pmx_00_19 = pd.read_excel(\"data-raw/PMX_00_19_Serendipia.xlsx\")\n",
    "\n",
    "df_codes_mx = pd.read_excel(\"data-raw/codigo municipio inegi.xlsx\")\n",
    "\n",
    "df_pmx_00_19_lw = df_pmx_00_19\n",
    "\n",
    "df_codes_mx_lw = df_codes_mx\n",
    "\n",
    "dict_replacers_code = {\"Coahuila de Zaragoza\":\"Coahuila\",\"Michoacán de Ocampo\":\"Michoacán\",\n",
    "                       \"Veracruz de Ignacio de la Llave\":\"Veracruz\"} \n",
    "\n",
    "df_codes_mx_lw = df_codes_mx_lw.replace(dict_replacers_code)\n",
    "\n",
    "dict_replacers_string = {\"Delegación\":\"\",\"Deleg. \":\"\",\"Del. \":\"\"} \n",
    "\n",
    "df_pmx_00_19_lw[\"municipio\"] = df_pmx_00_19_lw[\"municipio\"].replace(dict_replacers_string)\n",
    "\n",
    "\n",
    "                \n",
    "\n",
    "            \n",
    "\n",
    "            "
   ]
  },
  {
   "cell_type": "code",
   "execution_count": 41,
   "id": "e2677634",
   "metadata": {},
   "outputs": [],
   "source": [
    "df_pmx_00_19 = pd.read_excel(\"data-raw/PMX_00_19_Serendipia.xlsx\")\n",
    "\n",
    "df_codes_mx = pd.read_excel(\"data-raw/codigo municipio inegi.xlsx\")\n",
    "\n",
    "df_pmx_00_19_lw = df_pmx_00_19\n",
    "\n",
    "df_codes_mx_lw = df_codes_mx\n",
    "\n",
    "dict_replacers_code = {\"Coahuila de Zaragoza\":\"Coahuila\",\"Michoacán de Ocampo\":\"Michoacán\",\n",
    "                       \"Veracruz de Ignacio de la Llave\":\"Veracruz\"} \n",
    "\n",
    "df_codes_mx_lw = df_codes_mx_lw.replace(dict_replacers_code)\n",
    "\n",
    "dict_replacers_string = {\"Delegación\":\"\",\"Deleg. \":\"\",\"Del. \":\"\"} \n",
    "\n",
    "df_pmx_00_19_lw[\"municipio\"] = df_pmx_00_19_lw[\"municipio\"].replace(dict_replacers_string)\n",
    "\n",
    "\n",
    "                \n",
    "\n",
    "            \n",
    "\n",
    "            "
   ]
  },
  {
   "cell_type": "code",
   "execution_count": 42,
   "id": "c516ff95",
   "metadata": {},
   "outputs": [],
   "source": [
    "df_pmx_00_19 = pd.read_excel(\"data-raw/PMX_00_19_Serendipia.xlsx\")\n",
    "\n",
    "df_codes_mx = pd.read_excel(\"data-raw/codigo municipio inegi.xlsx\")\n",
    "\n",
    "df_pmx_00_19_lw = df_pmx_00_19\n",
    "\n",
    "df_codes_mx_lw = df_codes_mx\n",
    "\n",
    "dict_replacers_code = {\"Coahuila de Zaragoza\":\"Coahuila\",\"Michoacán de Ocampo\":\"Michoacán\",\n",
    "                       \"Veracruz de Ignacio de la Llave\":\"Veracruz\"} \n",
    "\n",
    "df_codes_mx_lw = df_codes_mx_lw.replace(dict_replacers_code)\n",
    "\n",
    "dict_replacers_string = {\"Delegación\":\"\",\"Deleg. \":\"\",\"Del. \":\"\"} \n",
    "\n",
    "df_pmx_00_19_lw[\"municipio\"] = df_pmx_00_19_lw[\"municipio\"].replace(dict_replacers_string)\n",
    "\n",
    "for k, v in dict_replacers_string.items():\n",
    "    df_pmx_00_19_lw[\"municipio\"] = df_pmx_00_19_lw[\"municipio\"].str.replace(k, v)               \n",
    "\n",
    "            \n",
    "\n",
    "            "
   ]
  },
  {
   "cell_type": "code",
   "execution_count": 43,
   "id": "6218f417",
   "metadata": {},
   "outputs": [],
   "source": [
    "df_pmx_00_19 = pd.read_excel(\"data-raw/PMX_00_19_Serendipia.xlsx\")\n",
    "\n",
    "df_codes_mx = pd.read_excel(\"data-raw/codigo municipio inegi.xlsx\")\n",
    "\n",
    "df_pmx_00_19_lw = df_pmx_00_19\n",
    "\n",
    "df_codes_mx_lw = df_codes_mx\n",
    "\n",
    "dict_replacers_code = {\"Coahuila de Zaragoza\":\"Coahuila\",\"Michoacán de Ocampo\":\"Michoacán\",\n",
    "                       \"Veracruz de Ignacio de la Llave\":\"Veracruz\"} \n",
    "\n",
    "df_codes_mx_lw = df_codes_mx_lw.replace(dict_replacers_code)\n",
    "\n",
    "dict_replacers_string = {\"Delegación\":\"\",\"Deleg. \":\"\",\"Del. \":\"\"} \n",
    "\n",
    "df_pmx_00_19_lw[\"municipio\"] = df_pmx_00_19_lw[\"municipio\"].replace(dict_replacers_string)\n",
    "\n",
    "for k, v in dict_replacers_string.items():\n",
    "    df_pmx_00_19_lw[\"municipio\"] = df_pmx_00_19_lw[\"municipio\"].str.replace(k, v)               "
   ]
  },
  {
   "cell_type": "code",
   "execution_count": 44,
   "id": "a803b69a",
   "metadata": {},
   "outputs": [],
   "source": [
    "\n",
    "df_pmx_00_19_lw = df_pmx_00_19_lw.replace(\"Coahuila de Zaragoza\", \"Coahuila\")\n",
    "\n",
    "df_pmx_00_19_lw[\"estado\"] = df_pmx_00_19_lw[\"estado\"].str.lower().str.replace(' ', '').str.normalize('NFKD').str.encode('ascii',errors='ignore').str.decode('utf-8')\n",
    "df_pmx_00_19_lw[\"municipio\"] = df_pmx_00_19_lw[\"municipio\"].str.lower().str.replace(' ', '').str.normalize('NFKD').str.encode('ascii',errors='ignore').str.decode('utf-8')\n",
    "df_pmx_00_19_lw['id_mun'] = df_pmx_00_19_lw.estado + df_pmx_00_19_lw.municipio\n",
    "\n",
    "\n",
    "\n",
    "df_codes_mx_lw[\"NOM_ENT\"] = df_codes_mx_lw[\"NOM_ENT\"].str.lower().str.replace(' ', '').str.normalize('NFKD').str.encode('ascii',errors='ignore').str.decode('utf-8')\n",
    "df_codes_mx_lw[\"NOM_MUN\"] = df_codes_mx_lw[\"NOM_MUN\"].str.lower().str.replace(' ', '').str.normalize('NFKD').str.encode('ascii',errors='ignore').str.decode('utf-8')\n",
    "df_codes_mx_lw['id_mun'] = df_codes_mx_lw.NOM_ENT + df_codes_mx_lw.NOM_MUN"
   ]
  },
  {
   "cell_type": "code",
   "execution_count": 45,
   "id": "dd63f7dc",
   "metadata": {},
   "outputs": [],
   "source": [
    "\n",
    "df_pmx_00_19_lw = df_pmx_00_19_lw.replace(\"Coahuila de Zaragoza\", \"Coahuila\")\n",
    "\n",
    "df_pmx_00_19_lw[\"estado\"] = df_pmx_00_19_lw[\"estado\"].str.lower().str.replace(' ', '').str.normalize('NFKD').str.encode('ascii',errors='ignore').str.decode('utf-8')\n",
    "df_pmx_00_19_lw[\"municipio\"] = df_pmx_00_19_lw[\"municipio\"].str.lower().str.replace(' ', '').str.normalize('NFKD').str.encode('ascii',errors='ignore').str.decode('utf-8')\n",
    "df_pmx_00_19_lw['id_mun'] = df_pmx_00_19_lw.estado + df_pmx_00_19_lw.municipio\n",
    "\n",
    "\n",
    "\n",
    "df_codes_mx_lw[\"NOM_ENT\"] = df_codes_mx_lw[\"NOM_ENT\"].str.lower().str.replace(' ', '').str.normalize('NFKD').str.encode('ascii',errors='ignore').str.decode('utf-8')\n",
    "df_codes_mx_lw[\"NOM_MUN\"] = df_codes_mx_lw[\"NOM_MUN\"].str.lower().str.replace(' ', '').str.normalize('NFKD').str.encode('ascii',errors='ignore').str.decode('utf-8')\n",
    "df_codes_mx_lw['id_mun'] = df_codes_mx_lw.NOM_ENT + df_codes_mx_lw.NOM_MUN\n",
    "\n",
    "\n",
    "\n",
    "df_join_pipe_code = pd.merge(df_pmx_00_19_lw,\n",
    "                             df_codes_mx_lw,\n",
    "                             on='id_mun',\n",
    "                             how='outer',\n",
    "                             indicator=True)"
   ]
  },
  {
   "cell_type": "code",
   "execution_count": 46,
   "id": "8c3f9b36",
   "metadata": {},
   "outputs": [],
   "source": [
    "\n",
    "df_pmx_00_19_lw = df_pmx_00_19_lw.replace(\"Coahuila de Zaragoza\", \"Coahuila\")\n",
    "\n",
    "df_pmx_00_19_lw[\"estado\"] = df_pmx_00_19_lw[\"estado\"].str.lower().str.replace(' ', '').str.normalize('NFKD').str.encode('ascii',errors='ignore').str.decode('utf-8')\n",
    "df_pmx_00_19_lw[\"municipio\"] = df_pmx_00_19_lw[\"municipio\"].str.lower().str.replace(' ', '').str.normalize('NFKD').str.encode('ascii',errors='ignore').str.decode('utf-8')\n",
    "df_pmx_00_19_lw['id_mun'] = df_pmx_00_19_lw.estado + df_pmx_00_19_lw.municipio\n",
    "\n",
    "\n",
    "\n",
    "df_codes_mx_lw[\"NOM_ENT\"] = df_codes_mx_lw[\"NOM_ENT\"].str.lower().str.replace(' ', '').str.normalize('NFKD').str.encode('ascii',errors='ignore').str.decode('utf-8')\n",
    "df_codes_mx_lw[\"NOM_MUN\"] = df_codes_mx_lw[\"NOM_MUN\"].str.lower().str.replace(' ', '').str.normalize('NFKD').str.encode('ascii',errors='ignore').str.decode('utf-8')\n",
    "df_codes_mx_lw['id_mun'] = df_codes_mx_lw.NOM_ENT + df_codes_mx_lw.NOM_MUN\n",
    "\n",
    "\n",
    "\n",
    "df_join_pipe_code = pd.merge(df_pmx_00_19_lw,\n",
    "                             df_codes_mx_lw,\n",
    "                             on='id_mun',\n",
    "                             how='outer',\n",
    "                             indicator=True)\n",
    "\n",
    "\n",
    "summary.df_join_pipe_code['_merge']"
   ]
  },
  {
   "cell_type": "code",
   "execution_count": 47,
   "id": "437b99f4",
   "metadata": {},
   "outputs": [],
   "source": [
    "\n",
    "df_pmx_00_19_lw = df_pmx_00_19_lw.replace(\"Coahuila de Zaragoza\", \"Coahuila\")\n",
    "\n",
    "df_pmx_00_19_lw[\"estado\"] = df_pmx_00_19_lw[\"estado\"].str.lower().str.replace(' ', '').str.normalize('NFKD').str.encode('ascii',errors='ignore').str.decode('utf-8')\n",
    "df_pmx_00_19_lw[\"municipio\"] = df_pmx_00_19_lw[\"municipio\"].str.lower().str.replace(' ', '').str.normalize('NFKD').str.encode('ascii',errors='ignore').str.decode('utf-8')\n",
    "df_pmx_00_19_lw['id_mun'] = df_pmx_00_19_lw.estado + df_pmx_00_19_lw.municipio\n",
    "\n",
    "\n",
    "\n",
    "df_codes_mx_lw[\"NOM_ENT\"] = df_codes_mx_lw[\"NOM_ENT\"].str.lower().str.replace(' ', '').str.normalize('NFKD').str.encode('ascii',errors='ignore').str.decode('utf-8')\n",
    "df_codes_mx_lw[\"NOM_MUN\"] = df_codes_mx_lw[\"NOM_MUN\"].str.lower().str.replace(' ', '').str.normalize('NFKD').str.encode('ascii',errors='ignore').str.decode('utf-8')\n",
    "df_codes_mx_lw['id_mun'] = df_codes_mx_lw.NOM_ENT + df_codes_mx_lw.NOM_MUN\n",
    "\n",
    "\n",
    "\n",
    "df_join_pipe_code = pd.merge(df_pmx_00_19_lw,\n",
    "                             df_codes_mx_lw,\n",
    "                             on='id_mun',\n",
    "                             how='outer',\n",
    "                             indicator=True)\n",
    "\n",
    "\n",
    "sum.df_join_pipe_code['_merge']"
   ]
  },
  {
   "cell_type": "code",
   "execution_count": 48,
   "id": "c7379945",
   "metadata": {},
   "outputs": [],
   "source": [
    "\n",
    "df_pmx_00_19_lw = df_pmx_00_19_lw.replace(\"Coahuila de Zaragoza\", \"Coahuila\")\n",
    "\n",
    "df_pmx_00_19_lw[\"estado\"] = df_pmx_00_19_lw[\"estado\"].str.lower().str.replace(' ', '').str.normalize('NFKD').str.encode('ascii',errors='ignore').str.decode('utf-8')\n",
    "df_pmx_00_19_lw[\"municipio\"] = df_pmx_00_19_lw[\"municipio\"].str.lower().str.replace(' ', '').str.normalize('NFKD').str.encode('ascii',errors='ignore').str.decode('utf-8')\n",
    "df_pmx_00_19_lw['id_mun'] = df_pmx_00_19_lw.estado + df_pmx_00_19_lw.municipio\n",
    "\n",
    "\n",
    "\n",
    "df_codes_mx_lw[\"NOM_ENT\"] = df_codes_mx_lw[\"NOM_ENT\"].str.lower().str.replace(' ', '').str.normalize('NFKD').str.encode('ascii',errors='ignore').str.decode('utf-8')\n",
    "df_codes_mx_lw[\"NOM_MUN\"] = df_codes_mx_lw[\"NOM_MUN\"].str.lower().str.replace(' ', '').str.normalize('NFKD').str.encode('ascii',errors='ignore').str.decode('utf-8')\n",
    "df_codes_mx_lw['id_mun'] = df_codes_mx_lw.NOM_ENT + df_codes_mx_lw.NOM_MUN\n",
    "\n",
    "\n",
    "\n",
    "df_join_pipe_code = pd.merge(df_pmx_00_19_lw,\n",
    "                             df_codes_mx_lw,\n",
    "                             on='id_mun',\n",
    "                             how='outer',\n",
    "                             indicator=True)\n",
    "\n",
    "\n",
    "describe.df_join_pipe_code['_merge']"
   ]
  },
  {
   "cell_type": "code",
   "execution_count": 49,
   "id": "e299b861",
   "metadata": {},
   "outputs": [],
   "source": [
    "\n",
    "df_pmx_00_19_lw = df_pmx_00_19_lw.replace(\"Coahuila de Zaragoza\", \"Coahuila\")\n",
    "\n",
    "df_pmx_00_19_lw[\"estado\"] = df_pmx_00_19_lw[\"estado\"].str.lower().str.replace(' ', '').str.normalize('NFKD').str.encode('ascii',errors='ignore').str.decode('utf-8')\n",
    "df_pmx_00_19_lw[\"municipio\"] = df_pmx_00_19_lw[\"municipio\"].str.lower().str.replace(' ', '').str.normalize('NFKD').str.encode('ascii',errors='ignore').str.decode('utf-8')\n",
    "df_pmx_00_19_lw['id_mun'] = df_pmx_00_19_lw.estado + df_pmx_00_19_lw.municipio\n",
    "\n",
    "\n",
    "\n",
    "df_codes_mx_lw[\"NOM_ENT\"] = df_codes_mx_lw[\"NOM_ENT\"].str.lower().str.replace(' ', '').str.normalize('NFKD').str.encode('ascii',errors='ignore').str.decode('utf-8')\n",
    "df_codes_mx_lw[\"NOM_MUN\"] = df_codes_mx_lw[\"NOM_MUN\"].str.lower().str.replace(' ', '').str.normalize('NFKD').str.encode('ascii',errors='ignore').str.decode('utf-8')\n",
    "df_codes_mx_lw['id_mun'] = df_codes_mx_lw.NOM_ENT + df_codes_mx_lw.NOM_MUN\n",
    "\n",
    "\n",
    "\n",
    "df_join_pipe_code = pd.merge(df_pmx_00_19_lw,\n",
    "                             df_codes_mx_lw,\n",
    "                             on='id_mun',\n",
    "                             how='outer',\n",
    "                             indicator=True)\n",
    "\n",
    "\n",
    "df_join_pipe_code['_merge'].summary"
   ]
  },
  {
   "cell_type": "code",
   "execution_count": 50,
   "id": "7985069b",
   "metadata": {},
   "outputs": [],
   "source": [
    "\n",
    "df_pmx_00_19_lw = df_pmx_00_19_lw.replace(\"Coahuila de Zaragoza\", \"Coahuila\")\n",
    "\n",
    "df_pmx_00_19_lw[\"estado\"] = df_pmx_00_19_lw[\"estado\"].str.lower().str.replace(' ', '').str.normalize('NFKD').str.encode('ascii',errors='ignore').str.decode('utf-8')\n",
    "df_pmx_00_19_lw[\"municipio\"] = df_pmx_00_19_lw[\"municipio\"].str.lower().str.replace(' ', '').str.normalize('NFKD').str.encode('ascii',errors='ignore').str.decode('utf-8')\n",
    "df_pmx_00_19_lw['id_mun'] = df_pmx_00_19_lw.estado + df_pmx_00_19_lw.municipio\n",
    "\n",
    "\n",
    "\n",
    "df_codes_mx_lw[\"NOM_ENT\"] = df_codes_mx_lw[\"NOM_ENT\"].str.lower().str.replace(' ', '').str.normalize('NFKD').str.encode('ascii',errors='ignore').str.decode('utf-8')\n",
    "df_codes_mx_lw[\"NOM_MUN\"] = df_codes_mx_lw[\"NOM_MUN\"].str.lower().str.replace(' ', '').str.normalize('NFKD').str.encode('ascii',errors='ignore').str.decode('utf-8')\n",
    "df_codes_mx_lw['id_mun'] = df_codes_mx_lw.NOM_ENT + df_codes_mx_lw.NOM_MUN\n",
    "\n",
    "\n",
    "\n",
    "df_join_pipe_code = pd.merge(df_pmx_00_19_lw,\n",
    "                             df_codes_mx_lw,\n",
    "                             on='id_mun',\n",
    "                             how='outer',\n",
    "                             indicator=True)\n",
    "\n",
    "\n",
    "df_join_pipe_code['_merge'].summary()"
   ]
  },
  {
   "cell_type": "code",
   "execution_count": 51,
   "id": "86b53640",
   "metadata": {},
   "outputs": [],
   "source": [
    "\n",
    "df_pmx_00_19_lw = df_pmx_00_19_lw.replace(\"Coahuila de Zaragoza\", \"Coahuila\")\n",
    "\n",
    "df_pmx_00_19_lw[\"estado\"] = df_pmx_00_19_lw[\"estado\"].str.lower().str.replace(' ', '').str.normalize('NFKD').str.encode('ascii',errors='ignore').str.decode('utf-8')\n",
    "df_pmx_00_19_lw[\"municipio\"] = df_pmx_00_19_lw[\"municipio\"].str.lower().str.replace(' ', '').str.normalize('NFKD').str.encode('ascii',errors='ignore').str.decode('utf-8')\n",
    "df_pmx_00_19_lw['id_mun'] = df_pmx_00_19_lw.estado + df_pmx_00_19_lw.municipio\n",
    "\n",
    "\n",
    "\n",
    "df_codes_mx_lw[\"NOM_ENT\"] = df_codes_mx_lw[\"NOM_ENT\"].str.lower().str.replace(' ', '').str.normalize('NFKD').str.encode('ascii',errors='ignore').str.decode('utf-8')\n",
    "df_codes_mx_lw[\"NOM_MUN\"] = df_codes_mx_lw[\"NOM_MUN\"].str.lower().str.replace(' ', '').str.normalize('NFKD').str.encode('ascii',errors='ignore').str.decode('utf-8')\n",
    "df_codes_mx_lw['id_mun'] = df_codes_mx_lw.NOM_ENT + df_codes_mx_lw.NOM_MUN\n",
    "\n",
    "\n",
    "\n",
    "df_join_pipe_code = pd.merge(df_pmx_00_19_lw,\n",
    "                             df_codes_mx_lw,\n",
    "                             on='id_mun',\n",
    "                             how='outer',\n",
    "                             indicator=True)\n",
    "\n",
    "\n",
    "df_join_pipe_code.summary()"
   ]
  },
  {
   "cell_type": "code",
   "execution_count": 52,
   "id": "7c20f18c",
   "metadata": {},
   "outputs": [],
   "source": [
    "\n",
    "df_pmx_00_19_lw = df_pmx_00_19_lw.replace(\"Coahuila de Zaragoza\", \"Coahuila\")\n",
    "\n",
    "df_pmx_00_19_lw[\"estado\"] = df_pmx_00_19_lw[\"estado\"].str.lower().str.replace(' ', '').str.normalize('NFKD').str.encode('ascii',errors='ignore').str.decode('utf-8')\n",
    "df_pmx_00_19_lw[\"municipio\"] = df_pmx_00_19_lw[\"municipio\"].str.lower().str.replace(' ', '').str.normalize('NFKD').str.encode('ascii',errors='ignore').str.decode('utf-8')\n",
    "df_pmx_00_19_lw['id_mun'] = df_pmx_00_19_lw.estado + df_pmx_00_19_lw.municipio\n",
    "\n",
    "\n",
    "\n",
    "df_codes_mx_lw[\"NOM_ENT\"] = df_codes_mx_lw[\"NOM_ENT\"].str.lower().str.replace(' ', '').str.normalize('NFKD').str.encode('ascii',errors='ignore').str.decode('utf-8')\n",
    "df_codes_mx_lw[\"NOM_MUN\"] = df_codes_mx_lw[\"NOM_MUN\"].str.lower().str.replace(' ', '').str.normalize('NFKD').str.encode('ascii',errors='ignore').str.decode('utf-8')\n",
    "df_codes_mx_lw['id_mun'] = df_codes_mx_lw.NOM_ENT + df_codes_mx_lw.NOM_MUN\n",
    "\n",
    "\n",
    "\n",
    "df_join_pipe_code = pd.merge(df_pmx_00_19_lw,\n",
    "                             df_codes_mx_lw,\n",
    "                             on='id_mun',\n",
    "                             how='outer',\n",
    "                             indicator=True)\n",
    "\n",
    "\n",
    "df_join_pipe_code['_merge'].describe()"
   ]
  },
  {
   "cell_type": "code",
   "execution_count": 53,
   "id": "6211456f",
   "metadata": {},
   "outputs": [],
   "source": [
    "\n",
    "df_pmx_00_19_lw = df_pmx_00_19_lw.replace(\"Coahuila de Zaragoza\", \"Coahuila\")\n",
    "\n",
    "df_pmx_00_19_lw[\"estado\"] = df_pmx_00_19_lw[\"estado\"].str.lower().str.replace(' ', '').str.normalize('NFKD').str.encode('ascii',errors='ignore').str.decode('utf-8')\n",
    "df_pmx_00_19_lw[\"municipio\"] = df_pmx_00_19_lw[\"municipio\"].str.lower().str.replace(' ', '').str.normalize('NFKD').str.encode('ascii',errors='ignore').str.decode('utf-8')\n",
    "df_pmx_00_19_lw['id_mun'] = df_pmx_00_19_lw.estado + df_pmx_00_19_lw.municipio\n",
    "\n",
    "\n",
    "\n",
    "df_codes_mx_lw[\"NOM_ENT\"] = df_codes_mx_lw[\"NOM_ENT\"].str.lower().str.replace(' ', '').str.normalize('NFKD').str.encode('ascii',errors='ignore').str.decode('utf-8')\n",
    "df_codes_mx_lw[\"NOM_MUN\"] = df_codes_mx_lw[\"NOM_MUN\"].str.lower().str.replace(' ', '').str.normalize('NFKD').str.encode('ascii',errors='ignore').str.decode('utf-8')\n",
    "df_codes_mx_lw['id_mun'] = df_codes_mx_lw.NOM_ENT + df_codes_mx_lw.NOM_MUN\n",
    "\n",
    "\n",
    "\n",
    "df_join_pipe_code = pd.merge(df_pmx_00_19_lw,\n",
    "                             df_codes_mx_lw,\n",
    "                             on='id_mun',\n",
    "                             how='outer',\n",
    "                             indicator=True)"
   ]
  },
  {
   "cell_type": "code",
   "execution_count": 54,
   "id": "569e41ee",
   "metadata": {},
   "outputs": [],
   "source": [
    "df_join_pipe_code['codigo inegi'] = df_join_pipe_code['codigo inegi'].str.zfill(2)"
   ]
  },
  {
   "cell_type": "code",
   "execution_count": 55,
   "id": "e270e985",
   "metadata": {},
   "outputs": [],
   "source": [
    "class(df_join_pipe_code['codigo inegi'] = df_join_pipe_code['codigo inegi'])"
   ]
  },
  {
   "cell_type": "code",
   "execution_count": 56,
   "id": "cdb3ae92",
   "metadata": {},
   "outputs": [],
   "source": [
    "class(df_join_pipe_code['codigo inegi'])"
   ]
  },
  {
   "cell_type": "code",
   "execution_count": 57,
   "id": "d09da326",
   "metadata": {},
   "outputs": [],
   "source": [
    "type(df_join_pipe_code['codigo inegi'])"
   ]
  },
  {
   "cell_type": "code",
   "execution_count": 58,
   "id": "9fc91f73",
   "metadata": {},
   "outputs": [],
   "source": [
    "df_join_pipe_code.dtypes"
   ]
  },
  {
   "cell_type": "code",
   "execution_count": 59,
   "id": "04b9e22b",
   "metadata": {},
   "outputs": [],
   "source": [
    "%cd \"Documents/GitHub/pmx_gasoline_theft_prediction/\""
   ]
  },
  {
   "cell_type": "code",
   "execution_count": 60,
   "id": "5792d4a5",
   "metadata": {},
   "outputs": [],
   "source": [
    "  %notebook \"01_Wrangle_data_PMX_code.ipynb\"     "
   ]
  },
  {
   "cell_type": "code",
   "execution_count": 61,
   "id": "06494e1c",
   "metadata": {},
   "outputs": [],
   "source": [
    "  %notebook \"analysis/01_Wrangle_data_PMX_code.ipynb\"     "
   ]
  },
  {
   "cell_type": "code",
   "execution_count": 62,
   "id": "abeaefd6",
   "metadata": {},
   "outputs": [],
   "source": [
    "  %notebook \"analysis/\""
   ]
  },
  {
   "cell_type": "code",
   "execution_count": 63,
   "id": "b9cd9f35",
   "metadata": {},
   "outputs": [],
   "source": [
    "  %notebook \"analysis/01_Wrangle_data_PMX_code.ipynb\""
   ]
  },
  {
   "cell_type": "code",
   "execution_count": 64,
   "id": "41b434b0",
   "metadata": {},
   "outputs": [],
   "source": [
    "  %notebook \"\""
   ]
  },
  {
   "cell_type": "code",
   "execution_count": 65,
   "id": "a4c09e07",
   "metadata": {},
   "outputs": [],
   "source": [
    "  %notebook \"analysis/mx.ipynb\""
   ]
  },
  {
   "cell_type": "code",
   "execution_count": 66,
   "id": "eb52b53c",
   "metadata": {},
   "outputs": [],
   "source": [
    "  %notebook analysis/mx.ipynb"
   ]
  }
 ],
 "metadata": {},
 "nbformat": 4,
 "nbformat_minor": 5
}
