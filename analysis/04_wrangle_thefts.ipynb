{
 "cells": [
  {
   "cell_type": "code",
   "execution_count": 1,
   "id": "a157cc9e-caf7-40bf-9ef5-9867145bf05f",
   "metadata": {},
   "outputs": [],
   "source": [
    "import pandas as pd\n",
    "import numpy as np\n",
    "import matplotlib.pyplot as plt"
   ]
  },
  {
   "cell_type": "code",
   "execution_count": 4,
   "id": "f85f3300-757b-4cc7-af2f-746c160b6061",
   "metadata": {},
   "outputs": [
    {
     "name": "stdout",
     "output_type": "stream",
     "text": [
      "/Users/jorgeroa/Documents/GitHub/pmx_gasoline_theft_prediction\n"
     ]
    }
   ],
   "source": [
    "%cd \"Documents/GitHub/pmx_gasoline_theft_prediction/\""
   ]
  },
  {
   "cell_type": "code",
   "execution_count": 5,
   "id": "c3d0079c-59ea-4c4d-aa58-4886a2a6da98",
   "metadata": {},
   "outputs": [],
   "source": [
    "\n",
    "df_PMX_08_15 = pd.read_excel(\"data-raw/PMXyearxy.xlsx\")\n",
    "\n",
    "df_places_prices_final.to_excel('data/df_places_prices_final.xlsx', index = False)\n",
    "df_places_prices_final.to_parquet('data/df_places_prices_final.parquet')"
   ]
  }
 ],
 "metadata": {
  "kernelspec": {
   "display_name": "Python 3 (ipykernel)",
   "language": "python",
   "name": "python3"
  },
  "language_info": {
   "codemirror_mode": {
    "name": "ipython",
    "version": 3
   },
   "file_extension": ".py",
   "mimetype": "text/x-python",
   "name": "python",
   "nbconvert_exporter": "python",
   "pygments_lexer": "ipython3",
   "version": "3.9.12"
  }
 },
 "nbformat": 4,
 "nbformat_minor": 5
}
