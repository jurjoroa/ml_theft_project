{
  "nbformat": 4,
  "nbformat_minor": 0,
  "metadata": {
    "colab": {
      "provenance": []
    },
    "kernelspec": {
      "name": "python3",
      "display_name": "Python 3"
    },
    "language_info": {
      "name": "python"
    }
  },
  "cells": [
    {
      "cell_type": "code",
      "execution_count": 1,
      "metadata": {
        "id": "twgu6Z3no7ks"
      },
      "outputs": [],
      "source": [
        "# We will use the following packages\n",
        "\n",
        "import pandas as pd\n",
        "import seaborn as sns\n",
        "import matplotlib.pyplot as plt\n",
        "from sklearn.model_selection import train_test_split\n",
        "from sklearn.preprocessing import StandardScaler\n",
        "from sklearn.neighbors import KNeighborsRegressor\n",
        "from sklearn.linear_model import LogisticRegression\n",
        "from sklearn.metrics import ConfusionMatrixDisplay\n",
        "from sklearn.pipeline import Pipeline\n",
        "from sklearn.metrics import precision_score, recall_score, accuracy_score, mean_absolute_error, f1_score\n"
      ]
    },
    {
      "cell_type": "code",
      "source": [
        "from google.colab import drive\n",
        "drive.mount('/content/drive')"
      ],
      "metadata": {
        "colab": {
          "base_uri": "https://localhost:8080/"
        },
        "id": "hXTlZXLypExN",
        "outputId": "d16b20e6-38d4-4473-e1cb-73cb59ce5f8f"
      },
      "execution_count": 3,
      "outputs": [
        {
          "output_type": "stream",
          "name": "stdout",
          "text": [
            "Mounted at /content/drive\n"
          ]
        }
      ]
    },
    {
      "cell_type": "code",
      "source": [
        "%cd '/content/drive/MyDrive/Data_Projects/ML-Project/pmx_gasoline_theft_prediction'"
      ],
      "metadata": {
        "colab": {
          "base_uri": "https://localhost:8080/"
        },
        "id": "N8PHzPu0pE3S",
        "outputId": "c97a18a1-8d31-4bdd-9c6b-bebe8733a97d"
      },
      "execution_count": 4,
      "outputs": [
        {
          "output_type": "stream",
          "name": "stdout",
          "text": [
            "/content/drive/MyDrive/Data_Projects/ML-Project/pmx_gasoline_theft_prediction\n"
          ]
        }
      ]
    },
    {
      "cell_type": "code",
      "source": [
        "# Importing our data\n",
        "\n",
        "df_thefts_PMX = pd.read_excel(\"data/df_thefts_PMX_final_v2.xlsx\", converters={'CVEGEO' : str})\n",
        "\n"
      ],
      "metadata": {
        "id": "E1nRzc64pE6b"
      },
      "execution_count": 5,
      "outputs": []
    },
    {
      "cell_type": "code",
      "source": [
        "social_variables = df_thefts_PMX.columns.drop(['Mun_code', 'Susceptible'])\n",
        "social_variables"
      ],
      "metadata": {
        "colab": {
          "base_uri": "https://localhost:8080/"
        },
        "id": "akUn3sa4hRSf",
        "outputId": "ff1b76cb-83a7-4f6b-f9a0-41bb13c1a227"
      },
      "execution_count": 6,
      "outputs": [
        {
          "output_type": "execute_result",
          "data": {
            "text/plain": [
              "Index(['Pipe_intersec', 'Gas_stations', 'Gas_price', 'Confront_events', 'IRS',\n",
              "       'Homic_rate', 'SBASC', 'POB_6_16_NEB', 'POB_16_EBI', 'NO_SS', 'OVPT',\n",
              "       'NO_SANIT', 'OVSAE', 'NO_DREN', 'NO_ELECT', 'NO_LAVA', 'No_REFRI'],\n",
              "      dtype='object')"
            ]
          },
          "metadata": {},
          "execution_count": 6
        }
      ]
    },
    {
      "cell_type": "code",
      "source": [
        "#Fill 0s in Gas_prices NaN values\n",
        "\n",
        "for key in social_variables:\n",
        "  df_thefts_PMX[key] = df_thefts_PMX[key].fillna(0)\n",
        "\n",
        "df_thefts_PMX.head()"
      ],
      "metadata": {
        "colab": {
          "base_uri": "https://localhost:8080/",
          "height": 270
        },
        "id": "C_6l34j-pE9K",
        "outputId": "404cb2ff-f232-4ea8-f309-aa9143dcbf79"
      },
      "execution_count": 7,
      "outputs": [
        {
          "output_type": "execute_result",
          "data": {
            "text/plain": [
              "   Mun_code  Pipe_intersec  Gas_stations  Gas_price  Confront_events     IRS  \\\n",
              "0      1001             22          1.35      17.78                0 -1.3456   \n",
              "1      1002              3         21.29      17.93                0 -0.8732   \n",
              "2      1004              5         76.76      17.85                0 -1.0391   \n",
              "3      1005              5         18.80      17.84                0 -1.1825   \n",
              "4      1006              8         31.76      17.83                0 -1.1859   \n",
              "\n",
              "   Homic_rate  Susceptible     SBASC  POB_6_16_NEB  POB_16_EBI      NO_SS  \\\n",
              "0        5.41            1  1.887423      3.914694   23.463147  15.751315   \n",
              "1        4.13            0  4.053829      3.934379   38.616333   8.822640   \n",
              "2        6.20            0  3.835153      3.753315   30.835403   8.218243   \n",
              "3        4.83            0  2.887218      4.803344   30.812283  16.580066   \n",
              "4        4.26            1  3.120712      3.307964   28.773867  13.255280   \n",
              "\n",
              "       OVPT  NO_SANIT     OVSAE   NO_DREN  NO_ELECT    NO_LAVA   No_REFRI  \n",
              "0  0.558267  0.434323  0.539714  0.405613  0.185406  13.135097   4.976815  \n",
              "1  1.593414  4.890338  1.171607  4.973795  0.997579  21.077503  13.729702  \n",
              "2  1.335823  2.530502  0.671326  1.624260  0.697120  21.213440  11.657586  \n",
              "3  1.043769  0.840948  0.911164  0.748003  0.439924  14.073904   6.988933  \n",
              "4  0.696114  1.460176  1.117155  1.157367  0.667693  15.313592   8.822952  "
            ],
            "text/html": [
              "\n",
              "  <div id=\"df-cf24e220-287f-4d95-a0a1-859269b40bc8\">\n",
              "    <div class=\"colab-df-container\">\n",
              "      <div>\n",
              "<style scoped>\n",
              "    .dataframe tbody tr th:only-of-type {\n",
              "        vertical-align: middle;\n",
              "    }\n",
              "\n",
              "    .dataframe tbody tr th {\n",
              "        vertical-align: top;\n",
              "    }\n",
              "\n",
              "    .dataframe thead th {\n",
              "        text-align: right;\n",
              "    }\n",
              "</style>\n",
              "<table border=\"1\" class=\"dataframe\">\n",
              "  <thead>\n",
              "    <tr style=\"text-align: right;\">\n",
              "      <th></th>\n",
              "      <th>Mun_code</th>\n",
              "      <th>Pipe_intersec</th>\n",
              "      <th>Gas_stations</th>\n",
              "      <th>Gas_price</th>\n",
              "      <th>Confront_events</th>\n",
              "      <th>IRS</th>\n",
              "      <th>Homic_rate</th>\n",
              "      <th>Susceptible</th>\n",
              "      <th>SBASC</th>\n",
              "      <th>POB_6_16_NEB</th>\n",
              "      <th>POB_16_EBI</th>\n",
              "      <th>NO_SS</th>\n",
              "      <th>OVPT</th>\n",
              "      <th>NO_SANIT</th>\n",
              "      <th>OVSAE</th>\n",
              "      <th>NO_DREN</th>\n",
              "      <th>NO_ELECT</th>\n",
              "      <th>NO_LAVA</th>\n",
              "      <th>No_REFRI</th>\n",
              "    </tr>\n",
              "  </thead>\n",
              "  <tbody>\n",
              "    <tr>\n",
              "      <th>0</th>\n",
              "      <td>1001</td>\n",
              "      <td>22</td>\n",
              "      <td>1.35</td>\n",
              "      <td>17.78</td>\n",
              "      <td>0</td>\n",
              "      <td>-1.3456</td>\n",
              "      <td>5.41</td>\n",
              "      <td>1</td>\n",
              "      <td>1.887423</td>\n",
              "      <td>3.914694</td>\n",
              "      <td>23.463147</td>\n",
              "      <td>15.751315</td>\n",
              "      <td>0.558267</td>\n",
              "      <td>0.434323</td>\n",
              "      <td>0.539714</td>\n",
              "      <td>0.405613</td>\n",
              "      <td>0.185406</td>\n",
              "      <td>13.135097</td>\n",
              "      <td>4.976815</td>\n",
              "    </tr>\n",
              "    <tr>\n",
              "      <th>1</th>\n",
              "      <td>1002</td>\n",
              "      <td>3</td>\n",
              "      <td>21.29</td>\n",
              "      <td>17.93</td>\n",
              "      <td>0</td>\n",
              "      <td>-0.8732</td>\n",
              "      <td>4.13</td>\n",
              "      <td>0</td>\n",
              "      <td>4.053829</td>\n",
              "      <td>3.934379</td>\n",
              "      <td>38.616333</td>\n",
              "      <td>8.822640</td>\n",
              "      <td>1.593414</td>\n",
              "      <td>4.890338</td>\n",
              "      <td>1.171607</td>\n",
              "      <td>4.973795</td>\n",
              "      <td>0.997579</td>\n",
              "      <td>21.077503</td>\n",
              "      <td>13.729702</td>\n",
              "    </tr>\n",
              "    <tr>\n",
              "      <th>2</th>\n",
              "      <td>1004</td>\n",
              "      <td>5</td>\n",
              "      <td>76.76</td>\n",
              "      <td>17.85</td>\n",
              "      <td>0</td>\n",
              "      <td>-1.0391</td>\n",
              "      <td>6.20</td>\n",
              "      <td>0</td>\n",
              "      <td>3.835153</td>\n",
              "      <td>3.753315</td>\n",
              "      <td>30.835403</td>\n",
              "      <td>8.218243</td>\n",
              "      <td>1.335823</td>\n",
              "      <td>2.530502</td>\n",
              "      <td>0.671326</td>\n",
              "      <td>1.624260</td>\n",
              "      <td>0.697120</td>\n",
              "      <td>21.213440</td>\n",
              "      <td>11.657586</td>\n",
              "    </tr>\n",
              "    <tr>\n",
              "      <th>3</th>\n",
              "      <td>1005</td>\n",
              "      <td>5</td>\n",
              "      <td>18.80</td>\n",
              "      <td>17.84</td>\n",
              "      <td>0</td>\n",
              "      <td>-1.1825</td>\n",
              "      <td>4.83</td>\n",
              "      <td>0</td>\n",
              "      <td>2.887218</td>\n",
              "      <td>4.803344</td>\n",
              "      <td>30.812283</td>\n",
              "      <td>16.580066</td>\n",
              "      <td>1.043769</td>\n",
              "      <td>0.840948</td>\n",
              "      <td>0.911164</td>\n",
              "      <td>0.748003</td>\n",
              "      <td>0.439924</td>\n",
              "      <td>14.073904</td>\n",
              "      <td>6.988933</td>\n",
              "    </tr>\n",
              "    <tr>\n",
              "      <th>4</th>\n",
              "      <td>1006</td>\n",
              "      <td>8</td>\n",
              "      <td>31.76</td>\n",
              "      <td>17.83</td>\n",
              "      <td>0</td>\n",
              "      <td>-1.1859</td>\n",
              "      <td>4.26</td>\n",
              "      <td>1</td>\n",
              "      <td>3.120712</td>\n",
              "      <td>3.307964</td>\n",
              "      <td>28.773867</td>\n",
              "      <td>13.255280</td>\n",
              "      <td>0.696114</td>\n",
              "      <td>1.460176</td>\n",
              "      <td>1.117155</td>\n",
              "      <td>1.157367</td>\n",
              "      <td>0.667693</td>\n",
              "      <td>15.313592</td>\n",
              "      <td>8.822952</td>\n",
              "    </tr>\n",
              "  </tbody>\n",
              "</table>\n",
              "</div>\n",
              "      <button class=\"colab-df-convert\" onclick=\"convertToInteractive('df-cf24e220-287f-4d95-a0a1-859269b40bc8')\"\n",
              "              title=\"Convert this dataframe to an interactive table.\"\n",
              "              style=\"display:none;\">\n",
              "        \n",
              "  <svg xmlns=\"http://www.w3.org/2000/svg\" height=\"24px\"viewBox=\"0 0 24 24\"\n",
              "       width=\"24px\">\n",
              "    <path d=\"M0 0h24v24H0V0z\" fill=\"none\"/>\n",
              "    <path d=\"M18.56 5.44l.94 2.06.94-2.06 2.06-.94-2.06-.94-.94-2.06-.94 2.06-2.06.94zm-11 1L8.5 8.5l.94-2.06 2.06-.94-2.06-.94L8.5 2.5l-.94 2.06-2.06.94zm10 10l.94 2.06.94-2.06 2.06-.94-2.06-.94-.94-2.06-.94 2.06-2.06.94z\"/><path d=\"M17.41 7.96l-1.37-1.37c-.4-.4-.92-.59-1.43-.59-.52 0-1.04.2-1.43.59L10.3 9.45l-7.72 7.72c-.78.78-.78 2.05 0 2.83L4 21.41c.39.39.9.59 1.41.59.51 0 1.02-.2 1.41-.59l7.78-7.78 2.81-2.81c.8-.78.8-2.07 0-2.86zM5.41 20L4 18.59l7.72-7.72 1.47 1.35L5.41 20z\"/>\n",
              "  </svg>\n",
              "      </button>\n",
              "      \n",
              "  <style>\n",
              "    .colab-df-container {\n",
              "      display:flex;\n",
              "      flex-wrap:wrap;\n",
              "      gap: 12px;\n",
              "    }\n",
              "\n",
              "    .colab-df-convert {\n",
              "      background-color: #E8F0FE;\n",
              "      border: none;\n",
              "      border-radius: 50%;\n",
              "      cursor: pointer;\n",
              "      display: none;\n",
              "      fill: #1967D2;\n",
              "      height: 32px;\n",
              "      padding: 0 0 0 0;\n",
              "      width: 32px;\n",
              "    }\n",
              "\n",
              "    .colab-df-convert:hover {\n",
              "      background-color: #E2EBFA;\n",
              "      box-shadow: 0px 1px 2px rgba(60, 64, 67, 0.3), 0px 1px 3px 1px rgba(60, 64, 67, 0.15);\n",
              "      fill: #174EA6;\n",
              "    }\n",
              "\n",
              "    [theme=dark] .colab-df-convert {\n",
              "      background-color: #3B4455;\n",
              "      fill: #D2E3FC;\n",
              "    }\n",
              "\n",
              "    [theme=dark] .colab-df-convert:hover {\n",
              "      background-color: #434B5C;\n",
              "      box-shadow: 0px 1px 3px 1px rgba(0, 0, 0, 0.15);\n",
              "      filter: drop-shadow(0px 1px 2px rgba(0, 0, 0, 0.3));\n",
              "      fill: #FFFFFF;\n",
              "    }\n",
              "  </style>\n",
              "\n",
              "      <script>\n",
              "        const buttonEl =\n",
              "          document.querySelector('#df-cf24e220-287f-4d95-a0a1-859269b40bc8 button.colab-df-convert');\n",
              "        buttonEl.style.display =\n",
              "          google.colab.kernel.accessAllowed ? 'block' : 'none';\n",
              "\n",
              "        async function convertToInteractive(key) {\n",
              "          const element = document.querySelector('#df-cf24e220-287f-4d95-a0a1-859269b40bc8');\n",
              "          const dataTable =\n",
              "            await google.colab.kernel.invokeFunction('convertToInteractive',\n",
              "                                                     [key], {});\n",
              "          if (!dataTable) return;\n",
              "\n",
              "          const docLinkHtml = 'Like what you see? Visit the ' +\n",
              "            '<a target=\"_blank\" href=https://colab.research.google.com/notebooks/data_table.ipynb>data table notebook</a>'\n",
              "            + ' to learn more about interactive tables.';\n",
              "          element.innerHTML = '';\n",
              "          dataTable['output_type'] = 'display_data';\n",
              "          await google.colab.output.renderOutput(dataTable, element);\n",
              "          const docLink = document.createElement('div');\n",
              "          docLink.innerHTML = docLinkHtml;\n",
              "          element.appendChild(docLink);\n",
              "        }\n",
              "      </script>\n",
              "    </div>\n",
              "  </div>\n",
              "  "
            ]
          },
          "metadata": {},
          "execution_count": 7
        }
      ]
    },
    {
      "cell_type": "code",
      "source": [
        "# scatter plot using \n",
        "\n",
        "sns.scatterplot(x = \"Homic_rate\", \n",
        "                y = \"Pipe_intersec\", \n",
        "                hue = \"Susceptible\", data = df_thefts_PMX);"
      ],
      "metadata": {
        "colab": {
          "base_uri": "https://localhost:8080/",
          "height": 280
        },
        "id": "evJWxEAnpE_6",
        "outputId": "b0c1ebec-46ee-4cf5-9508-195168e80a42"
      },
      "execution_count": null,
      "outputs": [
        {
          "output_type": "display_data",
          "data": {
            "text/plain": [
              "<Figure size 432x288 with 1 Axes>"
            ],
            "image/png": "[encoded data removed]"
          },
          "metadata": {
            "needs_background": "light"
          }
        }
      ]
    },
    {
      "cell_type": "code",
      "source": [
        "# We will now set data and target \n",
        "X = df_thefts_PMX.drop(columns=[\"Susceptible\", 'Mun_code', 'Confront_events'])\n",
        "y = df_thefts_PMX[\"Susceptible\"]\n",
        "X.columns"
      ],
      "metadata": {
        "colab": {
          "base_uri": "https://localhost:8080/"
        },
        "id": "ZPmRX6Wippbr",
        "outputId": "0605aec3-e10c-40c2-bd97-bd47c5da2d5b"
      },
      "execution_count": 8,
      "outputs": [
        {
          "output_type": "execute_result",
          "data": {
            "text/plain": [
              "Index(['Pipe_intersec', 'Gas_stations', 'Gas_price', 'IRS', 'Homic_rate',\n",
              "       'SBASC', 'POB_6_16_NEB', 'POB_16_EBI', 'NO_SS', 'OVPT', 'NO_SANIT',\n",
              "       'OVSAE', 'NO_DREN', 'NO_ELECT', 'NO_LAVA', 'No_REFRI'],\n",
              "      dtype='object')"
            ]
          },
          "metadata": {},
          "execution_count": 8
        }
      ]
    },
    {
      "cell_type": "code",
      "source": [
        "y"
      ],
      "metadata": {
        "colab": {
          "base_uri": "https://localhost:8080/"
        },
        "id": "8JE2a3n_1LEU",
        "outputId": "06e1cafb-b079-4a27-e4e4-78801df2d4ff"
      },
      "execution_count": 35,
      "outputs": [
        {
          "output_type": "execute_result",
          "data": {
            "text/plain": [
              "0      1\n",
              "1      0\n",
              "2      0\n",
              "3      0\n",
              "4      1\n",
              "      ..\n",
              "834    0\n",
              "835    1\n",
              "836    0\n",
              "837    0\n",
              "838    0\n",
              "Name: Susceptible, Length: 839, dtype: int64"
            ]
          },
          "metadata": {},
          "execution_count": 35
        }
      ]
    },
    {
      "cell_type": "code",
      "source": [
        "# Preprocessing the data\n",
        "\n",
        "X_new = StandardScaler().fit_transform(X)\n",
        "plt.scatter(X_new[:, 6], X_new[:, 1], c=y);"
      ],
      "metadata": {
        "colab": {
          "base_uri": "https://localhost:8080/",
          "height": 265
        },
        "id": "NMwxXhD6ppek",
        "outputId": "a12c7d66-1452-4a51-a9af-cf0184d3d6c6"
      },
      "execution_count": null,
      "outputs": [
        {
          "output_type": "display_data",
          "data": {
            "text/plain": [
              "<Figure size 432x288 with 1 Axes>"
            ],
            "image/png": "[encoded data removed]"
          },
          "metadata": {
            "needs_background": "light"
          }
        }
      ]
    },
    {
      "cell_type": "code",
      "source": [
        "# QuantileTransformer\n",
        "\n",
        "from sklearn.preprocessing import QuantileTransformer\n",
        "\n",
        "X_new2 = QuantileTransformer(n_quantiles = 500).fit_transform(X)\n",
        "plt.scatter(X_new2[:, 0], X_new2[:, 1], c=y);"
      ],
      "metadata": {
        "colab": {
          "base_uri": "https://localhost:8080/",
          "height": 265
        },
        "id": "144PFjHcpphb",
        "outputId": "b95c402e-c702-4b7f-a719-55aa07bdd7a3"
      },
      "execution_count": null,
      "outputs": [
        {
          "output_type": "display_data",
          "data": {
            "text/plain": [
              "<Figure size 432x288 with 1 Axes>"
            ],
            "image/png": "[encoded data removed]"
          },
          "metadata": {
            "needs_background": "light"
          }
        }
      ]
    },
    {
      "cell_type": "code",
      "source": [
        "#Checking the variables distribution - histogram\n",
        "\n",
        "# Plot one histogram per variable\n",
        "\n",
        "#for variable_name in df_thefts_PMX[['Pipe_intersec', 'Gas_stations', 'Gas_price',\n",
        "#                                    'Confront_events', 'IRS', 'Homic_rate', 'SBASC', 'POB_6_16_NEB',\n",
        "#                                    'POB_16_EBI', 'NO_SS', 'OVPT', 'NO_SANIT', 'OVSAE', 'NO_DREN',\n",
        "#                                    'NO_ELECT', 'NO_LAVA', 'No_REFRI']]:\n",
        "#                                   plt.figure()\n",
        "#                                   # plot the histogram for each specie\n",
        "#                                   df_thefts_PMX.groupby(\"Susceptible\")[variable_name].plot.hist(alpha=0.5, legend=True)\n",
        "#                                   plt.xlabel(variable_name)"
      ],
      "metadata": {
        "id": "AHOFL8UXppkK"
      },
      "execution_count": null,
      "outputs": []
    },
    {
      "cell_type": "code",
      "source": [
        "# Checking class balancing\n",
        "\n",
        "import matplotlib.pyplot as plt\n",
        "\n",
        "y.value_counts().plot.barh()\n",
        "plt.xlabel(\"Number of samples\")\n",
        "_ = plt.title(\"Number of samples per classes present\\n in the target\")"
      ],
      "metadata": {
        "colab": {
          "base_uri": "https://localhost:8080/",
          "height": 310
        },
        "id": "QDgoXUV-pFE0",
        "outputId": "db978ac5-948a-4eba-a7da-657b03d25f12"
      },
      "execution_count": 9,
      "outputs": [
        {
          "output_type": "display_data",
          "data": {
            "text/plain": [
              "<Figure size 432x288 with 1 Axes>"
            ],
            "image/png": "[encoded data removed]"
          },
          "metadata": {
            "needs_background": "light"
          }
        }
      ]
    },
    {
      "cell_type": "code",
      "source": [
        "# Set up training and testing data\n",
        "\n",
        "X_train, X_test, y_train, y_test = train_test_split(\n",
        "    X, y, shuffle=True, random_state=123, stratify=y, test_size=0.2)"
      ],
      "metadata": {
        "id": "Fl0v1Wnlp_Kq"
      },
      "execution_count": 10,
      "outputs": []
    },
    {
      "cell_type": "code",
      "source": [
        "# 1. Logistic Regression Model\n",
        "# 1.1 Preprocessing the data - Logistic Regression Model\n",
        "\n",
        "pipe = Pipeline([('scaler', StandardScaler()), \n",
        "                 ('model', LogisticRegression())\n",
        "                 ])\n",
        "\n",
        "#pipe.fit(X_train, y_train)\n",
        "classifier = pipe.fit(X_train, y_train)\n",
        "\n",
        "\n",
        "\n"
      ],
      "metadata": {
        "id": "KNyYr0XKp_Ny"
      },
      "execution_count": 11,
      "outputs": []
    },
    {
      "cell_type": "code",
      "source": [
        "# 1.2 Here we predict using our unseen data (X_test)\n",
        "\n",
        "target_predicted = pipe.predict(X_test)\n"
      ],
      "metadata": {
        "id": "AewJBKO9p_RG"
      },
      "execution_count": 12,
      "outputs": []
    },
    {
      "cell_type": "code",
      "source": [
        "# 1.3 Checking the accuracy\n",
        "\n",
        "accuracy = accuracy_score(y_test, target_predicted)\n",
        "print(f\"Accuracy: {accuracy:.4f}\")"
      ],
      "metadata": {
        "colab": {
          "base_uri": "https://localhost:8080/"
        },
        "id": "Z88mTmnCqJ8l",
        "outputId": "a870509c-b10f-4320-b8f2-a2f648fe23ac"
      },
      "execution_count": 13,
      "outputs": [
        {
          "output_type": "stream",
          "name": "stdout",
          "text": [
            "Accuracy: 0.6131\n"
          ]
        }
      ]
    },
    {
      "cell_type": "code",
      "source": [
        "# 1.4 Checking the Confusion Matrix\n",
        "\n",
        "_ = ConfusionMatrixDisplay.from_estimator(classifier, X_test, y_test) "
      ],
      "metadata": {
        "colab": {
          "base_uri": "https://localhost:8080/",
          "height": 279
        },
        "id": "VKjIOdFJqKCa",
        "outputId": "305c8c7c-e011-436e-f3b5-39a73d2da772"
      },
      "execution_count": 14,
      "outputs": [
        {
          "output_type": "display_data",
          "data": {
            "text/plain": [
              "<Figure size 432x288 with 2 Axes>"
            ],
            "image/png": "[encoded data removed]"
          },
          "metadata": {
            "needs_background": "light"
          }
        }
      ]
    },
    {
      "cell_type": "code",
      "source": [
        "# 1.5 Some other metrics scores\n",
        "\n",
        "precision = precision_score(y_test, target_predicted)\n",
        "recall = recall_score(y_test, target_predicted)\n",
        "# f1 score: 2 tp / (2 tp + fp + fn)\n",
        "f1 = f1_score(y_test, target_predicted)\n",
        "\n",
        "\n",
        "print(f\"Precision score: {precision:.4f}\")\n",
        "print(f\"Recall score: {recall:.4f}\")\n",
        "print(f\"F1 score: {f1:.4f}\")"
      ],
      "metadata": {
        "colab": {
          "base_uri": "https://localhost:8080/"
        },
        "id": "xJVHpzNBqKFT",
        "outputId": "9e5f4418-79a4-438a-f612-684e734e30b4"
      },
      "execution_count": 15,
      "outputs": [
        {
          "output_type": "stream",
          "name": "stdout",
          "text": [
            "Precision score: 0.6136\n",
            "Recall score: 0.6353\n",
            "F1 score: 0.6243\n"
          ]
        }
      ]
    },
    {
      "cell_type": "code",
      "source": [
        "# 2. Decision Tree model\n",
        "# 2.1 Preprocessing the data - Decision Tree Model\n",
        "\n",
        "from sklearn.tree import DecisionTreeClassifier\n",
        "\n",
        "classifier = DecisionTreeClassifier()\n",
        "classifier.fit(X_train, y_train)\n",
        "\n",
        "\n"
      ],
      "metadata": {
        "colab": {
          "base_uri": "https://localhost:8080/"
        },
        "id": "s4Ok9MwEZYIJ",
        "outputId": "08f69c48-2f91-46be-d3aa-3c8d847d9b98"
      },
      "execution_count": 16,
      "outputs": [
        {
          "output_type": "execute_result",
          "data": {
            "text/plain": [
              "DecisionTreeClassifier()"
            ]
          },
          "metadata": {},
          "execution_count": 16
        }
      ]
    },
    {
      "cell_type": "code",
      "source": [
        "# 2.2 Here we predict using our unseen data (X_test)\n",
        "\n",
        "\n",
        "target_predicted = classifier.predict(X_test)\n"
      ],
      "metadata": {
        "id": "_-4xlAxUZbWc"
      },
      "execution_count": 17,
      "outputs": []
    },
    {
      "cell_type": "code",
      "source": [
        "#Plotting the decision tree\n",
        "\n",
        "import matplotlib.pyplot as plt\n",
        "import seaborn as sns\n",
        "from sklearn.tree import plot_tree\n",
        "\n",
        "_, ax = plt.subplots(figsize=(8, 6))\n",
        "_ = plot_tree(classifier, feature_names=X.columns, impurity=False, ax=ax)\n"
      ],
      "metadata": {
        "colab": {
          "base_uri": "https://localhost:8080/",
          "height": 357
        },
        "id": "ODZrADwJrQ3j",
        "outputId": "95e6a01c-ac06-4a05-8b86-97671a4ba7a4"
      },
      "execution_count": 126,
      "outputs": [
        {
          "output_type": "display_data",
          "data": {
            "text/plain": [
              "<Figure size 576x432 with 1 Axes>"
            ],
            "image/png": "[encoded data removed]"
          },
          "metadata": {
            "needs_background": "light"
          }
        }
      ]
    },
    {
      "cell_type": "code",
      "source": [
        "# 2.3 Checking the accuracy\n",
        "import matplotlib.pyplot as plt\n",
        "\n",
        "#plt.scatter(y_test, target_predicted)\n",
        "#plt.show()\n",
        "\n",
        "\n",
        "\n",
        "accuracy = accuracy_score(y_test, target_predicted)\n",
        "print(f\"Accuracy: {accuracy:.4f}\")"
      ],
      "metadata": {
        "colab": {
          "base_uri": "https://localhost:8080/"
        },
        "id": "KwgajDigZbfk",
        "outputId": "4cd5e4e4-6fef-4d35-e5fa-9de82466ebab"
      },
      "execution_count": 18,
      "outputs": [
        {
          "output_type": "stream",
          "name": "stdout",
          "text": [
            "Accuracy: 0.6726\n"
          ]
        }
      ]
    },
    {
      "cell_type": "code",
      "source": [
        "# 2.4 Checking the Confusion Matrix\n",
        "\n",
        "_ = ConfusionMatrixDisplay.from_estimator(classifier, X_test, y_test) "
      ],
      "metadata": {
        "colab": {
          "base_uri": "https://localhost:8080/",
          "height": 279
        },
        "id": "ImlzD7tSZb0U",
        "outputId": "e4689381-e2a1-49f4-a26a-d2056f2d6b06"
      },
      "execution_count": 19,
      "outputs": [
        {
          "output_type": "display_data",
          "data": {
            "text/plain": [
              "<Figure size 432x288 with 2 Axes>"
            ],
            "image/png": "[encoded data removed]"
          },
          "metadata": {
            "needs_background": "light"
          }
        }
      ]
    },
    {
      "cell_type": "code",
      "source": [
        "# 2.5 Some other metrics scores\n",
        "\n",
        "precision = precision_score(y_test, target_predicted)\n",
        "recall = recall_score(y_test, target_predicted)\n",
        "# f1 score: 2 tp / (2 tp + fp + fn)\n",
        "f1 = f1_score(y_test, target_predicted)\n",
        "\n",
        "\n",
        "print(f\"Precision score: {precision:.4f}\")\n",
        "print(f\"Recall score: {recall:.4f}\")\n",
        "print(f\"F1 score: {f1:.4f}\")"
      ],
      "metadata": {
        "colab": {
          "base_uri": "https://localhost:8080/"
        },
        "id": "B9t8vRLCZb8r",
        "outputId": "0e99eb89-98ce-4842-97a2-b099c16af738"
      },
      "execution_count": 20,
      "outputs": [
        {
          "output_type": "stream",
          "name": "stdout",
          "text": [
            "Precision score: 0.6829\n",
            "Recall score: 0.6588\n",
            "F1 score: 0.6707\n"
          ]
        }
      ]
    },
    {
      "cell_type": "code",
      "source": [
        "# 2.6 Some other metrics\n",
        "\n",
        "from sklearn.metrics import classification_report\n",
        "print(classification_report(y_test, target_predicted))"
      ],
      "metadata": {
        "colab": {
          "base_uri": "https://localhost:8080/"
        },
        "id": "PAZP2-0tmKqf",
        "outputId": "2d873d79-cca1-463b-b5b4-c2de129c9c8a"
      },
      "execution_count": 21,
      "outputs": [
        {
          "output_type": "stream",
          "name": "stdout",
          "text": [
            "              precision    recall  f1-score   support\n",
            "\n",
            "           0       0.66      0.69      0.67        83\n",
            "           1       0.68      0.66      0.67        85\n",
            "\n",
            "    accuracy                           0.67       168\n",
            "   macro avg       0.67      0.67      0.67       168\n",
            "weighted avg       0.67      0.67      0.67       168\n",
            "\n"
          ]
        }
      ]
    },
    {
      "cell_type": "code",
      "source": [
        "# 3. Random Forest model\n",
        "# 3.1 Preprocessing the data\n",
        "\n",
        "data = X_train\n",
        "target = y_train\n",
        "\n",
        "from sklearn.preprocessing import OrdinalEncoder\n",
        "from sklearn.compose import make_column_transformer, make_column_selector\n",
        "from sklearn.model_selection import cross_val_score\n",
        "from sklearn.pipeline import make_pipeline\n",
        "from sklearn.ensemble import RandomForestClassifier\n",
        "\n",
        "\n",
        "categorical_encoder = OrdinalEncoder(\n",
        "    handle_unknown=\"use_encoded_value\", unknown_value=-1\n",
        ")\n",
        "preprocessor = make_column_transformer(\n",
        "    (categorical_encoder, make_column_selector(dtype_include=object)),\n",
        "    remainder=\"passthrough\"\n",
        ")\n",
        "\n",
        "random_forest = make_pipeline(\n",
        "    preprocessor,\n",
        "    RandomForestClassifier(n_estimators=500, n_jobs=4, random_state=123)\n",
        ")\n",
        "\n",
        "\n"
      ],
      "metadata": {
        "id": "tHInWu2tZy02"
      },
      "execution_count": 22,
      "outputs": []
    },
    {
      "cell_type": "code",
      "source": [
        "# 3.2 Checking the accuracy with the trainning data\n",
        "\n",
        "scores_random_forest = cross_val_score(random_forest, data, target)\n",
        "\n",
        "print(f\"Random forest classifier: \"\n",
        "      f\"{scores_random_forest.mean():.3f} ± \"\n",
        "      f\"{scores_random_forest.std():.3f}\")\n"
      ],
      "metadata": {
        "colab": {
          "base_uri": "https://localhost:8080/"
        },
        "id": "Ic87cliiZy-d",
        "outputId": "d1a4cd5d-d039-43b6-f996-de6069e48f0e"
      },
      "execution_count": 23,
      "outputs": [
        {
          "output_type": "stream",
          "name": "stdout",
          "text": [
            "Random forest classifier: 0.763 ± 0.028\n"
          ]
        }
      ]
    },
    {
      "cell_type": "code",
      "source": [
        "#3.3 Prepare to fit and predict with testing data\n",
        "\n",
        "\n",
        "clf = RandomForestClassifier(n_estimators = 500, bootstrap = True, random_state = 123).fit(X_train, y_train)\n",
        "\n"
      ],
      "metadata": {
        "id": "VeDa4zUbZzY9"
      },
      "execution_count": 24,
      "outputs": []
    },
    {
      "cell_type": "code",
      "source": [
        "# Create our predictions\n",
        "prediction = clf.predict(X_test)\n",
        "\n"
      ],
      "metadata": {
        "id": "-xeeg7L64QtN"
      },
      "execution_count": 25,
      "outputs": []
    },
    {
      "cell_type": "code",
      "source": [
        "\n",
        "\n",
        "_ = ConfusionMatrixDisplay.from_estimator(clf, X_test, y_test) "
      ],
      "metadata": {
        "colab": {
          "base_uri": "https://localhost:8080/",
          "height": 283
        },
        "id": "PiG3XZkhfLm4",
        "outputId": "87c350a2-df38-4034-9eb9-bb89b224b27f"
      },
      "execution_count": 26,
      "outputs": [
        {
          "output_type": "display_data",
          "data": {
            "text/plain": [
              "<Figure size 432x288 with 2 Axes>"
            ],
            "image/png": "[encoded data removed]"
          },
          "metadata": {
            "needs_background": "light"
          }
        }
      ]
    },
    {
      "cell_type": "code",
      "source": [
        "# Display accuracy score\n",
        "accuracy_score(y_test, prediction)\n"
      ],
      "metadata": {
        "colab": {
          "base_uri": "https://localhost:8080/"
        },
        "id": "ihCF6CS24cHa",
        "outputId": "3c7c471a-527c-44b8-931d-1291bb91dbe4"
      },
      "execution_count": 27,
      "outputs": [
        {
          "output_type": "execute_result",
          "data": {
            "text/plain": [
              "0.7976190476190477"
            ]
          },
          "metadata": {},
          "execution_count": 27
        }
      ]
    },
    {
      "cell_type": "code",
      "source": [
        "# 2.5 Some other metrics scores\n",
        "\n",
        "precision = precision_score(y_test, prediction)\n",
        "recall = recall_score(y_test, prediction)\n",
        "# f1 score: 2 tp / (2 tp + fp + fn)\n",
        "f1 = f1_score(y_test, prediction)\n",
        "\n",
        "\n",
        "print(f\"Precision score: {precision:.4f}\")\n",
        "print(f\"Recall score: {recall:.4f}\")\n",
        "print(f\"F1 score: {f1:.4f}\")"
      ],
      "metadata": {
        "colab": {
          "base_uri": "https://localhost:8080/"
        },
        "id": "sizhRXmUhNYs",
        "outputId": "59ea4b8c-3484-403d-84b2-5adae57af23d"
      },
      "execution_count": 28,
      "outputs": [
        {
          "output_type": "stream",
          "name": "stdout",
          "text": [
            "Precision score: 0.7865\n",
            "Recall score: 0.8235\n",
            "F1 score: 0.8046\n"
          ]
        }
      ]
    },
    {
      "cell_type": "code",
      "source": [
        "# Let´s check the importate of each variable\n",
        "from sklearn.inspection import permutation_importance\n",
        "#import shap\n",
        "from matplotlib import pyplot as plt\n",
        "\n",
        "clf.feature_importances_"
      ],
      "metadata": {
        "colab": {
          "base_uri": "https://localhost:8080/"
        },
        "id": "45HsHf6QVsEF",
        "outputId": "2aa31f22-7485-41a2-e7db-314a5b61b4b6"
      },
      "execution_count": 29,
      "outputs": [
        {
          "output_type": "execute_result",
          "data": {
            "text/plain": [
              "array([0.24666759, 0.06304405, 0.06401874, 0.03939958, 0.05418077,\n",
              "       0.04209788, 0.04097167, 0.04582549, 0.06514726, 0.04525826,\n",
              "       0.05143783, 0.03931586, 0.0481218 , 0.05635059, 0.05115681,\n",
              "       0.04700582])"
            ]
          },
          "metadata": {},
          "execution_count": 29
        }
      ]
    },
    {
      "cell_type": "code",
      "source": [
        "# Let´s check feature importance - Gini importance\n",
        "\n",
        "sorted_idx = clf.feature_importances_.argsort()\n",
        "\n",
        "plt.barh(X.columns[sorted_idx], clf.feature_importances_[sorted_idx])\n",
        "plt.xlabel(\"Random Forest Feature Importance\")"
      ],
      "metadata": {
        "colab": {
          "base_uri": "https://localhost:8080/",
          "height": 297
        },
        "id": "orTkkNdlWwuZ",
        "outputId": "b589d89a-3be8-4529-ae8b-d303358c5ad7"
      },
      "execution_count": 30,
      "outputs": [
        {
          "output_type": "execute_result",
          "data": {
            "text/plain": [
              "Text(0.5, 0, 'Random Forest Feature Importance')"
            ]
          },
          "metadata": {},
          "execution_count": 30
        },
        {
          "output_type": "display_data",
          "data": {
            "text/plain": [
              "<Figure size 432x288 with 1 Axes>"
            ],
            "image/png": "[encoded data removed]"
          },
          "metadata": {
            "needs_background": "light"
          }
        }
      ]
    },
    {
      "cell_type": "code",
      "source": [
        "# Let´s check feature importance - Permutation Based Feature Importance \n",
        "\n",
        "perm_importance = permutation_importance(clf, X_test, y_test)\n",
        "\n",
        "sorted_idx = perm_importance.importances_mean.argsort()\n",
        "plt.barh(X.columns[sorted_idx], perm_importance.importances_mean[sorted_idx])\n",
        "plt.xlabel(\"Permutation Importance\")\n"
      ],
      "metadata": {
        "colab": {
          "base_uri": "https://localhost:8080/",
          "height": 297
        },
        "id": "CVeJ2ByHY-U2",
        "outputId": "51333ecc-69a1-4057-c27e-896a0c46454a"
      },
      "execution_count": 31,
      "outputs": [
        {
          "output_type": "execute_result",
          "data": {
            "text/plain": [
              "Text(0.5, 0, 'Permutation Importance')"
            ]
          },
          "metadata": {},
          "execution_count": 31
        },
        {
          "output_type": "display_data",
          "data": {
            "text/plain": [
              "<Figure size 432x288 with 1 Axes>"
            ],
            "image/png": "[encoded data removed]"
          },
          "metadata": {
            "needs_background": "light"
          }
        }
      ]
    },
    {
      "cell_type": "code",
      "source": [
        "# Using grid search to find optimal hyperparameters for Random Forest model\n",
        "#Credits: https://github.com/pacejohn/Random_Forest_Grid_Search/blob/master/rf_gridsearch_census.ipynb\n",
        "\n",
        "\n",
        "import numpy as np\n",
        "import pandas as pd\n",
        "from pprint import pprint\n",
        "from sklearn.ensemble import RandomForestClassifier, RandomForestRegressor\n",
        "from sklearn.model_selection import GridSearchCV, train_test_split"
      ],
      "metadata": {
        "id": "O2w1-E9I2tgn"
      },
      "execution_count": 32,
      "outputs": []
    },
    {
      "cell_type": "code",
      "source": [
        "# Baseline: Random forest with default values.\n",
        "\n",
        "# ************ Train/Test *********************\n",
        "print(\"\\n***************************************************************\")\n",
        "print(\"*****Random Forest With Default Hyperparameters Train/Test*****\")\n",
        "print(\"***************************************************************\\n\")\n",
        "\n",
        "# ************ Train/Test *********************\n",
        "# Create Random Forest Classifier using default hyperparameters\n",
        "default_rf_clf = RandomForestClassifier(random_state=0)\n",
        "\n",
        "# Train the Classifier\n",
        "default_rf_clf.fit(X_train, y_train)\n",
        "\n",
        "# Perform predictions\n",
        "default_train_test_preds = default_rf_clf.predict(X_test)\n",
        "\n",
        "# View the first 5 predictions and the predicted probabilities \n",
        "print(\"*****Default Hyperparameters Test Predictions*****\")\n",
        "for i in range(0,5):\n",
        "\tprint(\"Prediction \" + str(i+1) + \" is \" + str(default_train_test_preds[i]) + \" with probabilities of \" \n",
        "\t\t+ str(default_rf_clf.predict_proba(X_test)[i]))\n",
        "\n",
        "# Create confusion matrix\n",
        "print(\"\\n*****Default Hyperparameters Test Confusion Matrix*****\")\n",
        "confusion_matrix = pd.crosstab(y_test, default_train_test_preds, rownames=['Actual Income'], colnames=['Predicted Income'])\n",
        "print(confusion_matrix)\n",
        "\n",
        "# Print accuracy\n",
        "default_accuracy = (((confusion_matrix[0][0] + confusion_matrix[1][1])) / (X_test.shape[0]) * 100)\n",
        "print(\"\\nDefault Hyperparameters Test Accuracy = {0:0.4f}%\".format(default_accuracy))\n"
      ],
      "metadata": {
        "colab": {
          "base_uri": "https://localhost:8080/"
        },
        "id": "jak9d3uC24Fv",
        "outputId": "c086b085-e6d2-449d-e00a-858434329e4d"
      },
      "execution_count": 33,
      "outputs": [
        {
          "output_type": "stream",
          "name": "stdout",
          "text": [
            "\n",
            "***************************************************************\n",
            "*****Random Forest With Default Hyperparameters Train/Test*****\n",
            "***************************************************************\n",
            "\n",
            "*****Default Hyperparameters Test Predictions*****\n",
            "Prediction 1 is 0 with probabilities of [0.71 0.29]\n",
            "Prediction 2 is 1 with probabilities of [0.33 0.67]\n",
            "Prediction 3 is 0 with probabilities of [0.76 0.24]\n",
            "Prediction 4 is 1 with probabilities of [0.36 0.64]\n",
            "Prediction 5 is 1 with probabilities of [0.18 0.82]\n",
            "\n",
            "*****Default Hyperparameters Test Confusion Matrix*****\n",
            "Predicted Income   0   1\n",
            "Actual Income           \n",
            "0                 63  20\n",
            "1                 14  71\n",
            "\n",
            "Default Hyperparameters Test Accuracy = 79.7619%\n"
          ]
        }
      ]
    },
    {
      "cell_type": "code",
      "source": [
        "# ************ Validation *********************\n",
        "print(\"\\n\\n***************************************************************\")\n",
        "print(\"*****Random Forest With Default Hyperparameters Validation*****\")\n",
        "print(\"***************************************************************\\n\")\n",
        "\n",
        "\n",
        "# ************ Random Forest Classifier using grid search for hyper-parameters ******************\n",
        "print(\"\\n\\n***************************************************************\")\n",
        "print(\"*****************Random Forest Grid Search*********************\")\n",
        "print(\"***************************************************************\\n\")\n",
        "\n",
        "# Number of trees in random forest\n",
        "# Using num=2 will significantly reduce run time (~3 min vs ~65 min)\n",
        "n_estimators = [int(x) for x in np.linspace(start = 200, stop = 2000, num = 2)]\n",
        "# Using num=10 will significantly increase run time\n",
        "#n_estimators = [int(x) for x in np.linspace(start = 200, stop = 2000, num = 10)]\n",
        "# Number of features to consider at every split\n",
        "max_features = ['auto', 'sqrt']\n",
        "# Maximum number of levels in tree\n",
        "# Using num=2 will significantly reduce run time (~3 min vs ~65 min)\n",
        "max_depth = [int(x) for x in np.linspace(10, 110, num = 2)]\n",
        "# Using num=10 will significantly increase run time\n",
        "#max_depth = [int(x) for x in np.linspace(10, 110, num = 10)]\n",
        "max_depth.append(None)\n",
        "# Minimum number of samples required to split a node\n",
        "min_samples_split = [2, 5, 10]\n",
        "# Minimum number of samples required at each leaf node\n",
        "min_samples_leaf = [1, 2, 4]\n",
        "# Method of selecting samples for training each tree\n",
        "bootstrap = [True, False]\n",
        "# Create the random grid\n",
        "grid = {'n_estimators': n_estimators,\n",
        "               'max_features': max_features,\n",
        "               'max_depth': max_depth,\n",
        "               'min_samples_split': min_samples_split,\n",
        "               'min_samples_leaf': min_samples_leaf,\n",
        "               'bootstrap': bootstrap}\n",
        "print(\"The values that will be used for the grid search are:\")\n",
        "pprint(grid)\n",
        "\n",
        "print(\"\\n*****Performing the Grid Search of the Hyperparameters*****\")\n",
        "# Create a regressor using values from grid\n",
        "rf_reg = RandomForestRegressor()\n",
        "# Instantiate the grid search model\n",
        "grid_search = GridSearchCV(estimator = rf_reg, param_grid = grid, cv = 3, n_jobs = -1, verbose = 1)\n",
        "\n",
        "# Train the classifier\n",
        "best_grid = grid_search.fit(X_train, y_train)\n",
        "\n",
        "# Make predictions\n",
        "grid_preds = best_grid.predict(X_test)\n",
        "\n",
        "print(\"The best hyperparameters found during the grid search are:\")\n",
        "pprint(best_grid.best_params_)"
      ],
      "metadata": {
        "colab": {
          "base_uri": "https://localhost:8080/"
        },
        "id": "08xGgWAn24Mv",
        "outputId": "2e5cc9a1-fd39-4ba3-8a54-871921fc57af"
      },
      "execution_count": 160,
      "outputs": [
        {
          "output_type": "stream",
          "name": "stdout",
          "text": [
            "\n",
            "\n",
            "***************************************************************\n",
            "*****Random Forest With Default Hyperparameters Validation*****\n",
            "***************************************************************\n",
            "\n",
            "\n",
            "\n",
            "***************************************************************\n",
            "*****************Random Forest Grid Search*********************\n",
            "***************************************************************\n",
            "\n",
            "The values that will be used for the grid search are:\n",
            "{'bootstrap': [True, False],\n",
            " 'max_depth': [10, 110, None],\n",
            " 'max_features': ['auto', 'sqrt'],\n",
            " 'min_samples_leaf': [1, 2, 4],\n",
            " 'min_samples_split': [2, 5, 10],\n",
            " 'n_estimators': [200, 2000]}\n",
            "\n",
            "*****Performing the Grid Search of the Hyperparameters*****\n",
            "Fitting 3 folds for each of 216 candidates, totalling 648 fits\n",
            "The best hyperparameters found during the grid search are:\n",
            "{'bootstrap': True,\n",
            " 'max_depth': 10,\n",
            " 'max_features': 'auto',\n",
            " 'min_samples_leaf': 4,\n",
            " 'min_samples_split': 10,\n",
            " 'n_estimators': 200}\n"
          ]
        }
      ]
    },
    {
      "cell_type": "code",
      "source": [
        "# ************ Random Forest Classifier using grid search with best hyper-parameters ******************\n",
        "print(\"\\n************************************************************************\")\n",
        "print(\"*****Random Forest With Hyperparameters from Grid Search Train/Test*****\")\n",
        "print(\"************************************************************************\\n\")\n",
        "\n",
        "# Train the Classifier with new values from grid search\n",
        "rf_clf = RandomForestClassifier(max_depth = best_grid.best_params_[\"max_depth\"], \n",
        "\tmin_samples_split = best_grid.best_params_[\"min_samples_split\"], \n",
        "\tmin_samples_leaf = best_grid.best_params_[\"min_samples_leaf\"], \n",
        "\tbootstrap = best_grid.best_params_[\"bootstrap\"], \n",
        "\tmax_features = best_grid.best_params_[\"max_features\"], \n",
        "\tn_estimators = best_grid.best_params_[\"n_estimators\"], n_jobs=-1, random_state=0)\n",
        "rf_clf.fit(X_train, y_train)\n",
        "\n",
        "# Perform predictions\n",
        "train_test_preds = rf_clf.predict(X_test)\n",
        "\n",
        "# View the first 5 predictions and the predicted probabilities \n",
        "print(\"\\n\")\n",
        "print(\"*****Grid Search Hyperparameters Test Predictions*****\")\n",
        "for i in range(0,5):\n",
        "\tprint(\"Prediction \" + str(i+1) + \" is \" + str(train_test_preds[i]) + \" with probabilities of \" + str(rf_clf.predict_proba(X_test)[i]))\n",
        "\n",
        "# Create confusion matrix\n",
        "print(\"\\n*****Grid Search Hyperparameters Test Confusion Matrix*****\")\n",
        "confusion_matrix = pd.crosstab(y_test, train_test_preds, rownames=['Actual Income'], colnames=['Predicted Income'])\n",
        "print(confusion_matrix)\n",
        "\n",
        "# Print accuracy\n",
        "grid_search_accuracy = (((confusion_matrix[0][0] + confusion_matrix[1][1])) / (X_test.shape[0]) * 100)\n",
        "print(\"\\nGrid Search Hyperparameters Test Accuracy = {0:0.4f}%\".format(grid_search_accuracy))\n",
        "\n",
        "print(\"\\nCompared to the random forest classifier created with default hyperparameters, the accuracy of the \" +\n",
        "\t\"classifier created with optimal hyperparameters determined by grid search is \" +\n",
        "\t\"{0:0.4f}% better\".format((grid_search_accuracy - default_accuracy)))"
      ],
      "metadata": {
        "id": "wt3oHWhE24TF",
        "colab": {
          "base_uri": "https://localhost:8080/"
        },
        "outputId": "68aceffd-1fba-4c9e-f327-430ebaf98129"
      },
      "execution_count": 161,
      "outputs": [
        {
          "output_type": "stream",
          "name": "stdout",
          "text": [
            "\n",
            "************************************************************************\n",
            "*****Random Forest With Hyperparameters from Grid Search Train/Test*****\n",
            "************************************************************************\n",
            "\n",
            "\n",
            "\n",
            "*****Grid Search Hyperparameters Test Predictions*****\n",
            "Prediction 1 is 1 with probabilities of [0.34160723 0.65839277]\n",
            "Prediction 2 is 1 with probabilities of [0.47385708 0.52614292]\n",
            "Prediction 3 is 0 with probabilities of [0.89026795 0.10973205]\n",
            "Prediction 4 is 0 with probabilities of [0.642878 0.357122]\n",
            "Prediction 5 is 0 with probabilities of [0.73352716 0.26647284]\n",
            "\n",
            "*****Grid Search Hyperparameters Test Confusion Matrix*****\n",
            "Predicted Income   0   1\n",
            "Actual Income           \n",
            "0                 30  11\n",
            "1                  8  35\n",
            "\n",
            "Grid Search Hyperparameters Test Accuracy = 77.3810%\n",
            "\n",
            "Compared to the random forest classifier created with default hyperparameters, the accuracy of the classifier created with optimal hyperparameters determined by grid search is 0.0000% better\n"
          ]
        }
      ]
    },
    {
      "cell_type": "code",
      "source": [
        "#Importing libraries\n",
        "#Font: https://towardsdatascience.com/feature-selection-using-random-forest-26d7b747597f\n",
        "\n",
        "\n",
        "import pandas as pd\n",
        "#from sklearn.ensemble import RandomForestClassfier\n",
        "from sklearn.feature_selection import SelectFromModel\n",
        "\n",
        "sel = SelectFromModel(RandomForestClassifier(n_estimators = 500))\n",
        "sel.fit(X_train, y_train)"
      ],
      "metadata": {
        "id": "zHbNes9C24Xl",
        "colab": {
          "base_uri": "https://localhost:8080/"
        },
        "outputId": "3aff2249-ce4c-49b1-d08e-8a8fa1dd3c6f"
      },
      "execution_count": 143,
      "outputs": [
        {
          "output_type": "execute_result",
          "data": {
            "text/plain": [
              "SelectFromModel(estimator=RandomForestClassifier(n_estimators=500))"
            ]
          },
          "metadata": {},
          "execution_count": 143
        }
      ]
    },
    {
      "cell_type": "code",
      "source": [
        "#To see which features are important we can use get_support method on the fitted model.\n",
        "\n",
        "sel.get_support()"
      ],
      "metadata": {
        "colab": {
          "base_uri": "https://localhost:8080/"
        },
        "id": "tStSX8zinEiu",
        "outputId": "b724cc56-9d47-42b1-f6ad-5ed6831f2b72"
      },
      "execution_count": 144,
      "outputs": [
        {
          "output_type": "execute_result",
          "data": {
            "text/plain": [
              "array([ True,  True,  True, False, False, False, False, False,  True,\n",
              "       False, False, False, False, False, False, False])"
            ]
          },
          "metadata": {},
          "execution_count": 144
        }
      ]
    },
    {
      "cell_type": "code",
      "source": [
        "#We can now make a list and count the selected features.\n",
        "\n",
        "selected_feat= X_train.columns[(sel.get_support())]\n",
        "len(selected_feat)"
      ],
      "metadata": {
        "colab": {
          "base_uri": "https://localhost:8080/"
        },
        "id": "myyq0dDTnEq3",
        "outputId": "d95c869a-d122-410c-f7a6-9b7092452b34"
      },
      "execution_count": 145,
      "outputs": [
        {
          "output_type": "execute_result",
          "data": {
            "text/plain": [
              "4"
            ]
          },
          "metadata": {},
          "execution_count": 145
        }
      ]
    },
    {
      "cell_type": "code",
      "source": [
        "#To get the name of the features selected\n",
        "\n",
        "print(selected_feat)"
      ],
      "metadata": {
        "colab": {
          "base_uri": "https://localhost:8080/"
        },
        "id": "SKlJ4LSVnEyz",
        "outputId": "b8b5a7a6-7a14-4b3a-fd25-14a8a0f6e0db"
      },
      "execution_count": 146,
      "outputs": [
        {
          "output_type": "stream",
          "name": "stdout",
          "text": [
            "Index(['Pipe_intersec', 'Gas_stations', 'Gas_price', 'NO_SS'], dtype='object')\n"
          ]
        }
      ]
    },
    {
      "cell_type": "code",
      "source": [],
      "metadata": {
        "id": "k4Ii9e69nowM"
      },
      "execution_count": null,
      "outputs": []
    },
    {
      "cell_type": "code",
      "source": [],
      "metadata": {
        "id": "l9NCJ0SRnozT"
      },
      "execution_count": null,
      "outputs": []
    },
    {
      "cell_type": "code",
      "source": [],
      "metadata": {
        "id": "7QRhwN2rno3U"
      },
      "execution_count": null,
      "outputs": []
    },
    {
      "cell_type": "code",
      "source": [],
      "metadata": {
        "id": "a0CwIdN3no60"
      },
      "execution_count": null,
      "outputs": []
    }
  ]
}