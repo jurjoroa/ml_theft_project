{
 "cells": [
  {
   "cell_type": "code",
   "execution_count": 1,
   "id": "6860f398-791e-48ee-899d-7f2d04bd0aa6",
   "metadata": {},
   "outputs": [],
   "source": [
    "import pandas as pd\n",
    "import numpy as np\n",
    "import matplotlib.pyplot as plt"
   ]
  },
  {
   "cell_type": "code",
   "execution_count": 2,
   "id": "a14a9b20-c049-41e3-a777-34afe20b1883",
   "metadata": {},
   "outputs": [],
   "source": [
    "import pandas as pd\n",
    "import glob\n",
    "import os"
   ]
  },
  {
   "cell_type": "code",
   "execution_count": 108,
   "id": "1093597f-4fd6-4f7e-848b-7d6fa6dc37af",
   "metadata": {},
   "outputs": [],
   "source": [
    "import pyarrow as pa\n",
    "import pyarrow.parquet as pq\n"
   ]
  },
  {
   "cell_type": "code",
   "execution_count": 6,
   "id": "967d9b40-48ae-42ef-8509-4ecb6c8d88e5",
   "metadata": {},
   "outputs": [
    {
     "name": "stdout",
     "output_type": "stream",
     "text": [
      "/Users/jorgeroa/Documents/GitHub/pmx_gasoline_theft_prediction\n"
     ]
    }
   ],
   "source": [
    "%cd \"Documents/GitHub/pmx_gasoline_theft_prediction/\""
   ]
  },
  {
   "cell_type": "code",
   "execution_count": 19,
   "id": "378afba1-17dc-4564-9e99-b2e69ab2ef8b",
   "metadata": {},
   "outputs": [
    {
     "name": "stderr",
     "output_type": "stream",
     "text": [
      "/var/folders/q3/ztffc4r10tv5h4pftjr2qw0r0000gn/T/ipykernel_51396/1608704150.py:6: DtypeWarning: Columns (25) have mixed types. Specify dtype option on import or set low_memory=False.\n",
      "  df_from_each_file = (pd.read_csv(f) for f in all_files)\n"
     ]
    }
   ],
   "source": [
    "\n",
    "path = 'data-raw' # use your path\n",
    "filename = glob.glob(path + \"/*.csv\")\n",
    "\n",
    "all_files = glob.glob(os.path.join(path , \"*.csv\"))\n",
    "\n",
    "df_from_each_file = (pd.read_csv(f) for f in all_files)\n",
    "\n",
    "\n",
    "concatenated_df   = pd.concat(df_from_each_file, ignore_index=True)\n",
    "    \n",
    "#frame = pd.concat(li, axis=0, ignore_index=True)"
   ]
  },
  {
   "cell_type": "code",
   "execution_count": 21,
   "id": "e7073c1a-340c-4d4c-88d3-6ecc393a05c8",
   "metadata": {},
   "outputs": [],
   "source": [
    "df_INEGI = pd.read_csv(\"data-raw/INEGI.csv\")\n",
    "\n",
    "df_five_year_pipeline = pd.read_csv(\"data-raw/five_year_pipeline.csv\")\n",
    "\n",
    "df_installations = pd.read_csv(\"data-raw/installations.csv\")\n",
    "\n",
    "df_integ_sistran_pp = pd.read_csv(\"data-raw/integrated_sistrangas_pipeline.csv\")\n",
    "\n",
    "df_mix_pipeline = pd.read_csv(\"data-raw/mix_pipeline.csv\")\n",
    "\n",
    "df_not_integ_sistran_pp = pd.read_csv(\"data-raw/not_integrated_sistrangas_pipeline.csv\")\n",
    "\n",
    "df_oil_pipelines = pd.read_csv(\"data-raw/oil_pipelines.csv\")\n",
    "\n",
    "df_pipeline_transport_system = pd.read_csv(\"data-raw/pipeline_transport_system.csv\")\n",
    "\n",
    "df_project_five_years = pd.read_csv(\"data-raw/project_five_years.csv\")\n",
    "\n",
    "df_project_gas_pipeline = pd.read_csv(\"data-raw/project_gas_pipeline.csv\")\n",
    "\n",
    "df_SISTRANGAS_pipeline = pd.read_csv(\"data-raw/SISTRANGAS_pipeline.csv\")\n",
    "\n",
    "df_storage_terminal = pd.read_csv(\"data-raw/storage_terminal.csv\")\n",
    "\n",
    "\n",
    "\n",
    "\n"
   ]
  },
  {
   "cell_type": "code",
   "execution_count": 114,
   "id": "e0254a47-321e-4266-a551-ccea6986bcc2",
   "metadata": {},
   "outputs": [],
   "source": [
    "dict_inegi = {\"COUNT\": \"pp_inegi\",\"numero\":\"type_inegi\",\n",
    "                       \"rela_suel\":\"soil_inegi\"} \n",
    "\n",
    "df_INEGI_w = df_INEGI[[\"CVEGEO\", \"numero\", \"rela_suel\", \"COUNT\"]].rename(columns = dict_inegi)\n",
    "\n",
    "df_INEGI_w['CVEGEO'] = df_INEGI_w['CVEGEO'].astype(str).str.zfill(5)\n",
    "\n"
   ]
  },
  {
   "cell_type": "code",
   "execution_count": 115,
   "id": "3e66854e-efea-41fe-ad90-d30eef40793f",
   "metadata": {},
   "outputs": [],
   "source": [
    "dict_fy_pipeline = {\"COUNT\": \"pp_5ypp\",\"CAP_MMPCD\":\"cap_5ypp\",\n",
    "                       \"INV_MMUSD\":\"inv_5ypp\", \"LONGITUD_K\": \"long_5ypp\"} \n",
    "\n",
    "df_five_year_pipeline_w = df_five_year_pipeline[[\"CVEGEO\", \"CAP_MMPCD\", \"INV_MMUSD\", \"LONGITUD_K\", \"COUNT\"]].rename(columns = dict_fy_pipeline)\n",
    "\n",
    "df_five_year_pipeline_w['CVEGEO'] = df_five_year_pipeline_w['CVEGEO'].astype(str).str.zfill(5)\n",
    "\n"
   ]
  },
  {
   "cell_type": "code",
   "execution_count": 116,
   "id": "3e3a3b6d-f4be-4c10-82b2-3c3e5f154ef4",
   "metadata": {},
   "outputs": [],
   "source": [
    "df_installations\n",
    "\n",
    "dict_installations = {\"COUNT\": \"pp_instal\"} \n",
    "\n",
    "df_installations_w = df_installations[[\"CVEGEO\", \"COUNT\"]].rename(columns = dict_installations)\n",
    "\n",
    "df_installations_w['CVEGEO'] = df_installations_w['CVEGEO'].astype(str).str.zfill(5)\n",
    "\n"
   ]
  },
  {
   "cell_type": "code",
   "execution_count": 117,
   "id": "29103180-bd1f-47aa-aacb-da1f56298844",
   "metadata": {},
   "outputs": [],
   "source": [
    "df_integ_sistran_pp\n",
    "\n",
    "\n",
    "dict_integ_sistran_pp = {\"COUNT\": \"pp_integ_sistran_pp\",\n",
    "                        \"longitud_k\": \"long_integ_sistran_pp\",\n",
    "                        \"tipo\":\"type_integ_sistran_pp\"} \n",
    "\n",
    "df_integ_sistran_pp_w = df_integ_sistran_pp[[\"CVEGEO\", \"COUNT\", \"longitud_k\", \"tipo\"]].rename(columns = dict_integ_sistran_pp)\n",
    "\n",
    "df_integ_sistran_pp_w['CVEGEO'] = df_integ_sistran_pp_w['CVEGEO'].astype(str).str.zfill(5)\n",
    "\n"
   ]
  },
  {
   "cell_type": "code",
   "execution_count": 118,
   "id": "a519c1d8-9525-4ce0-838b-2f1de49f75e1",
   "metadata": {},
   "outputs": [],
   "source": [
    "df_mix_pipeline\n",
    "\n",
    "dict_df_mix_pipeline = {\"COUNT\": \"pp_mix_pp\",\n",
    "                        \"longitud_k\": \"long_mix_pp\",\n",
    "                        \"tipo_de_tu\":\"type_tube_mix_pp\",\n",
    "                       \"tipo_de_hi\":\"type_gas_mix_pp\"} \n",
    "\n",
    "df_mix_pipeline_w = df_mix_pipeline[[\"CVEGEO\", \"COUNT\", \"longitud_k\", \"tipo_de_tu\", \"tipo_de_hi\"]].rename(columns = dict_df_mix_pipeline)\n",
    "\n",
    "df_mix_pipeline_w['CVEGEO'] = df_mix_pipeline_w['CVEGEO'].astype(str).str.zfill(5)\n",
    "\n",
    "\n"
   ]
  },
  {
   "cell_type": "code",
   "execution_count": 119,
   "id": "5c77fa1f-82f8-4a74-9e41-48e5b91a6980",
   "metadata": {},
   "outputs": [],
   "source": [
    "df_not_integ_sistran_pp\n",
    "\n",
    "dict_not_integ_sistran_pp = {\"COUNT\": \"pp_n_int_sist\",\n",
    "                        \"longitud_k\": \"long_n_int_sist\",\n",
    "                        \"tipo\": \"type_n_int_sist\",\n",
    "                        \"capacidad_\":\"cap_n_int_sist\",\n",
    "                        \"inversin_m\":\"inv_n_int_sist\"} \n",
    "\n",
    "df_not_integ_sistran_pp_w = df_not_integ_sistran_pp[[\"CVEGEO\", \"COUNT\", \"longitud_k\", \"tipo\", \"capacidad_\", \"inversin_m\"]].rename(columns = dict_not_integ_sistran_pp)\n",
    "\n",
    "\n",
    "df_not_integ_sistran_pp_w['CVEGEO'] = df_not_integ_sistran_pp_w['CVEGEO'].astype(str).str.zfill(5)\n",
    "\n"
   ]
  },
  {
   "cell_type": "code",
   "execution_count": 120,
   "id": "5938ab55-eddf-4940-bedc-9700179e1f30",
   "metadata": {},
   "outputs": [],
   "source": [
    "df_oil_pipelines\n",
    "\n",
    "\n",
    "dict_oil_pipelines = {\"COUNT\": \"pp_oil\",\n",
    "                        \"longitud\": \"long_oil\",\n",
    "                        \"servicio\": \"type_oil\",\n",
    "                        \"capacidad_\":\"cap_oil\",\n",
    "                        \"capacida_1\":\"cap_oil_2\"} \n",
    "\n",
    "df_oil_pipelines_w = df_oil_pipelines[[\"CVEGEO\", \"COUNT\", \"longitud\", \"servicio\", \"capacidad_\", \"capacida_1\"]].rename(columns = dict_oil_pipelines)\n",
    "\n",
    "\n",
    "df_oil_pipelines_w['CVEGEO'] = df_oil_pipelines_w['CVEGEO'].astype(str).str.zfill(5)\n"
   ]
  },
  {
   "cell_type": "code",
   "execution_count": 121,
   "id": "1db72a80-4407-425c-90ae-23232772f7d1",
   "metadata": {},
   "outputs": [],
   "source": [
    "df_pipeline_transport_system\n",
    "\n",
    "\n",
    "dict_pipeline_transport_system = {\"COUNT\": \"pp_pp_tran_sys\",\"CAP_MMPCD\":\"cap_pp_tran_sys\",\n",
    "                       \"INV_MMUSD\":\"inv_pp_tran_sys\", \"LONGITUD_K\": \"long_pp_tran_sys\"} \n",
    "\n",
    "df_pipeline_transport_system_w = df_five_year_pipeline[[\"CVEGEO\", \"CAP_MMPCD\", \"INV_MMUSD\", \"LONGITUD_K\", \"COUNT\"]].rename(columns = dict_pipeline_transport_system)\n",
    "\n",
    "\n",
    "\n",
    "df_pipeline_transport_system_w['CVEGEO'] = df_pipeline_transport_system_w['CVEGEO'].astype(str).str.zfill(5)\n",
    "\n"
   ]
  },
  {
   "cell_type": "code",
   "execution_count": 122,
   "id": "34405ffa-4911-4cff-9ee6-09ed7a8ab3d5",
   "metadata": {},
   "outputs": [],
   "source": [
    "df_project_five_years\n",
    "\n",
    "dict_project_five_years = {\"COUNT\": \"pp_proj_5y\",\"CAP_MMPCD\":\"cap_proj_5y\"} \n",
    "\n",
    "df_project_five_years_w = df_project_five_years[[\"CVEGEO\", \"CAP_MMPCD\", \"COUNT\"]].rename(columns = dict_project_five_years)\n",
    "\n",
    "df_project_five_years_w['CVEGEO'] = df_project_five_years_w['CVEGEO'].astype(str).str.zfill(5)\n",
    "\n"
   ]
  },
  {
   "cell_type": "code",
   "execution_count": 123,
   "id": "1c24110f-e8d3-43ff-a71e-02e04d088248",
   "metadata": {},
   "outputs": [],
   "source": [
    "df_project_gas_pipeline\n",
    "\n",
    "dict_project_gas_pipeline = {\"COUNT\": \"pp_proj_gas_p\",\"INV_MMUSD\":\"inv_proj_gas_p\",\n",
    "                            \"LONGITUD_K\": \"long_proj_gas_p\"} \n",
    "\n",
    "df_project_gas_pipeline_w = df_project_gas_pipeline[[\"CVEGEO\", \"INV_MMUSD\", \"COUNT\", \"LONGITUD_K\"]].rename(columns = dict_project_gas_pipeline)\n",
    "\n",
    "\n",
    "df_project_gas_pipeline_w['CVEGEO'] = df_project_gas_pipeline_w['CVEGEO'].astype(str).str.zfill(5)\n",
    "\n"
   ]
  },
  {
   "cell_type": "code",
   "execution_count": 124,
   "id": "bd7f627c-c387-47b7-959a-4fa12b63a6f4",
   "metadata": {},
   "outputs": [],
   "source": [
    "df_SISTRANGAS_pipeline\n",
    "\n",
    "\n",
    "\n",
    "dict_SISTRANGAS_pipeline = {\"COUNT\": \"pp_SISTRANGAS_pipeline\",\"CAP_MMPCD\":\"cap_SISTRANGAS_pipeline\",\n",
    "                       \"INV_MMUSD\":\"inv_SISTRANGAS_pipeline\", \"LONGITUD_K\": \"long_SISTRANGAS_pipeline\"} \n",
    "\n",
    "df_SISTRANGAS_pipeline_w = df_SISTRANGAS_pipeline[[\"CVEGEO\", \"CAP_MMPCD\", \"INV_MMUSD\", \"LONGITUD_K\", \"COUNT\"]].rename(columns = dict_SISTRANGAS_pipeline)\n",
    "\n",
    "\n",
    "df_SISTRANGAS_pipeline_w['CVEGEO'] = df_SISTRANGAS_pipeline_w['CVEGEO'].astype(str).str.zfill(5)\n",
    "\n",
    "\n",
    "\n"
   ]
  },
  {
   "cell_type": "code",
   "execution_count": 125,
   "id": "166ec094-8bca-4670-8f12-322e3135fb4f",
   "metadata": {},
   "outputs": [],
   "source": [
    "df_storage_terminal\n",
    "\n",
    "\n",
    "dict_storage_terminal = {\"COUNT\": \"pp_st_term\",\n",
    "                        \"servicio\": \"type_st_term\",\n",
    "                        \"capacidad_\":\"cap_st_term\",\n",
    "                        \"capacida_1\":\"cap_st_term_1\"} \n",
    "\n",
    "df_storage_terminal_w = df_oil_pipelines[[\"CVEGEO\", \"COUNT\", \"servicio\", \"capacidad_\", \"capacida_1\"]].rename(columns = dict_storage_terminal)\n",
    "\n",
    "\n",
    "df_storage_terminal_w['CVEGEO'] = df_storage_terminal_w['CVEGEO'].astype(str).str.zfill(5)\n",
    "\n"
   ]
  },
  {
   "cell_type": "code",
   "execution_count": 126,
   "id": "2ce1f744-8d2d-4e82-97fd-cd2b761e163d",
   "metadata": {},
   "outputs": [],
   "source": [
    "\n",
    "\n",
    "\n",
    "dfs = [df_INEGI_w, \n",
    "df_five_year_pipeline_w, \n",
    "df_installations_w,\n",
    "df_integ_sistran_pp_w, \n",
    "df_mix_pipeline_w, \n",
    "df_not_integ_sistran_pp_w,\n",
    "df_oil_pipelines_w,\n",
    "df_pipeline_transport_system_w, \n",
    "df_project_five_years_w,\n",
    "df_project_gas_pipeline_w, \n",
    "df_SISTRANGAS_pipeline_w, \n",
    "df_storage_terminal_w]\n",
    "\n"
   ]
  },
  {
   "cell_type": "code",
   "execution_count": 73,
   "id": "ba905ee1-ba08-4716-b799-46fbd03d40cb",
   "metadata": {},
   "outputs": [],
   "source": [
    "df_pipelines_mx = pd.concat(dfs, join='outer')"
   ]
  },
  {
   "cell_type": "code",
   "execution_count": null,
   "id": "75fafc61-0dfb-4ac0-9618-d2419aaddacf",
   "metadata": {},
   "outputs": [],
   "source": [
    "dfs = [df.set_index('id') for df in dfList]\n",
    "print pd.concat(dfs, axis=1)"
   ]
  },
  {
   "cell_type": "code",
   "execution_count": 127,
   "id": "742c4594-4616-4f12-a861-3d629fbb219f",
   "metadata": {},
   "outputs": [],
   "source": [
    "from functools import reduce\n",
    "df_pipelines_mx = reduce(lambda df1,df2: pd.merge(df1,df2,on='CVEGEO'), dfs)"
   ]
  },
  {
   "cell_type": "code",
   "execution_count": 128,
   "id": "0252be9d-31cb-4ec8-97ad-7fc32ffea5ae",
   "metadata": {},
   "outputs": [],
   "source": [
    "conditions = [\n",
    "    \n",
    "    (df_pipelines_mx['pp_inegi'] >= 1),\n",
    "\n",
    "    (df_pipelines_mx['pp_5ypp'] >= 1),\n",
    "\n",
    "    (df_pipelines_mx['pp_integ_sistran_pp'] >= 1),\n",
    "\n",
    "    (df_pipelines_mx['pp_instal'] >= 1),\n",
    "\n",
    "    (df_pipelines_mx['pp_mix_pp'] >= 1),\n",
    "    \n",
    "    (df_pipelines_mx['pp_n_int_sist'] >= 1),\n",
    "\n",
    "    (df_pipelines_mx['pp_oil'] >= 1),\n",
    "    \n",
    "    (df_pipelines_mx['pp_pp_tran_sys'] >= 1),\n",
    "\n",
    "    (df_pipelines_mx['pp_proj_5y'] >= 1),\n",
    "\n",
    "    (df_pipelines_mx['pp_proj_gas_p'] >= 1),\n",
    "    \n",
    "    (df_pipelines_mx['pp_SISTRANGAS_pipeline'] >= 1),\n",
    "\n",
    "    (df_pipelines_mx['pp_st_term'] >= 1),\n",
    "\n",
    "]\n",
    "\n",
    "letters = [1] * 12\n",
    "\n",
    " \n",
    "\n",
    "df_pipelines_mx['pipeline'] = np.select(conditions, letters)"
   ]
  },
  {
   "cell_type": "code",
   "execution_count": 129,
   "id": "b044ad7a-c919-42a0-a8d5-7ebba474e6d3",
   "metadata": {},
   "outputs": [
    {
     "data": {
      "text/plain": [
       "786"
      ]
     },
     "execution_count": 129,
     "metadata": {},
     "output_type": "execute_result"
    }
   ],
   "source": [
    "sum(df_pipelines_mx['pipeline'])"
   ]
  },
  {
   "cell_type": "code",
   "execution_count": 130,
   "id": "a49b75db-aee0-4430-9a53-580f080759c9",
   "metadata": {},
   "outputs": [],
   "source": [
    "column_list = list(df_pipelines_mx)\n",
    "\n",
    "\n",
    "\n",
    "\n",
    "def keep(item):\n",
    "    # Implement whatever criterion you need here\n",
    "     return item in ('pp_inegi',\n",
    "'pp_5ypp',\n",
    "'pp_integ_sistran_pp', \n",
    "'pp_instal',\n",
    "'pp_mix_pp',\n",
    "'pp_n_int_sist',\n",
    "'pp_oil',\n",
    "'pp_pp_tran_sys',\n",
    "'pp_proj_5y',\n",
    "'pp_proj_gas_p',\n",
    "\"pp_SISTRANGAS_pipeline\",\n",
    "'pp_st_term')\n",
    "\n",
    "filter(keep, column_list)\n",
    "\n",
    "newlist = list(filter(keep, column_list))"
   ]
  },
  {
   "cell_type": "code",
   "execution_count": 131,
   "id": "b08edf91-b591-4e13-859a-6ef665b2d1c0",
   "metadata": {},
   "outputs": [],
   "source": [
    "df_pipelines_mx[\"sum_intersects\"] = df_pipelines_mx[newlist].sum(axis=1)\n"
   ]
  },
  {
   "cell_type": "code",
   "execution_count": 132,
   "id": "751d5895-0471-484f-a939-038815989034",
   "metadata": {},
   "outputs": [],
   "source": [
    "df_pipelines_mx.to_parquet('df_pipelines_mx.parquet')\n",
    "#table_mx = pa.Table.from_pandas(df_pipelines_mx)\n",
    "#pd.write_table(table_mx, 'df_pipelines_mx.parquet')\n",
    "#dataset_parquet = pd.read_parquet('dataset.parquet')"
   ]
  },
  {
   "cell_type": "code",
   "execution_count": 133,
   "id": "c1b628ed-a89f-492f-af9a-43ee293df0ff",
   "metadata": {},
   "outputs": [],
   "source": [
    "df_pipelines_mx.to_excel('data/df_pipelines_mx.xlsx', index = False)"
   ]
  },
  {
   "cell_type": "code",
   "execution_count": 135,
   "id": "ee3b0137-5496-4002-95a6-1454324dbbd2",
   "metadata": {},
   "outputs": [],
   "source": [
    "\n",
    "\n",
    "df_PMX_08_15 = pd.read_excel(\"data-raw/PMXyearxy.xlsx\")\n",
    "\n"
   ]
  }
 ],
 "metadata": {
  "kernelspec": {
   "display_name": "Python 3 (ipykernel)",
   "language": "python",
   "name": "python3"
  },
  "language_info": {
   "codemirror_mode": {
    "name": "ipython",
    "version": 3
   },
   "file_extension": ".py",
   "mimetype": "text/x-python",
   "name": "python",
   "nbconvert_exporter": "python",
   "pygments_lexer": "ipython3",
   "version": "3.9.12"
  }
 },
 "nbformat": 4,
 "nbformat_minor": 5
}
