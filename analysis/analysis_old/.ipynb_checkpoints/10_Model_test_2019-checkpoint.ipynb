{
  "cells": [
    {
      "cell_type": "code",
      "execution_count": null,
      "metadata": {
        "id": "twgu6Z3no7ks"
      },
      "outputs": [],
      "source": [
        "# We will use the following packages\n",
        "\n",
        "import pandas as pd\n",
        "import seaborn as sns\n",
        "import matplotlib.pyplot as plt\n",
        "from sklearn.model_selection import train_test_split\n",
        "from sklearn.preprocessing import StandardScaler\n",
        "from sklearn.neighbors import KNeighborsRegressor\n",
        "from sklearn.linear_model import LogisticRegression\n",
        "from sklearn.metrics import ConfusionMatrixDisplay\n",
        "from sklearn.pipeline import Pipeline\n",
        "from sklearn.metrics import precision_score, recall_score, accuracy_score, mean_absolute_error, f1_score\n"
      ]
    },
    {
      "cell_type": "code",
      "execution_count": null,
      "metadata": {
        "colab": {
          "base_uri": "https://localhost:8080/"
        },
        "id": "hXTlZXLypExN",
        "outputId": "91c254dd-4e20-4d86-e58e-ddd2a9f8dc26"
      },
      "outputs": [
        {
          "name": "stdout",
          "output_type": "stream",
          "text": [
            "Mounted at /content/drive\n"
          ]
        }
      ],
      "source": [
        "from google.colab import drive\n",
        "drive.mount('/content/drive')"
      ]
    },
    {
      "cell_type": "code",
      "execution_count": null,
      "metadata": {
        "colab": {
          "base_uri": "https://localhost:8080/"
        },
        "id": "N8PHzPu0pE3S",
        "outputId": "b42c21e3-38fa-481f-da65-dce7760a902b"
      },
      "outputs": [
        {
          "name": "stdout",
          "output_type": "stream",
          "text": [
            "/content/drive/MyDrive/Data_Projects/ML-Project/pmx_gasoline_theft_prediction\n"
          ]
        }
      ],
      "source": [
        "%cd '/content/drive/MyDrive/Data_Projects/ML-Project/pmx_gasoline_theft_prediction'"
      ]
    },
    {
      "cell_type": "code",
      "execution_count": null,
      "metadata": {
        "id": "E1nRzc64pE6b"
      },
      "outputs": [],
      "source": [
        "# Importing our data\n",
        "\n",
        "df_thefts_PMX = pd.read_excel(\"data/df_thefts_PMX_final_2019.xlsx\", converters={'CVEGEO' : str})\n",
        "\n"
      ]
    },
    {
      "cell_type": "code",
      "execution_count": null,
      "metadata": {
        "colab": {
          "base_uri": "https://localhost:8080/"
        },
        "id": "akUn3sa4hRSf",
        "outputId": "7bd2917f-c1d5-4fe7-96c2-45e79d1a57ec"
      },
      "outputs": [
        {
          "data": {
            "text/plain": [
              "Index(['Pipe_intersec', 'Gas_stations', 'Gas_price', 'Confront_events', 'IRS',\n",
              "       'Homic_rate', 'SBASC', 'POB_6_16_NEB', 'POB_16_EBI', 'NO_SS', 'OVPT',\n",
              "       'NO_SANIT', 'OVSAE', 'NO_DREN', 'NO_ELECT', 'NO_LAVA', 'No_REFRI',\n",
              "       'prop_rural', 'pob_highway', 'porc_highway', 'CARR-KM', 'LINCARR',\n",
              "       'RED-KM', 'LINRED', 'AREAKM', 'DENSCARR', 'DENSRED', 'vehic_rate'],\n",
              "      dtype='object')"
            ]
          },
          "execution_count": 65,
          "metadata": {},
          "output_type": "execute_result"
        }
      ],
      "source": [
        "social_variables = df_thefts_PMX.columns.drop(['Mun_code', 'Susceptible'])\n",
        "social_variables"
      ]
    },
    {
      "cell_type": "code",
      "execution_count": null,
      "metadata": {
        "colab": {
          "base_uri": "https://localhost:8080/",
          "height": 299
        },
        "id": "C_6l34j-pE9K",
        "outputId": "ec6cef67-824c-4dfb-bb01-c7df5ccdfc48"
      },
      "outputs": [
        {
          "data": {
            "text/html": [
              "\n",
              "  <div id=\"df-7a0a2b39-2a71-4cc7-8033-f0fdd65a5405\">\n",
              "    <div class=\"colab-df-container\">\n",
              "      <div>\n",
              "<style scoped>\n",
              "    .dataframe tbody tr th:only-of-type {\n",
              "        vertical-align: middle;\n",
              "    }\n",
              "\n",
              "    .dataframe tbody tr th {\n",
              "        vertical-align: top;\n",
              "    }\n",
              "\n",
              "    .dataframe thead th {\n",
              "        text-align: right;\n",
              "    }\n",
              "</style>\n",
              "<table border=\"1\" class=\"dataframe\">\n",
              "  <thead>\n",
              "    <tr style=\"text-align: right;\">\n",
              "      <th></th>\n",
              "      <th>Mun_code</th>\n",
              "      <th>Pipe_intersec</th>\n",
              "      <th>Gas_stations</th>\n",
              "      <th>Gas_price</th>\n",
              "      <th>Confront_events</th>\n",
              "      <th>IRS</th>\n",
              "      <th>Homic_rate</th>\n",
              "      <th>SBASC</th>\n",
              "      <th>POB_6_16_NEB</th>\n",
              "      <th>POB_16_EBI</th>\n",
              "      <th>...</th>\n",
              "      <th>porc_highway</th>\n",
              "      <th>CARR-KM</th>\n",
              "      <th>LINCARR</th>\n",
              "      <th>RED-KM</th>\n",
              "      <th>LINRED</th>\n",
              "      <th>AREAKM</th>\n",
              "      <th>DENSCARR</th>\n",
              "      <th>DENSRED</th>\n",
              "      <th>vehic_rate</th>\n",
              "      <th>Susceptible</th>\n",
              "    </tr>\n",
              "  </thead>\n",
              "  <tbody>\n",
              "    <tr>\n",
              "      <th>0</th>\n",
              "      <td>1001</td>\n",
              "      <td>22</td>\n",
              "      <td>1.27</td>\n",
              "      <td>20.10</td>\n",
              "      <td>0</td>\n",
              "      <td>-1.3253</td>\n",
              "      <td>7.28</td>\n",
              "      <td>1.717845</td>\n",
              "      <td>4.350788</td>\n",
              "      <td>21.238994</td>\n",
              "      <td>...</td>\n",
              "      <td>0.1</td>\n",
              "      <td>438.190142</td>\n",
              "      <td>1053</td>\n",
              "      <td>765.173487</td>\n",
              "      <td>5500</td>\n",
              "      <td>1178.10</td>\n",
              "      <td>0.371946</td>\n",
              "      <td>0.649498</td>\n",
              "      <td>50770.251826</td>\n",
              "      <td>1</td>\n",
              "    </tr>\n",
              "    <tr>\n",
              "      <th>1</th>\n",
              "      <td>1002</td>\n",
              "      <td>3</td>\n",
              "      <td>19.63</td>\n",
              "      <td>20.27</td>\n",
              "      <td>0</td>\n",
              "      <td>-0.8626</td>\n",
              "      <td>1.98</td>\n",
              "      <td>3.686958</td>\n",
              "      <td>5.272858</td>\n",
              "      <td>35.340566</td>\n",
              "      <td>...</td>\n",
              "      <td>0.3</td>\n",
              "      <td>173.662987</td>\n",
              "      <td>284</td>\n",
              "      <td>158.986649</td>\n",
              "      <td>615</td>\n",
              "      <td>549.01</td>\n",
              "      <td>0.316320</td>\n",
              "      <td>0.289588</td>\n",
              "      <td>28409.833792</td>\n",
              "      <td>0</td>\n",
              "    </tr>\n",
              "    <tr>\n",
              "      <th>2</th>\n",
              "      <td>1004</td>\n",
              "      <td>5</td>\n",
              "      <td>71.66</td>\n",
              "      <td>20.18</td>\n",
              "      <td>0</td>\n",
              "      <td>-1.0155</td>\n",
              "      <td>0.00</td>\n",
              "      <td>3.347006</td>\n",
              "      <td>4.880129</td>\n",
              "      <td>28.611105</td>\n",
              "      <td>...</td>\n",
              "      <td>0.0</td>\n",
              "      <td>69.959236</td>\n",
              "      <td>108</td>\n",
              "      <td>28.910152</td>\n",
              "      <td>255</td>\n",
              "      <td>129.74</td>\n",
              "      <td>0.539226</td>\n",
              "      <td>0.222831</td>\n",
              "      <td>30200.538761</td>\n",
              "      <td>0</td>\n",
              "    </tr>\n",
              "    <tr>\n",
              "      <th>3</th>\n",
              "      <td>1005</td>\n",
              "      <td>5</td>\n",
              "      <td>17.71</td>\n",
              "      <td>20.18</td>\n",
              "      <td>0</td>\n",
              "      <td>-1.1764</td>\n",
              "      <td>7.81</td>\n",
              "      <td>2.529936</td>\n",
              "      <td>5.476989</td>\n",
              "      <td>27.897466</td>\n",
              "      <td>...</td>\n",
              "      <td>0.0</td>\n",
              "      <td>151.549502</td>\n",
              "      <td>438</td>\n",
              "      <td>177.436744</td>\n",
              "      <td>1292</td>\n",
              "      <td>504.99</td>\n",
              "      <td>0.300104</td>\n",
              "      <td>0.351367</td>\n",
              "      <td>41965.053217</td>\n",
              "      <td>0</td>\n",
              "    </tr>\n",
              "    <tr>\n",
              "      <th>4</th>\n",
              "      <td>1006</td>\n",
              "      <td>8</td>\n",
              "      <td>31.15</td>\n",
              "      <td>20.17</td>\n",
              "      <td>0</td>\n",
              "      <td>-1.1744</td>\n",
              "      <td>2.11</td>\n",
              "      <td>2.847325</td>\n",
              "      <td>3.994529</td>\n",
              "      <td>26.602435</td>\n",
              "      <td>...</td>\n",
              "      <td>0.2</td>\n",
              "      <td>85.510623</td>\n",
              "      <td>239</td>\n",
              "      <td>92.675448</td>\n",
              "      <td>682</td>\n",
              "      <td>197.76</td>\n",
              "      <td>0.432396</td>\n",
              "      <td>0.468626</td>\n",
              "      <td>34331.034192</td>\n",
              "      <td>0</td>\n",
              "    </tr>\n",
              "  </tbody>\n",
              "</table>\n",
              "<p>5 rows × 30 columns</p>\n",
              "</div>\n",
              "      <button class=\"colab-df-convert\" onclick=\"convertToInteractive('df-7a0a2b39-2a71-4cc7-8033-f0fdd65a5405')\"\n",
              "              title=\"Convert this dataframe to an interactive table.\"\n",
              "              style=\"display:none;\">\n",
              "        \n",
              "  <svg xmlns=\"http://www.w3.org/2000/svg\" height=\"24px\"viewBox=\"0 0 24 24\"\n",
              "       width=\"24px\">\n",
              "    <path d=\"M0 0h24v24H0V0z\" fill=\"none\"/>\n",
              "    <path d=\"M18.56 5.44l.94 2.06.94-2.06 2.06-.94-2.06-.94-.94-2.06-.94 2.06-2.06.94zm-11 1L8.5 8.5l.94-2.06 2.06-.94-2.06-.94L8.5 2.5l-.94 2.06-2.06.94zm10 10l.94 2.06.94-2.06 2.06-.94-2.06-.94-.94-2.06-.94 2.06-2.06.94z\"/><path d=\"M17.41 7.96l-1.37-1.37c-.4-.4-.92-.59-1.43-.59-.52 0-1.04.2-1.43.59L10.3 9.45l-7.72 7.72c-.78.78-.78 2.05 0 2.83L4 21.41c.39.39.9.59 1.41.59.51 0 1.02-.2 1.41-.59l7.78-7.78 2.81-2.81c.8-.78.8-2.07 0-2.86zM5.41 20L4 18.59l7.72-7.72 1.47 1.35L5.41 20z\"/>\n",
              "  </svg>\n",
              "      </button>\n",
              "      \n",
              "  <style>\n",
              "    .colab-df-container {\n",
              "      display:flex;\n",
              "      flex-wrap:wrap;\n",
              "      gap: 12px;\n",
              "    }\n",
              "\n",
              "    .colab-df-convert {\n",
              "      background-color: #E8F0FE;\n",
              "      border: none;\n",
              "      border-radius: 50%;\n",
              "      cursor: pointer;\n",
              "      display: none;\n",
              "      fill: #1967D2;\n",
              "      height: 32px;\n",
              "      padding: 0 0 0 0;\n",
              "      width: 32px;\n",
              "    }\n",
              "\n",
              "    .colab-df-convert:hover {\n",
              "      background-color: #E2EBFA;\n",
              "      box-shadow: 0px 1px 2px rgba(60, 64, 67, 0.3), 0px 1px 3px 1px rgba(60, 64, 67, 0.15);\n",
              "      fill: #174EA6;\n",
              "    }\n",
              "\n",
              "    [theme=dark] .colab-df-convert {\n",
              "      background-color: #3B4455;\n",
              "      fill: #D2E3FC;\n",
              "    }\n",
              "\n",
              "    [theme=dark] .colab-df-convert:hover {\n",
              "      background-color: #434B5C;\n",
              "      box-shadow: 0px 1px 3px 1px rgba(0, 0, 0, 0.15);\n",
              "      filter: drop-shadow(0px 1px 2px rgba(0, 0, 0, 0.3));\n",
              "      fill: #FFFFFF;\n",
              "    }\n",
              "  </style>\n",
              "\n",
              "      <script>\n",
              "        const buttonEl =\n",
              "          document.querySelector('#df-7a0a2b39-2a71-4cc7-8033-f0fdd65a5405 button.colab-df-convert');\n",
              "        buttonEl.style.display =\n",
              "          google.colab.kernel.accessAllowed ? 'block' : 'none';\n",
              "\n",
              "        async function convertToInteractive(key) {\n",
              "          const element = document.querySelector('#df-7a0a2b39-2a71-4cc7-8033-f0fdd65a5405');\n",
              "          const dataTable =\n",
              "            await google.colab.kernel.invokeFunction('convertToInteractive',\n",
              "                                                     [key], {});\n",
              "          if (!dataTable) return;\n",
              "\n",
              "          const docLinkHtml = 'Like what you see? Visit the ' +\n",
              "            '<a target=\"_blank\" href=https://colab.research.google.com/notebooks/data_table.ipynb>data table notebook</a>'\n",
              "            + ' to learn more about interactive tables.';\n",
              "          element.innerHTML = '';\n",
              "          dataTable['output_type'] = 'display_data';\n",
              "          await google.colab.output.renderOutput(dataTable, element);\n",
              "          const docLink = document.createElement('div');\n",
              "          docLink.innerHTML = docLinkHtml;\n",
              "          element.appendChild(docLink);\n",
              "        }\n",
              "      </script>\n",
              "    </div>\n",
              "  </div>\n",
              "  "
            ],
            "text/plain": [
              "   Mun_code  Pipe_intersec  Gas_stations  Gas_price  Confront_events     IRS  \\\n",
              "0      1001             22          1.27      20.10                0 -1.3253   \n",
              "1      1002              3         19.63      20.27                0 -0.8626   \n",
              "2      1004              5         71.66      20.18                0 -1.0155   \n",
              "3      1005              5         17.71      20.18                0 -1.1764   \n",
              "4      1006              8         31.15      20.17                0 -1.1744   \n",
              "\n",
              "   Homic_rate     SBASC  POB_6_16_NEB  POB_16_EBI  ...  porc_highway  \\\n",
              "0        7.28  1.717845      4.350788   21.238994  ...           0.1   \n",
              "1        1.98  3.686958      5.272858   35.340566  ...           0.3   \n",
              "2        0.00  3.347006      4.880129   28.611105  ...           0.0   \n",
              "3        7.81  2.529936      5.476989   27.897466  ...           0.0   \n",
              "4        2.11  2.847325      3.994529   26.602435  ...           0.2   \n",
              "\n",
              "      CARR-KM  LINCARR      RED-KM  LINRED   AREAKM  DENSCARR   DENSRED  \\\n",
              "0  438.190142     1053  765.173487    5500  1178.10  0.371946  0.649498   \n",
              "1  173.662987      284  158.986649     615   549.01  0.316320  0.289588   \n",
              "2   69.959236      108   28.910152     255   129.74  0.539226  0.222831   \n",
              "3  151.549502      438  177.436744    1292   504.99  0.300104  0.351367   \n",
              "4   85.510623      239   92.675448     682   197.76  0.432396  0.468626   \n",
              "\n",
              "     vehic_rate  Susceptible  \n",
              "0  50770.251826            1  \n",
              "1  28409.833792            0  \n",
              "2  30200.538761            0  \n",
              "3  41965.053217            0  \n",
              "4  34331.034192            0  \n",
              "\n",
              "[5 rows x 30 columns]"
            ]
          },
          "execution_count": 66,
          "metadata": {},
          "output_type": "execute_result"
        }
      ],
      "source": [
        "#Fill 0s in Gas_prices NaN values\n",
        "\n",
        "for key in social_variables:\n",
        "  df_thefts_PMX[key] = df_thefts_PMX[key].fillna(0)\n",
        "\n",
        "df_thefts_PMX.head()"
      ]
    },
    {
      "cell_type": "code",
      "execution_count": null,
      "metadata": {
        "colab": {
          "base_uri": "https://localhost:8080/",
          "height": 280
        },
        "id": "evJWxEAnpE_6",
        "outputId": "b0c1ebec-46ee-4cf5-9508-195168e80a42"
      },
      "outputs": [
        {
          "data": {
            "image/png": "[encoded data removed]",
            "text/plain": [
              "<Figure size 432x288 with 1 Axes>"
            ]
          },
          "metadata": {},
          "output_type": "display_data"
        }
      ],
      "source": [
        "# scatter plot using \n",
        "\n",
        "sns.scatterplot(x = \"Homic_rate\", \n",
        "                y = \"Pipe_intersec\", \n",
        "                hue = \"Susceptible\", data = df_thefts_PMX);"
      ]
    },
    {
      "cell_type": "code",
      "execution_count": null,
      "metadata": {
        "colab": {
          "base_uri": "https://localhost:8080/"
        },
        "id": "ZPmRX6Wippbr",
        "outputId": "cfddaa74-1f1b-45e3-b760-9f19b1b04477"
      },
      "outputs": [
        {
          "data": {
            "text/plain": [
              "Index(['Pipe_intersec', 'Gas_stations', 'Gas_price', 'IRS', 'Homic_rate',\n",
              "       'SBASC', 'POB_6_16_NEB', 'POB_16_EBI', 'NO_SS', 'OVPT', 'NO_SANIT',\n",
              "       'OVSAE', 'NO_DREN', 'NO_ELECT', 'NO_LAVA', 'No_REFRI', 'prop_rural',\n",
              "       'pob_highway', 'porc_highway', 'CARR-KM', 'LINCARR', 'RED-KM', 'LINRED',\n",
              "       'AREAKM', 'DENSCARR', 'DENSRED', 'vehic_rate'],\n",
              "      dtype='object')"
            ]
          },
          "execution_count": 67,
          "metadata": {},
          "output_type": "execute_result"
        }
      ],
      "source": [
        "# We will now set data and target \n",
        "X = df_thefts_PMX.drop(columns=[\"Susceptible\", 'Mun_code', 'Confront_events'])\n",
        "y = df_thefts_PMX[\"Susceptible\"]\n",
        "X.columns"
      ]
    },
    {
      "cell_type": "code",
      "execution_count": null,
      "metadata": {
        "colab": {
          "base_uri": "https://localhost:8080/"
        },
        "id": "8JE2a3n_1LEU",
        "outputId": "e9cfd4b8-0490-43bf-af9f-fffd423aea80"
      },
      "outputs": [
        {
          "data": {
            "text/plain": [
              "0      1\n",
              "1      0\n",
              "2      0\n",
              "3      0\n",
              "4      0\n",
              "      ..\n",
              "834    0\n",
              "835    0\n",
              "836    0\n",
              "837    0\n",
              "838    0\n",
              "Name: Susceptible, Length: 839, dtype: int64"
            ]
          },
          "execution_count": 21,
          "metadata": {},
          "output_type": "execute_result"
        }
      ],
      "source": [
        "y"
      ]
    },
    {
      "cell_type": "code",
      "execution_count": null,
      "metadata": {
        "colab": {
          "base_uri": "https://localhost:8080/",
          "height": 265
        },
        "id": "NMwxXhD6ppek",
        "outputId": "a12c7d66-1452-4a51-a9af-cf0184d3d6c6"
      },
      "outputs": [
        {
          "data": {
            "image/png": "[encoded data removed]",
            "text/plain": [
              "<Figure size 432x288 with 1 Axes>"
            ]
          },
          "metadata": {},
          "output_type": "display_data"
        }
      ],
      "source": [
        "# Preprocessing the data\n",
        "\n",
        "X_new = StandardScaler().fit_transform(X)\n",
        "plt.scatter(X_new[:, 6], X_new[:, 1], c=y);"
      ]
    },
    {
      "cell_type": "code",
      "execution_count": null,
      "metadata": {
        "colab": {
          "base_uri": "https://localhost:8080/",
          "height": 265
        },
        "id": "144PFjHcpphb",
        "outputId": "b95c402e-c702-4b7f-a719-55aa07bdd7a3"
      },
      "outputs": [
        {
          "data": {
            "image/png": "[encoded data removed]",
            "text/plain": [
              "<Figure size 432x288 with 1 Axes>"
            ]
          },
          "metadata": {},
          "output_type": "display_data"
        }
      ],
      "source": [
        "# QuantileTransformer\n",
        "\n",
        "from sklearn.preprocessing import QuantileTransformer\n",
        "\n",
        "X_new2 = QuantileTransformer(n_quantiles = 500).fit_transform(X)\n",
        "plt.scatter(X_new2[:, 0], X_new2[:, 1], c=y);"
      ]
    },
    {
      "cell_type": "code",
      "execution_count": null,
      "metadata": {
        "id": "AHOFL8UXppkK"
      },
      "outputs": [],
      "source": [
        "#Checking the variables distribution - histogram\n",
        "\n",
        "# Plot one histogram per variable\n",
        "\n",
        "#for variable_name in df_thefts_PMX[['Pipe_intersec', 'Gas_stations', 'Gas_price',\n",
        "#                                    'Confront_events', 'IRS', 'Homic_rate', 'SBASC', 'POB_6_16_NEB',\n",
        "#                                    'POB_16_EBI', 'NO_SS', 'OVPT', 'NO_SANIT', 'OVSAE', 'NO_DREN',\n",
        "#                                    'NO_ELECT', 'NO_LAVA', 'No_REFRI']]:\n",
        "#                                   plt.figure()\n",
        "#                                   # plot the histogram for each specie\n",
        "#                                   df_thefts_PMX.groupby(\"Susceptible\")[variable_name].plot.hist(alpha=0.5, legend=True)\n",
        "#                                   plt.xlabel(variable_name)"
      ]
    },
    {
      "cell_type": "code",
      "execution_count": null,
      "metadata": {
        "colab": {
          "base_uri": "https://localhost:8080/",
          "height": 310
        },
        "id": "QDgoXUV-pFE0",
        "outputId": "89e84d56-4ccf-4e75-8ce8-feef195267c9"
      },
      "outputs": [
        {
          "data": {
            "image/png": "[encoded data removed]",
            "text/plain": [
              "<Figure size 432x288 with 1 Axes>"
            ]
          },
          "metadata": {},
          "output_type": "display_data"
        }
      ],
      "source": [
        "# Checking class balancing\n",
        "\n",
        "import matplotlib.pyplot as plt\n",
        "\n",
        "y.value_counts().plot.barh()\n",
        "plt.xlabel(\"Number of samples\")\n",
        "_ = plt.title(\"Number of samples per classes present\\n in the target\")"
      ]
    },
    {
      "cell_type": "code",
      "execution_count": null,
      "metadata": {
        "id": "Fl0v1Wnlp_Kq"
      },
      "outputs": [],
      "source": [
        "# Set up training and testing data\n",
        "\n",
        "X_train, X_test, y_train, y_test = train_test_split(\n",
        "    X, y, shuffle=True, random_state=123, stratify=y, test_size=0.2)"
      ]
    },
    {
      "cell_type": "code",
      "execution_count": null,
      "metadata": {
        "id": "KNyYr0XKp_Ny"
      },
      "outputs": [],
      "source": [
        "# 1. Logistic Regression Model\n",
        "# 1.1 Preprocessing the data - Logistic Regression Model\n",
        "\n",
        "pipe = Pipeline([('scaler', StandardScaler()), \n",
        "                 ('model', LogisticRegression())\n",
        "                 ])\n",
        "\n",
        "#pipe.fit(X_train, y_train)\n",
        "classifier = pipe.fit(X_train, y_train)\n",
        "\n",
        "\n",
        "\n"
      ]
    },
    {
      "cell_type": "code",
      "execution_count": null,
      "metadata": {
        "id": "AewJBKO9p_RG"
      },
      "outputs": [],
      "source": [
        "# 1.2 Here we predict using our unseen data (X_test)\n",
        "\n",
        "target_predicted = pipe.predict(X_test)\n"
      ]
    },
    {
      "cell_type": "code",
      "execution_count": null,
      "metadata": {
        "colab": {
          "base_uri": "https://localhost:8080/"
        },
        "id": "Z88mTmnCqJ8l",
        "outputId": "f9fcc7f6-c810-4175-b529-0ffa429cd045"
      },
      "outputs": [
        {
          "name": "stdout",
          "output_type": "stream",
          "text": [
            "Accuracy: 0.7321\n"
          ]
        }
      ],
      "source": [
        "# 1.3 Checking the accuracy\n",
        "\n",
        "accuracy = accuracy_score(y_test, target_predicted)\n",
        "print(f\"Accuracy: {accuracy:.4f}\")"
      ]
    },
    {
      "cell_type": "code",
      "execution_count": null,
      "metadata": {
        "colab": {
          "base_uri": "https://localhost:8080/",
          "height": 279
        },
        "id": "VKjIOdFJqKCa",
        "outputId": "a21e185f-6c77-4fa0-c483-26b44da2e35e"
      },
      "outputs": [
        {
          "data": {
            "image/png": "[encoded data removed]",
            "text/plain": [
              "<Figure size 432x288 with 2 Axes>"
            ]
          },
          "metadata": {},
          "output_type": "display_data"
        }
      ],
      "source": [
        "# 1.4 Checking the Confusion Matrix\n",
        "\n",
        "_ = ConfusionMatrixDisplay.from_estimator(classifier, X_test, y_test) "
      ]
    },
    {
      "cell_type": "code",
      "execution_count": null,
      "metadata": {
        "colab": {
          "base_uri": "https://localhost:8080/"
        },
        "id": "xJVHpzNBqKFT",
        "outputId": "54d9ffaa-5065-4310-f977-3eb910701a50"
      },
      "outputs": [
        {
          "name": "stdout",
          "output_type": "stream",
          "text": [
            "Precision score: 0.5556\n",
            "Recall score: 0.2128\n",
            "F1 score: 0.3077\n"
          ]
        }
      ],
      "source": [
        "# 1.5 Some other metrics scores\n",
        "\n",
        "precision = precision_score(y_test, target_predicted)\n",
        "recall = recall_score(y_test, target_predicted)\n",
        "# f1 score: 2 tp / (2 tp + fp + fn)\n",
        "f1 = f1_score(y_test, target_predicted)\n",
        "\n",
        "\n",
        "print(f\"Precision score: {precision:.4f}\")\n",
        "print(f\"Recall score: {recall:.4f}\")\n",
        "print(f\"F1 score: {f1:.4f}\")"
      ]
    },
    {
      "cell_type": "code",
      "execution_count": null,
      "metadata": {
        "colab": {
          "base_uri": "https://localhost:8080/"
        },
        "id": "s4Ok9MwEZYIJ",
        "outputId": "64b5efd4-b898-4d82-85d1-b39b66f9a757"
      },
      "outputs": [
        {
          "data": {
            "text/plain": [
              "DecisionTreeClassifier()"
            ]
          },
          "execution_count": 75,
          "metadata": {},
          "output_type": "execute_result"
        }
      ],
      "source": [
        "# 2. Decision Tree model\n",
        "# 2.1 Preprocessing the data - Decision Tree Model\n",
        "\n",
        "from sklearn.tree import DecisionTreeClassifier\n",
        "\n",
        "classifier = DecisionTreeClassifier()\n",
        "classifier.fit(X_train, y_train)\n",
        "\n",
        "\n"
      ]
    },
    {
      "cell_type": "code",
      "execution_count": null,
      "metadata": {
        "id": "_-4xlAxUZbWc"
      },
      "outputs": [],
      "source": [
        "# 2.2 Here we predict using our unseen data (X_test)\n",
        "\n",
        "\n",
        "target_predicted = classifier.predict(X_test)\n"
      ]
    },
    {
      "cell_type": "code",
      "execution_count": null,
      "metadata": {
        "colab": {
          "base_uri": "https://localhost:8080/",
          "height": 357
        },
        "id": "ODZrADwJrQ3j",
        "outputId": "7351b859-9c2d-43cd-f0a0-28376529d938"
      },
      "outputs": [
        {
          "data": {
            "image/png": "[encoded data removed]",
            "text/plain": [
              "<Figure size 576x432 with 1 Axes>"
            ]
          },
          "metadata": {},
          "output_type": "display_data"
        }
      ],
      "source": [
        "#Plotting the decision tree\n",
        "\n",
        "import matplotlib.pyplot as plt\n",
        "import seaborn as sns\n",
        "from sklearn.tree import plot_tree\n",
        "\n",
        "_, ax = plt.subplots(figsize=(8, 6))\n",
        "_ = plot_tree(classifier, feature_names=X.columns, impurity=False, ax=ax)\n"
      ]
    },
    {
      "cell_type": "code",
      "execution_count": null,
      "metadata": {
        "colab": {
          "base_uri": "https://localhost:8080/"
        },
        "id": "KwgajDigZbfk",
        "outputId": "22855dc6-9b40-4145-e33e-133079b2eec0"
      },
      "outputs": [
        {
          "name": "stdout",
          "output_type": "stream",
          "text": [
            "Accuracy: 0.7202\n"
          ]
        }
      ],
      "source": [
        "# 2.3 Checking the accuracy\n",
        "import matplotlib.pyplot as plt\n",
        "\n",
        "#plt.scatter(y_test, target_predicted)\n",
        "#plt.show()\n",
        "\n",
        "\n",
        "\n",
        "accuracy = accuracy_score(y_test, target_predicted)\n",
        "print(f\"Accuracy: {accuracy:.4f}\")"
      ]
    },
    {
      "cell_type": "code",
      "execution_count": null,
      "metadata": {
        "colab": {
          "base_uri": "https://localhost:8080/",
          "height": 279
        },
        "id": "ImlzD7tSZb0U",
        "outputId": "232dcc47-1c7b-4e1d-cfd3-50aafd10a278"
      },
      "outputs": [
        {
          "data": {
            "image/png": "[encoded data removed]",
            "text/plain": [
              "<Figure size 432x288 with 2 Axes>"
            ]
          },
          "metadata": {},
          "output_type": "display_data"
        }
      ],
      "source": [
        "# 2.4 Checking the Confusion Matrix\n",
        "\n",
        "_ = ConfusionMatrixDisplay.from_estimator(classifier, X_test, y_test) "
      ]
    },
    {
      "cell_type": "code",
      "execution_count": null,
      "metadata": {
        "colab": {
          "base_uri": "https://localhost:8080/"
        },
        "id": "B9t8vRLCZb8r",
        "outputId": "d1b4485e-d48d-47d8-8444-3728163bf09c"
      },
      "outputs": [
        {
          "name": "stdout",
          "output_type": "stream",
          "text": [
            "Precision score: 0.5000\n",
            "Recall score: 0.4681\n",
            "F1 score: 0.4835\n"
          ]
        }
      ],
      "source": [
        "# 2.5 Some other metrics scores\n",
        "\n",
        "precision = precision_score(y_test, target_predicted)\n",
        "recall = recall_score(y_test, target_predicted)\n",
        "# f1 score: 2 tp / (2 tp + fp + fn)\n",
        "f1 = f1_score(y_test, target_predicted)\n",
        "\n",
        "\n",
        "print(f\"Precision score: {precision:.4f}\")\n",
        "print(f\"Recall score: {recall:.4f}\")\n",
        "print(f\"F1 score: {f1:.4f}\")"
      ]
    },
    {
      "cell_type": "code",
      "execution_count": null,
      "metadata": {
        "colab": {
          "base_uri": "https://localhost:8080/"
        },
        "id": "PAZP2-0tmKqf",
        "outputId": "121c2333-7d10-49a0-eaa4-3ab5e25e8e5b"
      },
      "outputs": [
        {
          "name": "stdout",
          "output_type": "stream",
          "text": [
            "              precision    recall  f1-score   support\n",
            "\n",
            "           0       0.80      0.82      0.81       121\n",
            "           1       0.50      0.47      0.48        47\n",
            "\n",
            "    accuracy                           0.72       168\n",
            "   macro avg       0.65      0.64      0.65       168\n",
            "weighted avg       0.71      0.72      0.72       168\n",
            "\n"
          ]
        }
      ],
      "source": [
        "# 2.6 Some other metrics\n",
        "\n",
        "from sklearn.metrics import classification_report\n",
        "print(classification_report(y_test, target_predicted))"
      ]
    },
    {
      "cell_type": "code",
      "execution_count": null,
      "metadata": {
        "id": "tHInWu2tZy02"
      },
      "outputs": [],
      "source": [
        "# 3. Random Forest model\n",
        "# 3.1 Preprocessing the data\n",
        "\n",
        "data = X_train\n",
        "target = y_train\n",
        "\n",
        "from sklearn.preprocessing import OrdinalEncoder\n",
        "from sklearn.compose import make_column_transformer, make_column_selector\n",
        "from sklearn.model_selection import cross_val_score\n",
        "from sklearn.pipeline import make_pipeline\n",
        "from sklearn.ensemble import RandomForestClassifier\n",
        "\n",
        "\n",
        "categorical_encoder = OrdinalEncoder(\n",
        "    handle_unknown=\"use_encoded_value\", unknown_value=-1\n",
        ")\n",
        "preprocessor = make_column_transformer(\n",
        "    (categorical_encoder, make_column_selector(dtype_include=object)),\n",
        "    remainder=\"passthrough\"\n",
        ")\n",
        "\n",
        "random_forest = make_pipeline(\n",
        "    preprocessor,\n",
        "    RandomForestClassifier(n_estimators=500, n_jobs=4, random_state=123)\n",
        ")\n",
        "\n",
        "\n"
      ]
    },
    {
      "cell_type": "code",
      "execution_count": null,
      "metadata": {
        "colab": {
          "base_uri": "https://localhost:8080/"
        },
        "id": "Ic87cliiZy-d",
        "outputId": "be41070d-28bf-4ac7-f8ba-2060bdf240e6"
      },
      "outputs": [
        {
          "name": "stdout",
          "output_type": "stream",
          "text": [
            "Random forest classifier: 0.821 ± 0.021\n"
          ]
        }
      ],
      "source": [
        "# 3.2 Checking the accuracy with the trainning data\n",
        "\n",
        "scores_random_forest = cross_val_score(random_forest, data, target)\n",
        "\n",
        "print(f\"Random forest classifier: \"\n",
        "      f\"{scores_random_forest.mean():.3f} ± \"\n",
        "      f\"{scores_random_forest.std():.3f}\")\n"
      ]
    },
    {
      "cell_type": "code",
      "execution_count": null,
      "metadata": {
        "id": "VeDa4zUbZzY9"
      },
      "outputs": [],
      "source": [
        "#3.3 Prepare to fit and predict with testing data\n",
        "\n",
        "\n",
        "clf = RandomForestClassifier(n_estimators = 500, bootstrap = True, random_state = 123).fit(X_train, y_train)\n",
        "\n"
      ]
    },
    {
      "cell_type": "code",
      "execution_count": null,
      "metadata": {
        "id": "-xeeg7L64QtN"
      },
      "outputs": [],
      "source": [
        "# Create our predictions\n",
        "prediction = clf.predict(X_test)\n",
        "\n"
      ]
    },
    {
      "cell_type": "code",
      "execution_count": null,
      "metadata": {
        "colab": {
          "base_uri": "https://localhost:8080/",
          "height": 279
        },
        "id": "PiG3XZkhfLm4",
        "outputId": "4ce18aa2-eae9-4021-efec-4a71c19b4bb4"
      },
      "outputs": [
        {
          "data": {
            "image/png": "[encoded data removed]",
            "text/plain": [
              "<Figure size 432x288 with 2 Axes>"
            ]
          },
          "metadata": {},
          "output_type": "display_data"
        }
      ],
      "source": [
        "\n",
        "\n",
        "_ = ConfusionMatrixDisplay.from_estimator(clf, X_test, y_test) "
      ]
    },
    {
      "cell_type": "code",
      "execution_count": null,
      "metadata": {
        "colab": {
          "base_uri": "https://localhost:8080/"
        },
        "id": "ihCF6CS24cHa",
        "outputId": "3dc03b7c-eb4d-474a-a02a-3e74b114ba38"
      },
      "outputs": [
        {
          "data": {
            "text/plain": [
              "0.7619047619047619"
            ]
          },
          "execution_count": 87,
          "metadata": {},
          "output_type": "execute_result"
        }
      ],
      "source": [
        "# Display accuracy score\n",
        "accuracy_score(y_test, prediction)\n"
      ]
    },
    {
      "cell_type": "code",
      "execution_count": null,
      "metadata": {
        "colab": {
          "base_uri": "https://localhost:8080/"
        },
        "id": "sizhRXmUhNYs",
        "outputId": "c513c64d-786c-4d1f-85ab-e098fa972ae2"
      },
      "outputs": [
        {
          "name": "stdout",
          "output_type": "stream",
          "text": [
            "Precision score: 0.6296\n",
            "Recall score: 0.3617\n",
            "F1 score: 0.4595\n"
          ]
        }
      ],
      "source": [
        "# 2.5 Some other metrics scores\n",
        "\n",
        "precision = precision_score(y_test, prediction)\n",
        "recall = recall_score(y_test, prediction)\n",
        "# f1 score: 2 tp / (2 tp + fp + fn)\n",
        "f1 = f1_score(y_test, prediction)\n",
        "\n",
        "\n",
        "print(f\"Precision score: {precision:.4f}\")\n",
        "print(f\"Recall score: {recall:.4f}\")\n",
        "print(f\"F1 score: {f1:.4f}\")"
      ]
    },
    {
      "cell_type": "code",
      "execution_count": null,
      "metadata": {
        "colab": {
          "base_uri": "https://localhost:8080/"
        },
        "id": "45HsHf6QVsEF",
        "outputId": "62334b0b-8d00-4c63-f207-289930fcdfe4"
      },
      "outputs": [
        {
          "data": {
            "text/plain": [
              "array([0.20107925, 0.02879896, 0.03135273, 0.02371374, 0.04661053,\n",
              "       0.02497253, 0.02195387, 0.03069979, 0.03741381, 0.02321342,\n",
              "       0.02442608, 0.02423233, 0.02538259, 0.0300879 , 0.0241593 ,\n",
              "       0.02307006, 0.02738361, 0.02448953, 0.01729604, 0.02771758,\n",
              "       0.0480397 , 0.03205606, 0.05991613, 0.02562317, 0.04699828,\n",
              "       0.04218271, 0.02713034])"
            ]
          },
          "execution_count": 89,
          "metadata": {},
          "output_type": "execute_result"
        }
      ],
      "source": [
        "# Let´s check the importate of each variable\n",
        "from sklearn.inspection import permutation_importance\n",
        "#import shap\n",
        "from matplotlib import pyplot as plt\n",
        "\n",
        "clf.feature_importances_"
      ]
    },
    {
      "cell_type": "code",
      "execution_count": null,
      "metadata": {
        "colab": {
          "base_uri": "https://localhost:8080/",
          "height": 297
        },
        "id": "orTkkNdlWwuZ",
        "outputId": "5fe9a5e7-272f-4eab-f3ba-5931b90ff4eb"
      },
      "outputs": [
        {
          "data": {
            "text/plain": [
              "Text(0.5, 0, 'Random Forest Feature Importance')"
            ]
          },
          "execution_count": 90,
          "metadata": {},
          "output_type": "execute_result"
        },
        {
          "data": {
            "image/png": "[encoded data removed]",
            "text/plain": [
              "<Figure size 432x288 with 1 Axes>"
            ]
          },
          "metadata": {},
          "output_type": "display_data"
        }
      ],
      "source": [
        "# Let´s check feature importance - Gini importance\n",
        "\n",
        "sorted_idx = clf.feature_importances_.argsort()\n",
        "\n",
        "plt.barh(X.columns[sorted_idx], clf.feature_importances_[sorted_idx], height =(0.4))\n",
        "plt.xlabel(\"Random Forest Feature Importance\")"
      ]
    },
    {
      "cell_type": "code",
      "execution_count": null,
      "metadata": {
        "colab": {
          "base_uri": "https://localhost:8080/",
          "height": 297
        },
        "id": "CVeJ2ByHY-U2",
        "outputId": "bd72757f-3c95-4afc-f224-634af27a08b4"
      },
      "outputs": [
        {
          "data": {
            "text/plain": [
              "Text(0.5, 0, 'Permutation Importance')"
            ]
          },
          "execution_count": 91,
          "metadata": {},
          "output_type": "execute_result"
        },
        {
          "data": {
            "image/png": "[encoded data removed]",
            "text/plain": [
              "<Figure size 432x288 with 1 Axes>"
            ]
          },
          "metadata": {},
          "output_type": "display_data"
        }
      ],
      "source": [
        "# Let´s check feature importance - Permutation Based Feature Importance \n",
        "\n",
        "perm_importance = permutation_importance(clf, X_test, y_test)\n",
        "\n",
        "sorted_idx = perm_importance.importances_mean.argsort()\n",
        "plt.barh(X.columns[sorted_idx], perm_importance.importances_mean[sorted_idx])\n",
        "plt.xlabel(\"Permutation Importance\")\n"
      ]
    },
    {
      "cell_type": "code",
      "execution_count": null,
      "metadata": {
        "id": "O2w1-E9I2tgn"
      },
      "outputs": [],
      "source": [
        "# Using grid search to find optimal hyperparameters for Random Forest model\n",
        "#Credits: https://github.com/pacejohn/Random_Forest_Grid_Search/blob/master/rf_gridsearch_census.ipynb\n",
        "\n",
        "\n",
        "import numpy as np\n",
        "import pandas as pd\n",
        "from pprint import pprint\n",
        "from sklearn.ensemble import RandomForestClassifier, RandomForestRegressor\n",
        "from sklearn.model_selection import GridSearchCV, train_test_split"
      ]
    },
    {
      "cell_type": "code",
      "execution_count": null,
      "metadata": {
        "colab": {
          "base_uri": "https://localhost:8080/"
        },
        "id": "jak9d3uC24Fv",
        "outputId": "21994ebd-9aea-4a13-bea1-ad43d8513bf6"
      },
      "outputs": [
        {
          "name": "stdout",
          "output_type": "stream",
          "text": [
            "\n",
            "***************************************************************\n",
            "*****Random Forest With Default Hyperparameters Train/Test*****\n",
            "***************************************************************\n",
            "\n",
            "*****Default Hyperparameters Test Predictions*****\n",
            "Prediction 1 is 0 with probabilities of [0.94 0.06]\n",
            "Prediction 2 is 0 with probabilities of [0.72 0.28]\n",
            "Prediction 3 is 0 with probabilities of [0.97 0.03]\n",
            "Prediction 4 is 0 with probabilities of [0.97 0.03]\n",
            "Prediction 5 is 0 with probabilities of [0.71 0.29]\n",
            "\n",
            "*****Default Hyperparameters Test Confusion Matrix*****\n",
            "Predicted Income    0   1\n",
            "Actual Income            \n",
            "0                 110  11\n",
            "1                  30  17\n",
            "\n",
            "Default Hyperparameters Test Accuracy = 75.5952%\n"
          ]
        }
      ],
      "source": [
        "# Baseline: Random forest with default values.\n",
        "\n",
        "# ************ Train/Test *********************\n",
        "print(\"\\n***************************************************************\")\n",
        "print(\"*****Random Forest With Default Hyperparameters Train/Test*****\")\n",
        "print(\"***************************************************************\\n\")\n",
        "\n",
        "# ************ Train/Test *********************\n",
        "# Create Random Forest Classifier using default hyperparameters\n",
        "default_rf_clf = RandomForestClassifier(random_state=0)\n",
        "\n",
        "# Train the Classifier\n",
        "default_rf_clf.fit(X_train, y_train)\n",
        "\n",
        "# Perform predictions\n",
        "default_train_test_preds = default_rf_clf.predict(X_test)\n",
        "\n",
        "# View the first 5 predictions and the predicted probabilities \n",
        "print(\"*****Default Hyperparameters Test Predictions*****\")\n",
        "for i in range(0,5):\n",
        "\tprint(\"Prediction \" + str(i+1) + \" is \" + str(default_train_test_preds[i]) + \" with probabilities of \" \n",
        "\t\t+ str(default_rf_clf.predict_proba(X_test)[i]))\n",
        "\n",
        "# Create confusion matrix\n",
        "print(\"\\n*****Default Hyperparameters Test Confusion Matrix*****\")\n",
        "confusion_matrix = pd.crosstab(y_test, default_train_test_preds, rownames=['Actual Income'], colnames=['Predicted Income'])\n",
        "print(confusion_matrix)\n",
        "\n",
        "# Print accuracy\n",
        "default_accuracy = (((confusion_matrix[0][0] + confusion_matrix[1][1])) / (X_test.shape[0]) * 100)\n",
        "print(\"\\nDefault Hyperparameters Test Accuracy = {0:0.4f}%\".format(default_accuracy))\n"
      ]
    },
    {
      "cell_type": "code",
      "execution_count": null,
      "metadata": {
        "colab": {
          "background_save": true,
          "base_uri": "https://localhost:8080/"
        },
        "id": "08xGgWAn24Mv",
        "outputId": "014fdbc3-8de8-4c83-9b10-1a9f2da3f090"
      },
      "outputs": [
        {
          "name": "stdout",
          "output_type": "stream",
          "text": [
            "\n",
            "\n",
            "***************************************************************\n",
            "*****Random Forest With Default Hyperparameters Validation*****\n",
            "***************************************************************\n",
            "\n",
            "\n",
            "\n",
            "***************************************************************\n",
            "*****************Random Forest Grid Search*********************\n",
            "***************************************************************\n",
            "\n",
            "The values that will be used for the grid search are:\n",
            "{'bootstrap': [True, False],\n",
            " 'max_depth': [10, 110, None],\n",
            " 'max_features': ['auto', 'sqrt'],\n",
            " 'min_samples_leaf': [1, 2, 4],\n",
            " 'min_samples_split': [2, 5, 10],\n",
            " 'n_estimators': [200, 2000]}\n",
            "\n",
            "*****Performing the Grid Search of the Hyperparameters*****\n",
            "Fitting 3 folds for each of 216 candidates, totalling 648 fits\n",
            "The best hyperparameters found during the grid search are:\n",
            "{'bootstrap': False,\n",
            " 'max_depth': 110,\n",
            " 'max_features': 'sqrt',\n",
            " 'min_samples_leaf': 2,\n",
            " 'min_samples_split': 2,\n",
            " 'n_estimators': 200}\n"
          ]
        }
      ],
      "source": [
        "# ************ Validation *********************\n",
        "print(\"\\n\\n***************************************************************\")\n",
        "print(\"*****Random Forest With Default Hyperparameters Validation*****\")\n",
        "print(\"***************************************************************\\n\")\n",
        "\n",
        "\n",
        "# ************ Random Forest Classifier using grid search for hyper-parameters ******************\n",
        "print(\"\\n\\n***************************************************************\")\n",
        "print(\"*****************Random Forest Grid Search*********************\")\n",
        "print(\"***************************************************************\\n\")\n",
        "\n",
        "# Number of trees in random forest\n",
        "# Using num=2 will significantly reduce run time (~3 min vs ~65 min)\n",
        "n_estimators = [int(x) for x in np.linspace(start = 200, stop = 2000, num = 2)]\n",
        "# Using num=10 will significantly increase run time\n",
        "#n_estimators = [int(x) for x in np.linspace(start = 200, stop = 2000, num = 10)]\n",
        "# Number of features to consider at every split\n",
        "max_features = ['auto', 'sqrt']\n",
        "# Maximum number of levels in tree\n",
        "# Using num=2 will significantly reduce run time (~3 min vs ~65 min)\n",
        "max_depth = [int(x) for x in np.linspace(10, 110, num = 2)]\n",
        "# Using num=10 will significantly increase run time\n",
        "#max_depth = [int(x) for x in np.linspace(10, 110, num = 10)]\n",
        "max_depth.append(None)\n",
        "# Minimum number of samples required to split a node\n",
        "min_samples_split = [2, 5, 10]\n",
        "# Minimum number of samples required at each leaf node\n",
        "min_samples_leaf = [1, 2, 4]\n",
        "# Method of selecting samples for training each tree\n",
        "bootstrap = [True, False]\n",
        "# Create the random grid\n",
        "grid = {'n_estimators': n_estimators,\n",
        "               'max_features': max_features,\n",
        "               'max_depth': max_depth,\n",
        "               'min_samples_split': min_samples_split,\n",
        "               'min_samples_leaf': min_samples_leaf,\n",
        "               'bootstrap': bootstrap}\n",
        "print(\"The values that will be used for the grid search are:\")\n",
        "pprint(grid)\n",
        "\n",
        "print(\"\\n*****Performing the Grid Search of the Hyperparameters*****\")\n",
        "# Create a regressor using values from grid\n",
        "rf_reg = RandomForestRegressor()\n",
        "# Instantiate the grid search model\n",
        "grid_search = GridSearchCV(estimator = rf_reg, param_grid = grid, cv = 3, n_jobs = -1, verbose = 1)\n",
        "\n",
        "# Train the classifier\n",
        "best_grid = grid_search.fit(X_train, y_train)\n",
        "\n",
        "# Make predictions\n",
        "grid_preds = best_grid.predict(X_test)\n",
        "\n",
        "print(\"The best hyperparameters found during the grid search are:\")\n",
        "pprint(best_grid.best_params_)"
      ]
    },
    {
      "cell_type": "code",
      "execution_count": null,
      "metadata": {
        "colab": {
          "base_uri": "https://localhost:8080/"
        },
        "id": "wt3oHWhE24TF",
        "outputId": "68aceffd-1fba-4c9e-f327-430ebaf98129"
      },
      "outputs": [
        {
          "name": "stdout",
          "output_type": "stream",
          "text": [
            "\n",
            "************************************************************************\n",
            "*****Random Forest With Hyperparameters from Grid Search Train/Test*****\n",
            "************************************************************************\n",
            "\n",
            "\n",
            "\n",
            "*****Grid Search Hyperparameters Test Predictions*****\n",
            "Prediction 1 is 1 with probabilities of [0.34160723 0.65839277]\n",
            "Prediction 2 is 1 with probabilities of [0.47385708 0.52614292]\n",
            "Prediction 3 is 0 with probabilities of [0.89026795 0.10973205]\n",
            "Prediction 4 is 0 with probabilities of [0.642878 0.357122]\n",
            "Prediction 5 is 0 with probabilities of [0.73352716 0.26647284]\n",
            "\n",
            "*****Grid Search Hyperparameters Test Confusion Matrix*****\n",
            "Predicted Income   0   1\n",
            "Actual Income           \n",
            "0                 30  11\n",
            "1                  8  35\n",
            "\n",
            "Grid Search Hyperparameters Test Accuracy = 77.3810%\n",
            "\n",
            "Compared to the random forest classifier created with default hyperparameters, the accuracy of the classifier created with optimal hyperparameters determined by grid search is 0.0000% better\n"
          ]
        }
      ],
      "source": [
        "# ************ Random Forest Classifier using grid search with best hyper-parameters ******************\n",
        "print(\"\\n************************************************************************\")\n",
        "print(\"*****Random Forest With Hyperparameters from Grid Search Train/Test*****\")\n",
        "print(\"************************************************************************\\n\")\n",
        "\n",
        "# Train the Classifier with new values from grid search\n",
        "rf_clf = RandomForestClassifier(max_depth = best_grid.best_params_[\"max_depth\"], \n",
        "\tmin_samples_split = best_grid.best_params_[\"min_samples_split\"], \n",
        "\tmin_samples_leaf = best_grid.best_params_[\"min_samples_leaf\"], \n",
        "\tbootstrap = best_grid.best_params_[\"bootstrap\"], \n",
        "\tmax_features = best_grid.best_params_[\"max_features\"], \n",
        "\tn_estimators = best_grid.best_params_[\"n_estimators\"], n_jobs=-1, random_state=0)\n",
        "rf_clf.fit(X_train, y_train)\n",
        "\n",
        "# Perform predictions\n",
        "train_test_preds = rf_clf.predict(X_test)\n",
        "\n",
        "# View the first 5 predictions and the predicted probabilities \n",
        "print(\"\\n\")\n",
        "print(\"*****Grid Search Hyperparameters Test Predictions*****\")\n",
        "for i in range(0,5):\n",
        "\tprint(\"Prediction \" + str(i+1) + \" is \" + str(train_test_preds[i]) + \" with probabilities of \" + str(rf_clf.predict_proba(X_test)[i]))\n",
        "\n",
        "# Create confusion matrix\n",
        "print(\"\\n*****Grid Search Hyperparameters Test Confusion Matrix*****\")\n",
        "confusion_matrix = pd.crosstab(y_test, train_test_preds, rownames=['Actual Income'], colnames=['Predicted Income'])\n",
        "print(confusion_matrix)\n",
        "\n",
        "# Print accuracy\n",
        "grid_search_accuracy = (((confusion_matrix[0][0] + confusion_matrix[1][1])) / (X_test.shape[0]) * 100)\n",
        "print(\"\\nGrid Search Hyperparameters Test Accuracy = {0:0.4f}%\".format(grid_search_accuracy))\n",
        "\n",
        "print(\"\\nCompared to the random forest classifier created with default hyperparameters, the accuracy of the \" +\n",
        "\t\"classifier created with optimal hyperparameters determined by grid search is \" +\n",
        "\t\"{0:0.4f}% better\".format((grid_search_accuracy - default_accuracy)))"
      ]
    },
    {
      "cell_type": "code",
      "execution_count": null,
      "metadata": {
        "colab": {
          "base_uri": "https://localhost:8080/"
        },
        "id": "zHbNes9C24Xl",
        "outputId": "3aff2249-ce4c-49b1-d08e-8a8fa1dd3c6f"
      },
      "outputs": [
        {
          "data": {
            "text/plain": [
              "SelectFromModel(estimator=RandomForestClassifier(n_estimators=500))"
            ]
          },
          "execution_count": 143,
          "metadata": {},
          "output_type": "execute_result"
        }
      ],
      "source": [
        "#Importing libraries\n",
        "#Font: https://towardsdatascience.com/feature-selection-using-random-forest-26d7b747597f\n",
        "\n",
        "\n",
        "import pandas as pd\n",
        "#from sklearn.ensemble import RandomForestClassfier\n",
        "from sklearn.feature_selection import SelectFromModel\n",
        "\n",
        "sel = SelectFromModel(RandomForestClassifier(n_estimators = 500))\n",
        "sel.fit(X_train, y_train)"
      ]
    },
    {
      "cell_type": "code",
      "execution_count": null,
      "metadata": {
        "colab": {
          "base_uri": "https://localhost:8080/"
        },
        "id": "tStSX8zinEiu",
        "outputId": "b724cc56-9d47-42b1-f6ad-5ed6831f2b72"
      },
      "outputs": [
        {
          "data": {
            "text/plain": [
              "array([ True,  True,  True, False, False, False, False, False,  True,\n",
              "       False, False, False, False, False, False, False])"
            ]
          },
          "execution_count": 144,
          "metadata": {},
          "output_type": "execute_result"
        }
      ],
      "source": [
        "#To see which features are important we can use get_support method on the fitted model.\n",
        "\n",
        "sel.get_support()"
      ]
    },
    {
      "cell_type": "code",
      "execution_count": null,
      "metadata": {
        "colab": {
          "base_uri": "https://localhost:8080/"
        },
        "id": "myyq0dDTnEq3",
        "outputId": "d95c869a-d122-410c-f7a6-9b7092452b34"
      },
      "outputs": [
        {
          "data": {
            "text/plain": [
              "4"
            ]
          },
          "execution_count": 145,
          "metadata": {},
          "output_type": "execute_result"
        }
      ],
      "source": [
        "#We can now make a list and count the selected features.\n",
        "\n",
        "selected_feat= X_train.columns[(sel.get_support())]\n",
        "len(selected_feat)"
      ]
    },
    {
      "cell_type": "code",
      "execution_count": null,
      "metadata": {
        "colab": {
          "base_uri": "https://localhost:8080/"
        },
        "id": "SKlJ4LSVnEyz",
        "outputId": "b8b5a7a6-7a14-4b3a-fd25-14a8a0f6e0db"
      },
      "outputs": [
        {
          "name": "stdout",
          "output_type": "stream",
          "text": [
            "Index(['Pipe_intersec', 'Gas_stations', 'Gas_price', 'NO_SS'], dtype='object')\n"
          ]
        }
      ],
      "source": [
        "#To get the name of the features selected\n",
        "\n",
        "print(selected_feat)"
      ]
    },
    {
      "cell_type": "code",
      "execution_count": null,
      "metadata": {
        "id": "k4Ii9e69nowM"
      },
      "outputs": [],
      "source": []
    },
    {
      "cell_type": "code",
      "execution_count": null,
      "metadata": {
        "id": "l9NCJ0SRnozT"
      },
      "outputs": [],
      "source": []
    },
    {
      "cell_type": "code",
      "execution_count": null,
      "metadata": {
        "id": "7QRhwN2rno3U"
      },
      "outputs": [],
      "source": []
    },
    {
      "cell_type": "code",
      "execution_count": null,
      "metadata": {
        "id": "a0CwIdN3no60"
      },
      "outputs": [],
      "source": []
    }
  ],
  "metadata": {
    "colab": {
      "provenance": []
    },
    "kernelspec": {
      "display_name": "Python 3",
      "name": "python3"
    },
    "language_info": {
      "name": "python"
    }
  },
  "nbformat": 4,
  "nbformat_minor": 0
}