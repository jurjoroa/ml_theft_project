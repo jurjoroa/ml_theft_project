{
 "cells": [
  {
   "cell_type": "code",
   "execution_count": 1,
   "id": "8782c28f-a6d0-4002-9553-03cfa413450b",
   "metadata": {},
   "outputs": [],
   "source": [
    "import pandas as pd\n",
    "import numpy as np\n",
    "import matplotlib.pyplot as plt"
   ]
  },
  {
   "cell_type": "code",
   "execution_count": 138,
   "id": "4ba655fc-b0cf-41df-a707-eaee26f9470e",
   "metadata": {},
   "outputs": [
    {
     "name": "stdout",
     "output_type": "stream",
     "text": [
      "/Users/jorgeroa/Documents/GitHub/pmx_gasoline_theft_prediction/analysis\n"
     ]
    }
   ],
   "source": [
    "%cd \"analysis/\""
   ]
  },
  {
   "cell_type": "code",
   "execution_count": 43,
   "id": "c4088980-54d5-4553-937c-235041d70f72",
   "metadata": {},
   "outputs": [
    {
     "name": "stderr",
     "output_type": "stream",
     "text": [
      "/var/folders/q3/ztffc4r10tv5h4pftjr2qw0r0000gn/T/ipykernel_25414/3189225306.py:19: FutureWarning: The default value of regex will change from True to False in a future version.\n",
      "  df_pmx_00_19_lw[\"municipio\"] = df_pmx_00_19_lw[\"municipio\"].str.replace(k, v)\n"
     ]
    }
   ],
   "source": [
    "df_pmx_00_19 = pd.read_excel(\"data-raw/PMX_00_19_Serendipia.xlsx\")\n",
    "\n",
    "df_codes_mx = pd.read_excel(\"data-raw/codigo municipio inegi.xlsx\")\n",
    "\n",
    "df_pmx_00_19_lw = df_pmx_00_19\n",
    "\n",
    "df_codes_mx_lw = df_codes_mx\n",
    "\n",
    "dict_replacers_code = {\"Coahuila de Zaragoza\":\"Coahuila\",\"Michoacán de Ocampo\":\"Michoacán\",\n",
    "                       \"Veracruz de Ignacio de la Llave\":\"Veracruz\"} \n",
    "\n",
    "df_codes_mx_lw = df_codes_mx_lw.replace(dict_replacers_code)\n",
    "\n",
    "dict_replacers_string = {\"Delegación\":\"\",\"Deleg. \":\"\",\"Del. \":\"\"} \n",
    "\n",
    "df_pmx_00_19_lw[\"municipio\"] = df_pmx_00_19_lw[\"municipio\"].replace(dict_replacers_string)\n",
    "\n",
    "for k, v in dict_replacers_string.items():\n",
    "    df_pmx_00_19_lw[\"municipio\"] = df_pmx_00_19_lw[\"municipio\"].str.replace(k, v)               \n",
    "\n"
   ]
  },
  {
   "cell_type": "code",
   "execution_count": 126,
   "id": "fdbd1699-da1f-4629-9d25-ddc44c86dced",
   "metadata": {},
   "outputs": [],
   "source": [
    "\n",
    "df_pmx_00_19_lw = df_pmx_00_19_lw.replace(\"Coahuila de Zaragoza\", \"Coahuila\")\n",
    "\n",
    "df_pmx_00_19_lw[\"estado\"] = df_pmx_00_19_lw[\"estado\"].str.lower().str.replace(' ', '').str.normalize('NFKD').str.encode('ascii',errors='ignore').str.decode('utf-8')\n",
    "df_pmx_00_19_lw[\"municipio\"] = df_pmx_00_19_lw[\"municipio\"].str.lower().str.replace(' ', '').str.normalize('NFKD').str.encode('ascii',errors='ignore').str.decode('utf-8')\n",
    "df_pmx_00_19_lw['id_mun'] = df_pmx_00_19_lw.estado + df_pmx_00_19_lw.municipio\n",
    "\n",
    "\n",
    "\n",
    "df_codes_mx_lw[\"NOM_ENT\"] = df_codes_mx_lw[\"NOM_ENT\"].str.lower().str.replace(' ', '').str.normalize('NFKD').str.encode('ascii',errors='ignore').str.decode('utf-8')\n",
    "df_codes_mx_lw[\"NOM_MUN\"] = df_codes_mx_lw[\"NOM_MUN\"].str.lower().str.replace(' ', '').str.normalize('NFKD').str.encode('ascii',errors='ignore').str.decode('utf-8')\n",
    "df_codes_mx_lw['id_mun'] = df_codes_mx_lw.NOM_ENT + df_codes_mx_lw.NOM_MUN\n",
    "\n",
    "\n",
    "\n",
    "df_join_pipe_code = pd.merge(df_pmx_00_19_lw,\n",
    "                             df_codes_mx_lw,\n",
    "                             on='id_mun',\n",
    "                             how='outer',\n",
    "                             indicator=True)\n",
    "\n",
    "\n"
   ]
  },
  {
   "cell_type": "code",
   "execution_count": 127,
   "id": "ff7ae374-adf7-4461-b4a8-e835a400abcd",
   "metadata": {},
   "outputs": [],
   "source": [
    "df_join_pipe_code['codigo inegi'] = df_join_pipe_code['codigo inegi'].astype(str).str.zfill(7)\n",
    "\n",
    "df_join_pipe_code['codigo inegi'] = [x[:-2] for x in df_join_pipe_code['codigo inegi']]\n",
    "\n"
   ]
  },
  {
   "cell_type": "code",
   "execution_count": 120,
   "id": "c2b055b4-18dc-478d-80bc-d2ff4068189e",
   "metadata": {},
   "outputs": [
    {
     "data": {
      "text/plain": [
       "5365"
      ]
     },
     "execution_count": 120,
     "metadata": {},
     "output_type": "execute_result"
    }
   ],
   "source": [
    "len(df_join_pipe_code['codigo inegi'])"
   ]
  },
  {
   "cell_type": "code",
   "execution_count": 133,
   "id": "e037eb53-053a-4a27-849f-e3a5dd3026ce",
   "metadata": {},
   "outputs": [],
   "source": [
    "df_join_pipe_code_var = df_join_pipe_code[[\"year\", \"tomas\", \"codigo inegi\", \"estado\", \"municipio\"]]"
   ]
  },
  {
   "cell_type": "code",
   "execution_count": 135,
   "id": "3ff3ac28-e15b-468f-b54f-4b388fd82006",
   "metadata": {},
   "outputs": [],
   "source": [
    "df_codes_mx['codigo inegi'] = df_codes_mx['codigo inegi'].astype(str).str.zfill(7)\n",
    "\n",
    "df_codes_mx['codigo inegi'] = [x[:-2] for x in df_codes_mx['codigo inegi']]"
   ]
  },
  {
   "cell_type": "code",
   "execution_count": 136,
   "id": "400be117-dc9a-4f58-949f-20d3e764fa03",
   "metadata": {},
   "outputs": [],
   "source": [
    "df_join_pipe_code_final = pd.merge(df_join_pipe_code_var,\n",
    "                             df_codes_mx,\n",
    "                             on='codigo inegi',\n",
    "                             how='outer',\n",
    "                             indicator=True)"
   ]
  },
  {
   "cell_type": "code",
   "execution_count": 67,
   "id": "cada0cbf-7476-4cbc-a6af-8e1ab6deede7",
   "metadata": {},
   "outputs": [],
   "source": [
    "  %notebook analysis/01_Wrangle_data_PMX_code.ipynb"
   ]
  },
  {
   "cell_type": "code",
   "execution_count": 130,
   "id": "0b19f2da-eefa-43da-bc18-da5bca507e18",
   "metadata": {},
   "outputs": [],
   "source": [
    "df_join_pipe_code.to_excel('data/df_join_pipe_code.xlsx', index = False)"
   ]
  },
  {
   "cell_type": "code",
   "execution_count": 137,
   "id": "c9f4f508-bbd1-4d3e-971b-5317ef87515c",
   "metadata": {},
   "outputs": [],
   "source": [
    "df_join_pipe_code_final.to_excel('data/df_join_pipe_code_final.xlsx', index = False)"
   ]
  },
  {
   "cell_type": "code",
   "execution_count": 129,
   "id": "2a0a0778-b5a9-4a32-8e24-8cb4bfdc8c67",
   "metadata": {},
   "outputs": [
    {
     "data": {
      "text/plain": [
       "year             float64\n",
       "estado            object\n",
       "municipio         object\n",
       "tomas            float64\n",
       "Unnamed: 4       float64\n",
       "id_mun            object\n",
       "ENTIDAD          float64\n",
       "NOM_ENT           object\n",
       "MUN              float64\n",
       "NOM_MUN           object\n",
       "codigo inegi      object\n",
       "Unnamed: 5       float64\n",
       "_merge          category\n",
       "dtype: object"
      ]
     },
     "execution_count": 129,
     "metadata": {},
     "output_type": "execute_result"
    }
   ],
   "source": [
    "df_join_pipe_code.dtypes"
   ]
  }
 ],
 "metadata": {
  "kernelspec": {
   "display_name": "Python 3 (ipykernel)",
   "language": "python",
   "name": "python3"
  },
  "language_info": {
   "codemirror_mode": {
    "name": "ipython",
    "version": 3
   },
   "file_extension": ".py",
   "mimetype": "text/x-python",
   "name": "python",
   "nbconvert_exporter": "python",
   "pygments_lexer": "ipython3",
   "version": "3.9.12"
  }
 },
 "nbformat": 4,
 "nbformat_minor": 5
}
